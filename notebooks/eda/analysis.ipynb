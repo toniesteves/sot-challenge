{
 "cells": [
  {
   "cell_type": "code",
   "execution_count": 69,
   "metadata": {},
   "outputs": [],
   "source": [
    "import pandas as pd\n",
    "import plotly.express as px\n",
    "import plotly.graph_objects as go\n",
    "\n",
    "import os\n",
    "import sys\n",
    "\n",
    "sys.path.append(os.path.abspath(\"../util\"))\n",
    "from data_utils import *\n",
    "from plot_utils import *"
   ]
  },
  {
   "cell_type": "code",
   "execution_count": 70,
   "metadata": {},
   "outputs": [],
   "source": [
    "file, data = read_data_from_file(\"../data/BicyclesRelocationData.xlsx\")"
   ]
  },
  {
   "cell_type": "code",
   "execution_count": 71,
   "metadata": {},
   "outputs": [],
   "source": [
    "categories = list(data.columns)\n",
    "surplus = data.iloc[0].astype(int)\n",
    "space = data.iloc[1].astype(float)"
   ]
  },
  {
   "cell_type": "code",
   "execution_count": 72,
   "metadata": {},
   "outputs": [
    {
     "name": "stdout",
     "output_type": "stream",
     "text": [
      "Categories: ['Child', 'Adult', 'Electric', 'Racing', 'Mountain', 'Tricycle']\n"
     ]
    }
   ],
   "source": [
    "print(f\"Categories: {categories}\")"
   ]
  },
  {
   "cell_type": "markdown",
   "metadata": {},
   "source": [
    "### Space Occupancy:\n",
    "Spacy Occupancy info provides a constant for how much space a single bicycle in each category occupies on the relocation truck. For example, if the \"Adult\" category has a value 1.5 and \"Child\" has 1, then an Adult bike takes up 50% more space than a Child bike."
   ]
  },
  {
   "cell_type": "code",
   "execution_count": 73,
   "metadata": {},
   "outputs": [
    {
     "name": "stdout",
     "output_type": "stream",
     "text": [
      "Space occupancy (per category):\n"
     ]
    },
    {
     "data": {
      "text/html": [
       "<div>\n",
       "<style scoped>\n",
       "    .dataframe tbody tr th:only-of-type {\n",
       "        vertical-align: middle;\n",
       "    }\n",
       "\n",
       "    .dataframe tbody tr th {\n",
       "        vertical-align: top;\n",
       "    }\n",
       "\n",
       "    .dataframe thead th {\n",
       "        text-align: right;\n",
       "    }\n",
       "</style>\n",
       "<table border=\"1\" class=\"dataframe\">\n",
       "  <thead>\n",
       "    <tr style=\"text-align: right;\">\n",
       "      <th></th>\n",
       "      <th>1</th>\n",
       "    </tr>\n",
       "  </thead>\n",
       "  <tbody>\n",
       "    <tr>\n",
       "      <th>Child</th>\n",
       "      <td>1.0</td>\n",
       "    </tr>\n",
       "    <tr>\n",
       "      <th>Adult</th>\n",
       "      <td>1.5</td>\n",
       "    </tr>\n",
       "    <tr>\n",
       "      <th>Electric</th>\n",
       "      <td>1.5</td>\n",
       "    </tr>\n",
       "    <tr>\n",
       "      <th>Racing</th>\n",
       "      <td>1.7</td>\n",
       "    </tr>\n",
       "    <tr>\n",
       "      <th>Mountain</th>\n",
       "      <td>1.7</td>\n",
       "    </tr>\n",
       "    <tr>\n",
       "      <th>Tricycle</th>\n",
       "      <td>4.0</td>\n",
       "    </tr>\n",
       "  </tbody>\n",
       "</table>\n",
       "</div>"
      ],
      "text/plain": [
       "            1\n",
       "Child     1.0\n",
       "Adult     1.5\n",
       "Electric  1.5\n",
       "Racing    1.7\n",
       "Mountain  1.7\n",
       "Tricycle  4.0"
      ]
     },
     "execution_count": 73,
     "metadata": {},
     "output_type": "execute_result"
    }
   ],
   "source": [
    "print(\"Space occupancy (per category):\")\n",
    "pd.DataFrame(space)"
   ]
  },
  {
   "cell_type": "markdown",
   "metadata": {},
   "source": [
    "### Surplus Information:\n",
    "The Surplus information shows the available number of bicycles for each category in the source area. This represents the maximum number of bikes that can be relocated for that category."
   ]
  },
  {
   "cell_type": "code",
   "execution_count": 74,
   "metadata": {},
   "outputs": [
    {
     "name": "stdout",
     "output_type": "stream",
     "text": [
      "Surplus (per category):\n"
     ]
    },
    {
     "data": {
      "text/html": [
       "<div>\n",
       "<style scoped>\n",
       "    .dataframe tbody tr th:only-of-type {\n",
       "        vertical-align: middle;\n",
       "    }\n",
       "\n",
       "    .dataframe tbody tr th {\n",
       "        vertical-align: top;\n",
       "    }\n",
       "\n",
       "    .dataframe thead th {\n",
       "        text-align: right;\n",
       "    }\n",
       "</style>\n",
       "<table border=\"1\" class=\"dataframe\">\n",
       "  <thead>\n",
       "    <tr style=\"text-align: right;\">\n",
       "      <th></th>\n",
       "      <th>0</th>\n",
       "    </tr>\n",
       "  </thead>\n",
       "  <tbody>\n",
       "    <tr>\n",
       "      <th>Child</th>\n",
       "      <td>272</td>\n",
       "    </tr>\n",
       "    <tr>\n",
       "      <th>Adult</th>\n",
       "      <td>270</td>\n",
       "    </tr>\n",
       "    <tr>\n",
       "      <th>Electric</th>\n",
       "      <td>279</td>\n",
       "    </tr>\n",
       "    <tr>\n",
       "      <th>Racing</th>\n",
       "      <td>267</td>\n",
       "    </tr>\n",
       "    <tr>\n",
       "      <th>Mountain</th>\n",
       "      <td>282</td>\n",
       "    </tr>\n",
       "    <tr>\n",
       "      <th>Tricycle</th>\n",
       "      <td>279</td>\n",
       "    </tr>\n",
       "  </tbody>\n",
       "</table>\n",
       "</div>"
      ],
      "text/plain": [
       "            0\n",
       "Child     272\n",
       "Adult     270\n",
       "Electric  279\n",
       "Racing    267\n",
       "Mountain  282\n",
       "Tricycle  279"
      ]
     },
     "execution_count": 74,
     "metadata": {},
     "output_type": "execute_result"
    }
   ],
   "source": [
    "print(\"Surplus (per category):\")\n",
    "pd.DataFrame(surplus)\n"
   ]
  },
  {
   "cell_type": "code",
   "execution_count": 75,
   "metadata": {},
   "outputs": [
    {
     "name": "stdout",
     "output_type": "stream",
     "text": [
      "Descriptive stats for Surplus:\n",
      "count      6.000000\n",
      "mean     274.833333\n",
      "std        5.980524\n",
      "min      267.000000\n",
      "25%      270.500000\n",
      "50%      275.500000\n",
      "75%      279.000000\n",
      "max      282.000000\n",
      "Name: 0, dtype: float64\n"
     ]
    }
   ],
   "source": [
    "print(\"Descriptive stats for Surplus:\")\n",
    "print(surplus.describe())"
   ]
  },
  {
   "cell_type": "code",
   "execution_count": 76,
   "metadata": {},
   "outputs": [
    {
     "name": "stdout",
     "output_type": "stream",
     "text": [
      "Descriptive stats for Space Occupancy:\n",
      "count    6.000000\n",
      "mean     1.900000\n",
      "std      1.060189\n",
      "min      1.000000\n",
      "25%      1.500000\n",
      "50%      1.600000\n",
      "75%      1.700000\n",
      "max      4.000000\n",
      "Name: 1, dtype: float64\n"
     ]
    }
   ],
   "source": [
    "print(\"Descriptive stats for Space Occupancy:\")\n",
    "print(space.describe())"
   ]
  },
  {
   "cell_type": "code",
   "execution_count": 77,
   "metadata": {},
   "outputs": [
    {
     "name": "stdout",
     "output_type": "stream",
     "text": [
      "\n",
      "Summary Table for Incremental Profit Stats:\n",
      "(7, 10)\n"
     ]
    },
    {
     "data": {
      "text/html": [
       "<div>\n",
       "<style scoped>\n",
       "    .dataframe tbody tr th:only-of-type {\n",
       "        vertical-align: middle;\n",
       "    }\n",
       "\n",
       "    .dataframe tbody tr th {\n",
       "        vertical-align: top;\n",
       "    }\n",
       "\n",
       "    .dataframe thead th {\n",
       "        text-align: right;\n",
       "    }\n",
       "</style>\n",
       "<table border=\"1\" class=\"dataframe\">\n",
       "  <thead>\n",
       "    <tr style=\"text-align: right;\">\n",
       "      <th></th>\n",
       "      <th>Category</th>\n",
       "      <th>Area</th>\n",
       "      <th>Count</th>\n",
       "      <th>Mean</th>\n",
       "      <th>Std</th>\n",
       "      <th>Min</th>\n",
       "      <th>25%</th>\n",
       "      <th>50%</th>\n",
       "      <th>75%</th>\n",
       "      <th>Max</th>\n",
       "    </tr>\n",
       "  </thead>\n",
       "  <tbody>\n",
       "    <tr>\n",
       "      <th>0</th>\n",
       "      <td>Child</td>\n",
       "      <td>Area1</td>\n",
       "      <td>114.0</td>\n",
       "      <td>25.296653</td>\n",
       "      <td>15.422331</td>\n",
       "      <td>0.5109</td>\n",
       "      <td>14.445725</td>\n",
       "      <td>24.48785</td>\n",
       "      <td>37.74545</td>\n",
       "      <td>52.6158</td>\n",
       "    </tr>\n",
       "    <tr>\n",
       "      <th>1</th>\n",
       "      <td>Child</td>\n",
       "      <td>Area2</td>\n",
       "      <td>53.0</td>\n",
       "      <td>0.492942</td>\n",
       "      <td>0.276522</td>\n",
       "      <td>0.0001</td>\n",
       "      <td>0.277300</td>\n",
       "      <td>0.49880</td>\n",
       "      <td>0.71400</td>\n",
       "      <td>0.9975</td>\n",
       "    </tr>\n",
       "    <tr>\n",
       "      <th>2</th>\n",
       "      <td>Child</td>\n",
       "      <td>Area3</td>\n",
       "      <td>96.0</td>\n",
       "      <td>52.170308</td>\n",
       "      <td>24.155217</td>\n",
       "      <td>1.1291</td>\n",
       "      <td>36.345325</td>\n",
       "      <td>51.11325</td>\n",
       "      <td>69.19910</td>\n",
       "      <td>95.8596</td>\n",
       "    </tr>\n",
       "    <tr>\n",
       "      <th>3</th>\n",
       "      <td>Child</td>\n",
       "      <td>Area4</td>\n",
       "      <td>105.0</td>\n",
       "      <td>50.112113</td>\n",
       "      <td>28.529618</td>\n",
       "      <td>1.2752</td>\n",
       "      <td>23.640000</td>\n",
       "      <td>51.94350</td>\n",
       "      <td>72.93270</td>\n",
       "      <td>96.8794</td>\n",
       "    </tr>\n",
       "    <tr>\n",
       "      <th>4</th>\n",
       "      <td>Child</td>\n",
       "      <td>Area5</td>\n",
       "      <td>49.0</td>\n",
       "      <td>0.478133</td>\n",
       "      <td>0.314278</td>\n",
       "      <td>0.0047</td>\n",
       "      <td>0.191700</td>\n",
       "      <td>0.46840</td>\n",
       "      <td>0.76070</td>\n",
       "      <td>0.9929</td>\n",
       "    </tr>\n",
       "  </tbody>\n",
       "</table>\n",
       "</div>"
      ],
      "text/plain": [
       "  Category   Area  Count       Mean        Std     Min        25%       50%  \\\n",
       "0    Child  Area1  114.0  25.296653  15.422331  0.5109  14.445725  24.48785   \n",
       "1    Child  Area2   53.0   0.492942   0.276522  0.0001   0.277300   0.49880   \n",
       "2    Child  Area3   96.0  52.170308  24.155217  1.1291  36.345325  51.11325   \n",
       "3    Child  Area4  105.0  50.112113  28.529618  1.2752  23.640000  51.94350   \n",
       "4    Child  Area5   49.0   0.478133   0.314278  0.0047   0.191700   0.46840   \n",
       "\n",
       "        75%      Max  \n",
       "0  37.74545  52.6158  \n",
       "1   0.71400   0.9975  \n",
       "2  69.19910  95.8596  \n",
       "3  72.93270  96.8794  \n",
       "4   0.76070   0.9929  "
      ]
     },
     "execution_count": 77,
     "metadata": {},
     "output_type": "execute_result"
    }
   ],
   "source": [
    "summary_data = []\n",
    "for key, stats in profit_stats.items():\n",
    "    cat, area = key\n",
    "    summary_data.append({\n",
    "        \"Category\": cat,\n",
    "        \"Area\"    : area,\n",
    "        \"Count\"   : stats[\"count\"],\n",
    "        \"Mean\"    : stats[\"mean\"],\n",
    "        \"Std\"     : stats[\"std\"],\n",
    "        \"Min\"     : stats[\"min\"],\n",
    "        \"25%\"     : stats[\"25%\"],\n",
    "        \"50%\"     : stats[\"50%\"],\n",
    "        \"75%\"     : stats[\"75%\"],\n",
    "        \"Max\"     : stats[\"max\"],\n",
    "    })\n",
    "\n",
    "summary_df = pd.DataFrame(summary_data)\n",
    "print(\"\\nSummary Table for Incremental Profit Stats:\")\n",
    "print(summary_df.shape)\n",
    "summary_df.head()\n",
    "\n",
    "# summary_df.to_csv(\"../output/incremental_profit_summary.csv\", index=False)\n"
   ]
  },
  {
   "cell_type": "code",
   "execution_count": 78,
   "metadata": {},
   "outputs": [
    {
     "name": "stdout",
     "output_type": "stream",
     "text": [
      "\n",
      "--- Descriptive Analysis for Area1 ---\n",
      "\n",
      "Category: Child in Area1\n",
      "count    114.000000\n",
      "mean      25.296653\n",
      "std       15.422331\n",
      "min        0.510900\n",
      "25%       14.445725\n",
      "50%       24.487850\n",
      "75%       37.745450\n",
      "max       52.615800\n",
      "Name: Child, dtype: float64\n"
     ]
    },
    {
     "data": {
      "application/vnd.plotly.v1+json": {
       "config": {
        "plotlyServerURL": "https://plot.ly"
       },
       "data": [
        {
         "mode": "lines+markers",
         "name": "Child",
         "type": "scatter",
         "x": [
          1,
          2,
          3,
          4,
          5,
          6,
          7,
          8,
          9,
          10,
          11,
          12,
          13,
          14,
          15,
          16,
          17,
          18,
          19,
          20,
          21,
          22,
          23,
          24,
          25,
          26,
          27,
          28,
          29,
          30,
          31,
          32,
          33,
          34,
          35,
          36,
          37,
          38,
          39,
          40,
          41,
          42,
          43,
          44,
          45,
          46,
          47,
          48,
          49,
          50,
          51,
          52,
          53,
          54,
          55,
          56,
          57,
          58,
          59,
          60,
          61,
          62,
          63,
          64,
          65,
          66,
          67,
          68,
          69,
          70,
          71,
          72,
          73,
          74,
          75,
          76,
          77,
          78,
          79,
          80,
          81,
          82,
          83,
          84,
          85,
          86,
          87,
          88,
          89,
          90,
          91,
          92,
          93,
          94,
          95,
          96,
          97,
          98,
          99,
          100,
          101,
          102,
          103,
          104,
          105,
          106,
          107,
          108,
          109,
          110,
          111,
          112,
          113,
          114
         ],
         "y": {
          "bdata": "g8DKoUW+RkDysFBrmvc0QA6+MJkqmElAcoqO5PJHQEBGtvP91OBIQJhMFYxKmjJAIv32deD8NECdgCbChh9FQLprCfmgpzxAufyH9NvnOUD8GHPXEvLpPz55WKg1bUJAm1Wfq60IMkCYTBWMSuo7QHrHKTqSizVAxSCwcmiR/D+7Jw8LtTZJQC6QoPgxRjtAKe0NvjABRkD5D+m3rytIQB1aZDvfT0NAPzVeukmMNkB1ApoIG44zQMGopE5AE+M/aW/whckcR0DnjCjtDSZBQCBB8WPMHRhA7Q2+MJnaMUB3LSEf9HwxQKMjufyHlC9ASL99HTjXRUDbiv1l9/xGQCo6kst/mDxAxf6ye/IANkCTGARWDn1FQAAAAAAAgBBAoyO5/If0EECutmJ/2Z08QBdIUPwYMzJAak3zjlMUPUACvAUSFGdFQMgHPZtV10JARdjw9EpZ4D9hw9MrZYlEQJeQD3o200FArWnecYpOLkC2hHzQsylKQPaX3ZOHtUlAy6FFtvNtPUCk374OnHMeQCfChqdXGjRA07zjFB3RSUBQ/Bhz1xL4P9bFbTSAlyZAp+hILv+hMECBlUOLbLc2QFHaG3xhMhlAcoqO5PKfNUBsCfmgZ1M1QDm0yHa+V0NAcM6I0t7g8z9SJ6CJsPlBQATnjCjtDRBAxY8xdy0h9T++nxov3aQ4QH/7OnDOYEJAsHJoke0kQkCWsgxxrEtFQHrHKTqSk0BAzO7Jw0KtCUCAt0CC4kc1QPYoXI/ClStAArwFEhT/Q0AHzhlR2is1QArXo3A9ykRA54wo7Q3GSEBuNIC3QLJGQMUgsHJogTVAgy9MpgqmNUBNFYxK6lQ4QDcawFsgwQxAk6mCUUmdC0A7AU2EDS8uQNQrZRniWOs/i2zn+6kBPEAmUwWjkpo7QPaX3ZOHhSBARIts5/sJMUBrmnecojNEQH2utmJ/uSpAhXzQs1mVK0DRkVz+Q4o6QK7YX3ZPLkFAR3L5D+nHOUBHA3gLJKgsQKMjufyHdAZAYhBYObRYPUAnMQisHOJCQLpJDAIrB0FARIts5/tJK0B9PzVeukn8P9UJaCJsmC1AqDXNO04xMEBvgQTFj4lJQEGC4seYk0BAGJXUCWgiEUBtVn2utuIEQEtZhjjWXURAfPKwUGuaGEA7cM6I0k5KQF8HzhlR0kBAEqW9wRd+RkAukKD4MWYuQDGZKhiVxD9A",
          "dtype": "f8"
         }
        }
       ],
       "layout": {
        "template": {
         "data": {
          "bar": [
           {
            "error_x": {
             "color": "#2a3f5f"
            },
            "error_y": {
             "color": "#2a3f5f"
            },
            "marker": {
             "line": {
              "color": "white",
              "width": 0.5
             },
             "pattern": {
              "fillmode": "overlay",
              "size": 10,
              "solidity": 0.2
             }
            },
            "type": "bar"
           }
          ],
          "barpolar": [
           {
            "marker": {
             "line": {
              "color": "white",
              "width": 0.5
             },
             "pattern": {
              "fillmode": "overlay",
              "size": 10,
              "solidity": 0.2
             }
            },
            "type": "barpolar"
           }
          ],
          "carpet": [
           {
            "aaxis": {
             "endlinecolor": "#2a3f5f",
             "gridcolor": "#C8D4E3",
             "linecolor": "#C8D4E3",
             "minorgridcolor": "#C8D4E3",
             "startlinecolor": "#2a3f5f"
            },
            "baxis": {
             "endlinecolor": "#2a3f5f",
             "gridcolor": "#C8D4E3",
             "linecolor": "#C8D4E3",
             "minorgridcolor": "#C8D4E3",
             "startlinecolor": "#2a3f5f"
            },
            "type": "carpet"
           }
          ],
          "choropleth": [
           {
            "colorbar": {
             "outlinewidth": 0,
             "ticks": ""
            },
            "type": "choropleth"
           }
          ],
          "contour": [
           {
            "colorbar": {
             "outlinewidth": 0,
             "ticks": ""
            },
            "colorscale": [
             [
              0,
              "#0d0887"
             ],
             [
              0.1111111111111111,
              "#46039f"
             ],
             [
              0.2222222222222222,
              "#7201a8"
             ],
             [
              0.3333333333333333,
              "#9c179e"
             ],
             [
              0.4444444444444444,
              "#bd3786"
             ],
             [
              0.5555555555555556,
              "#d8576b"
             ],
             [
              0.6666666666666666,
              "#ed7953"
             ],
             [
              0.7777777777777778,
              "#fb9f3a"
             ],
             [
              0.8888888888888888,
              "#fdca26"
             ],
             [
              1,
              "#f0f921"
             ]
            ],
            "type": "contour"
           }
          ],
          "contourcarpet": [
           {
            "colorbar": {
             "outlinewidth": 0,
             "ticks": ""
            },
            "type": "contourcarpet"
           }
          ],
          "heatmap": [
           {
            "colorbar": {
             "outlinewidth": 0,
             "ticks": ""
            },
            "colorscale": [
             [
              0,
              "#0d0887"
             ],
             [
              0.1111111111111111,
              "#46039f"
             ],
             [
              0.2222222222222222,
              "#7201a8"
             ],
             [
              0.3333333333333333,
              "#9c179e"
             ],
             [
              0.4444444444444444,
              "#bd3786"
             ],
             [
              0.5555555555555556,
              "#d8576b"
             ],
             [
              0.6666666666666666,
              "#ed7953"
             ],
             [
              0.7777777777777778,
              "#fb9f3a"
             ],
             [
              0.8888888888888888,
              "#fdca26"
             ],
             [
              1,
              "#f0f921"
             ]
            ],
            "type": "heatmap"
           }
          ],
          "histogram": [
           {
            "marker": {
             "pattern": {
              "fillmode": "overlay",
              "size": 10,
              "solidity": 0.2
             }
            },
            "type": "histogram"
           }
          ],
          "histogram2d": [
           {
            "colorbar": {
             "outlinewidth": 0,
             "ticks": ""
            },
            "colorscale": [
             [
              0,
              "#0d0887"
             ],
             [
              0.1111111111111111,
              "#46039f"
             ],
             [
              0.2222222222222222,
              "#7201a8"
             ],
             [
              0.3333333333333333,
              "#9c179e"
             ],
             [
              0.4444444444444444,
              "#bd3786"
             ],
             [
              0.5555555555555556,
              "#d8576b"
             ],
             [
              0.6666666666666666,
              "#ed7953"
             ],
             [
              0.7777777777777778,
              "#fb9f3a"
             ],
             [
              0.8888888888888888,
              "#fdca26"
             ],
             [
              1,
              "#f0f921"
             ]
            ],
            "type": "histogram2d"
           }
          ],
          "histogram2dcontour": [
           {
            "colorbar": {
             "outlinewidth": 0,
             "ticks": ""
            },
            "colorscale": [
             [
              0,
              "#0d0887"
             ],
             [
              0.1111111111111111,
              "#46039f"
             ],
             [
              0.2222222222222222,
              "#7201a8"
             ],
             [
              0.3333333333333333,
              "#9c179e"
             ],
             [
              0.4444444444444444,
              "#bd3786"
             ],
             [
              0.5555555555555556,
              "#d8576b"
             ],
             [
              0.6666666666666666,
              "#ed7953"
             ],
             [
              0.7777777777777778,
              "#fb9f3a"
             ],
             [
              0.8888888888888888,
              "#fdca26"
             ],
             [
              1,
              "#f0f921"
             ]
            ],
            "type": "histogram2dcontour"
           }
          ],
          "mesh3d": [
           {
            "colorbar": {
             "outlinewidth": 0,
             "ticks": ""
            },
            "type": "mesh3d"
           }
          ],
          "parcoords": [
           {
            "line": {
             "colorbar": {
              "outlinewidth": 0,
              "ticks": ""
             }
            },
            "type": "parcoords"
           }
          ],
          "pie": [
           {
            "automargin": true,
            "type": "pie"
           }
          ],
          "scatter": [
           {
            "fillpattern": {
             "fillmode": "overlay",
             "size": 10,
             "solidity": 0.2
            },
            "type": "scatter"
           }
          ],
          "scatter3d": [
           {
            "line": {
             "colorbar": {
              "outlinewidth": 0,
              "ticks": ""
             }
            },
            "marker": {
             "colorbar": {
              "outlinewidth": 0,
              "ticks": ""
             }
            },
            "type": "scatter3d"
           }
          ],
          "scattercarpet": [
           {
            "marker": {
             "colorbar": {
              "outlinewidth": 0,
              "ticks": ""
             }
            },
            "type": "scattercarpet"
           }
          ],
          "scattergeo": [
           {
            "marker": {
             "colorbar": {
              "outlinewidth": 0,
              "ticks": ""
             }
            },
            "type": "scattergeo"
           }
          ],
          "scattergl": [
           {
            "marker": {
             "colorbar": {
              "outlinewidth": 0,
              "ticks": ""
             }
            },
            "type": "scattergl"
           }
          ],
          "scattermap": [
           {
            "marker": {
             "colorbar": {
              "outlinewidth": 0,
              "ticks": ""
             }
            },
            "type": "scattermap"
           }
          ],
          "scattermapbox": [
           {
            "marker": {
             "colorbar": {
              "outlinewidth": 0,
              "ticks": ""
             }
            },
            "type": "scattermapbox"
           }
          ],
          "scatterpolar": [
           {
            "marker": {
             "colorbar": {
              "outlinewidth": 0,
              "ticks": ""
             }
            },
            "type": "scatterpolar"
           }
          ],
          "scatterpolargl": [
           {
            "marker": {
             "colorbar": {
              "outlinewidth": 0,
              "ticks": ""
             }
            },
            "type": "scatterpolargl"
           }
          ],
          "scatterternary": [
           {
            "marker": {
             "colorbar": {
              "outlinewidth": 0,
              "ticks": ""
             }
            },
            "type": "scatterternary"
           }
          ],
          "surface": [
           {
            "colorbar": {
             "outlinewidth": 0,
             "ticks": ""
            },
            "colorscale": [
             [
              0,
              "#0d0887"
             ],
             [
              0.1111111111111111,
              "#46039f"
             ],
             [
              0.2222222222222222,
              "#7201a8"
             ],
             [
              0.3333333333333333,
              "#9c179e"
             ],
             [
              0.4444444444444444,
              "#bd3786"
             ],
             [
              0.5555555555555556,
              "#d8576b"
             ],
             [
              0.6666666666666666,
              "#ed7953"
             ],
             [
              0.7777777777777778,
              "#fb9f3a"
             ],
             [
              0.8888888888888888,
              "#fdca26"
             ],
             [
              1,
              "#f0f921"
             ]
            ],
            "type": "surface"
           }
          ],
          "table": [
           {
            "cells": {
             "fill": {
              "color": "#EBF0F8"
             },
             "line": {
              "color": "white"
             }
            },
            "header": {
             "fill": {
              "color": "#C8D4E3"
             },
             "line": {
              "color": "white"
             }
            },
            "type": "table"
           }
          ]
         },
         "layout": {
          "annotationdefaults": {
           "arrowcolor": "#2a3f5f",
           "arrowhead": 0,
           "arrowwidth": 1
          },
          "autotypenumbers": "strict",
          "coloraxis": {
           "colorbar": {
            "outlinewidth": 0,
            "ticks": ""
           }
          },
          "colorscale": {
           "diverging": [
            [
             0,
             "#8e0152"
            ],
            [
             0.1,
             "#c51b7d"
            ],
            [
             0.2,
             "#de77ae"
            ],
            [
             0.3,
             "#f1b6da"
            ],
            [
             0.4,
             "#fde0ef"
            ],
            [
             0.5,
             "#f7f7f7"
            ],
            [
             0.6,
             "#e6f5d0"
            ],
            [
             0.7,
             "#b8e186"
            ],
            [
             0.8,
             "#7fbc41"
            ],
            [
             0.9,
             "#4d9221"
            ],
            [
             1,
             "#276419"
            ]
           ],
           "sequential": [
            [
             0,
             "#0d0887"
            ],
            [
             0.1111111111111111,
             "#46039f"
            ],
            [
             0.2222222222222222,
             "#7201a8"
            ],
            [
             0.3333333333333333,
             "#9c179e"
            ],
            [
             0.4444444444444444,
             "#bd3786"
            ],
            [
             0.5555555555555556,
             "#d8576b"
            ],
            [
             0.6666666666666666,
             "#ed7953"
            ],
            [
             0.7777777777777778,
             "#fb9f3a"
            ],
            [
             0.8888888888888888,
             "#fdca26"
            ],
            [
             1,
             "#f0f921"
            ]
           ],
           "sequentialminus": [
            [
             0,
             "#0d0887"
            ],
            [
             0.1111111111111111,
             "#46039f"
            ],
            [
             0.2222222222222222,
             "#7201a8"
            ],
            [
             0.3333333333333333,
             "#9c179e"
            ],
            [
             0.4444444444444444,
             "#bd3786"
            ],
            [
             0.5555555555555556,
             "#d8576b"
            ],
            [
             0.6666666666666666,
             "#ed7953"
            ],
            [
             0.7777777777777778,
             "#fb9f3a"
            ],
            [
             0.8888888888888888,
             "#fdca26"
            ],
            [
             1,
             "#f0f921"
            ]
           ]
          },
          "colorway": [
           "#636efa",
           "#EF553B",
           "#00cc96",
           "#ab63fa",
           "#FFA15A",
           "#19d3f3",
           "#FF6692",
           "#B6E880",
           "#FF97FF",
           "#FECB52"
          ],
          "font": {
           "color": "#2a3f5f"
          },
          "geo": {
           "bgcolor": "white",
           "lakecolor": "white",
           "landcolor": "white",
           "showlakes": true,
           "showland": true,
           "subunitcolor": "#C8D4E3"
          },
          "hoverlabel": {
           "align": "left"
          },
          "hovermode": "closest",
          "mapbox": {
           "style": "light"
          },
          "paper_bgcolor": "white",
          "plot_bgcolor": "white",
          "polar": {
           "angularaxis": {
            "gridcolor": "#EBF0F8",
            "linecolor": "#EBF0F8",
            "ticks": ""
           },
           "bgcolor": "white",
           "radialaxis": {
            "gridcolor": "#EBF0F8",
            "linecolor": "#EBF0F8",
            "ticks": ""
           }
          },
          "scene": {
           "xaxis": {
            "backgroundcolor": "white",
            "gridcolor": "#DFE8F3",
            "gridwidth": 2,
            "linecolor": "#EBF0F8",
            "showbackground": true,
            "ticks": "",
            "zerolinecolor": "#EBF0F8"
           },
           "yaxis": {
            "backgroundcolor": "white",
            "gridcolor": "#DFE8F3",
            "gridwidth": 2,
            "linecolor": "#EBF0F8",
            "showbackground": true,
            "ticks": "",
            "zerolinecolor": "#EBF0F8"
           },
           "zaxis": {
            "backgroundcolor": "white",
            "gridcolor": "#DFE8F3",
            "gridwidth": 2,
            "linecolor": "#EBF0F8",
            "showbackground": true,
            "ticks": "",
            "zerolinecolor": "#EBF0F8"
           }
          },
          "shapedefaults": {
           "line": {
            "color": "#2a3f5f"
           }
          },
          "ternary": {
           "aaxis": {
            "gridcolor": "#DFE8F3",
            "linecolor": "#A2B1C6",
            "ticks": ""
           },
           "baxis": {
            "gridcolor": "#DFE8F3",
            "linecolor": "#A2B1C6",
            "ticks": ""
           },
           "bgcolor": "white",
           "caxis": {
            "gridcolor": "#DFE8F3",
            "linecolor": "#A2B1C6",
            "ticks": ""
           }
          },
          "title": {
           "x": 0.05
          },
          "xaxis": {
           "automargin": true,
           "gridcolor": "#EBF0F8",
           "linecolor": "#EBF0F8",
           "ticks": "",
           "title": {
            "standoff": 15
           },
           "zerolinecolor": "#EBF0F8",
           "zerolinewidth": 2
          },
          "yaxis": {
           "automargin": true,
           "gridcolor": "#EBF0F8",
           "linecolor": "#EBF0F8",
           "ticks": "",
           "title": {
            "standoff": 15
           },
           "zerolinecolor": "#EBF0F8",
           "zerolinewidth": 2
          }
         }
        },
        "title": {
         "text": "Incremental Profits for Child in Area1"
        },
        "xaxis": {
         "title": {
          "text": "Bicycle Number"
         }
        },
        "yaxis": {
         "title": {
          "text": "Incremental Profit"
         }
        }
       }
      }
     },
     "metadata": {},
     "output_type": "display_data"
    },
    {
     "name": "stdout",
     "output_type": "stream",
     "text": [
      "\n",
      "--- Descriptive Analysis for Area2 ---\n",
      "\n",
      "Category: Child in Area2\n",
      "count    53.000000\n",
      "mean      0.492942\n",
      "std       0.276522\n",
      "min       0.000100\n",
      "25%       0.277300\n",
      "50%       0.498800\n",
      "75%       0.714000\n",
      "max       0.997500\n",
      "Name: Child, dtype: float64\n"
     ]
    },
    {
     "data": {
      "application/vnd.plotly.v1+json": {
       "config": {
        "plotlyServerURL": "https://plot.ly"
       },
       "data": [
        {
         "mode": "lines+markers",
         "name": "Child",
         "type": "scatter",
         "x": [
          1,
          2,
          3,
          4,
          5,
          6,
          7,
          8,
          9,
          10,
          11,
          12,
          13,
          14,
          15,
          16,
          17,
          18,
          19,
          20,
          21,
          22,
          23,
          24,
          25,
          26,
          27,
          28,
          29,
          30,
          31,
          32,
          33,
          34,
          35,
          36,
          37,
          38,
          39,
          40,
          41,
          42,
          43,
          44,
          45,
          46,
          47,
          48,
          49,
          50,
          51,
          52,
          53
         ],
         "y": {
          "bdata": "KH6MuWsJwT9F2PD0SlnqPy1DHOviNho/oyO5/If0wz/8GHPXEvKxP02EDU+vlNU/7FG4HoXr7z/M7snDQq3nP95xio7k8m8/07zjFB3J0T/jNhrAWyDtP0vqBDQRNuY/MEymCkYl4z9g5dAi2/nmPzqSy39Iv9E/zojS3uAL3z9SJ6CJsOHRP4NRSZ2AJuI/8x/Sb18H0j/xY8xdS8jbP+/Jw0Ktaeg/PujZrPpc3T+/fR04Z0TtP7hAguLHmMM/ObTIdr6f7D9VMCqpE9DQP1YOLbKd7+0/qDXNO07RyT+94xQdyeXjP3PXEvJBz9o/qoJRSZ2Azj/ZzvdT46XhP8dLN4lBYNk/1JrmHafo6j/u68A5I0rhPwwCK4cW2eY//kP67evAwT+PU3Qkl/+gP9Xnaiv2l9U/EoPAyqFFxj9qTfOOU3ToP6UsQxzr4uA/z2bV52or4j/caABvgQTZP86qz9VW7N8/bAn5oGez3j9zaJHtfD/lP1HaG3xhMuU//yH99nXg6D8LtaZ5xynuP7prCfmgZ8s/oyO5/If04T+mm8QgsHLmPw==",
          "dtype": "f8"
         }
        }
       ],
       "layout": {
        "template": {
         "data": {
          "bar": [
           {
            "error_x": {
             "color": "#2a3f5f"
            },
            "error_y": {
             "color": "#2a3f5f"
            },
            "marker": {
             "line": {
              "color": "white",
              "width": 0.5
             },
             "pattern": {
              "fillmode": "overlay",
              "size": 10,
              "solidity": 0.2
             }
            },
            "type": "bar"
           }
          ],
          "barpolar": [
           {
            "marker": {
             "line": {
              "color": "white",
              "width": 0.5
             },
             "pattern": {
              "fillmode": "overlay",
              "size": 10,
              "solidity": 0.2
             }
            },
            "type": "barpolar"
           }
          ],
          "carpet": [
           {
            "aaxis": {
             "endlinecolor": "#2a3f5f",
             "gridcolor": "#C8D4E3",
             "linecolor": "#C8D4E3",
             "minorgridcolor": "#C8D4E3",
             "startlinecolor": "#2a3f5f"
            },
            "baxis": {
             "endlinecolor": "#2a3f5f",
             "gridcolor": "#C8D4E3",
             "linecolor": "#C8D4E3",
             "minorgridcolor": "#C8D4E3",
             "startlinecolor": "#2a3f5f"
            },
            "type": "carpet"
           }
          ],
          "choropleth": [
           {
            "colorbar": {
             "outlinewidth": 0,
             "ticks": ""
            },
            "type": "choropleth"
           }
          ],
          "contour": [
           {
            "colorbar": {
             "outlinewidth": 0,
             "ticks": ""
            },
            "colorscale": [
             [
              0,
              "#0d0887"
             ],
             [
              0.1111111111111111,
              "#46039f"
             ],
             [
              0.2222222222222222,
              "#7201a8"
             ],
             [
              0.3333333333333333,
              "#9c179e"
             ],
             [
              0.4444444444444444,
              "#bd3786"
             ],
             [
              0.5555555555555556,
              "#d8576b"
             ],
             [
              0.6666666666666666,
              "#ed7953"
             ],
             [
              0.7777777777777778,
              "#fb9f3a"
             ],
             [
              0.8888888888888888,
              "#fdca26"
             ],
             [
              1,
              "#f0f921"
             ]
            ],
            "type": "contour"
           }
          ],
          "contourcarpet": [
           {
            "colorbar": {
             "outlinewidth": 0,
             "ticks": ""
            },
            "type": "contourcarpet"
           }
          ],
          "heatmap": [
           {
            "colorbar": {
             "outlinewidth": 0,
             "ticks": ""
            },
            "colorscale": [
             [
              0,
              "#0d0887"
             ],
             [
              0.1111111111111111,
              "#46039f"
             ],
             [
              0.2222222222222222,
              "#7201a8"
             ],
             [
              0.3333333333333333,
              "#9c179e"
             ],
             [
              0.4444444444444444,
              "#bd3786"
             ],
             [
              0.5555555555555556,
              "#d8576b"
             ],
             [
              0.6666666666666666,
              "#ed7953"
             ],
             [
              0.7777777777777778,
              "#fb9f3a"
             ],
             [
              0.8888888888888888,
              "#fdca26"
             ],
             [
              1,
              "#f0f921"
             ]
            ],
            "type": "heatmap"
           }
          ],
          "histogram": [
           {
            "marker": {
             "pattern": {
              "fillmode": "overlay",
              "size": 10,
              "solidity": 0.2
             }
            },
            "type": "histogram"
           }
          ],
          "histogram2d": [
           {
            "colorbar": {
             "outlinewidth": 0,
             "ticks": ""
            },
            "colorscale": [
             [
              0,
              "#0d0887"
             ],
             [
              0.1111111111111111,
              "#46039f"
             ],
             [
              0.2222222222222222,
              "#7201a8"
             ],
             [
              0.3333333333333333,
              "#9c179e"
             ],
             [
              0.4444444444444444,
              "#bd3786"
             ],
             [
              0.5555555555555556,
              "#d8576b"
             ],
             [
              0.6666666666666666,
              "#ed7953"
             ],
             [
              0.7777777777777778,
              "#fb9f3a"
             ],
             [
              0.8888888888888888,
              "#fdca26"
             ],
             [
              1,
              "#f0f921"
             ]
            ],
            "type": "histogram2d"
           }
          ],
          "histogram2dcontour": [
           {
            "colorbar": {
             "outlinewidth": 0,
             "ticks": ""
            },
            "colorscale": [
             [
              0,
              "#0d0887"
             ],
             [
              0.1111111111111111,
              "#46039f"
             ],
             [
              0.2222222222222222,
              "#7201a8"
             ],
             [
              0.3333333333333333,
              "#9c179e"
             ],
             [
              0.4444444444444444,
              "#bd3786"
             ],
             [
              0.5555555555555556,
              "#d8576b"
             ],
             [
              0.6666666666666666,
              "#ed7953"
             ],
             [
              0.7777777777777778,
              "#fb9f3a"
             ],
             [
              0.8888888888888888,
              "#fdca26"
             ],
             [
              1,
              "#f0f921"
             ]
            ],
            "type": "histogram2dcontour"
           }
          ],
          "mesh3d": [
           {
            "colorbar": {
             "outlinewidth": 0,
             "ticks": ""
            },
            "type": "mesh3d"
           }
          ],
          "parcoords": [
           {
            "line": {
             "colorbar": {
              "outlinewidth": 0,
              "ticks": ""
             }
            },
            "type": "parcoords"
           }
          ],
          "pie": [
           {
            "automargin": true,
            "type": "pie"
           }
          ],
          "scatter": [
           {
            "fillpattern": {
             "fillmode": "overlay",
             "size": 10,
             "solidity": 0.2
            },
            "type": "scatter"
           }
          ],
          "scatter3d": [
           {
            "line": {
             "colorbar": {
              "outlinewidth": 0,
              "ticks": ""
             }
            },
            "marker": {
             "colorbar": {
              "outlinewidth": 0,
              "ticks": ""
             }
            },
            "type": "scatter3d"
           }
          ],
          "scattercarpet": [
           {
            "marker": {
             "colorbar": {
              "outlinewidth": 0,
              "ticks": ""
             }
            },
            "type": "scattercarpet"
           }
          ],
          "scattergeo": [
           {
            "marker": {
             "colorbar": {
              "outlinewidth": 0,
              "ticks": ""
             }
            },
            "type": "scattergeo"
           }
          ],
          "scattergl": [
           {
            "marker": {
             "colorbar": {
              "outlinewidth": 0,
              "ticks": ""
             }
            },
            "type": "scattergl"
           }
          ],
          "scattermap": [
           {
            "marker": {
             "colorbar": {
              "outlinewidth": 0,
              "ticks": ""
             }
            },
            "type": "scattermap"
           }
          ],
          "scattermapbox": [
           {
            "marker": {
             "colorbar": {
              "outlinewidth": 0,
              "ticks": ""
             }
            },
            "type": "scattermapbox"
           }
          ],
          "scatterpolar": [
           {
            "marker": {
             "colorbar": {
              "outlinewidth": 0,
              "ticks": ""
             }
            },
            "type": "scatterpolar"
           }
          ],
          "scatterpolargl": [
           {
            "marker": {
             "colorbar": {
              "outlinewidth": 0,
              "ticks": ""
             }
            },
            "type": "scatterpolargl"
           }
          ],
          "scatterternary": [
           {
            "marker": {
             "colorbar": {
              "outlinewidth": 0,
              "ticks": ""
             }
            },
            "type": "scatterternary"
           }
          ],
          "surface": [
           {
            "colorbar": {
             "outlinewidth": 0,
             "ticks": ""
            },
            "colorscale": [
             [
              0,
              "#0d0887"
             ],
             [
              0.1111111111111111,
              "#46039f"
             ],
             [
              0.2222222222222222,
              "#7201a8"
             ],
             [
              0.3333333333333333,
              "#9c179e"
             ],
             [
              0.4444444444444444,
              "#bd3786"
             ],
             [
              0.5555555555555556,
              "#d8576b"
             ],
             [
              0.6666666666666666,
              "#ed7953"
             ],
             [
              0.7777777777777778,
              "#fb9f3a"
             ],
             [
              0.8888888888888888,
              "#fdca26"
             ],
             [
              1,
              "#f0f921"
             ]
            ],
            "type": "surface"
           }
          ],
          "table": [
           {
            "cells": {
             "fill": {
              "color": "#EBF0F8"
             },
             "line": {
              "color": "white"
             }
            },
            "header": {
             "fill": {
              "color": "#C8D4E3"
             },
             "line": {
              "color": "white"
             }
            },
            "type": "table"
           }
          ]
         },
         "layout": {
          "annotationdefaults": {
           "arrowcolor": "#2a3f5f",
           "arrowhead": 0,
           "arrowwidth": 1
          },
          "autotypenumbers": "strict",
          "coloraxis": {
           "colorbar": {
            "outlinewidth": 0,
            "ticks": ""
           }
          },
          "colorscale": {
           "diverging": [
            [
             0,
             "#8e0152"
            ],
            [
             0.1,
             "#c51b7d"
            ],
            [
             0.2,
             "#de77ae"
            ],
            [
             0.3,
             "#f1b6da"
            ],
            [
             0.4,
             "#fde0ef"
            ],
            [
             0.5,
             "#f7f7f7"
            ],
            [
             0.6,
             "#e6f5d0"
            ],
            [
             0.7,
             "#b8e186"
            ],
            [
             0.8,
             "#7fbc41"
            ],
            [
             0.9,
             "#4d9221"
            ],
            [
             1,
             "#276419"
            ]
           ],
           "sequential": [
            [
             0,
             "#0d0887"
            ],
            [
             0.1111111111111111,
             "#46039f"
            ],
            [
             0.2222222222222222,
             "#7201a8"
            ],
            [
             0.3333333333333333,
             "#9c179e"
            ],
            [
             0.4444444444444444,
             "#bd3786"
            ],
            [
             0.5555555555555556,
             "#d8576b"
            ],
            [
             0.6666666666666666,
             "#ed7953"
            ],
            [
             0.7777777777777778,
             "#fb9f3a"
            ],
            [
             0.8888888888888888,
             "#fdca26"
            ],
            [
             1,
             "#f0f921"
            ]
           ],
           "sequentialminus": [
            [
             0,
             "#0d0887"
            ],
            [
             0.1111111111111111,
             "#46039f"
            ],
            [
             0.2222222222222222,
             "#7201a8"
            ],
            [
             0.3333333333333333,
             "#9c179e"
            ],
            [
             0.4444444444444444,
             "#bd3786"
            ],
            [
             0.5555555555555556,
             "#d8576b"
            ],
            [
             0.6666666666666666,
             "#ed7953"
            ],
            [
             0.7777777777777778,
             "#fb9f3a"
            ],
            [
             0.8888888888888888,
             "#fdca26"
            ],
            [
             1,
             "#f0f921"
            ]
           ]
          },
          "colorway": [
           "#636efa",
           "#EF553B",
           "#00cc96",
           "#ab63fa",
           "#FFA15A",
           "#19d3f3",
           "#FF6692",
           "#B6E880",
           "#FF97FF",
           "#FECB52"
          ],
          "font": {
           "color": "#2a3f5f"
          },
          "geo": {
           "bgcolor": "white",
           "lakecolor": "white",
           "landcolor": "white",
           "showlakes": true,
           "showland": true,
           "subunitcolor": "#C8D4E3"
          },
          "hoverlabel": {
           "align": "left"
          },
          "hovermode": "closest",
          "mapbox": {
           "style": "light"
          },
          "paper_bgcolor": "white",
          "plot_bgcolor": "white",
          "polar": {
           "angularaxis": {
            "gridcolor": "#EBF0F8",
            "linecolor": "#EBF0F8",
            "ticks": ""
           },
           "bgcolor": "white",
           "radialaxis": {
            "gridcolor": "#EBF0F8",
            "linecolor": "#EBF0F8",
            "ticks": ""
           }
          },
          "scene": {
           "xaxis": {
            "backgroundcolor": "white",
            "gridcolor": "#DFE8F3",
            "gridwidth": 2,
            "linecolor": "#EBF0F8",
            "showbackground": true,
            "ticks": "",
            "zerolinecolor": "#EBF0F8"
           },
           "yaxis": {
            "backgroundcolor": "white",
            "gridcolor": "#DFE8F3",
            "gridwidth": 2,
            "linecolor": "#EBF0F8",
            "showbackground": true,
            "ticks": "",
            "zerolinecolor": "#EBF0F8"
           },
           "zaxis": {
            "backgroundcolor": "white",
            "gridcolor": "#DFE8F3",
            "gridwidth": 2,
            "linecolor": "#EBF0F8",
            "showbackground": true,
            "ticks": "",
            "zerolinecolor": "#EBF0F8"
           }
          },
          "shapedefaults": {
           "line": {
            "color": "#2a3f5f"
           }
          },
          "ternary": {
           "aaxis": {
            "gridcolor": "#DFE8F3",
            "linecolor": "#A2B1C6",
            "ticks": ""
           },
           "baxis": {
            "gridcolor": "#DFE8F3",
            "linecolor": "#A2B1C6",
            "ticks": ""
           },
           "bgcolor": "white",
           "caxis": {
            "gridcolor": "#DFE8F3",
            "linecolor": "#A2B1C6",
            "ticks": ""
           }
          },
          "title": {
           "x": 0.05
          },
          "xaxis": {
           "automargin": true,
           "gridcolor": "#EBF0F8",
           "linecolor": "#EBF0F8",
           "ticks": "",
           "title": {
            "standoff": 15
           },
           "zerolinecolor": "#EBF0F8",
           "zerolinewidth": 2
          },
          "yaxis": {
           "automargin": true,
           "gridcolor": "#EBF0F8",
           "linecolor": "#EBF0F8",
           "ticks": "",
           "title": {
            "standoff": 15
           },
           "zerolinecolor": "#EBF0F8",
           "zerolinewidth": 2
          }
         }
        },
        "title": {
         "text": "Incremental Profits for Child in Area2"
        },
        "xaxis": {
         "title": {
          "text": "Bicycle Number"
         }
        },
        "yaxis": {
         "title": {
          "text": "Incremental Profit"
         }
        }
       }
      }
     },
     "metadata": {},
     "output_type": "display_data"
    },
    {
     "name": "stdout",
     "output_type": "stream",
     "text": [
      "\n",
      "--- Descriptive Analysis for Area3 ---\n",
      "\n",
      "Category: Child in Area3\n",
      "count    96.000000\n",
      "mean     52.170308\n",
      "std      24.155217\n",
      "min       1.129100\n",
      "25%      36.345325\n",
      "50%      51.113250\n",
      "75%      69.199100\n",
      "max      95.859600\n",
      "Name: Child, dtype: float64\n"
     ]
    },
    {
     "data": {
      "application/vnd.plotly.v1+json": {
       "config": {
        "plotlyServerURL": "https://plot.ly"
       },
       "data": [
        {
         "mode": "lines+markers",
         "name": "Child",
         "type": "scatter",
         "x": [
          1,
          2,
          3,
          4,
          5,
          6,
          7,
          8,
          9,
          10,
          11,
          12,
          13,
          14,
          15,
          16,
          17,
          18,
          19,
          20,
          21,
          22,
          23,
          24,
          25,
          26,
          27,
          28,
          29,
          30,
          31,
          32,
          33,
          34,
          35,
          36,
          37,
          38,
          39,
          40,
          41,
          42,
          43,
          44,
          45,
          46,
          47,
          48,
          49,
          50,
          51,
          52,
          53,
          54,
          55,
          56,
          57,
          58,
          59,
          60,
          61,
          62,
          63,
          64,
          65,
          66,
          67,
          68,
          69,
          70,
          71,
          72,
          73,
          74,
          75,
          76,
          77,
          78,
          79,
          80,
          81,
          82,
          83,
          84,
          85,
          86,
          87,
          88,
          89,
          90,
          91,
          92,
          93,
          94,
          95,
          96
         ],
         "y": {
          "bdata": "0NVW7C/jV0DmriXkg2pTQJ+rrdhfylZAldQJaCJMKEDUK2UZ4og1QNiBc0aU6lZA7lpCPuiZSEBF2PD0SvFOQFtCPujZzEVAgZVDi2wHM0CQMXctIRtQQNGRXP5DUlJA7nw/NV6yU0DmP6Tfvv4zQLyWkA96SldASgwCK4eeSkDsL7snD/NJQJM6AU2E9UhAcayL22iYR0DysFBrmjc9QKH4MeauqVBAd76fGi99Q0BKe4MvTCYxQNNNYhBYkU1AZohjXdwyVkAGgZVDi8RSQINRSZ2AjklATfOOU3QUSUCoxks3ifFDQK36XG3FrjlAOGdEaW9YVkD5D+m3r4NGQBDpt68D91dAyXa+nxqHQ0CNl24Sg+hRQLsnDwu1dlBAvw6cM6IkQEDpt68D51RUQGiz6nO1RThA3GgAb4G0SkDCFyZTBZMyQH9qvHST+E9At9EA3gLRRECL/WX35JlWQDQRNjy9qkJAbVZ9rrayQ0Aydy0hH3xOQIy5awn5uElAhjjWxW2kOEB2cRsN4G1XQELPZtXngk1ApSxDHOuqUUCR7Xw/NR43QI4G8BZIqEVAgQTFjzFXSEBuNIC3QHJKQC9uowG8/UVARpT2Bl9YPEC7Jw8LtZYyQJ7vp8ZLm1ZAejarPldbI0Af9GxWfY5JQDJVMCqpK0tAVFInoIk4TkDA7J48LHxSQHuDL0ymOk9Avw6cM6J8U0C4QILix3BRQPRsVn2uclJAF9nO91OzPkCppE5AEwEjQKjGSzeJcUhAiUFg5dDiNEA51sVtNNBCQIenV8oyuFdAf9k9eVgASECAt0CC4odJQIqO5PIf3lNAVp+rrdiXRkAbnl4pyxDyP+qVsgxx1E1AmSoYldQBUEDsUbgehRtOQKCJsOHpxTNAi2zn+6lJVkAp7Q2+MLlEQLByaJHtEFFAKcsQx7pAUUDjx5i7lrBAQIqw4emVskxAke18PzX2RkB/arx0k5g5QGiz6nO1NS5Anzws1JrGIkBcIEHxYwRRQGQ730+NX0ZA",
          "dtype": "f8"
         }
        }
       ],
       "layout": {
        "template": {
         "data": {
          "bar": [
           {
            "error_x": {
             "color": "#2a3f5f"
            },
            "error_y": {
             "color": "#2a3f5f"
            },
            "marker": {
             "line": {
              "color": "white",
              "width": 0.5
             },
             "pattern": {
              "fillmode": "overlay",
              "size": 10,
              "solidity": 0.2
             }
            },
            "type": "bar"
           }
          ],
          "barpolar": [
           {
            "marker": {
             "line": {
              "color": "white",
              "width": 0.5
             },
             "pattern": {
              "fillmode": "overlay",
              "size": 10,
              "solidity": 0.2
             }
            },
            "type": "barpolar"
           }
          ],
          "carpet": [
           {
            "aaxis": {
             "endlinecolor": "#2a3f5f",
             "gridcolor": "#C8D4E3",
             "linecolor": "#C8D4E3",
             "minorgridcolor": "#C8D4E3",
             "startlinecolor": "#2a3f5f"
            },
            "baxis": {
             "endlinecolor": "#2a3f5f",
             "gridcolor": "#C8D4E3",
             "linecolor": "#C8D4E3",
             "minorgridcolor": "#C8D4E3",
             "startlinecolor": "#2a3f5f"
            },
            "type": "carpet"
           }
          ],
          "choropleth": [
           {
            "colorbar": {
             "outlinewidth": 0,
             "ticks": ""
            },
            "type": "choropleth"
           }
          ],
          "contour": [
           {
            "colorbar": {
             "outlinewidth": 0,
             "ticks": ""
            },
            "colorscale": [
             [
              0,
              "#0d0887"
             ],
             [
              0.1111111111111111,
              "#46039f"
             ],
             [
              0.2222222222222222,
              "#7201a8"
             ],
             [
              0.3333333333333333,
              "#9c179e"
             ],
             [
              0.4444444444444444,
              "#bd3786"
             ],
             [
              0.5555555555555556,
              "#d8576b"
             ],
             [
              0.6666666666666666,
              "#ed7953"
             ],
             [
              0.7777777777777778,
              "#fb9f3a"
             ],
             [
              0.8888888888888888,
              "#fdca26"
             ],
             [
              1,
              "#f0f921"
             ]
            ],
            "type": "contour"
           }
          ],
          "contourcarpet": [
           {
            "colorbar": {
             "outlinewidth": 0,
             "ticks": ""
            },
            "type": "contourcarpet"
           }
          ],
          "heatmap": [
           {
            "colorbar": {
             "outlinewidth": 0,
             "ticks": ""
            },
            "colorscale": [
             [
              0,
              "#0d0887"
             ],
             [
              0.1111111111111111,
              "#46039f"
             ],
             [
              0.2222222222222222,
              "#7201a8"
             ],
             [
              0.3333333333333333,
              "#9c179e"
             ],
             [
              0.4444444444444444,
              "#bd3786"
             ],
             [
              0.5555555555555556,
              "#d8576b"
             ],
             [
              0.6666666666666666,
              "#ed7953"
             ],
             [
              0.7777777777777778,
              "#fb9f3a"
             ],
             [
              0.8888888888888888,
              "#fdca26"
             ],
             [
              1,
              "#f0f921"
             ]
            ],
            "type": "heatmap"
           }
          ],
          "histogram": [
           {
            "marker": {
             "pattern": {
              "fillmode": "overlay",
              "size": 10,
              "solidity": 0.2
             }
            },
            "type": "histogram"
           }
          ],
          "histogram2d": [
           {
            "colorbar": {
             "outlinewidth": 0,
             "ticks": ""
            },
            "colorscale": [
             [
              0,
              "#0d0887"
             ],
             [
              0.1111111111111111,
              "#46039f"
             ],
             [
              0.2222222222222222,
              "#7201a8"
             ],
             [
              0.3333333333333333,
              "#9c179e"
             ],
             [
              0.4444444444444444,
              "#bd3786"
             ],
             [
              0.5555555555555556,
              "#d8576b"
             ],
             [
              0.6666666666666666,
              "#ed7953"
             ],
             [
              0.7777777777777778,
              "#fb9f3a"
             ],
             [
              0.8888888888888888,
              "#fdca26"
             ],
             [
              1,
              "#f0f921"
             ]
            ],
            "type": "histogram2d"
           }
          ],
          "histogram2dcontour": [
           {
            "colorbar": {
             "outlinewidth": 0,
             "ticks": ""
            },
            "colorscale": [
             [
              0,
              "#0d0887"
             ],
             [
              0.1111111111111111,
              "#46039f"
             ],
             [
              0.2222222222222222,
              "#7201a8"
             ],
             [
              0.3333333333333333,
              "#9c179e"
             ],
             [
              0.4444444444444444,
              "#bd3786"
             ],
             [
              0.5555555555555556,
              "#d8576b"
             ],
             [
              0.6666666666666666,
              "#ed7953"
             ],
             [
              0.7777777777777778,
              "#fb9f3a"
             ],
             [
              0.8888888888888888,
              "#fdca26"
             ],
             [
              1,
              "#f0f921"
             ]
            ],
            "type": "histogram2dcontour"
           }
          ],
          "mesh3d": [
           {
            "colorbar": {
             "outlinewidth": 0,
             "ticks": ""
            },
            "type": "mesh3d"
           }
          ],
          "parcoords": [
           {
            "line": {
             "colorbar": {
              "outlinewidth": 0,
              "ticks": ""
             }
            },
            "type": "parcoords"
           }
          ],
          "pie": [
           {
            "automargin": true,
            "type": "pie"
           }
          ],
          "scatter": [
           {
            "fillpattern": {
             "fillmode": "overlay",
             "size": 10,
             "solidity": 0.2
            },
            "type": "scatter"
           }
          ],
          "scatter3d": [
           {
            "line": {
             "colorbar": {
              "outlinewidth": 0,
              "ticks": ""
             }
            },
            "marker": {
             "colorbar": {
              "outlinewidth": 0,
              "ticks": ""
             }
            },
            "type": "scatter3d"
           }
          ],
          "scattercarpet": [
           {
            "marker": {
             "colorbar": {
              "outlinewidth": 0,
              "ticks": ""
             }
            },
            "type": "scattercarpet"
           }
          ],
          "scattergeo": [
           {
            "marker": {
             "colorbar": {
              "outlinewidth": 0,
              "ticks": ""
             }
            },
            "type": "scattergeo"
           }
          ],
          "scattergl": [
           {
            "marker": {
             "colorbar": {
              "outlinewidth": 0,
              "ticks": ""
             }
            },
            "type": "scattergl"
           }
          ],
          "scattermap": [
           {
            "marker": {
             "colorbar": {
              "outlinewidth": 0,
              "ticks": ""
             }
            },
            "type": "scattermap"
           }
          ],
          "scattermapbox": [
           {
            "marker": {
             "colorbar": {
              "outlinewidth": 0,
              "ticks": ""
             }
            },
            "type": "scattermapbox"
           }
          ],
          "scatterpolar": [
           {
            "marker": {
             "colorbar": {
              "outlinewidth": 0,
              "ticks": ""
             }
            },
            "type": "scatterpolar"
           }
          ],
          "scatterpolargl": [
           {
            "marker": {
             "colorbar": {
              "outlinewidth": 0,
              "ticks": ""
             }
            },
            "type": "scatterpolargl"
           }
          ],
          "scatterternary": [
           {
            "marker": {
             "colorbar": {
              "outlinewidth": 0,
              "ticks": ""
             }
            },
            "type": "scatterternary"
           }
          ],
          "surface": [
           {
            "colorbar": {
             "outlinewidth": 0,
             "ticks": ""
            },
            "colorscale": [
             [
              0,
              "#0d0887"
             ],
             [
              0.1111111111111111,
              "#46039f"
             ],
             [
              0.2222222222222222,
              "#7201a8"
             ],
             [
              0.3333333333333333,
              "#9c179e"
             ],
             [
              0.4444444444444444,
              "#bd3786"
             ],
             [
              0.5555555555555556,
              "#d8576b"
             ],
             [
              0.6666666666666666,
              "#ed7953"
             ],
             [
              0.7777777777777778,
              "#fb9f3a"
             ],
             [
              0.8888888888888888,
              "#fdca26"
             ],
             [
              1,
              "#f0f921"
             ]
            ],
            "type": "surface"
           }
          ],
          "table": [
           {
            "cells": {
             "fill": {
              "color": "#EBF0F8"
             },
             "line": {
              "color": "white"
             }
            },
            "header": {
             "fill": {
              "color": "#C8D4E3"
             },
             "line": {
              "color": "white"
             }
            },
            "type": "table"
           }
          ]
         },
         "layout": {
          "annotationdefaults": {
           "arrowcolor": "#2a3f5f",
           "arrowhead": 0,
           "arrowwidth": 1
          },
          "autotypenumbers": "strict",
          "coloraxis": {
           "colorbar": {
            "outlinewidth": 0,
            "ticks": ""
           }
          },
          "colorscale": {
           "diverging": [
            [
             0,
             "#8e0152"
            ],
            [
             0.1,
             "#c51b7d"
            ],
            [
             0.2,
             "#de77ae"
            ],
            [
             0.3,
             "#f1b6da"
            ],
            [
             0.4,
             "#fde0ef"
            ],
            [
             0.5,
             "#f7f7f7"
            ],
            [
             0.6,
             "#e6f5d0"
            ],
            [
             0.7,
             "#b8e186"
            ],
            [
             0.8,
             "#7fbc41"
            ],
            [
             0.9,
             "#4d9221"
            ],
            [
             1,
             "#276419"
            ]
           ],
           "sequential": [
            [
             0,
             "#0d0887"
            ],
            [
             0.1111111111111111,
             "#46039f"
            ],
            [
             0.2222222222222222,
             "#7201a8"
            ],
            [
             0.3333333333333333,
             "#9c179e"
            ],
            [
             0.4444444444444444,
             "#bd3786"
            ],
            [
             0.5555555555555556,
             "#d8576b"
            ],
            [
             0.6666666666666666,
             "#ed7953"
            ],
            [
             0.7777777777777778,
             "#fb9f3a"
            ],
            [
             0.8888888888888888,
             "#fdca26"
            ],
            [
             1,
             "#f0f921"
            ]
           ],
           "sequentialminus": [
            [
             0,
             "#0d0887"
            ],
            [
             0.1111111111111111,
             "#46039f"
            ],
            [
             0.2222222222222222,
             "#7201a8"
            ],
            [
             0.3333333333333333,
             "#9c179e"
            ],
            [
             0.4444444444444444,
             "#bd3786"
            ],
            [
             0.5555555555555556,
             "#d8576b"
            ],
            [
             0.6666666666666666,
             "#ed7953"
            ],
            [
             0.7777777777777778,
             "#fb9f3a"
            ],
            [
             0.8888888888888888,
             "#fdca26"
            ],
            [
             1,
             "#f0f921"
            ]
           ]
          },
          "colorway": [
           "#636efa",
           "#EF553B",
           "#00cc96",
           "#ab63fa",
           "#FFA15A",
           "#19d3f3",
           "#FF6692",
           "#B6E880",
           "#FF97FF",
           "#FECB52"
          ],
          "font": {
           "color": "#2a3f5f"
          },
          "geo": {
           "bgcolor": "white",
           "lakecolor": "white",
           "landcolor": "white",
           "showlakes": true,
           "showland": true,
           "subunitcolor": "#C8D4E3"
          },
          "hoverlabel": {
           "align": "left"
          },
          "hovermode": "closest",
          "mapbox": {
           "style": "light"
          },
          "paper_bgcolor": "white",
          "plot_bgcolor": "white",
          "polar": {
           "angularaxis": {
            "gridcolor": "#EBF0F8",
            "linecolor": "#EBF0F8",
            "ticks": ""
           },
           "bgcolor": "white",
           "radialaxis": {
            "gridcolor": "#EBF0F8",
            "linecolor": "#EBF0F8",
            "ticks": ""
           }
          },
          "scene": {
           "xaxis": {
            "backgroundcolor": "white",
            "gridcolor": "#DFE8F3",
            "gridwidth": 2,
            "linecolor": "#EBF0F8",
            "showbackground": true,
            "ticks": "",
            "zerolinecolor": "#EBF0F8"
           },
           "yaxis": {
            "backgroundcolor": "white",
            "gridcolor": "#DFE8F3",
            "gridwidth": 2,
            "linecolor": "#EBF0F8",
            "showbackground": true,
            "ticks": "",
            "zerolinecolor": "#EBF0F8"
           },
           "zaxis": {
            "backgroundcolor": "white",
            "gridcolor": "#DFE8F3",
            "gridwidth": 2,
            "linecolor": "#EBF0F8",
            "showbackground": true,
            "ticks": "",
            "zerolinecolor": "#EBF0F8"
           }
          },
          "shapedefaults": {
           "line": {
            "color": "#2a3f5f"
           }
          },
          "ternary": {
           "aaxis": {
            "gridcolor": "#DFE8F3",
            "linecolor": "#A2B1C6",
            "ticks": ""
           },
           "baxis": {
            "gridcolor": "#DFE8F3",
            "linecolor": "#A2B1C6",
            "ticks": ""
           },
           "bgcolor": "white",
           "caxis": {
            "gridcolor": "#DFE8F3",
            "linecolor": "#A2B1C6",
            "ticks": ""
           }
          },
          "title": {
           "x": 0.05
          },
          "xaxis": {
           "automargin": true,
           "gridcolor": "#EBF0F8",
           "linecolor": "#EBF0F8",
           "ticks": "",
           "title": {
            "standoff": 15
           },
           "zerolinecolor": "#EBF0F8",
           "zerolinewidth": 2
          },
          "yaxis": {
           "automargin": true,
           "gridcolor": "#EBF0F8",
           "linecolor": "#EBF0F8",
           "ticks": "",
           "title": {
            "standoff": 15
           },
           "zerolinecolor": "#EBF0F8",
           "zerolinewidth": 2
          }
         }
        },
        "title": {
         "text": "Incremental Profits for Child in Area3"
        },
        "xaxis": {
         "title": {
          "text": "Bicycle Number"
         }
        },
        "yaxis": {
         "title": {
          "text": "Incremental Profit"
         }
        }
       }
      }
     },
     "metadata": {},
     "output_type": "display_data"
    },
    {
     "name": "stdout",
     "output_type": "stream",
     "text": [
      "\n",
      "--- Descriptive Analysis for Area4 ---\n",
      "\n",
      "Category: Child in Area4\n",
      "count    105.000000\n",
      "mean      50.112113\n",
      "std       28.529618\n",
      "min        1.275200\n",
      "25%       23.640000\n",
      "50%       51.943500\n",
      "75%       72.932700\n",
      "max       96.879400\n",
      "Name: Child, dtype: float64\n"
     ]
    },
    {
     "data": {
      "application/vnd.plotly.v1+json": {
       "config": {
        "plotlyServerURL": "https://plot.ly"
       },
       "data": [
        {
         "mode": "lines+markers",
         "name": "Child",
         "type": "scatter",
         "x": [
          1,
          2,
          3,
          4,
          5,
          6,
          7,
          8,
          9,
          10,
          11,
          12,
          13,
          14,
          15,
          16,
          17,
          18,
          19,
          20,
          21,
          22,
          23,
          24,
          25,
          26,
          27,
          28,
          29,
          30,
          31,
          32,
          33,
          34,
          35,
          36,
          37,
          38,
          39,
          40,
          41,
          42,
          43,
          44,
          45,
          46,
          47,
          48,
          49,
          50,
          51,
          52,
          53,
          54,
          55,
          56,
          57,
          58,
          59,
          60,
          61,
          62,
          63,
          64,
          65,
          66,
          67,
          68,
          69,
          70,
          71,
          72,
          73,
          74,
          75,
          76,
          77,
          78,
          79,
          80,
          81,
          82,
          83,
          84,
          85,
          86,
          87,
          88,
          89,
          90,
          91,
          92,
          93,
          94,
          95,
          96,
          97,
          98,
          99,
          100,
          101,
          102,
          103,
          104,
          105
         ],
         "y": {
          "bdata": "QmDl0CLLSUDByqFFthM6QFTjpZvEsFJAvw6cM6K0T0BNhA1Pr6RJQPJBz2bVp0RA2PD0SlnmVEA/xty1hPwSQPH0SlmGiD9AmpmZmZnpQ0Ch1jTvOBVGQMgHPZtVnw9AXrpJDAJDR0BqvHSTGKQnQDY8vVKWmUxAirDh6ZUqVkD7OnDOiHJQQNNNYhBYuStAkQ96NqvCVUDKVMGopG41QFYOLbKdx1dASL99HThn9D8LJCh+jBlOQMX+snvyQFdAZDvfT43LUUCDwMqhRRYnQAskKH6MeUpAvsEXJlPFQkBU46WbxPhJQIMvTKYKxkNAjgbwFkg4WECBBMWPMR9LQOm3rwPnTBFAsHJoke2cVkDD0ytlGQJOQKabxCCwkklAOdbFbTSoVEBX7C+7J19LQEmdgCbChg1ArfpcbcWeLUAxmSoYlfxVQLprCfmgY1ZA5IOezaq3TECrPldbsTtSQDSitDf40k5AkxgEVg6JUkCkcD0K16M3QGiz6nO1vU5A2IFzRpR6V0A6I0p7g5dBQMl2vp8arxpANjy9UpbpS0DNO07RkQxHQE+vlGWIi1RAxf6ye/KYQkCze/KwUPtGQBE2PL1S1kxAlIeFWtN8PkC8dJMYBJZXQHPXEvJBN0xAa5p3nKIj/T8TYcPTK4lUQOzAOSNK41NAIGPuWkI2U0CdgCbChmtSQFFrmnecmktAHhZqTfNmUEDHSzeJQXBQQD0K16NwPTxAz/dT46UbEkARNjy9Uh5IQH0/NV66CTVAxY8xdy3ZREBpb/CFybQzQA4tsp3v51FA5q4l5IO+MkDChqdXylIrQCJseHqlFFJAfPKwUGvaHkCXkA96NusTQCJseHqlJFZAqMZLN4mpQUAxmSoYlRxRQGEyVTAqEUVAHhZqTfPmV0BDHOviNspHQNV46SYxyDFAN4lBYOVwLUB/2T15WIgqQB04Z0RpLzZAfdCzWfV5RkDeAgmKH2tMQIZa07zjLFdAGCZTBaMSLkDA7J48LABWQJSHhVrTJFdAgQTFjzFzUED2l92Th5VLQH2utmJ/QUNAUI2XbhLnV0BMN4lBYL1MQFOWIY51MS9Al5APejazVUDKVMGopG43QFD8GHPX8jtA",
          "dtype": "f8"
         }
        }
       ],
       "layout": {
        "template": {
         "data": {
          "bar": [
           {
            "error_x": {
             "color": "#2a3f5f"
            },
            "error_y": {
             "color": "#2a3f5f"
            },
            "marker": {
             "line": {
              "color": "white",
              "width": 0.5
             },
             "pattern": {
              "fillmode": "overlay",
              "size": 10,
              "solidity": 0.2
             }
            },
            "type": "bar"
           }
          ],
          "barpolar": [
           {
            "marker": {
             "line": {
              "color": "white",
              "width": 0.5
             },
             "pattern": {
              "fillmode": "overlay",
              "size": 10,
              "solidity": 0.2
             }
            },
            "type": "barpolar"
           }
          ],
          "carpet": [
           {
            "aaxis": {
             "endlinecolor": "#2a3f5f",
             "gridcolor": "#C8D4E3",
             "linecolor": "#C8D4E3",
             "minorgridcolor": "#C8D4E3",
             "startlinecolor": "#2a3f5f"
            },
            "baxis": {
             "endlinecolor": "#2a3f5f",
             "gridcolor": "#C8D4E3",
             "linecolor": "#C8D4E3",
             "minorgridcolor": "#C8D4E3",
             "startlinecolor": "#2a3f5f"
            },
            "type": "carpet"
           }
          ],
          "choropleth": [
           {
            "colorbar": {
             "outlinewidth": 0,
             "ticks": ""
            },
            "type": "choropleth"
           }
          ],
          "contour": [
           {
            "colorbar": {
             "outlinewidth": 0,
             "ticks": ""
            },
            "colorscale": [
             [
              0,
              "#0d0887"
             ],
             [
              0.1111111111111111,
              "#46039f"
             ],
             [
              0.2222222222222222,
              "#7201a8"
             ],
             [
              0.3333333333333333,
              "#9c179e"
             ],
             [
              0.4444444444444444,
              "#bd3786"
             ],
             [
              0.5555555555555556,
              "#d8576b"
             ],
             [
              0.6666666666666666,
              "#ed7953"
             ],
             [
              0.7777777777777778,
              "#fb9f3a"
             ],
             [
              0.8888888888888888,
              "#fdca26"
             ],
             [
              1,
              "#f0f921"
             ]
            ],
            "type": "contour"
           }
          ],
          "contourcarpet": [
           {
            "colorbar": {
             "outlinewidth": 0,
             "ticks": ""
            },
            "type": "contourcarpet"
           }
          ],
          "heatmap": [
           {
            "colorbar": {
             "outlinewidth": 0,
             "ticks": ""
            },
            "colorscale": [
             [
              0,
              "#0d0887"
             ],
             [
              0.1111111111111111,
              "#46039f"
             ],
             [
              0.2222222222222222,
              "#7201a8"
             ],
             [
              0.3333333333333333,
              "#9c179e"
             ],
             [
              0.4444444444444444,
              "#bd3786"
             ],
             [
              0.5555555555555556,
              "#d8576b"
             ],
             [
              0.6666666666666666,
              "#ed7953"
             ],
             [
              0.7777777777777778,
              "#fb9f3a"
             ],
             [
              0.8888888888888888,
              "#fdca26"
             ],
             [
              1,
              "#f0f921"
             ]
            ],
            "type": "heatmap"
           }
          ],
          "histogram": [
           {
            "marker": {
             "pattern": {
              "fillmode": "overlay",
              "size": 10,
              "solidity": 0.2
             }
            },
            "type": "histogram"
           }
          ],
          "histogram2d": [
           {
            "colorbar": {
             "outlinewidth": 0,
             "ticks": ""
            },
            "colorscale": [
             [
              0,
              "#0d0887"
             ],
             [
              0.1111111111111111,
              "#46039f"
             ],
             [
              0.2222222222222222,
              "#7201a8"
             ],
             [
              0.3333333333333333,
              "#9c179e"
             ],
             [
              0.4444444444444444,
              "#bd3786"
             ],
             [
              0.5555555555555556,
              "#d8576b"
             ],
             [
              0.6666666666666666,
              "#ed7953"
             ],
             [
              0.7777777777777778,
              "#fb9f3a"
             ],
             [
              0.8888888888888888,
              "#fdca26"
             ],
             [
              1,
              "#f0f921"
             ]
            ],
            "type": "histogram2d"
           }
          ],
          "histogram2dcontour": [
           {
            "colorbar": {
             "outlinewidth": 0,
             "ticks": ""
            },
            "colorscale": [
             [
              0,
              "#0d0887"
             ],
             [
              0.1111111111111111,
              "#46039f"
             ],
             [
              0.2222222222222222,
              "#7201a8"
             ],
             [
              0.3333333333333333,
              "#9c179e"
             ],
             [
              0.4444444444444444,
              "#bd3786"
             ],
             [
              0.5555555555555556,
              "#d8576b"
             ],
             [
              0.6666666666666666,
              "#ed7953"
             ],
             [
              0.7777777777777778,
              "#fb9f3a"
             ],
             [
              0.8888888888888888,
              "#fdca26"
             ],
             [
              1,
              "#f0f921"
             ]
            ],
            "type": "histogram2dcontour"
           }
          ],
          "mesh3d": [
           {
            "colorbar": {
             "outlinewidth": 0,
             "ticks": ""
            },
            "type": "mesh3d"
           }
          ],
          "parcoords": [
           {
            "line": {
             "colorbar": {
              "outlinewidth": 0,
              "ticks": ""
             }
            },
            "type": "parcoords"
           }
          ],
          "pie": [
           {
            "automargin": true,
            "type": "pie"
           }
          ],
          "scatter": [
           {
            "fillpattern": {
             "fillmode": "overlay",
             "size": 10,
             "solidity": 0.2
            },
            "type": "scatter"
           }
          ],
          "scatter3d": [
           {
            "line": {
             "colorbar": {
              "outlinewidth": 0,
              "ticks": ""
             }
            },
            "marker": {
             "colorbar": {
              "outlinewidth": 0,
              "ticks": ""
             }
            },
            "type": "scatter3d"
           }
          ],
          "scattercarpet": [
           {
            "marker": {
             "colorbar": {
              "outlinewidth": 0,
              "ticks": ""
             }
            },
            "type": "scattercarpet"
           }
          ],
          "scattergeo": [
           {
            "marker": {
             "colorbar": {
              "outlinewidth": 0,
              "ticks": ""
             }
            },
            "type": "scattergeo"
           }
          ],
          "scattergl": [
           {
            "marker": {
             "colorbar": {
              "outlinewidth": 0,
              "ticks": ""
             }
            },
            "type": "scattergl"
           }
          ],
          "scattermap": [
           {
            "marker": {
             "colorbar": {
              "outlinewidth": 0,
              "ticks": ""
             }
            },
            "type": "scattermap"
           }
          ],
          "scattermapbox": [
           {
            "marker": {
             "colorbar": {
              "outlinewidth": 0,
              "ticks": ""
             }
            },
            "type": "scattermapbox"
           }
          ],
          "scatterpolar": [
           {
            "marker": {
             "colorbar": {
              "outlinewidth": 0,
              "ticks": ""
             }
            },
            "type": "scatterpolar"
           }
          ],
          "scatterpolargl": [
           {
            "marker": {
             "colorbar": {
              "outlinewidth": 0,
              "ticks": ""
             }
            },
            "type": "scatterpolargl"
           }
          ],
          "scatterternary": [
           {
            "marker": {
             "colorbar": {
              "outlinewidth": 0,
              "ticks": ""
             }
            },
            "type": "scatterternary"
           }
          ],
          "surface": [
           {
            "colorbar": {
             "outlinewidth": 0,
             "ticks": ""
            },
            "colorscale": [
             [
              0,
              "#0d0887"
             ],
             [
              0.1111111111111111,
              "#46039f"
             ],
             [
              0.2222222222222222,
              "#7201a8"
             ],
             [
              0.3333333333333333,
              "#9c179e"
             ],
             [
              0.4444444444444444,
              "#bd3786"
             ],
             [
              0.5555555555555556,
              "#d8576b"
             ],
             [
              0.6666666666666666,
              "#ed7953"
             ],
             [
              0.7777777777777778,
              "#fb9f3a"
             ],
             [
              0.8888888888888888,
              "#fdca26"
             ],
             [
              1,
              "#f0f921"
             ]
            ],
            "type": "surface"
           }
          ],
          "table": [
           {
            "cells": {
             "fill": {
              "color": "#EBF0F8"
             },
             "line": {
              "color": "white"
             }
            },
            "header": {
             "fill": {
              "color": "#C8D4E3"
             },
             "line": {
              "color": "white"
             }
            },
            "type": "table"
           }
          ]
         },
         "layout": {
          "annotationdefaults": {
           "arrowcolor": "#2a3f5f",
           "arrowhead": 0,
           "arrowwidth": 1
          },
          "autotypenumbers": "strict",
          "coloraxis": {
           "colorbar": {
            "outlinewidth": 0,
            "ticks": ""
           }
          },
          "colorscale": {
           "diverging": [
            [
             0,
             "#8e0152"
            ],
            [
             0.1,
             "#c51b7d"
            ],
            [
             0.2,
             "#de77ae"
            ],
            [
             0.3,
             "#f1b6da"
            ],
            [
             0.4,
             "#fde0ef"
            ],
            [
             0.5,
             "#f7f7f7"
            ],
            [
             0.6,
             "#e6f5d0"
            ],
            [
             0.7,
             "#b8e186"
            ],
            [
             0.8,
             "#7fbc41"
            ],
            [
             0.9,
             "#4d9221"
            ],
            [
             1,
             "#276419"
            ]
           ],
           "sequential": [
            [
             0,
             "#0d0887"
            ],
            [
             0.1111111111111111,
             "#46039f"
            ],
            [
             0.2222222222222222,
             "#7201a8"
            ],
            [
             0.3333333333333333,
             "#9c179e"
            ],
            [
             0.4444444444444444,
             "#bd3786"
            ],
            [
             0.5555555555555556,
             "#d8576b"
            ],
            [
             0.6666666666666666,
             "#ed7953"
            ],
            [
             0.7777777777777778,
             "#fb9f3a"
            ],
            [
             0.8888888888888888,
             "#fdca26"
            ],
            [
             1,
             "#f0f921"
            ]
           ],
           "sequentialminus": [
            [
             0,
             "#0d0887"
            ],
            [
             0.1111111111111111,
             "#46039f"
            ],
            [
             0.2222222222222222,
             "#7201a8"
            ],
            [
             0.3333333333333333,
             "#9c179e"
            ],
            [
             0.4444444444444444,
             "#bd3786"
            ],
            [
             0.5555555555555556,
             "#d8576b"
            ],
            [
             0.6666666666666666,
             "#ed7953"
            ],
            [
             0.7777777777777778,
             "#fb9f3a"
            ],
            [
             0.8888888888888888,
             "#fdca26"
            ],
            [
             1,
             "#f0f921"
            ]
           ]
          },
          "colorway": [
           "#636efa",
           "#EF553B",
           "#00cc96",
           "#ab63fa",
           "#FFA15A",
           "#19d3f3",
           "#FF6692",
           "#B6E880",
           "#FF97FF",
           "#FECB52"
          ],
          "font": {
           "color": "#2a3f5f"
          },
          "geo": {
           "bgcolor": "white",
           "lakecolor": "white",
           "landcolor": "white",
           "showlakes": true,
           "showland": true,
           "subunitcolor": "#C8D4E3"
          },
          "hoverlabel": {
           "align": "left"
          },
          "hovermode": "closest",
          "mapbox": {
           "style": "light"
          },
          "paper_bgcolor": "white",
          "plot_bgcolor": "white",
          "polar": {
           "angularaxis": {
            "gridcolor": "#EBF0F8",
            "linecolor": "#EBF0F8",
            "ticks": ""
           },
           "bgcolor": "white",
           "radialaxis": {
            "gridcolor": "#EBF0F8",
            "linecolor": "#EBF0F8",
            "ticks": ""
           }
          },
          "scene": {
           "xaxis": {
            "backgroundcolor": "white",
            "gridcolor": "#DFE8F3",
            "gridwidth": 2,
            "linecolor": "#EBF0F8",
            "showbackground": true,
            "ticks": "",
            "zerolinecolor": "#EBF0F8"
           },
           "yaxis": {
            "backgroundcolor": "white",
            "gridcolor": "#DFE8F3",
            "gridwidth": 2,
            "linecolor": "#EBF0F8",
            "showbackground": true,
            "ticks": "",
            "zerolinecolor": "#EBF0F8"
           },
           "zaxis": {
            "backgroundcolor": "white",
            "gridcolor": "#DFE8F3",
            "gridwidth": 2,
            "linecolor": "#EBF0F8",
            "showbackground": true,
            "ticks": "",
            "zerolinecolor": "#EBF0F8"
           }
          },
          "shapedefaults": {
           "line": {
            "color": "#2a3f5f"
           }
          },
          "ternary": {
           "aaxis": {
            "gridcolor": "#DFE8F3",
            "linecolor": "#A2B1C6",
            "ticks": ""
           },
           "baxis": {
            "gridcolor": "#DFE8F3",
            "linecolor": "#A2B1C6",
            "ticks": ""
           },
           "bgcolor": "white",
           "caxis": {
            "gridcolor": "#DFE8F3",
            "linecolor": "#A2B1C6",
            "ticks": ""
           }
          },
          "title": {
           "x": 0.05
          },
          "xaxis": {
           "automargin": true,
           "gridcolor": "#EBF0F8",
           "linecolor": "#EBF0F8",
           "ticks": "",
           "title": {
            "standoff": 15
           },
           "zerolinecolor": "#EBF0F8",
           "zerolinewidth": 2
          },
          "yaxis": {
           "automargin": true,
           "gridcolor": "#EBF0F8",
           "linecolor": "#EBF0F8",
           "ticks": "",
           "title": {
            "standoff": 15
           },
           "zerolinecolor": "#EBF0F8",
           "zerolinewidth": 2
          }
         }
        },
        "title": {
         "text": "Incremental Profits for Child in Area4"
        },
        "xaxis": {
         "title": {
          "text": "Bicycle Number"
         }
        },
        "yaxis": {
         "title": {
          "text": "Incremental Profit"
         }
        }
       }
      }
     },
     "metadata": {},
     "output_type": "display_data"
    },
    {
     "name": "stdout",
     "output_type": "stream",
     "text": [
      "\n",
      "--- Descriptive Analysis for Area5 ---\n",
      "\n",
      "Category: Child in Area5\n",
      "count    49.000000\n",
      "mean      0.478133\n",
      "std       0.314278\n",
      "min       0.004700\n",
      "25%       0.191700\n",
      "50%       0.468400\n",
      "75%       0.760700\n",
      "max       0.992900\n",
      "Name: Child, dtype: float64\n"
     ]
    },
    {
     "data": {
      "application/vnd.plotly.v1+json": {
       "config": {
        "plotlyServerURL": "https://plot.ly"
       },
       "data": [
        {
         "mode": "lines+markers",
         "name": "Child",
         "type": "scatter",
         "x": [
          1,
          2,
          3,
          4,
          5,
          6,
          7,
          8,
          9,
          10,
          11,
          12,
          13,
          14,
          15,
          16,
          17,
          18,
          19,
          20,
          21,
          22,
          23,
          24,
          25,
          26,
          27,
          28,
          29,
          30,
          31,
          32,
          33,
          34,
          35,
          36,
          37,
          38,
          39,
          40,
          41,
          42,
          43,
          44,
          45,
          46,
          47,
          48,
          49
         ],
         "y": {
          "bdata": "EOm3rwPn4j9VwaikTkBzP9Sa5h2n6OA/8fRKWYY42j/M7snDQq25P0tZhjjWxe8/xEKtad5x5D/pJjEIrBzeP5f/kH77Otw/oWez6nO11T8noImw4enrP2aIY13cRuc/dy0hH/Rstj8ldQKaCBuuP2FUUiegicg/7uvAOSNKwz8wKqkT0ETQP0i/fR04Z9A/B84ZUdob4j8sZRniWBfvP34dOGdEadc/Dr4wmSoYtT+srdhfdk++P7TIdr6fGus/I0p7gy9Mtj/f4AuTqYKhP799HThnRME/gSbChqdX6D+z6nO1FfvDP5vmHafoSM4/PQrXo3A9yj96pSxDHOvuPysYldQJaOo/ZRniWBe36T/FjzF3LSHnP3uDL0ymCuo/vsEXJlMF7z98YTJVMCrRP0ku/yH99t0/rIvbaABv7T/ufD81XrrtPx+F61G4HuE/lPYGX5hM6T/RkVz+Q/rdPxNhw9MrZec/rrZif9k9yT/4U+Olm8TmP/T91HjpJsE/ayv2l92T3z8=",
          "dtype": "f8"
         }
        }
       ],
       "layout": {
        "template": {
         "data": {
          "bar": [
           {
            "error_x": {
             "color": "#2a3f5f"
            },
            "error_y": {
             "color": "#2a3f5f"
            },
            "marker": {
             "line": {
              "color": "white",
              "width": 0.5
             },
             "pattern": {
              "fillmode": "overlay",
              "size": 10,
              "solidity": 0.2
             }
            },
            "type": "bar"
           }
          ],
          "barpolar": [
           {
            "marker": {
             "line": {
              "color": "white",
              "width": 0.5
             },
             "pattern": {
              "fillmode": "overlay",
              "size": 10,
              "solidity": 0.2
             }
            },
            "type": "barpolar"
           }
          ],
          "carpet": [
           {
            "aaxis": {
             "endlinecolor": "#2a3f5f",
             "gridcolor": "#C8D4E3",
             "linecolor": "#C8D4E3",
             "minorgridcolor": "#C8D4E3",
             "startlinecolor": "#2a3f5f"
            },
            "baxis": {
             "endlinecolor": "#2a3f5f",
             "gridcolor": "#C8D4E3",
             "linecolor": "#C8D4E3",
             "minorgridcolor": "#C8D4E3",
             "startlinecolor": "#2a3f5f"
            },
            "type": "carpet"
           }
          ],
          "choropleth": [
           {
            "colorbar": {
             "outlinewidth": 0,
             "ticks": ""
            },
            "type": "choropleth"
           }
          ],
          "contour": [
           {
            "colorbar": {
             "outlinewidth": 0,
             "ticks": ""
            },
            "colorscale": [
             [
              0,
              "#0d0887"
             ],
             [
              0.1111111111111111,
              "#46039f"
             ],
             [
              0.2222222222222222,
              "#7201a8"
             ],
             [
              0.3333333333333333,
              "#9c179e"
             ],
             [
              0.4444444444444444,
              "#bd3786"
             ],
             [
              0.5555555555555556,
              "#d8576b"
             ],
             [
              0.6666666666666666,
              "#ed7953"
             ],
             [
              0.7777777777777778,
              "#fb9f3a"
             ],
             [
              0.8888888888888888,
              "#fdca26"
             ],
             [
              1,
              "#f0f921"
             ]
            ],
            "type": "contour"
           }
          ],
          "contourcarpet": [
           {
            "colorbar": {
             "outlinewidth": 0,
             "ticks": ""
            },
            "type": "contourcarpet"
           }
          ],
          "heatmap": [
           {
            "colorbar": {
             "outlinewidth": 0,
             "ticks": ""
            },
            "colorscale": [
             [
              0,
              "#0d0887"
             ],
             [
              0.1111111111111111,
              "#46039f"
             ],
             [
              0.2222222222222222,
              "#7201a8"
             ],
             [
              0.3333333333333333,
              "#9c179e"
             ],
             [
              0.4444444444444444,
              "#bd3786"
             ],
             [
              0.5555555555555556,
              "#d8576b"
             ],
             [
              0.6666666666666666,
              "#ed7953"
             ],
             [
              0.7777777777777778,
              "#fb9f3a"
             ],
             [
              0.8888888888888888,
              "#fdca26"
             ],
             [
              1,
              "#f0f921"
             ]
            ],
            "type": "heatmap"
           }
          ],
          "histogram": [
           {
            "marker": {
             "pattern": {
              "fillmode": "overlay",
              "size": 10,
              "solidity": 0.2
             }
            },
            "type": "histogram"
           }
          ],
          "histogram2d": [
           {
            "colorbar": {
             "outlinewidth": 0,
             "ticks": ""
            },
            "colorscale": [
             [
              0,
              "#0d0887"
             ],
             [
              0.1111111111111111,
              "#46039f"
             ],
             [
              0.2222222222222222,
              "#7201a8"
             ],
             [
              0.3333333333333333,
              "#9c179e"
             ],
             [
              0.4444444444444444,
              "#bd3786"
             ],
             [
              0.5555555555555556,
              "#d8576b"
             ],
             [
              0.6666666666666666,
              "#ed7953"
             ],
             [
              0.7777777777777778,
              "#fb9f3a"
             ],
             [
              0.8888888888888888,
              "#fdca26"
             ],
             [
              1,
              "#f0f921"
             ]
            ],
            "type": "histogram2d"
           }
          ],
          "histogram2dcontour": [
           {
            "colorbar": {
             "outlinewidth": 0,
             "ticks": ""
            },
            "colorscale": [
             [
              0,
              "#0d0887"
             ],
             [
              0.1111111111111111,
              "#46039f"
             ],
             [
              0.2222222222222222,
              "#7201a8"
             ],
             [
              0.3333333333333333,
              "#9c179e"
             ],
             [
              0.4444444444444444,
              "#bd3786"
             ],
             [
              0.5555555555555556,
              "#d8576b"
             ],
             [
              0.6666666666666666,
              "#ed7953"
             ],
             [
              0.7777777777777778,
              "#fb9f3a"
             ],
             [
              0.8888888888888888,
              "#fdca26"
             ],
             [
              1,
              "#f0f921"
             ]
            ],
            "type": "histogram2dcontour"
           }
          ],
          "mesh3d": [
           {
            "colorbar": {
             "outlinewidth": 0,
             "ticks": ""
            },
            "type": "mesh3d"
           }
          ],
          "parcoords": [
           {
            "line": {
             "colorbar": {
              "outlinewidth": 0,
              "ticks": ""
             }
            },
            "type": "parcoords"
           }
          ],
          "pie": [
           {
            "automargin": true,
            "type": "pie"
           }
          ],
          "scatter": [
           {
            "fillpattern": {
             "fillmode": "overlay",
             "size": 10,
             "solidity": 0.2
            },
            "type": "scatter"
           }
          ],
          "scatter3d": [
           {
            "line": {
             "colorbar": {
              "outlinewidth": 0,
              "ticks": ""
             }
            },
            "marker": {
             "colorbar": {
              "outlinewidth": 0,
              "ticks": ""
             }
            },
            "type": "scatter3d"
           }
          ],
          "scattercarpet": [
           {
            "marker": {
             "colorbar": {
              "outlinewidth": 0,
              "ticks": ""
             }
            },
            "type": "scattercarpet"
           }
          ],
          "scattergeo": [
           {
            "marker": {
             "colorbar": {
              "outlinewidth": 0,
              "ticks": ""
             }
            },
            "type": "scattergeo"
           }
          ],
          "scattergl": [
           {
            "marker": {
             "colorbar": {
              "outlinewidth": 0,
              "ticks": ""
             }
            },
            "type": "scattergl"
           }
          ],
          "scattermap": [
           {
            "marker": {
             "colorbar": {
              "outlinewidth": 0,
              "ticks": ""
             }
            },
            "type": "scattermap"
           }
          ],
          "scattermapbox": [
           {
            "marker": {
             "colorbar": {
              "outlinewidth": 0,
              "ticks": ""
             }
            },
            "type": "scattermapbox"
           }
          ],
          "scatterpolar": [
           {
            "marker": {
             "colorbar": {
              "outlinewidth": 0,
              "ticks": ""
             }
            },
            "type": "scatterpolar"
           }
          ],
          "scatterpolargl": [
           {
            "marker": {
             "colorbar": {
              "outlinewidth": 0,
              "ticks": ""
             }
            },
            "type": "scatterpolargl"
           }
          ],
          "scatterternary": [
           {
            "marker": {
             "colorbar": {
              "outlinewidth": 0,
              "ticks": ""
             }
            },
            "type": "scatterternary"
           }
          ],
          "surface": [
           {
            "colorbar": {
             "outlinewidth": 0,
             "ticks": ""
            },
            "colorscale": [
             [
              0,
              "#0d0887"
             ],
             [
              0.1111111111111111,
              "#46039f"
             ],
             [
              0.2222222222222222,
              "#7201a8"
             ],
             [
              0.3333333333333333,
              "#9c179e"
             ],
             [
              0.4444444444444444,
              "#bd3786"
             ],
             [
              0.5555555555555556,
              "#d8576b"
             ],
             [
              0.6666666666666666,
              "#ed7953"
             ],
             [
              0.7777777777777778,
              "#fb9f3a"
             ],
             [
              0.8888888888888888,
              "#fdca26"
             ],
             [
              1,
              "#f0f921"
             ]
            ],
            "type": "surface"
           }
          ],
          "table": [
           {
            "cells": {
             "fill": {
              "color": "#EBF0F8"
             },
             "line": {
              "color": "white"
             }
            },
            "header": {
             "fill": {
              "color": "#C8D4E3"
             },
             "line": {
              "color": "white"
             }
            },
            "type": "table"
           }
          ]
         },
         "layout": {
          "annotationdefaults": {
           "arrowcolor": "#2a3f5f",
           "arrowhead": 0,
           "arrowwidth": 1
          },
          "autotypenumbers": "strict",
          "coloraxis": {
           "colorbar": {
            "outlinewidth": 0,
            "ticks": ""
           }
          },
          "colorscale": {
           "diverging": [
            [
             0,
             "#8e0152"
            ],
            [
             0.1,
             "#c51b7d"
            ],
            [
             0.2,
             "#de77ae"
            ],
            [
             0.3,
             "#f1b6da"
            ],
            [
             0.4,
             "#fde0ef"
            ],
            [
             0.5,
             "#f7f7f7"
            ],
            [
             0.6,
             "#e6f5d0"
            ],
            [
             0.7,
             "#b8e186"
            ],
            [
             0.8,
             "#7fbc41"
            ],
            [
             0.9,
             "#4d9221"
            ],
            [
             1,
             "#276419"
            ]
           ],
           "sequential": [
            [
             0,
             "#0d0887"
            ],
            [
             0.1111111111111111,
             "#46039f"
            ],
            [
             0.2222222222222222,
             "#7201a8"
            ],
            [
             0.3333333333333333,
             "#9c179e"
            ],
            [
             0.4444444444444444,
             "#bd3786"
            ],
            [
             0.5555555555555556,
             "#d8576b"
            ],
            [
             0.6666666666666666,
             "#ed7953"
            ],
            [
             0.7777777777777778,
             "#fb9f3a"
            ],
            [
             0.8888888888888888,
             "#fdca26"
            ],
            [
             1,
             "#f0f921"
            ]
           ],
           "sequentialminus": [
            [
             0,
             "#0d0887"
            ],
            [
             0.1111111111111111,
             "#46039f"
            ],
            [
             0.2222222222222222,
             "#7201a8"
            ],
            [
             0.3333333333333333,
             "#9c179e"
            ],
            [
             0.4444444444444444,
             "#bd3786"
            ],
            [
             0.5555555555555556,
             "#d8576b"
            ],
            [
             0.6666666666666666,
             "#ed7953"
            ],
            [
             0.7777777777777778,
             "#fb9f3a"
            ],
            [
             0.8888888888888888,
             "#fdca26"
            ],
            [
             1,
             "#f0f921"
            ]
           ]
          },
          "colorway": [
           "#636efa",
           "#EF553B",
           "#00cc96",
           "#ab63fa",
           "#FFA15A",
           "#19d3f3",
           "#FF6692",
           "#B6E880",
           "#FF97FF",
           "#FECB52"
          ],
          "font": {
           "color": "#2a3f5f"
          },
          "geo": {
           "bgcolor": "white",
           "lakecolor": "white",
           "landcolor": "white",
           "showlakes": true,
           "showland": true,
           "subunitcolor": "#C8D4E3"
          },
          "hoverlabel": {
           "align": "left"
          },
          "hovermode": "closest",
          "mapbox": {
           "style": "light"
          },
          "paper_bgcolor": "white",
          "plot_bgcolor": "white",
          "polar": {
           "angularaxis": {
            "gridcolor": "#EBF0F8",
            "linecolor": "#EBF0F8",
            "ticks": ""
           },
           "bgcolor": "white",
           "radialaxis": {
            "gridcolor": "#EBF0F8",
            "linecolor": "#EBF0F8",
            "ticks": ""
           }
          },
          "scene": {
           "xaxis": {
            "backgroundcolor": "white",
            "gridcolor": "#DFE8F3",
            "gridwidth": 2,
            "linecolor": "#EBF0F8",
            "showbackground": true,
            "ticks": "",
            "zerolinecolor": "#EBF0F8"
           },
           "yaxis": {
            "backgroundcolor": "white",
            "gridcolor": "#DFE8F3",
            "gridwidth": 2,
            "linecolor": "#EBF0F8",
            "showbackground": true,
            "ticks": "",
            "zerolinecolor": "#EBF0F8"
           },
           "zaxis": {
            "backgroundcolor": "white",
            "gridcolor": "#DFE8F3",
            "gridwidth": 2,
            "linecolor": "#EBF0F8",
            "showbackground": true,
            "ticks": "",
            "zerolinecolor": "#EBF0F8"
           }
          },
          "shapedefaults": {
           "line": {
            "color": "#2a3f5f"
           }
          },
          "ternary": {
           "aaxis": {
            "gridcolor": "#DFE8F3",
            "linecolor": "#A2B1C6",
            "ticks": ""
           },
           "baxis": {
            "gridcolor": "#DFE8F3",
            "linecolor": "#A2B1C6",
            "ticks": ""
           },
           "bgcolor": "white",
           "caxis": {
            "gridcolor": "#DFE8F3",
            "linecolor": "#A2B1C6",
            "ticks": ""
           }
          },
          "title": {
           "x": 0.05
          },
          "xaxis": {
           "automargin": true,
           "gridcolor": "#EBF0F8",
           "linecolor": "#EBF0F8",
           "ticks": "",
           "title": {
            "standoff": 15
           },
           "zerolinecolor": "#EBF0F8",
           "zerolinewidth": 2
          },
          "yaxis": {
           "automargin": true,
           "gridcolor": "#EBF0F8",
           "linecolor": "#EBF0F8",
           "ticks": "",
           "title": {
            "standoff": 15
           },
           "zerolinecolor": "#EBF0F8",
           "zerolinewidth": 2
          }
         }
        },
        "title": {
         "text": "Incremental Profits for Child in Area5"
        },
        "xaxis": {
         "title": {
          "text": "Bicycle Number"
         }
        },
        "yaxis": {
         "title": {
          "text": "Incremental Profit"
         }
        }
       }
      }
     },
     "metadata": {},
     "output_type": "display_data"
    },
    {
     "name": "stdout",
     "output_type": "stream",
     "text": [
      "\n",
      "--- Descriptive Analysis for Area6 ---\n",
      "\n",
      "Category: Child in Area6\n",
      "count    80.000000\n",
      "mean     43.892356\n",
      "std      24.218039\n",
      "min       0.956400\n",
      "25%      25.106575\n",
      "50%      42.158900\n",
      "75%      66.811350\n",
      "max      83.887800\n",
      "Name: Child, dtype: float64\n"
     ]
    },
    {
     "data": {
      "application/vnd.plotly.v1+json": {
       "config": {
        "plotlyServerURL": "https://plot.ly"
       },
       "data": [
        {
         "mode": "lines+markers",
         "name": "Child",
         "type": "scatter",
         "x": [
          1,
          2,
          3,
          4,
          5,
          6,
          7,
          8,
          9,
          10,
          11,
          12,
          13,
          14,
          15,
          16,
          17,
          18,
          19,
          20,
          21,
          22,
          23,
          24,
          25,
          26,
          27,
          28,
          29,
          30,
          31,
          32,
          33,
          34,
          35,
          36,
          37,
          38,
          39,
          40,
          41,
          42,
          43,
          44,
          45,
          46,
          47,
          48,
          49,
          50,
          51,
          52,
          53,
          54,
          55,
          56,
          57,
          58,
          59,
          60,
          61,
          62,
          63,
          64,
          65,
          66,
          67,
          68,
          69,
          70,
          71,
          72,
          73,
          74,
          75,
          76,
          77,
          78,
          79,
          80
         ],
         "y": {
          "bdata": "845TdCSXCkDP91PjpXsmQCgPC7WmMUVAhetRuB51TUAJG55eKZNAQKqCUUmdBFNAgZVDi2zTUkBSJ6CJsHEyQGfV52orRlJAhJ7Nqs8FNkDSAN4CCVo5QGKh1jTvmFFADAIrhxZRSkB4nKIjuYRMQBDpt68DF1FAdEaU9gb3REBXW7G/7C5MQOJYF7fR+FRAa5p3nKKvUUAQ6bevA89PQD81XrpJ5E9ABhIUP8aUQ0DsL7snD3tKQGDl0CLbrVBAlPYGX5i8M0Dtnjws1EJPQB4Wak3zzhFAklz+Q/ptMEBeukkMAps+QPVKWYY4JjpA8BZIUPxoSUAbL90kBqFTQGUZ4lgXtzZAkDF3LSGfLEAep+hILudSQO2ePCzUmu4/xty1hHy4QkCkcD0K16tNQOJYF7fR4CxANjy9Upa5VEDEsS5uo1E6QI/k8h/STy1A7lpCPuj5IEC7uI0G8I5QQAfOGVHaG0RAF0hQ/BiTQ0BR2ht8YdI6QBx8YTJVYDhAOwFNhA2/UkC6awn5oC9RQBE2PL1S/kdAOdbFbTRQUkATYcPTKxFSQET67evAJVFA3SQGgZWzN0CcoiO5/Gc7QK62Yn/ZbUBA4umVsgxpVEB/arx0k3hAQJqZmZmZWTlA9dvXgXNmMkApyxDHuphGQMx/SL99HTtA+Q/pt697RED35GGh1phRQHRGlPYG3xVA9dvXgXM2O0Dtnjws1B5RQG/whclUwfE/zO7Jw0INT0BVwaikTgBHQIGVQ4tsJ0BA6Gor9pdFSkAAkX77OkBOQB4Wak3zilNAEce6uI2GDUDOGVHaGzROQO7rwDkjxlBAjnVxGw2gJEA0gLdAggpBQA==",
          "dtype": "f8"
         }
        }
       ],
       "layout": {
        "template": {
         "data": {
          "bar": [
           {
            "error_x": {
             "color": "#2a3f5f"
            },
            "error_y": {
             "color": "#2a3f5f"
            },
            "marker": {
             "line": {
              "color": "white",
              "width": 0.5
             },
             "pattern": {
              "fillmode": "overlay",
              "size": 10,
              "solidity": 0.2
             }
            },
            "type": "bar"
           }
          ],
          "barpolar": [
           {
            "marker": {
             "line": {
              "color": "white",
              "width": 0.5
             },
             "pattern": {
              "fillmode": "overlay",
              "size": 10,
              "solidity": 0.2
             }
            },
            "type": "barpolar"
           }
          ],
          "carpet": [
           {
            "aaxis": {
             "endlinecolor": "#2a3f5f",
             "gridcolor": "#C8D4E3",
             "linecolor": "#C8D4E3",
             "minorgridcolor": "#C8D4E3",
             "startlinecolor": "#2a3f5f"
            },
            "baxis": {
             "endlinecolor": "#2a3f5f",
             "gridcolor": "#C8D4E3",
             "linecolor": "#C8D4E3",
             "minorgridcolor": "#C8D4E3",
             "startlinecolor": "#2a3f5f"
            },
            "type": "carpet"
           }
          ],
          "choropleth": [
           {
            "colorbar": {
             "outlinewidth": 0,
             "ticks": ""
            },
            "type": "choropleth"
           }
          ],
          "contour": [
           {
            "colorbar": {
             "outlinewidth": 0,
             "ticks": ""
            },
            "colorscale": [
             [
              0,
              "#0d0887"
             ],
             [
              0.1111111111111111,
              "#46039f"
             ],
             [
              0.2222222222222222,
              "#7201a8"
             ],
             [
              0.3333333333333333,
              "#9c179e"
             ],
             [
              0.4444444444444444,
              "#bd3786"
             ],
             [
              0.5555555555555556,
              "#d8576b"
             ],
             [
              0.6666666666666666,
              "#ed7953"
             ],
             [
              0.7777777777777778,
              "#fb9f3a"
             ],
             [
              0.8888888888888888,
              "#fdca26"
             ],
             [
              1,
              "#f0f921"
             ]
            ],
            "type": "contour"
           }
          ],
          "contourcarpet": [
           {
            "colorbar": {
             "outlinewidth": 0,
             "ticks": ""
            },
            "type": "contourcarpet"
           }
          ],
          "heatmap": [
           {
            "colorbar": {
             "outlinewidth": 0,
             "ticks": ""
            },
            "colorscale": [
             [
              0,
              "#0d0887"
             ],
             [
              0.1111111111111111,
              "#46039f"
             ],
             [
              0.2222222222222222,
              "#7201a8"
             ],
             [
              0.3333333333333333,
              "#9c179e"
             ],
             [
              0.4444444444444444,
              "#bd3786"
             ],
             [
              0.5555555555555556,
              "#d8576b"
             ],
             [
              0.6666666666666666,
              "#ed7953"
             ],
             [
              0.7777777777777778,
              "#fb9f3a"
             ],
             [
              0.8888888888888888,
              "#fdca26"
             ],
             [
              1,
              "#f0f921"
             ]
            ],
            "type": "heatmap"
           }
          ],
          "histogram": [
           {
            "marker": {
             "pattern": {
              "fillmode": "overlay",
              "size": 10,
              "solidity": 0.2
             }
            },
            "type": "histogram"
           }
          ],
          "histogram2d": [
           {
            "colorbar": {
             "outlinewidth": 0,
             "ticks": ""
            },
            "colorscale": [
             [
              0,
              "#0d0887"
             ],
             [
              0.1111111111111111,
              "#46039f"
             ],
             [
              0.2222222222222222,
              "#7201a8"
             ],
             [
              0.3333333333333333,
              "#9c179e"
             ],
             [
              0.4444444444444444,
              "#bd3786"
             ],
             [
              0.5555555555555556,
              "#d8576b"
             ],
             [
              0.6666666666666666,
              "#ed7953"
             ],
             [
              0.7777777777777778,
              "#fb9f3a"
             ],
             [
              0.8888888888888888,
              "#fdca26"
             ],
             [
              1,
              "#f0f921"
             ]
            ],
            "type": "histogram2d"
           }
          ],
          "histogram2dcontour": [
           {
            "colorbar": {
             "outlinewidth": 0,
             "ticks": ""
            },
            "colorscale": [
             [
              0,
              "#0d0887"
             ],
             [
              0.1111111111111111,
              "#46039f"
             ],
             [
              0.2222222222222222,
              "#7201a8"
             ],
             [
              0.3333333333333333,
              "#9c179e"
             ],
             [
              0.4444444444444444,
              "#bd3786"
             ],
             [
              0.5555555555555556,
              "#d8576b"
             ],
             [
              0.6666666666666666,
              "#ed7953"
             ],
             [
              0.7777777777777778,
              "#fb9f3a"
             ],
             [
              0.8888888888888888,
              "#fdca26"
             ],
             [
              1,
              "#f0f921"
             ]
            ],
            "type": "histogram2dcontour"
           }
          ],
          "mesh3d": [
           {
            "colorbar": {
             "outlinewidth": 0,
             "ticks": ""
            },
            "type": "mesh3d"
           }
          ],
          "parcoords": [
           {
            "line": {
             "colorbar": {
              "outlinewidth": 0,
              "ticks": ""
             }
            },
            "type": "parcoords"
           }
          ],
          "pie": [
           {
            "automargin": true,
            "type": "pie"
           }
          ],
          "scatter": [
           {
            "fillpattern": {
             "fillmode": "overlay",
             "size": 10,
             "solidity": 0.2
            },
            "type": "scatter"
           }
          ],
          "scatter3d": [
           {
            "line": {
             "colorbar": {
              "outlinewidth": 0,
              "ticks": ""
             }
            },
            "marker": {
             "colorbar": {
              "outlinewidth": 0,
              "ticks": ""
             }
            },
            "type": "scatter3d"
           }
          ],
          "scattercarpet": [
           {
            "marker": {
             "colorbar": {
              "outlinewidth": 0,
              "ticks": ""
             }
            },
            "type": "scattercarpet"
           }
          ],
          "scattergeo": [
           {
            "marker": {
             "colorbar": {
              "outlinewidth": 0,
              "ticks": ""
             }
            },
            "type": "scattergeo"
           }
          ],
          "scattergl": [
           {
            "marker": {
             "colorbar": {
              "outlinewidth": 0,
              "ticks": ""
             }
            },
            "type": "scattergl"
           }
          ],
          "scattermap": [
           {
            "marker": {
             "colorbar": {
              "outlinewidth": 0,
              "ticks": ""
             }
            },
            "type": "scattermap"
           }
          ],
          "scattermapbox": [
           {
            "marker": {
             "colorbar": {
              "outlinewidth": 0,
              "ticks": ""
             }
            },
            "type": "scattermapbox"
           }
          ],
          "scatterpolar": [
           {
            "marker": {
             "colorbar": {
              "outlinewidth": 0,
              "ticks": ""
             }
            },
            "type": "scatterpolar"
           }
          ],
          "scatterpolargl": [
           {
            "marker": {
             "colorbar": {
              "outlinewidth": 0,
              "ticks": ""
             }
            },
            "type": "scatterpolargl"
           }
          ],
          "scatterternary": [
           {
            "marker": {
             "colorbar": {
              "outlinewidth": 0,
              "ticks": ""
             }
            },
            "type": "scatterternary"
           }
          ],
          "surface": [
           {
            "colorbar": {
             "outlinewidth": 0,
             "ticks": ""
            },
            "colorscale": [
             [
              0,
              "#0d0887"
             ],
             [
              0.1111111111111111,
              "#46039f"
             ],
             [
              0.2222222222222222,
              "#7201a8"
             ],
             [
              0.3333333333333333,
              "#9c179e"
             ],
             [
              0.4444444444444444,
              "#bd3786"
             ],
             [
              0.5555555555555556,
              "#d8576b"
             ],
             [
              0.6666666666666666,
              "#ed7953"
             ],
             [
              0.7777777777777778,
              "#fb9f3a"
             ],
             [
              0.8888888888888888,
              "#fdca26"
             ],
             [
              1,
              "#f0f921"
             ]
            ],
            "type": "surface"
           }
          ],
          "table": [
           {
            "cells": {
             "fill": {
              "color": "#EBF0F8"
             },
             "line": {
              "color": "white"
             }
            },
            "header": {
             "fill": {
              "color": "#C8D4E3"
             },
             "line": {
              "color": "white"
             }
            },
            "type": "table"
           }
          ]
         },
         "layout": {
          "annotationdefaults": {
           "arrowcolor": "#2a3f5f",
           "arrowhead": 0,
           "arrowwidth": 1
          },
          "autotypenumbers": "strict",
          "coloraxis": {
           "colorbar": {
            "outlinewidth": 0,
            "ticks": ""
           }
          },
          "colorscale": {
           "diverging": [
            [
             0,
             "#8e0152"
            ],
            [
             0.1,
             "#c51b7d"
            ],
            [
             0.2,
             "#de77ae"
            ],
            [
             0.3,
             "#f1b6da"
            ],
            [
             0.4,
             "#fde0ef"
            ],
            [
             0.5,
             "#f7f7f7"
            ],
            [
             0.6,
             "#e6f5d0"
            ],
            [
             0.7,
             "#b8e186"
            ],
            [
             0.8,
             "#7fbc41"
            ],
            [
             0.9,
             "#4d9221"
            ],
            [
             1,
             "#276419"
            ]
           ],
           "sequential": [
            [
             0,
             "#0d0887"
            ],
            [
             0.1111111111111111,
             "#46039f"
            ],
            [
             0.2222222222222222,
             "#7201a8"
            ],
            [
             0.3333333333333333,
             "#9c179e"
            ],
            [
             0.4444444444444444,
             "#bd3786"
            ],
            [
             0.5555555555555556,
             "#d8576b"
            ],
            [
             0.6666666666666666,
             "#ed7953"
            ],
            [
             0.7777777777777778,
             "#fb9f3a"
            ],
            [
             0.8888888888888888,
             "#fdca26"
            ],
            [
             1,
             "#f0f921"
            ]
           ],
           "sequentialminus": [
            [
             0,
             "#0d0887"
            ],
            [
             0.1111111111111111,
             "#46039f"
            ],
            [
             0.2222222222222222,
             "#7201a8"
            ],
            [
             0.3333333333333333,
             "#9c179e"
            ],
            [
             0.4444444444444444,
             "#bd3786"
            ],
            [
             0.5555555555555556,
             "#d8576b"
            ],
            [
             0.6666666666666666,
             "#ed7953"
            ],
            [
             0.7777777777777778,
             "#fb9f3a"
            ],
            [
             0.8888888888888888,
             "#fdca26"
            ],
            [
             1,
             "#f0f921"
            ]
           ]
          },
          "colorway": [
           "#636efa",
           "#EF553B",
           "#00cc96",
           "#ab63fa",
           "#FFA15A",
           "#19d3f3",
           "#FF6692",
           "#B6E880",
           "#FF97FF",
           "#FECB52"
          ],
          "font": {
           "color": "#2a3f5f"
          },
          "geo": {
           "bgcolor": "white",
           "lakecolor": "white",
           "landcolor": "white",
           "showlakes": true,
           "showland": true,
           "subunitcolor": "#C8D4E3"
          },
          "hoverlabel": {
           "align": "left"
          },
          "hovermode": "closest",
          "mapbox": {
           "style": "light"
          },
          "paper_bgcolor": "white",
          "plot_bgcolor": "white",
          "polar": {
           "angularaxis": {
            "gridcolor": "#EBF0F8",
            "linecolor": "#EBF0F8",
            "ticks": ""
           },
           "bgcolor": "white",
           "radialaxis": {
            "gridcolor": "#EBF0F8",
            "linecolor": "#EBF0F8",
            "ticks": ""
           }
          },
          "scene": {
           "xaxis": {
            "backgroundcolor": "white",
            "gridcolor": "#DFE8F3",
            "gridwidth": 2,
            "linecolor": "#EBF0F8",
            "showbackground": true,
            "ticks": "",
            "zerolinecolor": "#EBF0F8"
           },
           "yaxis": {
            "backgroundcolor": "white",
            "gridcolor": "#DFE8F3",
            "gridwidth": 2,
            "linecolor": "#EBF0F8",
            "showbackground": true,
            "ticks": "",
            "zerolinecolor": "#EBF0F8"
           },
           "zaxis": {
            "backgroundcolor": "white",
            "gridcolor": "#DFE8F3",
            "gridwidth": 2,
            "linecolor": "#EBF0F8",
            "showbackground": true,
            "ticks": "",
            "zerolinecolor": "#EBF0F8"
           }
          },
          "shapedefaults": {
           "line": {
            "color": "#2a3f5f"
           }
          },
          "ternary": {
           "aaxis": {
            "gridcolor": "#DFE8F3",
            "linecolor": "#A2B1C6",
            "ticks": ""
           },
           "baxis": {
            "gridcolor": "#DFE8F3",
            "linecolor": "#A2B1C6",
            "ticks": ""
           },
           "bgcolor": "white",
           "caxis": {
            "gridcolor": "#DFE8F3",
            "linecolor": "#A2B1C6",
            "ticks": ""
           }
          },
          "title": {
           "x": 0.05
          },
          "xaxis": {
           "automargin": true,
           "gridcolor": "#EBF0F8",
           "linecolor": "#EBF0F8",
           "ticks": "",
           "title": {
            "standoff": 15
           },
           "zerolinecolor": "#EBF0F8",
           "zerolinewidth": 2
          },
          "yaxis": {
           "automargin": true,
           "gridcolor": "#EBF0F8",
           "linecolor": "#EBF0F8",
           "ticks": "",
           "title": {
            "standoff": 15
           },
           "zerolinecolor": "#EBF0F8",
           "zerolinewidth": 2
          }
         }
        },
        "title": {
         "text": "Incremental Profits for Child in Area6"
        },
        "xaxis": {
         "title": {
          "text": "Bicycle Number"
         }
        },
        "yaxis": {
         "title": {
          "text": "Incremental Profit"
         }
        }
       }
      }
     },
     "metadata": {},
     "output_type": "display_data"
    },
    {
     "name": "stdout",
     "output_type": "stream",
     "text": [
      "\n",
      "--- Descriptive Analysis for Area7 ---\n",
      "\n",
      "Category: Child in Area7\n",
      "count    50.000000\n",
      "mean      0.457158\n",
      "std       0.299248\n",
      "min       0.008100\n",
      "25%       0.195175\n",
      "50%       0.451200\n",
      "75%       0.765200\n",
      "max       0.991300\n",
      "Name: Child, dtype: float64\n"
     ]
    },
    {
     "data": {
      "application/vnd.plotly.v1+json": {
       "config": {
        "plotlyServerURL": "https://plot.ly"
       },
       "data": [
        {
         "mode": "lines+markers",
         "name": "Child",
         "type": "scatter",
         "x": [
          1,
          2,
          3,
          4,
          5,
          6,
          7,
          8,
          9,
          10,
          11,
          12,
          13,
          14,
          15,
          16,
          17,
          18,
          19,
          20,
          21,
          22,
          23,
          24,
          25,
          26,
          27,
          28,
          29,
          30,
          31,
          32,
          33,
          34,
          35,
          36,
          37,
          38,
          39,
          40,
          41,
          42,
          43,
          44,
          45,
          46,
          47,
          48,
          49,
          50
         ],
         "y": {
          "bdata": "qaROQBNh6T9CPujZrPrgP0vIBz2bVZ8/Xf5D+u3rsD8IPZtVn6vRP9Sa5h2n6Ng/b4EExY8x6z/8qfHSTWKgP6YKRiV1Auo/I0p7gy9Mxj+2hHzQs1nrP2aIY13cRsM/WvW52or96z8Wak3zjlPcP5MYBFYOLeA/GCZTBaOSqj8ibHh6pSzfP1HaG3xhMs0/V1uxv+yerD+si9toAG/VP/5D+u3rwNU/JlMFo5I60T8rGJXUCWjiP6UsQxzr4rY/f2q8dJMY7D9XW7G/7J7cP6foSC7/Id0/guLHmLuWgD/rc7UV+8voP3Noke18P+k/ZapgVFIn4D9rK/aX3ZPHPwfwFkhQ/NA/ih9j7lpC6j+dgCbChqfTPwXFjzF3LdE/dnEbDeAt7D88vVKWIY7nP90kBoGVQ+E/umsJ+aBn5T8pyxDHurjvPyV1ApoIG64/Z9Xnaiv27T8UP8bctYTEPyqpE9BE2OA/N4lBYOXQ4D/FjzF3LSHlP+cdp+hILtc/5WGh1jTv6j9os+pztRWrPw==",
          "dtype": "f8"
         }
        }
       ],
       "layout": {
        "template": {
         "data": {
          "bar": [
           {
            "error_x": {
             "color": "#2a3f5f"
            },
            "error_y": {
             "color": "#2a3f5f"
            },
            "marker": {
             "line": {
              "color": "white",
              "width": 0.5
             },
             "pattern": {
              "fillmode": "overlay",
              "size": 10,
              "solidity": 0.2
             }
            },
            "type": "bar"
           }
          ],
          "barpolar": [
           {
            "marker": {
             "line": {
              "color": "white",
              "width": 0.5
             },
             "pattern": {
              "fillmode": "overlay",
              "size": 10,
              "solidity": 0.2
             }
            },
            "type": "barpolar"
           }
          ],
          "carpet": [
           {
            "aaxis": {
             "endlinecolor": "#2a3f5f",
             "gridcolor": "#C8D4E3",
             "linecolor": "#C8D4E3",
             "minorgridcolor": "#C8D4E3",
             "startlinecolor": "#2a3f5f"
            },
            "baxis": {
             "endlinecolor": "#2a3f5f",
             "gridcolor": "#C8D4E3",
             "linecolor": "#C8D4E3",
             "minorgridcolor": "#C8D4E3",
             "startlinecolor": "#2a3f5f"
            },
            "type": "carpet"
           }
          ],
          "choropleth": [
           {
            "colorbar": {
             "outlinewidth": 0,
             "ticks": ""
            },
            "type": "choropleth"
           }
          ],
          "contour": [
           {
            "colorbar": {
             "outlinewidth": 0,
             "ticks": ""
            },
            "colorscale": [
             [
              0,
              "#0d0887"
             ],
             [
              0.1111111111111111,
              "#46039f"
             ],
             [
              0.2222222222222222,
              "#7201a8"
             ],
             [
              0.3333333333333333,
              "#9c179e"
             ],
             [
              0.4444444444444444,
              "#bd3786"
             ],
             [
              0.5555555555555556,
              "#d8576b"
             ],
             [
              0.6666666666666666,
              "#ed7953"
             ],
             [
              0.7777777777777778,
              "#fb9f3a"
             ],
             [
              0.8888888888888888,
              "#fdca26"
             ],
             [
              1,
              "#f0f921"
             ]
            ],
            "type": "contour"
           }
          ],
          "contourcarpet": [
           {
            "colorbar": {
             "outlinewidth": 0,
             "ticks": ""
            },
            "type": "contourcarpet"
           }
          ],
          "heatmap": [
           {
            "colorbar": {
             "outlinewidth": 0,
             "ticks": ""
            },
            "colorscale": [
             [
              0,
              "#0d0887"
             ],
             [
              0.1111111111111111,
              "#46039f"
             ],
             [
              0.2222222222222222,
              "#7201a8"
             ],
             [
              0.3333333333333333,
              "#9c179e"
             ],
             [
              0.4444444444444444,
              "#bd3786"
             ],
             [
              0.5555555555555556,
              "#d8576b"
             ],
             [
              0.6666666666666666,
              "#ed7953"
             ],
             [
              0.7777777777777778,
              "#fb9f3a"
             ],
             [
              0.8888888888888888,
              "#fdca26"
             ],
             [
              1,
              "#f0f921"
             ]
            ],
            "type": "heatmap"
           }
          ],
          "histogram": [
           {
            "marker": {
             "pattern": {
              "fillmode": "overlay",
              "size": 10,
              "solidity": 0.2
             }
            },
            "type": "histogram"
           }
          ],
          "histogram2d": [
           {
            "colorbar": {
             "outlinewidth": 0,
             "ticks": ""
            },
            "colorscale": [
             [
              0,
              "#0d0887"
             ],
             [
              0.1111111111111111,
              "#46039f"
             ],
             [
              0.2222222222222222,
              "#7201a8"
             ],
             [
              0.3333333333333333,
              "#9c179e"
             ],
             [
              0.4444444444444444,
              "#bd3786"
             ],
             [
              0.5555555555555556,
              "#d8576b"
             ],
             [
              0.6666666666666666,
              "#ed7953"
             ],
             [
              0.7777777777777778,
              "#fb9f3a"
             ],
             [
              0.8888888888888888,
              "#fdca26"
             ],
             [
              1,
              "#f0f921"
             ]
            ],
            "type": "histogram2d"
           }
          ],
          "histogram2dcontour": [
           {
            "colorbar": {
             "outlinewidth": 0,
             "ticks": ""
            },
            "colorscale": [
             [
              0,
              "#0d0887"
             ],
             [
              0.1111111111111111,
              "#46039f"
             ],
             [
              0.2222222222222222,
              "#7201a8"
             ],
             [
              0.3333333333333333,
              "#9c179e"
             ],
             [
              0.4444444444444444,
              "#bd3786"
             ],
             [
              0.5555555555555556,
              "#d8576b"
             ],
             [
              0.6666666666666666,
              "#ed7953"
             ],
             [
              0.7777777777777778,
              "#fb9f3a"
             ],
             [
              0.8888888888888888,
              "#fdca26"
             ],
             [
              1,
              "#f0f921"
             ]
            ],
            "type": "histogram2dcontour"
           }
          ],
          "mesh3d": [
           {
            "colorbar": {
             "outlinewidth": 0,
             "ticks": ""
            },
            "type": "mesh3d"
           }
          ],
          "parcoords": [
           {
            "line": {
             "colorbar": {
              "outlinewidth": 0,
              "ticks": ""
             }
            },
            "type": "parcoords"
           }
          ],
          "pie": [
           {
            "automargin": true,
            "type": "pie"
           }
          ],
          "scatter": [
           {
            "fillpattern": {
             "fillmode": "overlay",
             "size": 10,
             "solidity": 0.2
            },
            "type": "scatter"
           }
          ],
          "scatter3d": [
           {
            "line": {
             "colorbar": {
              "outlinewidth": 0,
              "ticks": ""
             }
            },
            "marker": {
             "colorbar": {
              "outlinewidth": 0,
              "ticks": ""
             }
            },
            "type": "scatter3d"
           }
          ],
          "scattercarpet": [
           {
            "marker": {
             "colorbar": {
              "outlinewidth": 0,
              "ticks": ""
             }
            },
            "type": "scattercarpet"
           }
          ],
          "scattergeo": [
           {
            "marker": {
             "colorbar": {
              "outlinewidth": 0,
              "ticks": ""
             }
            },
            "type": "scattergeo"
           }
          ],
          "scattergl": [
           {
            "marker": {
             "colorbar": {
              "outlinewidth": 0,
              "ticks": ""
             }
            },
            "type": "scattergl"
           }
          ],
          "scattermap": [
           {
            "marker": {
             "colorbar": {
              "outlinewidth": 0,
              "ticks": ""
             }
            },
            "type": "scattermap"
           }
          ],
          "scattermapbox": [
           {
            "marker": {
             "colorbar": {
              "outlinewidth": 0,
              "ticks": ""
             }
            },
            "type": "scattermapbox"
           }
          ],
          "scatterpolar": [
           {
            "marker": {
             "colorbar": {
              "outlinewidth": 0,
              "ticks": ""
             }
            },
            "type": "scatterpolar"
           }
          ],
          "scatterpolargl": [
           {
            "marker": {
             "colorbar": {
              "outlinewidth": 0,
              "ticks": ""
             }
            },
            "type": "scatterpolargl"
           }
          ],
          "scatterternary": [
           {
            "marker": {
             "colorbar": {
              "outlinewidth": 0,
              "ticks": ""
             }
            },
            "type": "scatterternary"
           }
          ],
          "surface": [
           {
            "colorbar": {
             "outlinewidth": 0,
             "ticks": ""
            },
            "colorscale": [
             [
              0,
              "#0d0887"
             ],
             [
              0.1111111111111111,
              "#46039f"
             ],
             [
              0.2222222222222222,
              "#7201a8"
             ],
             [
              0.3333333333333333,
              "#9c179e"
             ],
             [
              0.4444444444444444,
              "#bd3786"
             ],
             [
              0.5555555555555556,
              "#d8576b"
             ],
             [
              0.6666666666666666,
              "#ed7953"
             ],
             [
              0.7777777777777778,
              "#fb9f3a"
             ],
             [
              0.8888888888888888,
              "#fdca26"
             ],
             [
              1,
              "#f0f921"
             ]
            ],
            "type": "surface"
           }
          ],
          "table": [
           {
            "cells": {
             "fill": {
              "color": "#EBF0F8"
             },
             "line": {
              "color": "white"
             }
            },
            "header": {
             "fill": {
              "color": "#C8D4E3"
             },
             "line": {
              "color": "white"
             }
            },
            "type": "table"
           }
          ]
         },
         "layout": {
          "annotationdefaults": {
           "arrowcolor": "#2a3f5f",
           "arrowhead": 0,
           "arrowwidth": 1
          },
          "autotypenumbers": "strict",
          "coloraxis": {
           "colorbar": {
            "outlinewidth": 0,
            "ticks": ""
           }
          },
          "colorscale": {
           "diverging": [
            [
             0,
             "#8e0152"
            ],
            [
             0.1,
             "#c51b7d"
            ],
            [
             0.2,
             "#de77ae"
            ],
            [
             0.3,
             "#f1b6da"
            ],
            [
             0.4,
             "#fde0ef"
            ],
            [
             0.5,
             "#f7f7f7"
            ],
            [
             0.6,
             "#e6f5d0"
            ],
            [
             0.7,
             "#b8e186"
            ],
            [
             0.8,
             "#7fbc41"
            ],
            [
             0.9,
             "#4d9221"
            ],
            [
             1,
             "#276419"
            ]
           ],
           "sequential": [
            [
             0,
             "#0d0887"
            ],
            [
             0.1111111111111111,
             "#46039f"
            ],
            [
             0.2222222222222222,
             "#7201a8"
            ],
            [
             0.3333333333333333,
             "#9c179e"
            ],
            [
             0.4444444444444444,
             "#bd3786"
            ],
            [
             0.5555555555555556,
             "#d8576b"
            ],
            [
             0.6666666666666666,
             "#ed7953"
            ],
            [
             0.7777777777777778,
             "#fb9f3a"
            ],
            [
             0.8888888888888888,
             "#fdca26"
            ],
            [
             1,
             "#f0f921"
            ]
           ],
           "sequentialminus": [
            [
             0,
             "#0d0887"
            ],
            [
             0.1111111111111111,
             "#46039f"
            ],
            [
             0.2222222222222222,
             "#7201a8"
            ],
            [
             0.3333333333333333,
             "#9c179e"
            ],
            [
             0.4444444444444444,
             "#bd3786"
            ],
            [
             0.5555555555555556,
             "#d8576b"
            ],
            [
             0.6666666666666666,
             "#ed7953"
            ],
            [
             0.7777777777777778,
             "#fb9f3a"
            ],
            [
             0.8888888888888888,
             "#fdca26"
            ],
            [
             1,
             "#f0f921"
            ]
           ]
          },
          "colorway": [
           "#636efa",
           "#EF553B",
           "#00cc96",
           "#ab63fa",
           "#FFA15A",
           "#19d3f3",
           "#FF6692",
           "#B6E880",
           "#FF97FF",
           "#FECB52"
          ],
          "font": {
           "color": "#2a3f5f"
          },
          "geo": {
           "bgcolor": "white",
           "lakecolor": "white",
           "landcolor": "white",
           "showlakes": true,
           "showland": true,
           "subunitcolor": "#C8D4E3"
          },
          "hoverlabel": {
           "align": "left"
          },
          "hovermode": "closest",
          "mapbox": {
           "style": "light"
          },
          "paper_bgcolor": "white",
          "plot_bgcolor": "white",
          "polar": {
           "angularaxis": {
            "gridcolor": "#EBF0F8",
            "linecolor": "#EBF0F8",
            "ticks": ""
           },
           "bgcolor": "white",
           "radialaxis": {
            "gridcolor": "#EBF0F8",
            "linecolor": "#EBF0F8",
            "ticks": ""
           }
          },
          "scene": {
           "xaxis": {
            "backgroundcolor": "white",
            "gridcolor": "#DFE8F3",
            "gridwidth": 2,
            "linecolor": "#EBF0F8",
            "showbackground": true,
            "ticks": "",
            "zerolinecolor": "#EBF0F8"
           },
           "yaxis": {
            "backgroundcolor": "white",
            "gridcolor": "#DFE8F3",
            "gridwidth": 2,
            "linecolor": "#EBF0F8",
            "showbackground": true,
            "ticks": "",
            "zerolinecolor": "#EBF0F8"
           },
           "zaxis": {
            "backgroundcolor": "white",
            "gridcolor": "#DFE8F3",
            "gridwidth": 2,
            "linecolor": "#EBF0F8",
            "showbackground": true,
            "ticks": "",
            "zerolinecolor": "#EBF0F8"
           }
          },
          "shapedefaults": {
           "line": {
            "color": "#2a3f5f"
           }
          },
          "ternary": {
           "aaxis": {
            "gridcolor": "#DFE8F3",
            "linecolor": "#A2B1C6",
            "ticks": ""
           },
           "baxis": {
            "gridcolor": "#DFE8F3",
            "linecolor": "#A2B1C6",
            "ticks": ""
           },
           "bgcolor": "white",
           "caxis": {
            "gridcolor": "#DFE8F3",
            "linecolor": "#A2B1C6",
            "ticks": ""
           }
          },
          "title": {
           "x": 0.05
          },
          "xaxis": {
           "automargin": true,
           "gridcolor": "#EBF0F8",
           "linecolor": "#EBF0F8",
           "ticks": "",
           "title": {
            "standoff": 15
           },
           "zerolinecolor": "#EBF0F8",
           "zerolinewidth": 2
          },
          "yaxis": {
           "automargin": true,
           "gridcolor": "#EBF0F8",
           "linecolor": "#EBF0F8",
           "ticks": "",
           "title": {
            "standoff": 15
           },
           "zerolinecolor": "#EBF0F8",
           "zerolinewidth": 2
          }
         }
        },
        "title": {
         "text": "Incremental Profits for Child in Area7"
        },
        "xaxis": {
         "title": {
          "text": "Bicycle Number"
         }
        },
        "yaxis": {
         "title": {
          "text": "Incremental Profit"
         }
        }
       }
      }
     },
     "metadata": {},
     "output_type": "display_data"
    }
   ],
   "source": [
    "profit_sheet_names = [sheet for sheet in file.sheet_names if sheet.startswith(\"ExpectedProfitsArea\")]\n",
    "\n",
    "profit_stats = {}\n",
    "\n",
    "for sheet in profit_sheet_names:\n",
    "    df = pd.read_excel(file, sheet_name=sheet, header=0)\n",
    "    \n",
    "    area = \"Area\" + sheet[len(\"ExpectedProfitsArea\"):]\n",
    "    \n",
    "    print()\n",
    "    print(f\"--- Descriptive Analysis for {area} ---\")\n",
    "    for cat in df.columns[:1]:\n",
    "        values = pd.to_numeric(df[cat].dropna(), errors='coerce')\n",
    "        stats = values.describe()\n",
    "        profit_stats[(cat, area)] = stats\n",
    "        \n",
    "        print(f\"\\nCategory: {cat} in {area}\")\n",
    "        print(stats)\n",
    "        \n",
    "        fig = go.Figure()\n",
    "        fig.add_trace(go.Scatter(\n",
    "            x=list(range(1, len(values)+1)),\n",
    "            y=values,\n",
    "            mode='lines+markers',\n",
    "            name=cat\n",
    "        ))\n",
    "        fig.update_layout(\n",
    "            title=f\"Incremental Profits for {cat} in {area}\",\n",
    "            xaxis_title=\"Bicycle Number\",\n",
    "            yaxis_title=\"Incremental Profit\",\n",
    "            template=\"plotly_white\"\n",
    "        )\n",
    "        fig.show()"
   ]
  },
  {
   "cell_type": "code",
   "execution_count": 79,
   "metadata": {},
   "outputs": [
    {
     "data": {
      "application/vnd.plotly.v1+json": {
       "config": {
        "plotlyServerURL": "https://plot.ly"
       },
       "data": [
        {
         "hovertemplate": "Surplus Available (Bicycles)=%{x}<br>Max Length of Incremental Profit Series=%{y}<br>Category=%{text}<extra></extra>",
         "legendgroup": "",
         "marker": {
          "color": "#636efa",
          "size": 15,
          "symbol": "circle"
         },
         "mode": "markers+text",
         "name": "",
         "orientation": "v",
         "showlegend": false,
         "text": [
          "Child",
          "Adult",
          "Electric",
          "Racing",
          "Mountain",
          "Tricycle"
         ],
         "textposition": "top center",
         "type": "scatter",
         "x": {
          "bdata": "EAEOARcBCwEaARcB",
          "dtype": "i2"
         },
         "xaxis": "x",
         "y": {
          "bdata": "cnNvbWxt",
          "dtype": "i1"
         },
         "yaxis": "y"
        }
       ],
       "layout": {
        "legend": {
         "tracegroupgap": 0
        },
        "template": {
         "data": {
          "bar": [
           {
            "error_x": {
             "color": "#2a3f5f"
            },
            "error_y": {
             "color": "#2a3f5f"
            },
            "marker": {
             "line": {
              "color": "white",
              "width": 0.5
             },
             "pattern": {
              "fillmode": "overlay",
              "size": 10,
              "solidity": 0.2
             }
            },
            "type": "bar"
           }
          ],
          "barpolar": [
           {
            "marker": {
             "line": {
              "color": "white",
              "width": 0.5
             },
             "pattern": {
              "fillmode": "overlay",
              "size": 10,
              "solidity": 0.2
             }
            },
            "type": "barpolar"
           }
          ],
          "carpet": [
           {
            "aaxis": {
             "endlinecolor": "#2a3f5f",
             "gridcolor": "#C8D4E3",
             "linecolor": "#C8D4E3",
             "minorgridcolor": "#C8D4E3",
             "startlinecolor": "#2a3f5f"
            },
            "baxis": {
             "endlinecolor": "#2a3f5f",
             "gridcolor": "#C8D4E3",
             "linecolor": "#C8D4E3",
             "minorgridcolor": "#C8D4E3",
             "startlinecolor": "#2a3f5f"
            },
            "type": "carpet"
           }
          ],
          "choropleth": [
           {
            "colorbar": {
             "outlinewidth": 0,
             "ticks": ""
            },
            "type": "choropleth"
           }
          ],
          "contour": [
           {
            "colorbar": {
             "outlinewidth": 0,
             "ticks": ""
            },
            "colorscale": [
             [
              0,
              "#0d0887"
             ],
             [
              0.1111111111111111,
              "#46039f"
             ],
             [
              0.2222222222222222,
              "#7201a8"
             ],
             [
              0.3333333333333333,
              "#9c179e"
             ],
             [
              0.4444444444444444,
              "#bd3786"
             ],
             [
              0.5555555555555556,
              "#d8576b"
             ],
             [
              0.6666666666666666,
              "#ed7953"
             ],
             [
              0.7777777777777778,
              "#fb9f3a"
             ],
             [
              0.8888888888888888,
              "#fdca26"
             ],
             [
              1,
              "#f0f921"
             ]
            ],
            "type": "contour"
           }
          ],
          "contourcarpet": [
           {
            "colorbar": {
             "outlinewidth": 0,
             "ticks": ""
            },
            "type": "contourcarpet"
           }
          ],
          "heatmap": [
           {
            "colorbar": {
             "outlinewidth": 0,
             "ticks": ""
            },
            "colorscale": [
             [
              0,
              "#0d0887"
             ],
             [
              0.1111111111111111,
              "#46039f"
             ],
             [
              0.2222222222222222,
              "#7201a8"
             ],
             [
              0.3333333333333333,
              "#9c179e"
             ],
             [
              0.4444444444444444,
              "#bd3786"
             ],
             [
              0.5555555555555556,
              "#d8576b"
             ],
             [
              0.6666666666666666,
              "#ed7953"
             ],
             [
              0.7777777777777778,
              "#fb9f3a"
             ],
             [
              0.8888888888888888,
              "#fdca26"
             ],
             [
              1,
              "#f0f921"
             ]
            ],
            "type": "heatmap"
           }
          ],
          "histogram": [
           {
            "marker": {
             "pattern": {
              "fillmode": "overlay",
              "size": 10,
              "solidity": 0.2
             }
            },
            "type": "histogram"
           }
          ],
          "histogram2d": [
           {
            "colorbar": {
             "outlinewidth": 0,
             "ticks": ""
            },
            "colorscale": [
             [
              0,
              "#0d0887"
             ],
             [
              0.1111111111111111,
              "#46039f"
             ],
             [
              0.2222222222222222,
              "#7201a8"
             ],
             [
              0.3333333333333333,
              "#9c179e"
             ],
             [
              0.4444444444444444,
              "#bd3786"
             ],
             [
              0.5555555555555556,
              "#d8576b"
             ],
             [
              0.6666666666666666,
              "#ed7953"
             ],
             [
              0.7777777777777778,
              "#fb9f3a"
             ],
             [
              0.8888888888888888,
              "#fdca26"
             ],
             [
              1,
              "#f0f921"
             ]
            ],
            "type": "histogram2d"
           }
          ],
          "histogram2dcontour": [
           {
            "colorbar": {
             "outlinewidth": 0,
             "ticks": ""
            },
            "colorscale": [
             [
              0,
              "#0d0887"
             ],
             [
              0.1111111111111111,
              "#46039f"
             ],
             [
              0.2222222222222222,
              "#7201a8"
             ],
             [
              0.3333333333333333,
              "#9c179e"
             ],
             [
              0.4444444444444444,
              "#bd3786"
             ],
             [
              0.5555555555555556,
              "#d8576b"
             ],
             [
              0.6666666666666666,
              "#ed7953"
             ],
             [
              0.7777777777777778,
              "#fb9f3a"
             ],
             [
              0.8888888888888888,
              "#fdca26"
             ],
             [
              1,
              "#f0f921"
             ]
            ],
            "type": "histogram2dcontour"
           }
          ],
          "mesh3d": [
           {
            "colorbar": {
             "outlinewidth": 0,
             "ticks": ""
            },
            "type": "mesh3d"
           }
          ],
          "parcoords": [
           {
            "line": {
             "colorbar": {
              "outlinewidth": 0,
              "ticks": ""
             }
            },
            "type": "parcoords"
           }
          ],
          "pie": [
           {
            "automargin": true,
            "type": "pie"
           }
          ],
          "scatter": [
           {
            "fillpattern": {
             "fillmode": "overlay",
             "size": 10,
             "solidity": 0.2
            },
            "type": "scatter"
           }
          ],
          "scatter3d": [
           {
            "line": {
             "colorbar": {
              "outlinewidth": 0,
              "ticks": ""
             }
            },
            "marker": {
             "colorbar": {
              "outlinewidth": 0,
              "ticks": ""
             }
            },
            "type": "scatter3d"
           }
          ],
          "scattercarpet": [
           {
            "marker": {
             "colorbar": {
              "outlinewidth": 0,
              "ticks": ""
             }
            },
            "type": "scattercarpet"
           }
          ],
          "scattergeo": [
           {
            "marker": {
             "colorbar": {
              "outlinewidth": 0,
              "ticks": ""
             }
            },
            "type": "scattergeo"
           }
          ],
          "scattergl": [
           {
            "marker": {
             "colorbar": {
              "outlinewidth": 0,
              "ticks": ""
             }
            },
            "type": "scattergl"
           }
          ],
          "scattermap": [
           {
            "marker": {
             "colorbar": {
              "outlinewidth": 0,
              "ticks": ""
             }
            },
            "type": "scattermap"
           }
          ],
          "scattermapbox": [
           {
            "marker": {
             "colorbar": {
              "outlinewidth": 0,
              "ticks": ""
             }
            },
            "type": "scattermapbox"
           }
          ],
          "scatterpolar": [
           {
            "marker": {
             "colorbar": {
              "outlinewidth": 0,
              "ticks": ""
             }
            },
            "type": "scatterpolar"
           }
          ],
          "scatterpolargl": [
           {
            "marker": {
             "colorbar": {
              "outlinewidth": 0,
              "ticks": ""
             }
            },
            "type": "scatterpolargl"
           }
          ],
          "scatterternary": [
           {
            "marker": {
             "colorbar": {
              "outlinewidth": 0,
              "ticks": ""
             }
            },
            "type": "scatterternary"
           }
          ],
          "surface": [
           {
            "colorbar": {
             "outlinewidth": 0,
             "ticks": ""
            },
            "colorscale": [
             [
              0,
              "#0d0887"
             ],
             [
              0.1111111111111111,
              "#46039f"
             ],
             [
              0.2222222222222222,
              "#7201a8"
             ],
             [
              0.3333333333333333,
              "#9c179e"
             ],
             [
              0.4444444444444444,
              "#bd3786"
             ],
             [
              0.5555555555555556,
              "#d8576b"
             ],
             [
              0.6666666666666666,
              "#ed7953"
             ],
             [
              0.7777777777777778,
              "#fb9f3a"
             ],
             [
              0.8888888888888888,
              "#fdca26"
             ],
             [
              1,
              "#f0f921"
             ]
            ],
            "type": "surface"
           }
          ],
          "table": [
           {
            "cells": {
             "fill": {
              "color": "#EBF0F8"
             },
             "line": {
              "color": "white"
             }
            },
            "header": {
             "fill": {
              "color": "#C8D4E3"
             },
             "line": {
              "color": "white"
             }
            },
            "type": "table"
           }
          ]
         },
         "layout": {
          "annotationdefaults": {
           "arrowcolor": "#2a3f5f",
           "arrowhead": 0,
           "arrowwidth": 1
          },
          "autotypenumbers": "strict",
          "coloraxis": {
           "colorbar": {
            "outlinewidth": 0,
            "ticks": ""
           }
          },
          "colorscale": {
           "diverging": [
            [
             0,
             "#8e0152"
            ],
            [
             0.1,
             "#c51b7d"
            ],
            [
             0.2,
             "#de77ae"
            ],
            [
             0.3,
             "#f1b6da"
            ],
            [
             0.4,
             "#fde0ef"
            ],
            [
             0.5,
             "#f7f7f7"
            ],
            [
             0.6,
             "#e6f5d0"
            ],
            [
             0.7,
             "#b8e186"
            ],
            [
             0.8,
             "#7fbc41"
            ],
            [
             0.9,
             "#4d9221"
            ],
            [
             1,
             "#276419"
            ]
           ],
           "sequential": [
            [
             0,
             "#0d0887"
            ],
            [
             0.1111111111111111,
             "#46039f"
            ],
            [
             0.2222222222222222,
             "#7201a8"
            ],
            [
             0.3333333333333333,
             "#9c179e"
            ],
            [
             0.4444444444444444,
             "#bd3786"
            ],
            [
             0.5555555555555556,
             "#d8576b"
            ],
            [
             0.6666666666666666,
             "#ed7953"
            ],
            [
             0.7777777777777778,
             "#fb9f3a"
            ],
            [
             0.8888888888888888,
             "#fdca26"
            ],
            [
             1,
             "#f0f921"
            ]
           ],
           "sequentialminus": [
            [
             0,
             "#0d0887"
            ],
            [
             0.1111111111111111,
             "#46039f"
            ],
            [
             0.2222222222222222,
             "#7201a8"
            ],
            [
             0.3333333333333333,
             "#9c179e"
            ],
            [
             0.4444444444444444,
             "#bd3786"
            ],
            [
             0.5555555555555556,
             "#d8576b"
            ],
            [
             0.6666666666666666,
             "#ed7953"
            ],
            [
             0.7777777777777778,
             "#fb9f3a"
            ],
            [
             0.8888888888888888,
             "#fdca26"
            ],
            [
             1,
             "#f0f921"
            ]
           ]
          },
          "colorway": [
           "#636efa",
           "#EF553B",
           "#00cc96",
           "#ab63fa",
           "#FFA15A",
           "#19d3f3",
           "#FF6692",
           "#B6E880",
           "#FF97FF",
           "#FECB52"
          ],
          "font": {
           "color": "#2a3f5f"
          },
          "geo": {
           "bgcolor": "white",
           "lakecolor": "white",
           "landcolor": "white",
           "showlakes": true,
           "showland": true,
           "subunitcolor": "#C8D4E3"
          },
          "hoverlabel": {
           "align": "left"
          },
          "hovermode": "closest",
          "mapbox": {
           "style": "light"
          },
          "paper_bgcolor": "white",
          "plot_bgcolor": "white",
          "polar": {
           "angularaxis": {
            "gridcolor": "#EBF0F8",
            "linecolor": "#EBF0F8",
            "ticks": ""
           },
           "bgcolor": "white",
           "radialaxis": {
            "gridcolor": "#EBF0F8",
            "linecolor": "#EBF0F8",
            "ticks": ""
           }
          },
          "scene": {
           "xaxis": {
            "backgroundcolor": "white",
            "gridcolor": "#DFE8F3",
            "gridwidth": 2,
            "linecolor": "#EBF0F8",
            "showbackground": true,
            "ticks": "",
            "zerolinecolor": "#EBF0F8"
           },
           "yaxis": {
            "backgroundcolor": "white",
            "gridcolor": "#DFE8F3",
            "gridwidth": 2,
            "linecolor": "#EBF0F8",
            "showbackground": true,
            "ticks": "",
            "zerolinecolor": "#EBF0F8"
           },
           "zaxis": {
            "backgroundcolor": "white",
            "gridcolor": "#DFE8F3",
            "gridwidth": 2,
            "linecolor": "#EBF0F8",
            "showbackground": true,
            "ticks": "",
            "zerolinecolor": "#EBF0F8"
           }
          },
          "shapedefaults": {
           "line": {
            "color": "#2a3f5f"
           }
          },
          "ternary": {
           "aaxis": {
            "gridcolor": "#DFE8F3",
            "linecolor": "#A2B1C6",
            "ticks": ""
           },
           "baxis": {
            "gridcolor": "#DFE8F3",
            "linecolor": "#A2B1C6",
            "ticks": ""
           },
           "bgcolor": "white",
           "caxis": {
            "gridcolor": "#DFE8F3",
            "linecolor": "#A2B1C6",
            "ticks": ""
           }
          },
          "title": {
           "x": 0.05
          },
          "xaxis": {
           "automargin": true,
           "gridcolor": "#EBF0F8",
           "linecolor": "#EBF0F8",
           "ticks": "",
           "title": {
            "standoff": 15
           },
           "zerolinecolor": "#EBF0F8",
           "zerolinewidth": 2
          },
          "yaxis": {
           "automargin": true,
           "gridcolor": "#EBF0F8",
           "linecolor": "#EBF0F8",
           "ticks": "",
           "title": {
            "standoff": 15
           },
           "zerolinecolor": "#EBF0F8",
           "zerolinewidth": 2
          }
         }
        },
        "title": {
         "text": "Surplus vs. Profit Length"
        },
        "xaxis": {
         "anchor": "y",
         "domain": [
          0,
          1
         ],
         "title": {
          "text": "Surplus Available (Bicycles)"
         }
        },
        "yaxis": {
         "anchor": "x",
         "domain": [
          0,
          1
         ],
         "title": {
          "text": "Max Length of Incremental Profit Series"
         }
        }
       }
      }
     },
     "metadata": {},
     "output_type": "display_data"
    }
   ],
   "source": [
    "data = pd.read_excel(file, sheet_name=\"Categories\", header=0)\n",
    "\n",
    "categories = list(data.columns)\n",
    "surplus = data.iloc[0].astype(int) \n",
    "\n",
    "max_profit_length = {cat: 0 for cat in categories}\n",
    "\n",
    "profit_sheet_names = [sheet for sheet in file.sheet_names if sheet.startswith(\"ExpectedProfitsArea\")]\n",
    "\n",
    "for sheet in profit_sheet_names:\n",
    "    df = pd.read_excel(file, sheet_name=sheet, header=0)\n",
    "    \n",
    "    for cat in df.columns:\n",
    "        max_length = df[cat].dropna().shape[0] \n",
    "        max_profit_length[cat] = max(max_profit_length[cat], max_length)\n",
    "\n",
    "comparison_df = pd.DataFrame({\n",
    "    \"Category\": categories,\n",
    "    \"Surplus\": surplus.values,\n",
    "    \"Max Profit Series Length\": [max_profit_length[cat] for cat in categories]\n",
    "})\n",
    "\n",
    "fig = px.scatter(comparison_df, x=\"Surplus\", y=\"Max Profit Series Length\",\n",
    "                 text=\"Category\",\n",
    "                 title=\"Surplus vs. Profit Length\",\n",
    "                 labels={\"Surplus\": \"Surplus Available (Bicycles)\", \n",
    "                         \"Max Profit Series Length\": \"Max Length of Incremental Profit Series\"},\n",
    "                 template=\"plotly_white\")\n",
    "\n",
    "fig.update_traces(marker=dict(size=15), textposition='top center')\n",
    "\n",
    "fig.show()\n"
   ]
  },
  {
   "cell_type": "code",
   "execution_count": 80,
   "metadata": {},
   "outputs": [
    {
     "data": {
      "application/vnd.plotly.v1+json": {
       "config": {
        "plotlyServerURL": "https://plot.ly"
       },
       "data": [
        {
         "alignmentgroup": "True",
         "hovertemplate": "Area=Area1<br>Category=%{x}<br>Incremental Profit=%{y}<extra></extra>",
         "legendgroup": "Area1",
         "marker": {
          "color": "#636efa"
         },
         "name": "Area1",
         "notched": false,
         "offsetgroup": "Area1",
         "orientation": "v",
         "showlegend": true,
         "type": "box",
         "x": [
          "Child",
          "Child",
          "Child",
          "Child",
          "Child",
          "Child",
          "Child",
          "Child",
          "Child",
          "Child",
          "Child",
          "Child",
          "Child",
          "Child",
          "Child",
          "Child",
          "Child",
          "Child",
          "Child",
          "Child",
          "Child",
          "Child",
          "Child",
          "Child",
          "Child",
          "Child",
          "Child",
          "Child",
          "Child",
          "Child",
          "Child",
          "Child",
          "Child",
          "Child",
          "Child",
          "Child",
          "Child",
          "Child",
          "Child",
          "Child",
          "Child",
          "Child",
          "Child",
          "Child",
          "Child",
          "Child",
          "Child",
          "Child",
          "Child",
          "Child",
          "Child",
          "Child",
          "Child",
          "Child",
          "Child",
          "Child",
          "Child",
          "Child",
          "Child",
          "Child",
          "Child",
          "Child",
          "Child",
          "Child",
          "Child",
          "Child",
          "Child",
          "Child",
          "Child",
          "Child",
          "Child",
          "Child",
          "Child",
          "Child",
          "Child",
          "Child",
          "Child",
          "Child",
          "Child",
          "Child",
          "Child",
          "Child",
          "Child",
          "Child",
          "Child",
          "Child",
          "Child",
          "Child",
          "Child",
          "Child",
          "Child",
          "Child",
          "Child",
          "Child",
          "Child",
          "Child",
          "Child",
          "Child",
          "Child",
          "Child",
          "Child",
          "Child",
          "Child",
          "Child",
          "Child",
          "Child",
          "Child",
          "Child",
          "Child",
          "Child",
          "Child",
          "Child",
          "Child",
          "Child",
          "Adult",
          "Adult",
          "Adult",
          "Adult",
          "Adult",
          "Adult",
          "Adult",
          "Adult",
          "Adult",
          "Adult",
          "Adult",
          "Adult",
          "Adult",
          "Adult",
          "Adult",
          "Adult",
          "Adult",
          "Adult",
          "Adult",
          "Adult",
          "Adult",
          "Adult",
          "Adult",
          "Adult",
          "Adult",
          "Adult",
          "Adult",
          "Adult",
          "Adult",
          "Adult",
          "Adult",
          "Adult",
          "Adult",
          "Adult",
          "Adult",
          "Adult",
          "Adult",
          "Adult",
          "Adult",
          "Adult",
          "Adult",
          "Adult",
          "Adult",
          "Adult",
          "Adult",
          "Adult",
          "Adult",
          "Adult",
          "Adult",
          "Adult",
          "Adult",
          "Adult",
          "Adult",
          "Adult",
          "Adult",
          "Adult",
          "Adult",
          "Adult",
          "Adult",
          "Adult",
          "Adult",
          "Adult",
          "Adult",
          "Adult",
          "Adult",
          "Adult",
          "Adult",
          "Adult",
          "Adult",
          "Adult",
          "Adult",
          "Adult",
          "Adult",
          "Adult",
          "Adult",
          "Adult",
          "Adult",
          "Adult",
          "Adult",
          "Adult",
          "Adult",
          "Adult",
          "Adult",
          "Adult",
          "Adult",
          "Adult",
          "Adult",
          "Adult",
          "Adult",
          "Adult",
          "Adult",
          "Adult",
          "Adult",
          "Adult",
          "Adult",
          "Adult",
          "Adult",
          "Adult",
          "Adult",
          "Adult",
          "Adult",
          "Adult",
          "Adult",
          "Adult",
          "Adult",
          "Adult",
          "Adult",
          "Adult",
          "Adult",
          "Adult",
          "Adult",
          "Adult",
          "Adult",
          "Adult",
          "Adult",
          "Electric",
          "Electric",
          "Electric",
          "Electric",
          "Electric",
          "Electric",
          "Electric",
          "Electric",
          "Electric",
          "Electric",
          "Electric",
          "Electric",
          "Electric",
          "Electric",
          "Electric",
          "Electric",
          "Electric",
          "Electric",
          "Electric",
          "Electric",
          "Electric",
          "Electric",
          "Electric",
          "Electric",
          "Electric",
          "Electric",
          "Electric",
          "Electric",
          "Electric",
          "Electric",
          "Electric",
          "Electric",
          "Electric",
          "Electric",
          "Electric",
          "Electric",
          "Electric",
          "Electric",
          "Electric",
          "Electric",
          "Electric",
          "Electric",
          "Electric",
          "Electric",
          "Electric",
          "Electric",
          "Electric",
          "Electric",
          "Electric",
          "Electric",
          "Electric",
          "Electric",
          "Electric",
          "Electric",
          "Electric",
          "Electric",
          "Electric",
          "Electric",
          "Electric",
          "Electric",
          "Electric",
          "Electric",
          "Electric",
          "Electric",
          "Electric",
          "Electric",
          "Electric",
          "Electric",
          "Electric",
          "Electric",
          "Electric",
          "Electric",
          "Electric",
          "Electric",
          "Electric",
          "Electric",
          "Electric",
          "Electric",
          "Electric",
          "Electric",
          "Electric",
          "Electric",
          "Electric",
          "Electric",
          "Electric",
          "Electric",
          "Electric",
          "Electric",
          "Electric",
          "Electric",
          "Electric",
          "Electric",
          "Electric",
          "Electric",
          "Electric",
          "Electric",
          "Electric",
          "Electric",
          "Electric",
          "Electric",
          "Electric",
          "Electric",
          "Racing",
          "Racing",
          "Racing",
          "Racing",
          "Racing",
          "Racing",
          "Racing",
          "Racing",
          "Racing",
          "Racing",
          "Racing",
          "Racing",
          "Racing",
          "Racing",
          "Racing",
          "Racing",
          "Racing",
          "Racing",
          "Racing",
          "Racing",
          "Racing",
          "Racing",
          "Racing",
          "Racing",
          "Racing",
          "Racing",
          "Racing",
          "Racing",
          "Racing",
          "Racing",
          "Racing",
          "Racing",
          "Racing",
          "Racing",
          "Racing",
          "Racing",
          "Racing",
          "Racing",
          "Racing",
          "Racing",
          "Racing",
          "Racing",
          "Racing",
          "Racing",
          "Racing",
          "Racing",
          "Racing",
          "Racing",
          "Racing",
          "Racing",
          "Racing",
          "Racing",
          "Racing",
          "Racing",
          "Racing",
          "Racing",
          "Racing",
          "Racing",
          "Racing",
          "Racing",
          "Racing",
          "Racing",
          "Racing",
          "Racing",
          "Racing",
          "Racing",
          "Racing",
          "Racing",
          "Racing",
          "Racing",
          "Racing",
          "Racing",
          "Racing",
          "Racing",
          "Racing",
          "Racing",
          "Racing",
          "Racing",
          "Racing",
          "Racing",
          "Racing",
          "Racing",
          "Racing",
          "Racing",
          "Racing",
          "Racing",
          "Racing",
          "Racing",
          "Racing",
          "Racing",
          "Racing",
          "Racing",
          "Racing",
          "Racing",
          "Racing",
          "Racing",
          "Racing",
          "Racing",
          "Racing",
          "Racing",
          "Racing",
          "Racing",
          "Racing",
          "Racing",
          "Racing",
          "Racing",
          "Racing",
          "Racing",
          "Racing",
          "Mountain",
          "Mountain",
          "Mountain",
          "Mountain",
          "Mountain",
          "Mountain",
          "Mountain",
          "Mountain",
          "Mountain",
          "Mountain",
          "Mountain",
          "Mountain",
          "Mountain",
          "Mountain",
          "Mountain",
          "Mountain",
          "Mountain",
          "Mountain",
          "Mountain",
          "Mountain",
          "Mountain",
          "Mountain",
          "Mountain",
          "Mountain",
          "Mountain",
          "Mountain",
          "Mountain",
          "Mountain",
          "Mountain",
          "Mountain",
          "Mountain",
          "Mountain",
          "Mountain",
          "Mountain",
          "Mountain",
          "Mountain",
          "Mountain",
          "Mountain",
          "Mountain",
          "Mountain",
          "Mountain",
          "Mountain",
          "Mountain",
          "Mountain",
          "Mountain",
          "Mountain",
          "Mountain",
          "Mountain",
          "Mountain",
          "Mountain",
          "Mountain",
          "Mountain",
          "Mountain",
          "Mountain",
          "Mountain",
          "Mountain",
          "Mountain",
          "Mountain",
          "Mountain",
          "Mountain",
          "Mountain",
          "Mountain",
          "Mountain",
          "Mountain",
          "Mountain",
          "Mountain",
          "Mountain",
          "Mountain",
          "Mountain",
          "Mountain",
          "Mountain",
          "Mountain",
          "Mountain",
          "Mountain",
          "Mountain",
          "Mountain",
          "Mountain",
          "Mountain",
          "Mountain",
          "Mountain",
          "Mountain",
          "Mountain",
          "Mountain",
          "Mountain",
          "Mountain",
          "Mountain",
          "Mountain",
          "Mountain",
          "Mountain",
          "Mountain",
          "Mountain",
          "Mountain",
          "Mountain",
          "Mountain",
          "Mountain",
          "Mountain",
          "Mountain",
          "Mountain",
          "Mountain",
          "Mountain",
          "Mountain",
          "Mountain",
          "Mountain",
          "Mountain",
          "Mountain",
          "Mountain",
          "Mountain",
          "Mountain",
          "Tricycle",
          "Tricycle",
          "Tricycle",
          "Tricycle",
          "Tricycle",
          "Tricycle",
          "Tricycle",
          "Tricycle",
          "Tricycle",
          "Tricycle",
          "Tricycle",
          "Tricycle",
          "Tricycle",
          "Tricycle",
          "Tricycle",
          "Tricycle",
          "Tricycle",
          "Tricycle",
          "Tricycle",
          "Tricycle",
          "Tricycle",
          "Tricycle",
          "Tricycle",
          "Tricycle",
          "Tricycle",
          "Tricycle",
          "Tricycle",
          "Tricycle",
          "Tricycle",
          "Tricycle",
          "Tricycle",
          "Tricycle",
          "Tricycle",
          "Tricycle",
          "Tricycle",
          "Tricycle",
          "Tricycle",
          "Tricycle",
          "Tricycle",
          "Tricycle",
          "Tricycle",
          "Tricycle",
          "Tricycle",
          "Tricycle",
          "Tricycle",
          "Tricycle",
          "Tricycle",
          "Tricycle",
          "Tricycle",
          "Tricycle",
          "Tricycle",
          "Tricycle",
          "Tricycle",
          "Tricycle",
          "Tricycle",
          "Tricycle",
          "Tricycle",
          "Tricycle",
          "Tricycle",
          "Tricycle",
          "Tricycle",
          "Tricycle",
          "Tricycle",
          "Tricycle",
          "Tricycle",
          "Tricycle",
          "Tricycle",
          "Tricycle",
          "Tricycle",
          "Tricycle",
          "Tricycle",
          "Tricycle",
          "Tricycle",
          "Tricycle",
          "Tricycle",
          "Tricycle",
          "Tricycle",
          "Tricycle",
          "Tricycle",
          "Tricycle",
          "Tricycle",
          "Tricycle",
          "Tricycle",
          "Tricycle",
          "Tricycle",
          "Tricycle",
          "Tricycle",
          "Tricycle",
          "Tricycle",
          "Tricycle",
          "Tricycle",
          "Tricycle",
          "Tricycle",
          "Tricycle",
          "Tricycle",
          "Tricycle",
          "Tricycle",
          "Tricycle",
          "Tricycle",
          "Tricycle",
          "Tricycle",
          "Tricycle",
          "Tricycle",
          "Tricycle",
          "Tricycle",
          "Tricycle"
         ],
         "x0": " ",
         "xaxis": "x",
         "y": {
          "bdata": "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",
          "dtype": "f8"
         },
         "y0": " ",
         "yaxis": "y"
        },
        {
         "alignmentgroup": "True",
         "hovertemplate": "Area=Area2<br>Category=%{x}<br>Incremental Profit=%{y}<extra></extra>",
         "legendgroup": "Area2",
         "marker": {
          "color": "#EF553B"
         },
         "name": "Area2",
         "notched": false,
         "offsetgroup": "Area2",
         "orientation": "v",
         "showlegend": true,
         "type": "box",
         "x": [
          "Child",
          "Child",
          "Child",
          "Child",
          "Child",
          "Child",
          "Child",
          "Child",
          "Child",
          "Child",
          "Child",
          "Child",
          "Child",
          "Child",
          "Child",
          "Child",
          "Child",
          "Child",
          "Child",
          "Child",
          "Child",
          "Child",
          "Child",
          "Child",
          "Child",
          "Child",
          "Child",
          "Child",
          "Child",
          "Child",
          "Child",
          "Child",
          "Child",
          "Child",
          "Child",
          "Child",
          "Child",
          "Child",
          "Child",
          "Child",
          "Child",
          "Child",
          "Child",
          "Child",
          "Child",
          "Child",
          "Child",
          "Child",
          "Child",
          "Child",
          "Child",
          "Child",
          "Child",
          "Adult",
          "Adult",
          "Adult",
          "Adult",
          "Adult",
          "Adult",
          "Adult",
          "Adult",
          "Adult",
          "Adult",
          "Adult",
          "Adult",
          "Adult",
          "Adult",
          "Adult",
          "Adult",
          "Adult",
          "Adult",
          "Adult",
          "Adult",
          "Adult",
          "Adult",
          "Adult",
          "Adult",
          "Adult",
          "Adult",
          "Adult",
          "Adult",
          "Adult",
          "Adult",
          "Adult",
          "Adult",
          "Adult",
          "Adult",
          "Adult",
          "Adult",
          "Adult",
          "Adult",
          "Adult",
          "Adult",
          "Adult",
          "Adult",
          "Adult",
          "Adult",
          "Adult",
          "Adult",
          "Adult",
          "Adult",
          "Adult",
          "Adult",
          "Adult",
          "Adult",
          "Adult",
          "Adult",
          "Adult",
          "Adult",
          "Adult",
          "Adult",
          "Adult",
          "Electric",
          "Electric",
          "Electric",
          "Electric",
          "Electric",
          "Electric",
          "Electric",
          "Electric",
          "Electric",
          "Electric",
          "Electric",
          "Electric",
          "Electric",
          "Electric",
          "Electric",
          "Electric",
          "Electric",
          "Electric",
          "Electric",
          "Electric",
          "Electric",
          "Electric",
          "Electric",
          "Electric",
          "Electric",
          "Electric",
          "Electric",
          "Electric",
          "Electric",
          "Electric",
          "Electric",
          "Electric",
          "Electric",
          "Electric",
          "Electric",
          "Electric",
          "Electric",
          "Electric",
          "Electric",
          "Electric",
          "Electric",
          "Electric",
          "Electric",
          "Electric",
          "Electric",
          "Electric",
          "Electric",
          "Electric",
          "Electric",
          "Electric",
          "Electric",
          "Electric",
          "Electric",
          "Electric",
          "Electric",
          "Electric",
          "Electric",
          "Electric",
          "Electric",
          "Electric",
          "Electric",
          "Electric",
          "Electric",
          "Electric",
          "Electric",
          "Electric",
          "Electric",
          "Electric",
          "Electric",
          "Electric",
          "Electric",
          "Racing",
          "Racing",
          "Racing",
          "Racing",
          "Racing",
          "Racing",
          "Racing",
          "Racing",
          "Racing",
          "Racing",
          "Racing",
          "Racing",
          "Racing",
          "Racing",
          "Racing",
          "Racing",
          "Racing",
          "Racing",
          "Racing",
          "Racing",
          "Racing",
          "Racing",
          "Racing",
          "Racing",
          "Racing",
          "Racing",
          "Racing",
          "Racing",
          "Racing",
          "Racing",
          "Racing",
          "Racing",
          "Racing",
          "Racing",
          "Racing",
          "Racing",
          "Racing",
          "Racing",
          "Racing",
          "Racing",
          "Racing",
          "Racing",
          "Racing",
          "Racing",
          "Racing",
          "Racing",
          "Racing",
          "Racing",
          "Racing",
          "Racing",
          "Racing",
          "Racing",
          "Racing",
          "Racing",
          "Racing",
          "Mountain",
          "Mountain",
          "Mountain",
          "Mountain",
          "Mountain",
          "Mountain",
          "Mountain",
          "Mountain",
          "Mountain",
          "Mountain",
          "Mountain",
          "Mountain",
          "Mountain",
          "Mountain",
          "Mountain",
          "Mountain",
          "Mountain",
          "Mountain",
          "Mountain",
          "Mountain",
          "Mountain",
          "Mountain",
          "Mountain",
          "Mountain",
          "Mountain",
          "Mountain",
          "Mountain",
          "Mountain",
          "Mountain",
          "Mountain",
          "Mountain",
          "Mountain",
          "Mountain",
          "Mountain",
          "Mountain",
          "Mountain",
          "Mountain",
          "Mountain",
          "Mountain",
          "Mountain",
          "Mountain",
          "Mountain",
          "Mountain",
          "Mountain",
          "Mountain",
          "Mountain",
          "Mountain",
          "Mountain",
          "Mountain",
          "Mountain",
          "Mountain",
          "Mountain",
          "Mountain",
          "Mountain",
          "Mountain",
          "Mountain",
          "Mountain",
          "Mountain",
          "Mountain",
          "Mountain",
          "Mountain",
          "Mountain",
          "Mountain",
          "Tricycle",
          "Tricycle",
          "Tricycle",
          "Tricycle",
          "Tricycle",
          "Tricycle",
          "Tricycle",
          "Tricycle",
          "Tricycle",
          "Tricycle",
          "Tricycle",
          "Tricycle",
          "Tricycle",
          "Tricycle",
          "Tricycle",
          "Tricycle",
          "Tricycle",
          "Tricycle",
          "Tricycle",
          "Tricycle",
          "Tricycle",
          "Tricycle",
          "Tricycle",
          "Tricycle",
          "Tricycle",
          "Tricycle",
          "Tricycle",
          "Tricycle",
          "Tricycle",
          "Tricycle",
          "Tricycle",
          "Tricycle",
          "Tricycle",
          "Tricycle",
          "Tricycle",
          "Tricycle",
          "Tricycle",
          "Tricycle",
          "Tricycle",
          "Tricycle",
          "Tricycle",
          "Tricycle",
          "Tricycle",
          "Tricycle",
          "Tricycle",
          "Tricycle",
          "Tricycle",
          "Tricycle",
          "Tricycle",
          "Tricycle",
          "Tricycle",
          "Tricycle",
          "Tricycle",
          "Tricycle",
          "Tricycle",
          "Tricycle",
          "Tricycle",
          "Tricycle",
          "Tricycle",
          "Tricycle",
          "Tricycle",
          "Tricycle",
          "Tricycle",
          "Tricycle",
          "Tricycle",
          "Tricycle",
          "Tricycle",
          "Tricycle"
         ],
         "x0": " ",
         "xaxis": "x",
         "y": {
          "bdata": "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",
          "dtype": "f8"
         },
         "y0": " ",
         "yaxis": "y"
        },
        {
         "alignmentgroup": "True",
         "hovertemplate": "Area=Area3<br>Category=%{x}<br>Incremental Profit=%{y}<extra></extra>",
         "legendgroup": "Area3",
         "marker": {
          "color": "#00cc96"
         },
         "name": "Area3",
         "notched": false,
         "offsetgroup": "Area3",
         "orientation": "v",
         "showlegend": true,
         "type": "box",
         "x": [
          "Child",
          "Child",
          "Child",
          "Child",
          "Child",
          "Child",
          "Child",
          "Child",
          "Child",
          "Child",
          "Child",
          "Child",
          "Child",
          "Child",
          "Child",
          "Child",
          "Child",
          "Child",
          "Child",
          "Child",
          "Child",
          "Child",
          "Child",
          "Child",
          "Child",
          "Child",
          "Child",
          "Child",
          "Child",
          "Child",
          "Child",
          "Child",
          "Child",
          "Child",
          "Child",
          "Child",
          "Child",
          "Child",
          "Child",
          "Child",
          "Child",
          "Child",
          "Child",
          "Child",
          "Child",
          "Child",
          "Child",
          "Child",
          "Child",
          "Child",
          "Child",
          "Child",
          "Child",
          "Child",
          "Child",
          "Child",
          "Child",
          "Child",
          "Child",
          "Child",
          "Child",
          "Child",
          "Child",
          "Child",
          "Child",
          "Child",
          "Child",
          "Child",
          "Child",
          "Child",
          "Child",
          "Child",
          "Child",
          "Child",
          "Child",
          "Child",
          "Child",
          "Child",
          "Child",
          "Child",
          "Child",
          "Child",
          "Child",
          "Child",
          "Child",
          "Child",
          "Child",
          "Child",
          "Child",
          "Child",
          "Child",
          "Child",
          "Child",
          "Child",
          "Child",
          "Child",
          "Adult",
          "Adult",
          "Adult",
          "Adult",
          "Adult",
          "Adult",
          "Adult",
          "Adult",
          "Adult",
          "Adult",
          "Adult",
          "Adult",
          "Adult",
          "Adult",
          "Adult",
          "Adult",
          "Adult",
          "Adult",
          "Adult",
          "Adult",
          "Adult",
          "Adult",
          "Adult",
          "Adult",
          "Adult",
          "Adult",
          "Adult",
          "Adult",
          "Adult",
          "Adult",
          "Adult",
          "Adult",
          "Adult",
          "Adult",
          "Adult",
          "Adult",
          "Adult",
          "Adult",
          "Adult",
          "Adult",
          "Adult",
          "Adult",
          "Adult",
          "Adult",
          "Adult",
          "Adult",
          "Adult",
          "Adult",
          "Adult",
          "Adult",
          "Adult",
          "Adult",
          "Adult",
          "Adult",
          "Adult",
          "Adult",
          "Adult",
          "Adult",
          "Adult",
          "Adult",
          "Adult",
          "Adult",
          "Adult",
          "Adult",
          "Adult",
          "Adult",
          "Adult",
          "Adult",
          "Adult",
          "Adult",
          "Adult",
          "Adult",
          "Adult",
          "Adult",
          "Adult",
          "Adult",
          "Adult",
          "Adult",
          "Adult",
          "Adult",
          "Adult",
          "Adult",
          "Adult",
          "Adult",
          "Adult",
          "Adult",
          "Adult",
          "Adult",
          "Adult",
          "Adult",
          "Adult",
          "Adult",
          "Adult",
          "Electric",
          "Electric",
          "Electric",
          "Electric",
          "Electric",
          "Electric",
          "Electric",
          "Electric",
          "Electric",
          "Electric",
          "Electric",
          "Electric",
          "Electric",
          "Electric",
          "Electric",
          "Electric",
          "Electric",
          "Electric",
          "Electric",
          "Electric",
          "Electric",
          "Electric",
          "Electric",
          "Electric",
          "Electric",
          "Electric",
          "Electric",
          "Electric",
          "Electric",
          "Electric",
          "Electric",
          "Electric",
          "Electric",
          "Electric",
          "Electric",
          "Electric",
          "Electric",
          "Electric",
          "Electric",
          "Electric",
          "Electric",
          "Electric",
          "Electric",
          "Electric",
          "Electric",
          "Electric",
          "Electric",
          "Electric",
          "Electric",
          "Electric",
          "Electric",
          "Electric",
          "Electric",
          "Electric",
          "Electric",
          "Electric",
          "Electric",
          "Electric",
          "Electric",
          "Electric",
          "Electric",
          "Electric",
          "Electric",
          "Electric",
          "Electric",
          "Electric",
          "Electric",
          "Electric",
          "Electric",
          "Electric",
          "Electric",
          "Electric",
          "Electric",
          "Electric",
          "Electric",
          "Electric",
          "Electric",
          "Electric",
          "Electric",
          "Electric",
          "Electric",
          "Electric",
          "Electric",
          "Electric",
          "Electric",
          "Electric",
          "Electric",
          "Electric",
          "Electric",
          "Electric",
          "Electric",
          "Electric",
          "Electric",
          "Electric",
          "Electric",
          "Electric",
          "Electric",
          "Electric",
          "Electric",
          "Electric",
          "Electric",
          "Electric",
          "Electric",
          "Electric",
          "Electric",
          "Electric",
          "Electric",
          "Electric",
          "Electric",
          "Electric",
          "Electric",
          "Racing",
          "Racing",
          "Racing",
          "Racing",
          "Racing",
          "Racing",
          "Racing",
          "Racing",
          "Racing",
          "Racing",
          "Racing",
          "Racing",
          "Racing",
          "Racing",
          "Racing",
          "Racing",
          "Racing",
          "Racing",
          "Racing",
          "Racing",
          "Racing",
          "Racing",
          "Racing",
          "Racing",
          "Racing",
          "Racing",
          "Racing",
          "Racing",
          "Racing",
          "Racing",
          "Racing",
          "Racing",
          "Racing",
          "Racing",
          "Racing",
          "Racing",
          "Racing",
          "Racing",
          "Racing",
          "Racing",
          "Racing",
          "Racing",
          "Racing",
          "Racing",
          "Racing",
          "Racing",
          "Racing",
          "Racing",
          "Racing",
          "Racing",
          "Racing",
          "Racing",
          "Racing",
          "Racing",
          "Racing",
          "Racing",
          "Racing",
          "Racing",
          "Racing",
          "Racing",
          "Racing",
          "Racing",
          "Racing",
          "Racing",
          "Racing",
          "Racing",
          "Racing",
          "Racing",
          "Racing",
          "Racing",
          "Racing",
          "Racing",
          "Racing",
          "Racing",
          "Racing",
          "Racing",
          "Racing",
          "Racing",
          "Racing",
          "Racing",
          "Racing",
          "Racing",
          "Racing",
          "Racing",
          "Racing",
          "Racing",
          "Racing",
          "Racing",
          "Racing",
          "Racing",
          "Racing",
          "Racing",
          "Racing",
          "Mountain",
          "Mountain",
          "Mountain",
          "Mountain",
          "Mountain",
          "Mountain",
          "Mountain",
          "Mountain",
          "Mountain",
          "Mountain",
          "Mountain",
          "Mountain",
          "Mountain",
          "Mountain",
          "Mountain",
          "Mountain",
          "Mountain",
          "Mountain",
          "Mountain",
          "Mountain",
          "Mountain",
          "Mountain",
          "Mountain",
          "Mountain",
          "Mountain",
          "Mountain",
          "Mountain",
          "Mountain",
          "Mountain",
          "Mountain",
          "Mountain",
          "Mountain",
          "Mountain",
          "Mountain",
          "Mountain",
          "Mountain",
          "Mountain",
          "Mountain",
          "Mountain",
          "Mountain",
          "Mountain",
          "Mountain",
          "Mountain",
          "Mountain",
          "Mountain",
          "Mountain",
          "Mountain",
          "Mountain",
          "Mountain",
          "Mountain",
          "Mountain",
          "Mountain",
          "Mountain",
          "Mountain",
          "Mountain",
          "Mountain",
          "Mountain",
          "Mountain",
          "Mountain",
          "Mountain",
          "Mountain",
          "Mountain",
          "Mountain",
          "Mountain",
          "Mountain",
          "Mountain",
          "Mountain",
          "Mountain",
          "Mountain",
          "Mountain",
          "Mountain",
          "Mountain",
          "Mountain",
          "Mountain",
          "Mountain",
          "Mountain",
          "Mountain",
          "Mountain",
          "Mountain",
          "Mountain",
          "Mountain",
          "Mountain",
          "Mountain",
          "Mountain",
          "Mountain",
          "Mountain",
          "Mountain",
          "Mountain",
          "Mountain",
          "Mountain",
          "Mountain",
          "Mountain",
          "Mountain",
          "Mountain",
          "Mountain",
          "Mountain",
          "Mountain",
          "Mountain",
          "Mountain",
          "Mountain",
          "Mountain",
          "Mountain",
          "Mountain",
          "Mountain",
          "Mountain",
          "Mountain",
          "Mountain",
          "Tricycle",
          "Tricycle",
          "Tricycle",
          "Tricycle",
          "Tricycle",
          "Tricycle",
          "Tricycle",
          "Tricycle",
          "Tricycle",
          "Tricycle",
          "Tricycle",
          "Tricycle",
          "Tricycle",
          "Tricycle",
          "Tricycle",
          "Tricycle",
          "Tricycle",
          "Tricycle",
          "Tricycle",
          "Tricycle",
          "Tricycle",
          "Tricycle",
          "Tricycle",
          "Tricycle",
          "Tricycle",
          "Tricycle",
          "Tricycle",
          "Tricycle",
          "Tricycle",
          "Tricycle",
          "Tricycle",
          "Tricycle",
          "Tricycle",
          "Tricycle",
          "Tricycle",
          "Tricycle",
          "Tricycle",
          "Tricycle",
          "Tricycle",
          "Tricycle",
          "Tricycle",
          "Tricycle",
          "Tricycle",
          "Tricycle",
          "Tricycle",
          "Tricycle",
          "Tricycle",
          "Tricycle",
          "Tricycle",
          "Tricycle",
          "Tricycle",
          "Tricycle",
          "Tricycle",
          "Tricycle",
          "Tricycle",
          "Tricycle",
          "Tricycle",
          "Tricycle",
          "Tricycle",
          "Tricycle",
          "Tricycle",
          "Tricycle",
          "Tricycle",
          "Tricycle",
          "Tricycle",
          "Tricycle",
          "Tricycle",
          "Tricycle",
          "Tricycle",
          "Tricycle",
          "Tricycle",
          "Tricycle",
          "Tricycle",
          "Tricycle",
          "Tricycle",
          "Tricycle",
          "Tricycle",
          "Tricycle",
          "Tricycle",
          "Tricycle",
          "Tricycle",
          "Tricycle",
          "Tricycle",
          "Tricycle",
          "Tricycle",
          "Tricycle",
          "Tricycle",
          "Tricycle",
          "Tricycle",
          "Tricycle",
          "Tricycle",
          "Tricycle",
          "Tricycle",
          "Tricycle",
          "Tricycle",
          "Tricycle",
          "Tricycle",
          "Tricycle",
          "Tricycle",
          "Tricycle",
          "Tricycle",
          "Tricycle",
          "Tricycle",
          "Tricycle",
          "Tricycle",
          "Tricycle"
         ],
         "x0": " ",
         "xaxis": "x",
         "y": {
          "bdata": "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",
          "dtype": "f8"
         },
         "y0": " ",
         "yaxis": "y"
        },
        {
         "alignmentgroup": "True",
         "hovertemplate": "Area=Area4<br>Category=%{x}<br>Incremental Profit=%{y}<extra></extra>",
         "legendgroup": "Area4",
         "marker": {
          "color": "#ab63fa"
         },
         "name": "Area4",
         "notched": false,
         "offsetgroup": "Area4",
         "orientation": "v",
         "showlegend": true,
         "type": "box",
         "x": [
          "Child",
          "Child",
          "Child",
          "Child",
          "Child",
          "Child",
          "Child",
          "Child",
          "Child",
          "Child",
          "Child",
          "Child",
          "Child",
          "Child",
          "Child",
          "Child",
          "Child",
          "Child",
          "Child",
          "Child",
          "Child",
          "Child",
          "Child",
          "Child",
          "Child",
          "Child",
          "Child",
          "Child",
          "Child",
          "Child",
          "Child",
          "Child",
          "Child",
          "Child",
          "Child",
          "Child",
          "Child",
          "Child",
          "Child",
          "Child",
          "Child",
          "Child",
          "Child",
          "Child",
          "Child",
          "Child",
          "Child",
          "Child",
          "Child",
          "Child",
          "Child",
          "Child",
          "Child",
          "Child",
          "Child",
          "Child",
          "Child",
          "Child",
          "Child",
          "Child",
          "Child",
          "Child",
          "Child",
          "Child",
          "Child",
          "Child",
          "Child",
          "Child",
          "Child",
          "Child",
          "Child",
          "Child",
          "Child",
          "Child",
          "Child",
          "Child",
          "Child",
          "Child",
          "Child",
          "Child",
          "Child",
          "Child",
          "Child",
          "Child",
          "Child",
          "Child",
          "Child",
          "Child",
          "Child",
          "Child",
          "Child",
          "Child",
          "Child",
          "Child",
          "Child",
          "Child",
          "Child",
          "Child",
          "Child",
          "Child",
          "Child",
          "Child",
          "Child",
          "Child",
          "Child",
          "Adult",
          "Adult",
          "Adult",
          "Adult",
          "Adult",
          "Adult",
          "Adult",
          "Adult",
          "Adult",
          "Adult",
          "Adult",
          "Adult",
          "Adult",
          "Adult",
          "Adult",
          "Adult",
          "Adult",
          "Adult",
          "Adult",
          "Adult",
          "Adult",
          "Adult",
          "Adult",
          "Adult",
          "Adult",
          "Adult",
          "Adult",
          "Adult",
          "Adult",
          "Adult",
          "Adult",
          "Adult",
          "Adult",
          "Adult",
          "Adult",
          "Adult",
          "Adult",
          "Adult",
          "Adult",
          "Adult",
          "Adult",
          "Adult",
          "Adult",
          "Adult",
          "Adult",
          "Adult",
          "Adult",
          "Adult",
          "Adult",
          "Adult",
          "Adult",
          "Adult",
          "Adult",
          "Adult",
          "Adult",
          "Adult",
          "Adult",
          "Adult",
          "Adult",
          "Adult",
          "Adult",
          "Adult",
          "Adult",
          "Adult",
          "Adult",
          "Adult",
          "Adult",
          "Adult",
          "Adult",
          "Adult",
          "Adult",
          "Adult",
          "Adult",
          "Adult",
          "Adult",
          "Adult",
          "Adult",
          "Adult",
          "Adult",
          "Adult",
          "Adult",
          "Adult",
          "Adult",
          "Adult",
          "Adult",
          "Adult",
          "Adult",
          "Adult",
          "Adult",
          "Adult",
          "Adult",
          "Adult",
          "Adult",
          "Adult",
          "Adult",
          "Adult",
          "Adult",
          "Electric",
          "Electric",
          "Electric",
          "Electric",
          "Electric",
          "Electric",
          "Electric",
          "Electric",
          "Electric",
          "Electric",
          "Electric",
          "Electric",
          "Electric",
          "Electric",
          "Electric",
          "Electric",
          "Electric",
          "Electric",
          "Electric",
          "Electric",
          "Electric",
          "Electric",
          "Electric",
          "Electric",
          "Electric",
          "Electric",
          "Electric",
          "Electric",
          "Electric",
          "Electric",
          "Electric",
          "Electric",
          "Electric",
          "Electric",
          "Electric",
          "Electric",
          "Electric",
          "Electric",
          "Electric",
          "Electric",
          "Electric",
          "Electric",
          "Electric",
          "Electric",
          "Electric",
          "Electric",
          "Electric",
          "Electric",
          "Electric",
          "Electric",
          "Electric",
          "Electric",
          "Electric",
          "Electric",
          "Electric",
          "Electric",
          "Electric",
          "Electric",
          "Electric",
          "Electric",
          "Electric",
          "Electric",
          "Electric",
          "Electric",
          "Electric",
          "Electric",
          "Electric",
          "Electric",
          "Electric",
          "Electric",
          "Electric",
          "Electric",
          "Electric",
          "Electric",
          "Electric",
          "Electric",
          "Electric",
          "Electric",
          "Racing",
          "Racing",
          "Racing",
          "Racing",
          "Racing",
          "Racing",
          "Racing",
          "Racing",
          "Racing",
          "Racing",
          "Racing",
          "Racing",
          "Racing",
          "Racing",
          "Racing",
          "Racing",
          "Racing",
          "Racing",
          "Racing",
          "Racing",
          "Racing",
          "Racing",
          "Racing",
          "Racing",
          "Racing",
          "Racing",
          "Racing",
          "Racing",
          "Racing",
          "Racing",
          "Racing",
          "Racing",
          "Racing",
          "Racing",
          "Racing",
          "Racing",
          "Racing",
          "Racing",
          "Racing",
          "Racing",
          "Racing",
          "Racing",
          "Racing",
          "Racing",
          "Racing",
          "Racing",
          "Racing",
          "Racing",
          "Racing",
          "Racing",
          "Racing",
          "Racing",
          "Racing",
          "Racing",
          "Racing",
          "Racing",
          "Racing",
          "Racing",
          "Racing",
          "Racing",
          "Racing",
          "Racing",
          "Racing",
          "Racing",
          "Racing",
          "Racing",
          "Racing",
          "Racing",
          "Racing",
          "Racing",
          "Racing",
          "Racing",
          "Racing",
          "Racing",
          "Racing",
          "Racing",
          "Racing",
          "Racing",
          "Racing",
          "Racing",
          "Racing",
          "Racing",
          "Racing",
          "Racing",
          "Racing",
          "Racing",
          "Racing",
          "Racing",
          "Racing",
          "Racing",
          "Racing",
          "Racing",
          "Racing",
          "Racing",
          "Racing",
          "Racing",
          "Racing",
          "Racing",
          "Racing",
          "Racing",
          "Racing",
          "Racing",
          "Racing",
          "Racing",
          "Racing",
          "Mountain",
          "Mountain",
          "Mountain",
          "Mountain",
          "Mountain",
          "Mountain",
          "Mountain",
          "Mountain",
          "Mountain",
          "Mountain",
          "Mountain",
          "Mountain",
          "Mountain",
          "Mountain",
          "Mountain",
          "Mountain",
          "Mountain",
          "Mountain",
          "Mountain",
          "Mountain",
          "Mountain",
          "Mountain",
          "Mountain",
          "Mountain",
          "Mountain",
          "Mountain",
          "Mountain",
          "Mountain",
          "Mountain",
          "Mountain",
          "Mountain",
          "Mountain",
          "Mountain",
          "Mountain",
          "Mountain",
          "Mountain",
          "Mountain",
          "Mountain",
          "Mountain",
          "Mountain",
          "Mountain",
          "Mountain",
          "Mountain",
          "Mountain",
          "Mountain",
          "Mountain",
          "Mountain",
          "Mountain",
          "Mountain",
          "Mountain",
          "Mountain",
          "Mountain",
          "Mountain",
          "Mountain",
          "Mountain",
          "Mountain",
          "Mountain",
          "Mountain",
          "Mountain",
          "Mountain",
          "Mountain",
          "Mountain",
          "Mountain",
          "Mountain",
          "Mountain",
          "Mountain",
          "Mountain",
          "Mountain",
          "Mountain",
          "Mountain",
          "Mountain",
          "Mountain",
          "Mountain",
          "Mountain",
          "Mountain",
          "Mountain",
          "Mountain",
          "Mountain",
          "Mountain",
          "Mountain",
          "Mountain",
          "Mountain",
          "Mountain",
          "Mountain",
          "Mountain",
          "Mountain",
          "Mountain",
          "Mountain",
          "Mountain",
          "Mountain",
          "Mountain",
          "Mountain",
          "Mountain",
          "Mountain",
          "Mountain",
          "Mountain",
          "Mountain",
          "Mountain",
          "Mountain",
          "Mountain",
          "Mountain",
          "Mountain",
          "Mountain",
          "Mountain",
          "Mountain",
          "Mountain",
          "Mountain",
          "Mountain",
          "Tricycle",
          "Tricycle",
          "Tricycle",
          "Tricycle",
          "Tricycle",
          "Tricycle",
          "Tricycle",
          "Tricycle",
          "Tricycle",
          "Tricycle",
          "Tricycle",
          "Tricycle",
          "Tricycle",
          "Tricycle",
          "Tricycle",
          "Tricycle",
          "Tricycle",
          "Tricycle",
          "Tricycle",
          "Tricycle",
          "Tricycle",
          "Tricycle",
          "Tricycle",
          "Tricycle",
          "Tricycle",
          "Tricycle",
          "Tricycle",
          "Tricycle",
          "Tricycle",
          "Tricycle",
          "Tricycle",
          "Tricycle",
          "Tricycle",
          "Tricycle",
          "Tricycle",
          "Tricycle",
          "Tricycle",
          "Tricycle",
          "Tricycle",
          "Tricycle",
          "Tricycle",
          "Tricycle",
          "Tricycle",
          "Tricycle",
          "Tricycle",
          "Tricycle",
          "Tricycle",
          "Tricycle",
          "Tricycle",
          "Tricycle",
          "Tricycle",
          "Tricycle",
          "Tricycle",
          "Tricycle",
          "Tricycle",
          "Tricycle",
          "Tricycle",
          "Tricycle",
          "Tricycle",
          "Tricycle",
          "Tricycle",
          "Tricycle",
          "Tricycle",
          "Tricycle",
          "Tricycle",
          "Tricycle",
          "Tricycle",
          "Tricycle",
          "Tricycle",
          "Tricycle",
          "Tricycle",
          "Tricycle",
          "Tricycle",
          "Tricycle",
          "Tricycle",
          "Tricycle",
          "Tricycle",
          "Tricycle",
          "Tricycle",
          "Tricycle",
          "Tricycle",
          "Tricycle",
          "Tricycle",
          "Tricycle",
          "Tricycle",
          "Tricycle",
          "Tricycle",
          "Tricycle",
          "Tricycle",
          "Tricycle",
          "Tricycle",
          "Tricycle",
          "Tricycle",
          "Tricycle",
          "Tricycle",
          "Tricycle",
          "Tricycle",
          "Tricycle",
          "Tricycle",
          "Tricycle",
          "Tricycle",
          "Tricycle",
          "Tricycle",
          "Tricycle",
          "Tricycle",
          "Tricycle",
          "Tricycle",
          "Tricycle",
          "Tricycle"
         ],
         "x0": " ",
         "xaxis": "x",
         "y": {
          "bdata": "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",
          "dtype": "f8"
         },
         "y0": " ",
         "yaxis": "y"
        },
        {
         "alignmentgroup": "True",
         "hovertemplate": "Area=Area5<br>Category=%{x}<br>Incremental Profit=%{y}<extra></extra>",
         "legendgroup": "Area5",
         "marker": {
          "color": "#FFA15A"
         },
         "name": "Area5",
         "notched": false,
         "offsetgroup": "Area5",
         "orientation": "v",
         "showlegend": true,
         "type": "box",
         "x": [
          "Child",
          "Child",
          "Child",
          "Child",
          "Child",
          "Child",
          "Child",
          "Child",
          "Child",
          "Child",
          "Child",
          "Child",
          "Child",
          "Child",
          "Child",
          "Child",
          "Child",
          "Child",
          "Child",
          "Child",
          "Child",
          "Child",
          "Child",
          "Child",
          "Child",
          "Child",
          "Child",
          "Child",
          "Child",
          "Child",
          "Child",
          "Child",
          "Child",
          "Child",
          "Child",
          "Child",
          "Child",
          "Child",
          "Child",
          "Child",
          "Child",
          "Child",
          "Child",
          "Child",
          "Child",
          "Child",
          "Child",
          "Child",
          "Child",
          "Adult",
          "Adult",
          "Adult",
          "Adult",
          "Adult",
          "Adult",
          "Adult",
          "Adult",
          "Adult",
          "Adult",
          "Adult",
          "Adult",
          "Adult",
          "Adult",
          "Adult",
          "Adult",
          "Adult",
          "Adult",
          "Adult",
          "Adult",
          "Adult",
          "Adult",
          "Adult",
          "Adult",
          "Adult",
          "Adult",
          "Adult",
          "Adult",
          "Adult",
          "Adult",
          "Adult",
          "Adult",
          "Adult",
          "Adult",
          "Adult",
          "Adult",
          "Adult",
          "Adult",
          "Adult",
          "Adult",
          "Adult",
          "Electric",
          "Electric",
          "Electric",
          "Electric",
          "Electric",
          "Electric",
          "Electric",
          "Electric",
          "Electric",
          "Electric",
          "Electric",
          "Electric",
          "Electric",
          "Electric",
          "Electric",
          "Electric",
          "Electric",
          "Electric",
          "Electric",
          "Electric",
          "Electric",
          "Electric",
          "Electric",
          "Electric",
          "Electric",
          "Electric",
          "Electric",
          "Electric",
          "Electric",
          "Electric",
          "Electric",
          "Electric",
          "Electric",
          "Electric",
          "Electric",
          "Electric",
          "Electric",
          "Electric",
          "Electric",
          "Electric",
          "Electric",
          "Electric",
          "Electric",
          "Electric",
          "Racing",
          "Racing",
          "Racing",
          "Racing",
          "Racing",
          "Racing",
          "Racing",
          "Racing",
          "Racing",
          "Racing",
          "Racing",
          "Racing",
          "Racing",
          "Racing",
          "Racing",
          "Racing",
          "Racing",
          "Racing",
          "Racing",
          "Racing",
          "Racing",
          "Racing",
          "Racing",
          "Racing",
          "Racing",
          "Racing",
          "Racing",
          "Racing",
          "Racing",
          "Racing",
          "Racing",
          "Racing",
          "Racing",
          "Racing",
          "Racing",
          "Racing",
          "Racing",
          "Racing",
          "Racing",
          "Racing",
          "Racing",
          "Racing",
          "Racing",
          "Racing",
          "Racing",
          "Racing",
          "Mountain",
          "Mountain",
          "Mountain",
          "Mountain",
          "Mountain",
          "Mountain",
          "Mountain",
          "Mountain",
          "Mountain",
          "Mountain",
          "Mountain",
          "Mountain",
          "Mountain",
          "Mountain",
          "Mountain",
          "Mountain",
          "Mountain",
          "Mountain",
          "Mountain",
          "Mountain",
          "Mountain",
          "Mountain",
          "Mountain",
          "Mountain",
          "Mountain",
          "Mountain",
          "Mountain",
          "Mountain",
          "Mountain",
          "Mountain",
          "Mountain",
          "Mountain",
          "Mountain",
          "Mountain",
          "Mountain",
          "Mountain",
          "Mountain",
          "Mountain",
          "Mountain",
          "Mountain",
          "Mountain",
          "Mountain",
          "Tricycle",
          "Tricycle",
          "Tricycle",
          "Tricycle",
          "Tricycle",
          "Tricycle",
          "Tricycle",
          "Tricycle",
          "Tricycle",
          "Tricycle",
          "Tricycle",
          "Tricycle",
          "Tricycle",
          "Tricycle",
          "Tricycle",
          "Tricycle",
          "Tricycle",
          "Tricycle",
          "Tricycle",
          "Tricycle",
          "Tricycle",
          "Tricycle",
          "Tricycle",
          "Tricycle",
          "Tricycle",
          "Tricycle",
          "Tricycle",
          "Tricycle",
          "Tricycle",
          "Tricycle",
          "Tricycle",
          "Tricycle",
          "Tricycle",
          "Tricycle",
          "Tricycle",
          "Tricycle",
          "Tricycle",
          "Tricycle",
          "Tricycle",
          "Tricycle",
          "Tricycle",
          "Tricycle",
          "Tricycle",
          "Tricycle",
          "Tricycle",
          "Tricycle",
          "Tricycle",
          "Tricycle"
         ],
         "x0": " ",
         "xaxis": "x",
         "y": {
          "bdata": "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",
          "dtype": "f8"
         },
         "y0": " ",
         "yaxis": "y"
        },
        {
         "alignmentgroup": "True",
         "hovertemplate": "Area=Area6<br>Category=%{x}<br>Incremental Profit=%{y}<extra></extra>",
         "legendgroup": "Area6",
         "marker": {
          "color": "#19d3f3"
         },
         "name": "Area6",
         "notched": false,
         "offsetgroup": "Area6",
         "orientation": "v",
         "showlegend": true,
         "type": "box",
         "x": [
          "Child",
          "Child",
          "Child",
          "Child",
          "Child",
          "Child",
          "Child",
          "Child",
          "Child",
          "Child",
          "Child",
          "Child",
          "Child",
          "Child",
          "Child",
          "Child",
          "Child",
          "Child",
          "Child",
          "Child",
          "Child",
          "Child",
          "Child",
          "Child",
          "Child",
          "Child",
          "Child",
          "Child",
          "Child",
          "Child",
          "Child",
          "Child",
          "Child",
          "Child",
          "Child",
          "Child",
          "Child",
          "Child",
          "Child",
          "Child",
          "Child",
          "Child",
          "Child",
          "Child",
          "Child",
          "Child",
          "Child",
          "Child",
          "Child",
          "Child",
          "Child",
          "Child",
          "Child",
          "Child",
          "Child",
          "Child",
          "Child",
          "Child",
          "Child",
          "Child",
          "Child",
          "Child",
          "Child",
          "Child",
          "Child",
          "Child",
          "Child",
          "Child",
          "Child",
          "Child",
          "Child",
          "Child",
          "Child",
          "Child",
          "Child",
          "Child",
          "Child",
          "Child",
          "Child",
          "Child",
          "Adult",
          "Adult",
          "Adult",
          "Adult",
          "Adult",
          "Adult",
          "Adult",
          "Adult",
          "Adult",
          "Adult",
          "Adult",
          "Adult",
          "Adult",
          "Adult",
          "Adult",
          "Adult",
          "Adult",
          "Adult",
          "Adult",
          "Adult",
          "Adult",
          "Adult",
          "Adult",
          "Adult",
          "Adult",
          "Adult",
          "Adult",
          "Adult",
          "Adult",
          "Adult",
          "Adult",
          "Adult",
          "Adult",
          "Adult",
          "Adult",
          "Adult",
          "Adult",
          "Adult",
          "Adult",
          "Adult",
          "Adult",
          "Adult",
          "Adult",
          "Adult",
          "Adult",
          "Adult",
          "Adult",
          "Adult",
          "Adult",
          "Adult",
          "Adult",
          "Adult",
          "Adult",
          "Adult",
          "Adult",
          "Adult",
          "Adult",
          "Adult",
          "Adult",
          "Adult",
          "Adult",
          "Adult",
          "Adult",
          "Adult",
          "Adult",
          "Adult",
          "Adult",
          "Adult",
          "Adult",
          "Adult",
          "Adult",
          "Adult",
          "Adult",
          "Adult",
          "Adult",
          "Adult",
          "Adult",
          "Adult",
          "Adult",
          "Adult",
          "Adult",
          "Adult",
          "Adult",
          "Adult",
          "Electric",
          "Electric",
          "Electric",
          "Electric",
          "Electric",
          "Electric",
          "Electric",
          "Electric",
          "Electric",
          "Electric",
          "Electric",
          "Electric",
          "Electric",
          "Electric",
          "Electric",
          "Electric",
          "Electric",
          "Electric",
          "Electric",
          "Electric",
          "Electric",
          "Electric",
          "Electric",
          "Electric",
          "Electric",
          "Electric",
          "Electric",
          "Electric",
          "Electric",
          "Electric",
          "Electric",
          "Electric",
          "Electric",
          "Electric",
          "Electric",
          "Electric",
          "Electric",
          "Electric",
          "Electric",
          "Electric",
          "Electric",
          "Electric",
          "Electric",
          "Electric",
          "Electric",
          "Electric",
          "Electric",
          "Electric",
          "Electric",
          "Electric",
          "Electric",
          "Electric",
          "Electric",
          "Electric",
          "Electric",
          "Electric",
          "Electric",
          "Electric",
          "Electric",
          "Electric",
          "Electric",
          "Electric",
          "Electric",
          "Electric",
          "Electric",
          "Electric",
          "Electric",
          "Electric",
          "Electric",
          "Electric",
          "Electric",
          "Electric",
          "Electric",
          "Electric",
          "Electric",
          "Electric",
          "Electric",
          "Electric",
          "Electric",
          "Electric",
          "Electric",
          "Electric",
          "Electric",
          "Electric",
          "Electric",
          "Electric",
          "Electric",
          "Electric",
          "Electric",
          "Electric",
          "Electric",
          "Electric",
          "Electric",
          "Electric",
          "Electric",
          "Electric",
          "Electric",
          "Racing",
          "Racing",
          "Racing",
          "Racing",
          "Racing",
          "Racing",
          "Racing",
          "Racing",
          "Racing",
          "Racing",
          "Racing",
          "Racing",
          "Racing",
          "Racing",
          "Racing",
          "Racing",
          "Racing",
          "Racing",
          "Racing",
          "Racing",
          "Racing",
          "Racing",
          "Racing",
          "Racing",
          "Racing",
          "Racing",
          "Racing",
          "Racing",
          "Racing",
          "Racing",
          "Racing",
          "Racing",
          "Racing",
          "Racing",
          "Racing",
          "Racing",
          "Racing",
          "Racing",
          "Racing",
          "Racing",
          "Racing",
          "Racing",
          "Racing",
          "Racing",
          "Racing",
          "Racing",
          "Racing",
          "Racing",
          "Racing",
          "Racing",
          "Racing",
          "Racing",
          "Racing",
          "Racing",
          "Racing",
          "Racing",
          "Racing",
          "Racing",
          "Racing",
          "Racing",
          "Racing",
          "Racing",
          "Racing",
          "Racing",
          "Racing",
          "Racing",
          "Racing",
          "Racing",
          "Racing",
          "Racing",
          "Racing",
          "Racing",
          "Racing",
          "Racing",
          "Mountain",
          "Mountain",
          "Mountain",
          "Mountain",
          "Mountain",
          "Mountain",
          "Mountain",
          "Mountain",
          "Mountain",
          "Mountain",
          "Mountain",
          "Mountain",
          "Mountain",
          "Mountain",
          "Mountain",
          "Mountain",
          "Mountain",
          "Mountain",
          "Mountain",
          "Mountain",
          "Mountain",
          "Mountain",
          "Mountain",
          "Mountain",
          "Mountain",
          "Mountain",
          "Mountain",
          "Mountain",
          "Mountain",
          "Mountain",
          "Mountain",
          "Mountain",
          "Mountain",
          "Mountain",
          "Mountain",
          "Mountain",
          "Mountain",
          "Mountain",
          "Mountain",
          "Mountain",
          "Mountain",
          "Mountain",
          "Mountain",
          "Mountain",
          "Mountain",
          "Mountain",
          "Mountain",
          "Mountain",
          "Mountain",
          "Mountain",
          "Mountain",
          "Mountain",
          "Mountain",
          "Mountain",
          "Mountain",
          "Mountain",
          "Mountain",
          "Mountain",
          "Mountain",
          "Mountain",
          "Mountain",
          "Mountain",
          "Mountain",
          "Mountain",
          "Mountain",
          "Mountain",
          "Mountain",
          "Mountain",
          "Mountain",
          "Mountain",
          "Mountain",
          "Mountain",
          "Mountain",
          "Mountain",
          "Mountain",
          "Mountain",
          "Mountain",
          "Mountain",
          "Mountain",
          "Mountain",
          "Mountain",
          "Tricycle",
          "Tricycle",
          "Tricycle",
          "Tricycle",
          "Tricycle",
          "Tricycle",
          "Tricycle",
          "Tricycle",
          "Tricycle",
          "Tricycle",
          "Tricycle",
          "Tricycle",
          "Tricycle",
          "Tricycle",
          "Tricycle",
          "Tricycle",
          "Tricycle",
          "Tricycle",
          "Tricycle",
          "Tricycle",
          "Tricycle",
          "Tricycle",
          "Tricycle",
          "Tricycle",
          "Tricycle",
          "Tricycle",
          "Tricycle",
          "Tricycle",
          "Tricycle",
          "Tricycle",
          "Tricycle",
          "Tricycle",
          "Tricycle",
          "Tricycle",
          "Tricycle",
          "Tricycle",
          "Tricycle",
          "Tricycle",
          "Tricycle",
          "Tricycle",
          "Tricycle",
          "Tricycle",
          "Tricycle",
          "Tricycle",
          "Tricycle",
          "Tricycle",
          "Tricycle",
          "Tricycle",
          "Tricycle",
          "Tricycle",
          "Tricycle",
          "Tricycle",
          "Tricycle",
          "Tricycle",
          "Tricycle",
          "Tricycle",
          "Tricycle",
          "Tricycle",
          "Tricycle",
          "Tricycle",
          "Tricycle",
          "Tricycle",
          "Tricycle",
          "Tricycle",
          "Tricycle",
          "Tricycle",
          "Tricycle",
          "Tricycle",
          "Tricycle",
          "Tricycle",
          "Tricycle"
         ],
         "x0": " ",
         "xaxis": "x",
         "y": {
          "bdata": "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",
          "dtype": "f8"
         },
         "y0": " ",
         "yaxis": "y"
        },
        {
         "alignmentgroup": "True",
         "hovertemplate": "Area=Area7<br>Category=%{x}<br>Incremental Profit=%{y}<extra></extra>",
         "legendgroup": "Area7",
         "marker": {
          "color": "#FF6692"
         },
         "name": "Area7",
         "notched": false,
         "offsetgroup": "Area7",
         "orientation": "v",
         "showlegend": true,
         "type": "box",
         "x": [
          "Child",
          "Child",
          "Child",
          "Child",
          "Child",
          "Child",
          "Child",
          "Child",
          "Child",
          "Child",
          "Child",
          "Child",
          "Child",
          "Child",
          "Child",
          "Child",
          "Child",
          "Child",
          "Child",
          "Child",
          "Child",
          "Child",
          "Child",
          "Child",
          "Child",
          "Child",
          "Child",
          "Child",
          "Child",
          "Child",
          "Child",
          "Child",
          "Child",
          "Child",
          "Child",
          "Child",
          "Child",
          "Child",
          "Child",
          "Child",
          "Child",
          "Child",
          "Child",
          "Child",
          "Child",
          "Child",
          "Child",
          "Child",
          "Child",
          "Child",
          "Adult",
          "Adult",
          "Adult",
          "Adult",
          "Adult",
          "Adult",
          "Adult",
          "Adult",
          "Adult",
          "Adult",
          "Adult",
          "Adult",
          "Adult",
          "Adult",
          "Adult",
          "Adult",
          "Adult",
          "Adult",
          "Adult",
          "Adult",
          "Adult",
          "Adult",
          "Adult",
          "Adult",
          "Adult",
          "Adult",
          "Adult",
          "Adult",
          "Adult",
          "Adult",
          "Adult",
          "Adult",
          "Adult",
          "Adult",
          "Adult",
          "Adult",
          "Adult",
          "Adult",
          "Adult",
          "Adult",
          "Adult",
          "Adult",
          "Adult",
          "Adult",
          "Adult",
          "Adult",
          "Adult",
          "Adult",
          "Adult",
          "Adult",
          "Adult",
          "Adult",
          "Adult",
          "Adult",
          "Adult",
          "Adult",
          "Electric",
          "Electric",
          "Electric",
          "Electric",
          "Electric",
          "Electric",
          "Electric",
          "Electric",
          "Electric",
          "Electric",
          "Electric",
          "Electric",
          "Electric",
          "Electric",
          "Electric",
          "Electric",
          "Electric",
          "Electric",
          "Electric",
          "Electric",
          "Electric",
          "Electric",
          "Electric",
          "Electric",
          "Electric",
          "Electric",
          "Electric",
          "Electric",
          "Electric",
          "Electric",
          "Electric",
          "Electric",
          "Electric",
          "Electric",
          "Electric",
          "Electric",
          "Electric",
          "Electric",
          "Electric",
          "Electric",
          "Electric",
          "Electric",
          "Electric",
          "Electric",
          "Electric",
          "Electric",
          "Electric",
          "Electric",
          "Electric",
          "Electric",
          "Electric",
          "Electric",
          "Electric",
          "Electric",
          "Electric",
          "Electric",
          "Electric",
          "Electric",
          "Electric",
          "Racing",
          "Racing",
          "Racing",
          "Racing",
          "Racing",
          "Racing",
          "Racing",
          "Racing",
          "Racing",
          "Racing",
          "Racing",
          "Racing",
          "Racing",
          "Racing",
          "Racing",
          "Racing",
          "Racing",
          "Racing",
          "Racing",
          "Racing",
          "Racing",
          "Racing",
          "Racing",
          "Racing",
          "Racing",
          "Racing",
          "Racing",
          "Racing",
          "Racing",
          "Racing",
          "Racing",
          "Racing",
          "Racing",
          "Racing",
          "Racing",
          "Racing",
          "Racing",
          "Racing",
          "Racing",
          "Racing",
          "Racing",
          "Racing",
          "Racing",
          "Racing",
          "Racing",
          "Racing",
          "Racing",
          "Racing",
          "Racing",
          "Racing",
          "Racing",
          "Racing",
          "Racing",
          "Racing",
          "Racing",
          "Racing",
          "Racing",
          "Mountain",
          "Mountain",
          "Mountain",
          "Mountain",
          "Mountain",
          "Mountain",
          "Mountain",
          "Mountain",
          "Mountain",
          "Mountain",
          "Mountain",
          "Mountain",
          "Mountain",
          "Mountain",
          "Mountain",
          "Mountain",
          "Mountain",
          "Mountain",
          "Mountain",
          "Mountain",
          "Mountain",
          "Mountain",
          "Mountain",
          "Mountain",
          "Mountain",
          "Mountain",
          "Mountain",
          "Mountain",
          "Mountain",
          "Mountain",
          "Mountain",
          "Mountain",
          "Mountain",
          "Mountain",
          "Mountain",
          "Mountain",
          "Mountain",
          "Mountain",
          "Mountain",
          "Mountain",
          "Mountain",
          "Mountain",
          "Mountain",
          "Mountain",
          "Mountain",
          "Mountain",
          "Mountain",
          "Mountain",
          "Mountain",
          "Mountain",
          "Mountain",
          "Mountain",
          "Mountain",
          "Mountain",
          "Mountain",
          "Mountain",
          "Mountain",
          "Mountain",
          "Mountain",
          "Tricycle",
          "Tricycle",
          "Tricycle",
          "Tricycle",
          "Tricycle",
          "Tricycle",
          "Tricycle",
          "Tricycle",
          "Tricycle",
          "Tricycle",
          "Tricycle",
          "Tricycle",
          "Tricycle",
          "Tricycle",
          "Tricycle",
          "Tricycle",
          "Tricycle",
          "Tricycle",
          "Tricycle",
          "Tricycle",
          "Tricycle",
          "Tricycle",
          "Tricycle",
          "Tricycle",
          "Tricycle",
          "Tricycle",
          "Tricycle",
          "Tricycle",
          "Tricycle",
          "Tricycle",
          "Tricycle",
          "Tricycle",
          "Tricycle",
          "Tricycle",
          "Tricycle",
          "Tricycle",
          "Tricycle",
          "Tricycle",
          "Tricycle",
          "Tricycle",
          "Tricycle",
          "Tricycle",
          "Tricycle",
          "Tricycle",
          "Tricycle",
          "Tricycle",
          "Tricycle",
          "Tricycle",
          "Tricycle",
          "Tricycle",
          "Tricycle",
          "Tricycle"
         ],
         "x0": " ",
         "xaxis": "x",
         "y": {
          "bdata": "qaROQBNh6T9CPujZrPrgP0vIBz2bVZ8/Xf5D+u3rsD8IPZtVn6vRP9Sa5h2n6Ng/b4EExY8x6z/8qfHSTWKgP6YKRiV1Auo/I0p7gy9Mxj+2hHzQs1nrP2aIY13cRsM/WvW52or96z8Wak3zjlPcP5MYBFYOLeA/GCZTBaOSqj8ibHh6pSzfP1HaG3xhMs0/V1uxv+yerD+si9toAG/VP/5D+u3rwNU/JlMFo5I60T8rGJXUCWjiP6UsQxzr4rY/f2q8dJMY7D9XW7G/7J7cP6foSC7/Id0/guLHmLuWgD/rc7UV+8voP3Noke18P+k/ZapgVFIn4D9rK/aX3ZPHPwfwFkhQ/NA/ih9j7lpC6j+dgCbChqfTPwXFjzF3LdE/dnEbDeAt7D88vVKWIY7nP90kBoGVQ+E/umsJ+aBn5T8pyxDHurjvPyV1ApoIG64/Z9Xnaiv27T8UP8bctYTEPyqpE9BE2OA/N4lBYOXQ4D/FjzF3LSHlP+cdp+hILtc/5WGh1jTv6j9os+pztRWrP3icoiO5/Oc/v30dOGdE5T9SJ6CJsOHZP9nO91Pjpe8/2V92Tx4W4D+JQWDl0CLjP00VjErqBOw/LbKd76fG0z990LNZ9bnkPxgmUwWjkso/4zYawFsg6T+ze/KwUGvaP3uDL0ymCuw/7zhFR3L56T8/xty1hHzIP74wmSoYleg/BhIUP8bc6z/0/dR46SbnP65H4XoUru0/+FPjpZvE7j8nMQisHFruP0dy+Q/pt88/2T15WKg1zT9m9+RhodbUP9xoAG+BBMU/PZtVn6ut6D/MXUvIBz3jP0cDeAskKMY/TfOOU3Qk1z92cRsN4C3kP3lYqDXNO+A/UkmdgCbCxj+IhVrTvOPcPxKDwMqhReA/bVZ9rrZi4z+uR+F6FK63P2iR7Xw/NeQ/MQisHFpk5z91kxgEVg7tP3h6pSxDHO0/B1+YTBWM5j8Q6bevA+foP+VhodY07+Q//tR46SYx6D+YbhKDwMrtP0Rpb/CFyeg/AwmKH2Pu5D85RUdy+Q/jP6kT0ETY8OI/1edqK/aXrT80ETY8vVLmP+84RUdy+es/Gy/dJAaBzT/whclUwajkPwdfmEwVjNY/coqO5PIf0j+X/5B++zrAP8rDQq1p3t0/owG8BRIUzz/rc7UV+8vOP8UgsHJokdE/C7Wmeccp1j8H8BZIUPyYP7dif9k9ecA/nl4pyxDHwj/rc7UV+8vGPx+F61G4HuE/M8SxLm6jsT/35GGh1jTfP67YX3ZPHs4/j+TyH9Jvzz8xCKwcWmSrP6+UZYhjXdw/hlrTvOMU6z/l8h/Sb1/lPwaBlUOLbNs/whcmUwWj1j+4rwPnjCjRPwYSFD/G3Oc/irDh6ZWy5j+Cc0aU9gbrP/32deCcEdk/MlUwKqkT6j8Q6bevA+fcP1pkO99PjeU/MZkqGJXU6T/7y+7Jw0LnP9/gC5OpguU/mpmZmZmZ7T/sUbgehevrPwwCK4cW2e4/QmDl0CLb7T/35GGh1jTjP/T91HjpJsE/Nqs+V1uxvz+fPCzUmuaNP6MjufyH9MM/Vg4tsp3v0z8p7Q2+MJnCP0GC4seYu9o/Y3/ZPXlY1D/OiNLe4AvjPxlz1xLyQec/lIeFWtO83z9xPQrXo3DpP7AD54wo7c0/1zTvOEVH0j9g5dAi2/nqP23F/rJ78uw/kzoBTYQN7z/MXUvIBz3vP52AJsKGp5c/f/s6cM6Ioj/ecYqO5PLPP5/Nqs/VVuw/TtGRXP5D2j8LRiV1AprqP2PuWkI+6Mk/5/up8dJN5D93LSEf9GziPyL99nXgnHE/KcsQx7q44T8rhxbZzvftP5/Nqs/VVrw/TmIQWDm04j+/fR04Z0TvP7gehetRuOg/kst/SL99TT8s1JrmHafqPxdIUPwYc5c/Io51cRsN4j85tMh2vp/KP9c07zhFR+w/V1uxv+ye1D9/2T15WKjhPx+F61G4Hus/FYxK6gQ05z8oDwu1pnnvP/LSTWIQWME/Y3/ZPXlYuD93LSEf9GyWP2HD0ytlGeQ/X5hMFYxK4j8BTYQNT6/EP2Dl0CLb+c4/PzVeukkM5D8CK4cW2c7vP5/Nqs/VVtA/gy9MpgpG6T8tQxzr4jZqP9QrZRniWJc/Dwu1pnnH2T9qTfOOU3S0P+QUHcnlP+4/mpmZmZmZ0T8Spb3BFybrP/Cnxks3ieE/0LNZ9bna2j9xPQrXo3DhP9Xnaiv2l+U/CRueXinL2D87cM6I0t7YPyS5/If029M/kX77OnDOwD+J0t7gC5PJP7Kd76fGS9c/YOXQItv54D9GtvP91HjrP+viNhrAW7A/JJf/kH77qj990LNZ9bnKP2q8dJMYBKY/sb/snjws4D/5oGez6nPpP73jFB3J5b8/FD/G3LWE7j/swDkjSnvbP3EbDeAtkOw/TRWMSuoE6j9jf9k9eVjYP1D8GHPXEug/2IFzRpT27D/ZzvdT46XfP1YOLbKd78c/CD2bVZ+r5z8H8BZIUPzYPwK8BRIUP+Y/pb3BFyZTxT8rhxbZzvezP7Hh6ZWyDNE/gEi/fR045z+BlUOLbOfhPxTQRNjw9OI/dnEbDeAt1D9eukkMAivhP9IA3gIJiuE/WKg1zTtO1T/i6ZWyDHHMP3/7OnDOiN4/DXGsi9to7j/+ZffkYaHkPwFNhA1Pr+w/zojS3uAL5T+Ens2qz9W2P7prCfmgZ8s/xY8xdy0hzz9bQj7o2azSP8E5I0p7g+M/YVRSJ6CJ5D956SYxCKziP4JzRpT2Bus/ak3zjlN0xD/HuriNBvC2P+oENBE2POs/WmQ730+N5T8tQxzr4jbuPw8LtaZ5x+k/FR3J5T+kvz9MN4lBYOXmPxzr4jYawJs/4C2QoPgx6j+ad5yiI7nqPxDpt68D59Q/LbKd76fG6T9PQBNhw9O7P77BFyZTBcM/5WGh1jTvwD/arPpcbcXOP6d5xyk6ku8/wOyePCzU7j+U9gZfmEzdP8E5I0p7g+0/T0ATYcPTyz9kzF1LyAflP8zuycNCre8/LUMc6+I2Wj9j7lpCPuipP5+rrdhfdr8/f2q8dJMY5D9nRGlv8IXJP0jhehSuR8E/PujZrPpcxT9xrIvbaAC/P6Fns+pztek/oWez6nO16T/G3LWEfNDtP4ts5/up8eg/AG+BBMWP7T/r4jYawFvmP90kBoGVQ+M/KH6MuWsJ5z+Sy39Iv319P4MvTKYKRuM/odY07zhFzz/ZPXlYqDXdP5jdk4eFWsM/vw6cM6K04z+BBMWPMXfZPztwzojS3uA/fdCzWfW57j+cxCCwcmjZPz81XrpJDOA/8tJNYhBY5z90JJf/kH6rP6g1zTtO0es/5IOezarPpT/T3uALk6noP2iR7Xw/NeQ/8tJNYhBYqT+lLEMc6+LiP451cRsN4NE/p3nHKTqS3z9v8IXJVMHUP/JBz2bV5+o/BTQRNjy90j+RD3o2qz7tP3gLJCh+jNk/eHqlLEMc6z80gLdAguLTP5OpglFJneQ/cRsN4C2Q6j/6fmq8dJNoPwkbnl4py+4/",
          "dtype": "f8"
         },
         "y0": " ",
         "yaxis": "y"
        }
       ],
       "layout": {
        "boxmode": "group",
        "legend": {
         "title": {
          "text": "Area"
         },
         "tracegroupgap": 0
        },
        "template": {
         "data": {
          "bar": [
           {
            "error_x": {
             "color": "#2a3f5f"
            },
            "error_y": {
             "color": "#2a3f5f"
            },
            "marker": {
             "line": {
              "color": "white",
              "width": 0.5
             },
             "pattern": {
              "fillmode": "overlay",
              "size": 10,
              "solidity": 0.2
             }
            },
            "type": "bar"
           }
          ],
          "barpolar": [
           {
            "marker": {
             "line": {
              "color": "white",
              "width": 0.5
             },
             "pattern": {
              "fillmode": "overlay",
              "size": 10,
              "solidity": 0.2
             }
            },
            "type": "barpolar"
           }
          ],
          "carpet": [
           {
            "aaxis": {
             "endlinecolor": "#2a3f5f",
             "gridcolor": "#C8D4E3",
             "linecolor": "#C8D4E3",
             "minorgridcolor": "#C8D4E3",
             "startlinecolor": "#2a3f5f"
            },
            "baxis": {
             "endlinecolor": "#2a3f5f",
             "gridcolor": "#C8D4E3",
             "linecolor": "#C8D4E3",
             "minorgridcolor": "#C8D4E3",
             "startlinecolor": "#2a3f5f"
            },
            "type": "carpet"
           }
          ],
          "choropleth": [
           {
            "colorbar": {
             "outlinewidth": 0,
             "ticks": ""
            },
            "type": "choropleth"
           }
          ],
          "contour": [
           {
            "colorbar": {
             "outlinewidth": 0,
             "ticks": ""
            },
            "colorscale": [
             [
              0,
              "#0d0887"
             ],
             [
              0.1111111111111111,
              "#46039f"
             ],
             [
              0.2222222222222222,
              "#7201a8"
             ],
             [
              0.3333333333333333,
              "#9c179e"
             ],
             [
              0.4444444444444444,
              "#bd3786"
             ],
             [
              0.5555555555555556,
              "#d8576b"
             ],
             [
              0.6666666666666666,
              "#ed7953"
             ],
             [
              0.7777777777777778,
              "#fb9f3a"
             ],
             [
              0.8888888888888888,
              "#fdca26"
             ],
             [
              1,
              "#f0f921"
             ]
            ],
            "type": "contour"
           }
          ],
          "contourcarpet": [
           {
            "colorbar": {
             "outlinewidth": 0,
             "ticks": ""
            },
            "type": "contourcarpet"
           }
          ],
          "heatmap": [
           {
            "colorbar": {
             "outlinewidth": 0,
             "ticks": ""
            },
            "colorscale": [
             [
              0,
              "#0d0887"
             ],
             [
              0.1111111111111111,
              "#46039f"
             ],
             [
              0.2222222222222222,
              "#7201a8"
             ],
             [
              0.3333333333333333,
              "#9c179e"
             ],
             [
              0.4444444444444444,
              "#bd3786"
             ],
             [
              0.5555555555555556,
              "#d8576b"
             ],
             [
              0.6666666666666666,
              "#ed7953"
             ],
             [
              0.7777777777777778,
              "#fb9f3a"
             ],
             [
              0.8888888888888888,
              "#fdca26"
             ],
             [
              1,
              "#f0f921"
             ]
            ],
            "type": "heatmap"
           }
          ],
          "histogram": [
           {
            "marker": {
             "pattern": {
              "fillmode": "overlay",
              "size": 10,
              "solidity": 0.2
             }
            },
            "type": "histogram"
           }
          ],
          "histogram2d": [
           {
            "colorbar": {
             "outlinewidth": 0,
             "ticks": ""
            },
            "colorscale": [
             [
              0,
              "#0d0887"
             ],
             [
              0.1111111111111111,
              "#46039f"
             ],
             [
              0.2222222222222222,
              "#7201a8"
             ],
             [
              0.3333333333333333,
              "#9c179e"
             ],
             [
              0.4444444444444444,
              "#bd3786"
             ],
             [
              0.5555555555555556,
              "#d8576b"
             ],
             [
              0.6666666666666666,
              "#ed7953"
             ],
             [
              0.7777777777777778,
              "#fb9f3a"
             ],
             [
              0.8888888888888888,
              "#fdca26"
             ],
             [
              1,
              "#f0f921"
             ]
            ],
            "type": "histogram2d"
           }
          ],
          "histogram2dcontour": [
           {
            "colorbar": {
             "outlinewidth": 0,
             "ticks": ""
            },
            "colorscale": [
             [
              0,
              "#0d0887"
             ],
             [
              0.1111111111111111,
              "#46039f"
             ],
             [
              0.2222222222222222,
              "#7201a8"
             ],
             [
              0.3333333333333333,
              "#9c179e"
             ],
             [
              0.4444444444444444,
              "#bd3786"
             ],
             [
              0.5555555555555556,
              "#d8576b"
             ],
             [
              0.6666666666666666,
              "#ed7953"
             ],
             [
              0.7777777777777778,
              "#fb9f3a"
             ],
             [
              0.8888888888888888,
              "#fdca26"
             ],
             [
              1,
              "#f0f921"
             ]
            ],
            "type": "histogram2dcontour"
           }
          ],
          "mesh3d": [
           {
            "colorbar": {
             "outlinewidth": 0,
             "ticks": ""
            },
            "type": "mesh3d"
           }
          ],
          "parcoords": [
           {
            "line": {
             "colorbar": {
              "outlinewidth": 0,
              "ticks": ""
             }
            },
            "type": "parcoords"
           }
          ],
          "pie": [
           {
            "automargin": true,
            "type": "pie"
           }
          ],
          "scatter": [
           {
            "fillpattern": {
             "fillmode": "overlay",
             "size": 10,
             "solidity": 0.2
            },
            "type": "scatter"
           }
          ],
          "scatter3d": [
           {
            "line": {
             "colorbar": {
              "outlinewidth": 0,
              "ticks": ""
             }
            },
            "marker": {
             "colorbar": {
              "outlinewidth": 0,
              "ticks": ""
             }
            },
            "type": "scatter3d"
           }
          ],
          "scattercarpet": [
           {
            "marker": {
             "colorbar": {
              "outlinewidth": 0,
              "ticks": ""
             }
            },
            "type": "scattercarpet"
           }
          ],
          "scattergeo": [
           {
            "marker": {
             "colorbar": {
              "outlinewidth": 0,
              "ticks": ""
             }
            },
            "type": "scattergeo"
           }
          ],
          "scattergl": [
           {
            "marker": {
             "colorbar": {
              "outlinewidth": 0,
              "ticks": ""
             }
            },
            "type": "scattergl"
           }
          ],
          "scattermap": [
           {
            "marker": {
             "colorbar": {
              "outlinewidth": 0,
              "ticks": ""
             }
            },
            "type": "scattermap"
           }
          ],
          "scattermapbox": [
           {
            "marker": {
             "colorbar": {
              "outlinewidth": 0,
              "ticks": ""
             }
            },
            "type": "scattermapbox"
           }
          ],
          "scatterpolar": [
           {
            "marker": {
             "colorbar": {
              "outlinewidth": 0,
              "ticks": ""
             }
            },
            "type": "scatterpolar"
           }
          ],
          "scatterpolargl": [
           {
            "marker": {
             "colorbar": {
              "outlinewidth": 0,
              "ticks": ""
             }
            },
            "type": "scatterpolargl"
           }
          ],
          "scatterternary": [
           {
            "marker": {
             "colorbar": {
              "outlinewidth": 0,
              "ticks": ""
             }
            },
            "type": "scatterternary"
           }
          ],
          "surface": [
           {
            "colorbar": {
             "outlinewidth": 0,
             "ticks": ""
            },
            "colorscale": [
             [
              0,
              "#0d0887"
             ],
             [
              0.1111111111111111,
              "#46039f"
             ],
             [
              0.2222222222222222,
              "#7201a8"
             ],
             [
              0.3333333333333333,
              "#9c179e"
             ],
             [
              0.4444444444444444,
              "#bd3786"
             ],
             [
              0.5555555555555556,
              "#d8576b"
             ],
             [
              0.6666666666666666,
              "#ed7953"
             ],
             [
              0.7777777777777778,
              "#fb9f3a"
             ],
             [
              0.8888888888888888,
              "#fdca26"
             ],
             [
              1,
              "#f0f921"
             ]
            ],
            "type": "surface"
           }
          ],
          "table": [
           {
            "cells": {
             "fill": {
              "color": "#EBF0F8"
             },
             "line": {
              "color": "white"
             }
            },
            "header": {
             "fill": {
              "color": "#C8D4E3"
             },
             "line": {
              "color": "white"
             }
            },
            "type": "table"
           }
          ]
         },
         "layout": {
          "annotationdefaults": {
           "arrowcolor": "#2a3f5f",
           "arrowhead": 0,
           "arrowwidth": 1
          },
          "autotypenumbers": "strict",
          "coloraxis": {
           "colorbar": {
            "outlinewidth": 0,
            "ticks": ""
           }
          },
          "colorscale": {
           "diverging": [
            [
             0,
             "#8e0152"
            ],
            [
             0.1,
             "#c51b7d"
            ],
            [
             0.2,
             "#de77ae"
            ],
            [
             0.3,
             "#f1b6da"
            ],
            [
             0.4,
             "#fde0ef"
            ],
            [
             0.5,
             "#f7f7f7"
            ],
            [
             0.6,
             "#e6f5d0"
            ],
            [
             0.7,
             "#b8e186"
            ],
            [
             0.8,
             "#7fbc41"
            ],
            [
             0.9,
             "#4d9221"
            ],
            [
             1,
             "#276419"
            ]
           ],
           "sequential": [
            [
             0,
             "#0d0887"
            ],
            [
             0.1111111111111111,
             "#46039f"
            ],
            [
             0.2222222222222222,
             "#7201a8"
            ],
            [
             0.3333333333333333,
             "#9c179e"
            ],
            [
             0.4444444444444444,
             "#bd3786"
            ],
            [
             0.5555555555555556,
             "#d8576b"
            ],
            [
             0.6666666666666666,
             "#ed7953"
            ],
            [
             0.7777777777777778,
             "#fb9f3a"
            ],
            [
             0.8888888888888888,
             "#fdca26"
            ],
            [
             1,
             "#f0f921"
            ]
           ],
           "sequentialminus": [
            [
             0,
             "#0d0887"
            ],
            [
             0.1111111111111111,
             "#46039f"
            ],
            [
             0.2222222222222222,
             "#7201a8"
            ],
            [
             0.3333333333333333,
             "#9c179e"
            ],
            [
             0.4444444444444444,
             "#bd3786"
            ],
            [
             0.5555555555555556,
             "#d8576b"
            ],
            [
             0.6666666666666666,
             "#ed7953"
            ],
            [
             0.7777777777777778,
             "#fb9f3a"
            ],
            [
             0.8888888888888888,
             "#fdca26"
            ],
            [
             1,
             "#f0f921"
            ]
           ]
          },
          "colorway": [
           "#636efa",
           "#EF553B",
           "#00cc96",
           "#ab63fa",
           "#FFA15A",
           "#19d3f3",
           "#FF6692",
           "#B6E880",
           "#FF97FF",
           "#FECB52"
          ],
          "font": {
           "color": "#2a3f5f"
          },
          "geo": {
           "bgcolor": "white",
           "lakecolor": "white",
           "landcolor": "white",
           "showlakes": true,
           "showland": true,
           "subunitcolor": "#C8D4E3"
          },
          "hoverlabel": {
           "align": "left"
          },
          "hovermode": "closest",
          "mapbox": {
           "style": "light"
          },
          "paper_bgcolor": "white",
          "plot_bgcolor": "white",
          "polar": {
           "angularaxis": {
            "gridcolor": "#EBF0F8",
            "linecolor": "#EBF0F8",
            "ticks": ""
           },
           "bgcolor": "white",
           "radialaxis": {
            "gridcolor": "#EBF0F8",
            "linecolor": "#EBF0F8",
            "ticks": ""
           }
          },
          "scene": {
           "xaxis": {
            "backgroundcolor": "white",
            "gridcolor": "#DFE8F3",
            "gridwidth": 2,
            "linecolor": "#EBF0F8",
            "showbackground": true,
            "ticks": "",
            "zerolinecolor": "#EBF0F8"
           },
           "yaxis": {
            "backgroundcolor": "white",
            "gridcolor": "#DFE8F3",
            "gridwidth": 2,
            "linecolor": "#EBF0F8",
            "showbackground": true,
            "ticks": "",
            "zerolinecolor": "#EBF0F8"
           },
           "zaxis": {
            "backgroundcolor": "white",
            "gridcolor": "#DFE8F3",
            "gridwidth": 2,
            "linecolor": "#EBF0F8",
            "showbackground": true,
            "ticks": "",
            "zerolinecolor": "#EBF0F8"
           }
          },
          "shapedefaults": {
           "line": {
            "color": "#2a3f5f"
           }
          },
          "ternary": {
           "aaxis": {
            "gridcolor": "#DFE8F3",
            "linecolor": "#A2B1C6",
            "ticks": ""
           },
           "baxis": {
            "gridcolor": "#DFE8F3",
            "linecolor": "#A2B1C6",
            "ticks": ""
           },
           "bgcolor": "white",
           "caxis": {
            "gridcolor": "#DFE8F3",
            "linecolor": "#A2B1C6",
            "ticks": ""
           }
          },
          "title": {
           "x": 0.05
          },
          "xaxis": {
           "automargin": true,
           "gridcolor": "#EBF0F8",
           "linecolor": "#EBF0F8",
           "ticks": "",
           "title": {
            "standoff": 15
           },
           "zerolinecolor": "#EBF0F8",
           "zerolinewidth": 2
          },
          "yaxis": {
           "automargin": true,
           "gridcolor": "#EBF0F8",
           "linecolor": "#EBF0F8",
           "ticks": "",
           "title": {
            "standoff": 15
           },
           "zerolinecolor": "#EBF0F8",
           "zerolinewidth": 2
          }
         }
        },
        "title": {
         "text": "Distribution of Incremental Profit Values by Category and Area"
        },
        "xaxis": {
         "anchor": "y",
         "domain": [
          0,
          1
         ],
         "title": {
          "text": "Category"
         }
        },
        "yaxis": {
         "anchor": "x",
         "domain": [
          0,
          1
         ],
         "title": {
          "text": "Incremental Profit"
         }
        }
       }
      }
     },
     "metadata": {},
     "output_type": "display_data"
    }
   ],
   "source": [
    "profit_sheet_names = [sheet for sheet in file.sheet_names if sheet.startswith(\"ExpectedProfitsArea\")]\n",
    "\n",
    "data = []\n",
    "\n",
    "for sheet in profit_sheet_names:\n",
    "    df = pd.read_excel(file, sheet_name=sheet, header=0)\n",
    "    \n",
    "    area = \"Area\" + sheet[len(\"ExpectedProfitsArea\"):]\n",
    "    \n",
    "    for cat in df.columns:\n",
    "        profits = df[cat].dropna()\n",
    "        for profit in profits:\n",
    "            data.append({\n",
    "                \"Area\": area,\n",
    "                \"Category\": cat,\n",
    "                \"Incremental Profit\": profit\n",
    "            })\n",
    "\n",
    "profit_df = pd.DataFrame(data)\n",
    "\n",
    "fig = px.box(profit_df,\n",
    "             x=\"Category\",\n",
    "             y=\"Incremental Profit\",\n",
    "             color=\"Area\",\n",
    "             title=\"Distribution of Incremental Profit Values by Category and Area\",\n",
    "             template=\"plotly_white\")  \n",
    "\n",
    "fig.show()\n"
   ]
  },
  {
   "cell_type": "code",
   "execution_count": 81,
   "metadata": {},
   "outputs": [],
   "source": [
    "data = pd.read_excel(file, sheet_name=\"Categories\", header=0)\n",
    "\n",
    "categories = list(data.columns)\n",
    "surplus = data.iloc[0].astype(int)\n",
    "space = data.iloc[1].astype(float)\n",
    "\n",
    "df_categories = pd.DataFrame({\n",
    "    \"Category\": categories,\n",
    "    \"Surplus\": surplus.values,\n",
    "    \"Space Occupancy\": space.values\n",
    "})\n"
   ]
  },
  {
   "cell_type": "code",
   "execution_count": 82,
   "metadata": {},
   "outputs": [
    {
     "data": {
      "application/vnd.plotly.v1+json": {
       "config": {
        "plotlyServerURL": "https://plot.ly"
       },
       "data": [
        {
         "bingroup": "x",
         "hovertemplate": "Surplus (Number of Bicycles)=%{x}<br>count=%{y}<extra></extra>",
         "legendgroup": "",
         "marker": {
          "color": "#636efa",
          "pattern": {
           "shape": ""
          }
         },
         "name": "",
         "nbinsx": 6,
         "orientation": "v",
         "showlegend": false,
         "type": "histogram",
         "x": {
          "bdata": "EAEOARcBCwEaARcB",
          "dtype": "i2"
         },
         "xaxis": "x",
         "yaxis": "y"
        }
       ],
       "layout": {
        "barmode": "relative",
        "legend": {
         "tracegroupgap": 0
        },
        "template": {
         "data": {
          "bar": [
           {
            "error_x": {
             "color": "#2a3f5f"
            },
            "error_y": {
             "color": "#2a3f5f"
            },
            "marker": {
             "line": {
              "color": "#E5ECF6",
              "width": 0.5
             },
             "pattern": {
              "fillmode": "overlay",
              "size": 10,
              "solidity": 0.2
             }
            },
            "type": "bar"
           }
          ],
          "barpolar": [
           {
            "marker": {
             "line": {
              "color": "#E5ECF6",
              "width": 0.5
             },
             "pattern": {
              "fillmode": "overlay",
              "size": 10,
              "solidity": 0.2
             }
            },
            "type": "barpolar"
           }
          ],
          "carpet": [
           {
            "aaxis": {
             "endlinecolor": "#2a3f5f",
             "gridcolor": "white",
             "linecolor": "white",
             "minorgridcolor": "white",
             "startlinecolor": "#2a3f5f"
            },
            "baxis": {
             "endlinecolor": "#2a3f5f",
             "gridcolor": "white",
             "linecolor": "white",
             "minorgridcolor": "white",
             "startlinecolor": "#2a3f5f"
            },
            "type": "carpet"
           }
          ],
          "choropleth": [
           {
            "colorbar": {
             "outlinewidth": 0,
             "ticks": ""
            },
            "type": "choropleth"
           }
          ],
          "contour": [
           {
            "colorbar": {
             "outlinewidth": 0,
             "ticks": ""
            },
            "colorscale": [
             [
              0,
              "#0d0887"
             ],
             [
              0.1111111111111111,
              "#46039f"
             ],
             [
              0.2222222222222222,
              "#7201a8"
             ],
             [
              0.3333333333333333,
              "#9c179e"
             ],
             [
              0.4444444444444444,
              "#bd3786"
             ],
             [
              0.5555555555555556,
              "#d8576b"
             ],
             [
              0.6666666666666666,
              "#ed7953"
             ],
             [
              0.7777777777777778,
              "#fb9f3a"
             ],
             [
              0.8888888888888888,
              "#fdca26"
             ],
             [
              1,
              "#f0f921"
             ]
            ],
            "type": "contour"
           }
          ],
          "contourcarpet": [
           {
            "colorbar": {
             "outlinewidth": 0,
             "ticks": ""
            },
            "type": "contourcarpet"
           }
          ],
          "heatmap": [
           {
            "colorbar": {
             "outlinewidth": 0,
             "ticks": ""
            },
            "colorscale": [
             [
              0,
              "#0d0887"
             ],
             [
              0.1111111111111111,
              "#46039f"
             ],
             [
              0.2222222222222222,
              "#7201a8"
             ],
             [
              0.3333333333333333,
              "#9c179e"
             ],
             [
              0.4444444444444444,
              "#bd3786"
             ],
             [
              0.5555555555555556,
              "#d8576b"
             ],
             [
              0.6666666666666666,
              "#ed7953"
             ],
             [
              0.7777777777777778,
              "#fb9f3a"
             ],
             [
              0.8888888888888888,
              "#fdca26"
             ],
             [
              1,
              "#f0f921"
             ]
            ],
            "type": "heatmap"
           }
          ],
          "histogram": [
           {
            "marker": {
             "pattern": {
              "fillmode": "overlay",
              "size": 10,
              "solidity": 0.2
             }
            },
            "type": "histogram"
           }
          ],
          "histogram2d": [
           {
            "colorbar": {
             "outlinewidth": 0,
             "ticks": ""
            },
            "colorscale": [
             [
              0,
              "#0d0887"
             ],
             [
              0.1111111111111111,
              "#46039f"
             ],
             [
              0.2222222222222222,
              "#7201a8"
             ],
             [
              0.3333333333333333,
              "#9c179e"
             ],
             [
              0.4444444444444444,
              "#bd3786"
             ],
             [
              0.5555555555555556,
              "#d8576b"
             ],
             [
              0.6666666666666666,
              "#ed7953"
             ],
             [
              0.7777777777777778,
              "#fb9f3a"
             ],
             [
              0.8888888888888888,
              "#fdca26"
             ],
             [
              1,
              "#f0f921"
             ]
            ],
            "type": "histogram2d"
           }
          ],
          "histogram2dcontour": [
           {
            "colorbar": {
             "outlinewidth": 0,
             "ticks": ""
            },
            "colorscale": [
             [
              0,
              "#0d0887"
             ],
             [
              0.1111111111111111,
              "#46039f"
             ],
             [
              0.2222222222222222,
              "#7201a8"
             ],
             [
              0.3333333333333333,
              "#9c179e"
             ],
             [
              0.4444444444444444,
              "#bd3786"
             ],
             [
              0.5555555555555556,
              "#d8576b"
             ],
             [
              0.6666666666666666,
              "#ed7953"
             ],
             [
              0.7777777777777778,
              "#fb9f3a"
             ],
             [
              0.8888888888888888,
              "#fdca26"
             ],
             [
              1,
              "#f0f921"
             ]
            ],
            "type": "histogram2dcontour"
           }
          ],
          "mesh3d": [
           {
            "colorbar": {
             "outlinewidth": 0,
             "ticks": ""
            },
            "type": "mesh3d"
           }
          ],
          "parcoords": [
           {
            "line": {
             "colorbar": {
              "outlinewidth": 0,
              "ticks": ""
             }
            },
            "type": "parcoords"
           }
          ],
          "pie": [
           {
            "automargin": true,
            "type": "pie"
           }
          ],
          "scatter": [
           {
            "fillpattern": {
             "fillmode": "overlay",
             "size": 10,
             "solidity": 0.2
            },
            "type": "scatter"
           }
          ],
          "scatter3d": [
           {
            "line": {
             "colorbar": {
              "outlinewidth": 0,
              "ticks": ""
             }
            },
            "marker": {
             "colorbar": {
              "outlinewidth": 0,
              "ticks": ""
             }
            },
            "type": "scatter3d"
           }
          ],
          "scattercarpet": [
           {
            "marker": {
             "colorbar": {
              "outlinewidth": 0,
              "ticks": ""
             }
            },
            "type": "scattercarpet"
           }
          ],
          "scattergeo": [
           {
            "marker": {
             "colorbar": {
              "outlinewidth": 0,
              "ticks": ""
             }
            },
            "type": "scattergeo"
           }
          ],
          "scattergl": [
           {
            "marker": {
             "colorbar": {
              "outlinewidth": 0,
              "ticks": ""
             }
            },
            "type": "scattergl"
           }
          ],
          "scattermap": [
           {
            "marker": {
             "colorbar": {
              "outlinewidth": 0,
              "ticks": ""
             }
            },
            "type": "scattermap"
           }
          ],
          "scattermapbox": [
           {
            "marker": {
             "colorbar": {
              "outlinewidth": 0,
              "ticks": ""
             }
            },
            "type": "scattermapbox"
           }
          ],
          "scatterpolar": [
           {
            "marker": {
             "colorbar": {
              "outlinewidth": 0,
              "ticks": ""
             }
            },
            "type": "scatterpolar"
           }
          ],
          "scatterpolargl": [
           {
            "marker": {
             "colorbar": {
              "outlinewidth": 0,
              "ticks": ""
             }
            },
            "type": "scatterpolargl"
           }
          ],
          "scatterternary": [
           {
            "marker": {
             "colorbar": {
              "outlinewidth": 0,
              "ticks": ""
             }
            },
            "type": "scatterternary"
           }
          ],
          "surface": [
           {
            "colorbar": {
             "outlinewidth": 0,
             "ticks": ""
            },
            "colorscale": [
             [
              0,
              "#0d0887"
             ],
             [
              0.1111111111111111,
              "#46039f"
             ],
             [
              0.2222222222222222,
              "#7201a8"
             ],
             [
              0.3333333333333333,
              "#9c179e"
             ],
             [
              0.4444444444444444,
              "#bd3786"
             ],
             [
              0.5555555555555556,
              "#d8576b"
             ],
             [
              0.6666666666666666,
              "#ed7953"
             ],
             [
              0.7777777777777778,
              "#fb9f3a"
             ],
             [
              0.8888888888888888,
              "#fdca26"
             ],
             [
              1,
              "#f0f921"
             ]
            ],
            "type": "surface"
           }
          ],
          "table": [
           {
            "cells": {
             "fill": {
              "color": "#EBF0F8"
             },
             "line": {
              "color": "white"
             }
            },
            "header": {
             "fill": {
              "color": "#C8D4E3"
             },
             "line": {
              "color": "white"
             }
            },
            "type": "table"
           }
          ]
         },
         "layout": {
          "annotationdefaults": {
           "arrowcolor": "#2a3f5f",
           "arrowhead": 0,
           "arrowwidth": 1
          },
          "autotypenumbers": "strict",
          "coloraxis": {
           "colorbar": {
            "outlinewidth": 0,
            "ticks": ""
           }
          },
          "colorscale": {
           "diverging": [
            [
             0,
             "#8e0152"
            ],
            [
             0.1,
             "#c51b7d"
            ],
            [
             0.2,
             "#de77ae"
            ],
            [
             0.3,
             "#f1b6da"
            ],
            [
             0.4,
             "#fde0ef"
            ],
            [
             0.5,
             "#f7f7f7"
            ],
            [
             0.6,
             "#e6f5d0"
            ],
            [
             0.7,
             "#b8e186"
            ],
            [
             0.8,
             "#7fbc41"
            ],
            [
             0.9,
             "#4d9221"
            ],
            [
             1,
             "#276419"
            ]
           ],
           "sequential": [
            [
             0,
             "#0d0887"
            ],
            [
             0.1111111111111111,
             "#46039f"
            ],
            [
             0.2222222222222222,
             "#7201a8"
            ],
            [
             0.3333333333333333,
             "#9c179e"
            ],
            [
             0.4444444444444444,
             "#bd3786"
            ],
            [
             0.5555555555555556,
             "#d8576b"
            ],
            [
             0.6666666666666666,
             "#ed7953"
            ],
            [
             0.7777777777777778,
             "#fb9f3a"
            ],
            [
             0.8888888888888888,
             "#fdca26"
            ],
            [
             1,
             "#f0f921"
            ]
           ],
           "sequentialminus": [
            [
             0,
             "#0d0887"
            ],
            [
             0.1111111111111111,
             "#46039f"
            ],
            [
             0.2222222222222222,
             "#7201a8"
            ],
            [
             0.3333333333333333,
             "#9c179e"
            ],
            [
             0.4444444444444444,
             "#bd3786"
            ],
            [
             0.5555555555555556,
             "#d8576b"
            ],
            [
             0.6666666666666666,
             "#ed7953"
            ],
            [
             0.7777777777777778,
             "#fb9f3a"
            ],
            [
             0.8888888888888888,
             "#fdca26"
            ],
            [
             1,
             "#f0f921"
            ]
           ]
          },
          "colorway": [
           "#636efa",
           "#EF553B",
           "#00cc96",
           "#ab63fa",
           "#FFA15A",
           "#19d3f3",
           "#FF6692",
           "#B6E880",
           "#FF97FF",
           "#FECB52"
          ],
          "font": {
           "color": "#2a3f5f"
          },
          "geo": {
           "bgcolor": "white",
           "lakecolor": "white",
           "landcolor": "#E5ECF6",
           "showlakes": true,
           "showland": true,
           "subunitcolor": "white"
          },
          "hoverlabel": {
           "align": "left"
          },
          "hovermode": "closest",
          "mapbox": {
           "style": "light"
          },
          "paper_bgcolor": "white",
          "plot_bgcolor": "#E5ECF6",
          "polar": {
           "angularaxis": {
            "gridcolor": "white",
            "linecolor": "white",
            "ticks": ""
           },
           "bgcolor": "#E5ECF6",
           "radialaxis": {
            "gridcolor": "white",
            "linecolor": "white",
            "ticks": ""
           }
          },
          "scene": {
           "xaxis": {
            "backgroundcolor": "#E5ECF6",
            "gridcolor": "white",
            "gridwidth": 2,
            "linecolor": "white",
            "showbackground": true,
            "ticks": "",
            "zerolinecolor": "white"
           },
           "yaxis": {
            "backgroundcolor": "#E5ECF6",
            "gridcolor": "white",
            "gridwidth": 2,
            "linecolor": "white",
            "showbackground": true,
            "ticks": "",
            "zerolinecolor": "white"
           },
           "zaxis": {
            "backgroundcolor": "#E5ECF6",
            "gridcolor": "white",
            "gridwidth": 2,
            "linecolor": "white",
            "showbackground": true,
            "ticks": "",
            "zerolinecolor": "white"
           }
          },
          "shapedefaults": {
           "line": {
            "color": "#2a3f5f"
           }
          },
          "ternary": {
           "aaxis": {
            "gridcolor": "white",
            "linecolor": "white",
            "ticks": ""
           },
           "baxis": {
            "gridcolor": "white",
            "linecolor": "white",
            "ticks": ""
           },
           "bgcolor": "#E5ECF6",
           "caxis": {
            "gridcolor": "white",
            "linecolor": "white",
            "ticks": ""
           }
          },
          "title": {
           "x": 0.05
          },
          "xaxis": {
           "automargin": true,
           "gridcolor": "white",
           "linecolor": "white",
           "ticks": "",
           "title": {
            "standoff": 15
           },
           "zerolinecolor": "white",
           "zerolinewidth": 2
          },
          "yaxis": {
           "automargin": true,
           "gridcolor": "white",
           "linecolor": "white",
           "ticks": "",
           "title": {
            "standoff": 15
           },
           "zerolinecolor": "white",
           "zerolinewidth": 2
          }
         }
        },
        "title": {
         "text": "Histogram of Surplus Values"
        },
        "xaxis": {
         "anchor": "y",
         "domain": [
          0,
          1
         ],
         "title": {
          "text": "Surplus (Number of Bicycles)"
         }
        },
        "yaxis": {
         "anchor": "x",
         "domain": [
          0,
          1
         ],
         "title": {
          "text": "count"
         }
        }
       }
      }
     },
     "metadata": {},
     "output_type": "display_data"
    }
   ],
   "source": [
    "fig_surplus_hist = px.histogram(df_categories, x=\"Surplus\",\n",
    "                                nbins=len(df_categories),\n",
    "                                title=\"Histogram of Surplus Values\",\n",
    "                                labels={\"Surplus\": \"Surplus (Number of Bicycles)\"})\n",
    "fig_surplus_hist.show()"
   ]
  },
  {
   "cell_type": "code",
   "execution_count": 83,
   "metadata": {},
   "outputs": [
    {
     "data": {
      "application/vnd.plotly.v1+json": {
       "config": {
        "plotlyServerURL": "https://plot.ly"
       },
       "data": [
        {
         "alignmentgroup": "True",
         "hovertemplate": "Surplus (Number of Bicycles)=%{y}<extra></extra>",
         "legendgroup": "",
         "marker": {
          "color": "#636efa"
         },
         "name": "",
         "notched": false,
         "offsetgroup": "",
         "orientation": "v",
         "showlegend": false,
         "type": "box",
         "x0": " ",
         "xaxis": "x",
         "y": {
          "bdata": "EAEOARcBCwEaARcB",
          "dtype": "i2"
         },
         "y0": " ",
         "yaxis": "y"
        }
       ],
       "layout": {
        "boxmode": "group",
        "legend": {
         "tracegroupgap": 0
        },
        "template": {
         "data": {
          "bar": [
           {
            "error_x": {
             "color": "#2a3f5f"
            },
            "error_y": {
             "color": "#2a3f5f"
            },
            "marker": {
             "line": {
              "color": "#E5ECF6",
              "width": 0.5
             },
             "pattern": {
              "fillmode": "overlay",
              "size": 10,
              "solidity": 0.2
             }
            },
            "type": "bar"
           }
          ],
          "barpolar": [
           {
            "marker": {
             "line": {
              "color": "#E5ECF6",
              "width": 0.5
             },
             "pattern": {
              "fillmode": "overlay",
              "size": 10,
              "solidity": 0.2
             }
            },
            "type": "barpolar"
           }
          ],
          "carpet": [
           {
            "aaxis": {
             "endlinecolor": "#2a3f5f",
             "gridcolor": "white",
             "linecolor": "white",
             "minorgridcolor": "white",
             "startlinecolor": "#2a3f5f"
            },
            "baxis": {
             "endlinecolor": "#2a3f5f",
             "gridcolor": "white",
             "linecolor": "white",
             "minorgridcolor": "white",
             "startlinecolor": "#2a3f5f"
            },
            "type": "carpet"
           }
          ],
          "choropleth": [
           {
            "colorbar": {
             "outlinewidth": 0,
             "ticks": ""
            },
            "type": "choropleth"
           }
          ],
          "contour": [
           {
            "colorbar": {
             "outlinewidth": 0,
             "ticks": ""
            },
            "colorscale": [
             [
              0,
              "#0d0887"
             ],
             [
              0.1111111111111111,
              "#46039f"
             ],
             [
              0.2222222222222222,
              "#7201a8"
             ],
             [
              0.3333333333333333,
              "#9c179e"
             ],
             [
              0.4444444444444444,
              "#bd3786"
             ],
             [
              0.5555555555555556,
              "#d8576b"
             ],
             [
              0.6666666666666666,
              "#ed7953"
             ],
             [
              0.7777777777777778,
              "#fb9f3a"
             ],
             [
              0.8888888888888888,
              "#fdca26"
             ],
             [
              1,
              "#f0f921"
             ]
            ],
            "type": "contour"
           }
          ],
          "contourcarpet": [
           {
            "colorbar": {
             "outlinewidth": 0,
             "ticks": ""
            },
            "type": "contourcarpet"
           }
          ],
          "heatmap": [
           {
            "colorbar": {
             "outlinewidth": 0,
             "ticks": ""
            },
            "colorscale": [
             [
              0,
              "#0d0887"
             ],
             [
              0.1111111111111111,
              "#46039f"
             ],
             [
              0.2222222222222222,
              "#7201a8"
             ],
             [
              0.3333333333333333,
              "#9c179e"
             ],
             [
              0.4444444444444444,
              "#bd3786"
             ],
             [
              0.5555555555555556,
              "#d8576b"
             ],
             [
              0.6666666666666666,
              "#ed7953"
             ],
             [
              0.7777777777777778,
              "#fb9f3a"
             ],
             [
              0.8888888888888888,
              "#fdca26"
             ],
             [
              1,
              "#f0f921"
             ]
            ],
            "type": "heatmap"
           }
          ],
          "histogram": [
           {
            "marker": {
             "pattern": {
              "fillmode": "overlay",
              "size": 10,
              "solidity": 0.2
             }
            },
            "type": "histogram"
           }
          ],
          "histogram2d": [
           {
            "colorbar": {
             "outlinewidth": 0,
             "ticks": ""
            },
            "colorscale": [
             [
              0,
              "#0d0887"
             ],
             [
              0.1111111111111111,
              "#46039f"
             ],
             [
              0.2222222222222222,
              "#7201a8"
             ],
             [
              0.3333333333333333,
              "#9c179e"
             ],
             [
              0.4444444444444444,
              "#bd3786"
             ],
             [
              0.5555555555555556,
              "#d8576b"
             ],
             [
              0.6666666666666666,
              "#ed7953"
             ],
             [
              0.7777777777777778,
              "#fb9f3a"
             ],
             [
              0.8888888888888888,
              "#fdca26"
             ],
             [
              1,
              "#f0f921"
             ]
            ],
            "type": "histogram2d"
           }
          ],
          "histogram2dcontour": [
           {
            "colorbar": {
             "outlinewidth": 0,
             "ticks": ""
            },
            "colorscale": [
             [
              0,
              "#0d0887"
             ],
             [
              0.1111111111111111,
              "#46039f"
             ],
             [
              0.2222222222222222,
              "#7201a8"
             ],
             [
              0.3333333333333333,
              "#9c179e"
             ],
             [
              0.4444444444444444,
              "#bd3786"
             ],
             [
              0.5555555555555556,
              "#d8576b"
             ],
             [
              0.6666666666666666,
              "#ed7953"
             ],
             [
              0.7777777777777778,
              "#fb9f3a"
             ],
             [
              0.8888888888888888,
              "#fdca26"
             ],
             [
              1,
              "#f0f921"
             ]
            ],
            "type": "histogram2dcontour"
           }
          ],
          "mesh3d": [
           {
            "colorbar": {
             "outlinewidth": 0,
             "ticks": ""
            },
            "type": "mesh3d"
           }
          ],
          "parcoords": [
           {
            "line": {
             "colorbar": {
              "outlinewidth": 0,
              "ticks": ""
             }
            },
            "type": "parcoords"
           }
          ],
          "pie": [
           {
            "automargin": true,
            "type": "pie"
           }
          ],
          "scatter": [
           {
            "fillpattern": {
             "fillmode": "overlay",
             "size": 10,
             "solidity": 0.2
            },
            "type": "scatter"
           }
          ],
          "scatter3d": [
           {
            "line": {
             "colorbar": {
              "outlinewidth": 0,
              "ticks": ""
             }
            },
            "marker": {
             "colorbar": {
              "outlinewidth": 0,
              "ticks": ""
             }
            },
            "type": "scatter3d"
           }
          ],
          "scattercarpet": [
           {
            "marker": {
             "colorbar": {
              "outlinewidth": 0,
              "ticks": ""
             }
            },
            "type": "scattercarpet"
           }
          ],
          "scattergeo": [
           {
            "marker": {
             "colorbar": {
              "outlinewidth": 0,
              "ticks": ""
             }
            },
            "type": "scattergeo"
           }
          ],
          "scattergl": [
           {
            "marker": {
             "colorbar": {
              "outlinewidth": 0,
              "ticks": ""
             }
            },
            "type": "scattergl"
           }
          ],
          "scattermap": [
           {
            "marker": {
             "colorbar": {
              "outlinewidth": 0,
              "ticks": ""
             }
            },
            "type": "scattermap"
           }
          ],
          "scattermapbox": [
           {
            "marker": {
             "colorbar": {
              "outlinewidth": 0,
              "ticks": ""
             }
            },
            "type": "scattermapbox"
           }
          ],
          "scatterpolar": [
           {
            "marker": {
             "colorbar": {
              "outlinewidth": 0,
              "ticks": ""
             }
            },
            "type": "scatterpolar"
           }
          ],
          "scatterpolargl": [
           {
            "marker": {
             "colorbar": {
              "outlinewidth": 0,
              "ticks": ""
             }
            },
            "type": "scatterpolargl"
           }
          ],
          "scatterternary": [
           {
            "marker": {
             "colorbar": {
              "outlinewidth": 0,
              "ticks": ""
             }
            },
            "type": "scatterternary"
           }
          ],
          "surface": [
           {
            "colorbar": {
             "outlinewidth": 0,
             "ticks": ""
            },
            "colorscale": [
             [
              0,
              "#0d0887"
             ],
             [
              0.1111111111111111,
              "#46039f"
             ],
             [
              0.2222222222222222,
              "#7201a8"
             ],
             [
              0.3333333333333333,
              "#9c179e"
             ],
             [
              0.4444444444444444,
              "#bd3786"
             ],
             [
              0.5555555555555556,
              "#d8576b"
             ],
             [
              0.6666666666666666,
              "#ed7953"
             ],
             [
              0.7777777777777778,
              "#fb9f3a"
             ],
             [
              0.8888888888888888,
              "#fdca26"
             ],
             [
              1,
              "#f0f921"
             ]
            ],
            "type": "surface"
           }
          ],
          "table": [
           {
            "cells": {
             "fill": {
              "color": "#EBF0F8"
             },
             "line": {
              "color": "white"
             }
            },
            "header": {
             "fill": {
              "color": "#C8D4E3"
             },
             "line": {
              "color": "white"
             }
            },
            "type": "table"
           }
          ]
         },
         "layout": {
          "annotationdefaults": {
           "arrowcolor": "#2a3f5f",
           "arrowhead": 0,
           "arrowwidth": 1
          },
          "autotypenumbers": "strict",
          "coloraxis": {
           "colorbar": {
            "outlinewidth": 0,
            "ticks": ""
           }
          },
          "colorscale": {
           "diverging": [
            [
             0,
             "#8e0152"
            ],
            [
             0.1,
             "#c51b7d"
            ],
            [
             0.2,
             "#de77ae"
            ],
            [
             0.3,
             "#f1b6da"
            ],
            [
             0.4,
             "#fde0ef"
            ],
            [
             0.5,
             "#f7f7f7"
            ],
            [
             0.6,
             "#e6f5d0"
            ],
            [
             0.7,
             "#b8e186"
            ],
            [
             0.8,
             "#7fbc41"
            ],
            [
             0.9,
             "#4d9221"
            ],
            [
             1,
             "#276419"
            ]
           ],
           "sequential": [
            [
             0,
             "#0d0887"
            ],
            [
             0.1111111111111111,
             "#46039f"
            ],
            [
             0.2222222222222222,
             "#7201a8"
            ],
            [
             0.3333333333333333,
             "#9c179e"
            ],
            [
             0.4444444444444444,
             "#bd3786"
            ],
            [
             0.5555555555555556,
             "#d8576b"
            ],
            [
             0.6666666666666666,
             "#ed7953"
            ],
            [
             0.7777777777777778,
             "#fb9f3a"
            ],
            [
             0.8888888888888888,
             "#fdca26"
            ],
            [
             1,
             "#f0f921"
            ]
           ],
           "sequentialminus": [
            [
             0,
             "#0d0887"
            ],
            [
             0.1111111111111111,
             "#46039f"
            ],
            [
             0.2222222222222222,
             "#7201a8"
            ],
            [
             0.3333333333333333,
             "#9c179e"
            ],
            [
             0.4444444444444444,
             "#bd3786"
            ],
            [
             0.5555555555555556,
             "#d8576b"
            ],
            [
             0.6666666666666666,
             "#ed7953"
            ],
            [
             0.7777777777777778,
             "#fb9f3a"
            ],
            [
             0.8888888888888888,
             "#fdca26"
            ],
            [
             1,
             "#f0f921"
            ]
           ]
          },
          "colorway": [
           "#636efa",
           "#EF553B",
           "#00cc96",
           "#ab63fa",
           "#FFA15A",
           "#19d3f3",
           "#FF6692",
           "#B6E880",
           "#FF97FF",
           "#FECB52"
          ],
          "font": {
           "color": "#2a3f5f"
          },
          "geo": {
           "bgcolor": "white",
           "lakecolor": "white",
           "landcolor": "#E5ECF6",
           "showlakes": true,
           "showland": true,
           "subunitcolor": "white"
          },
          "hoverlabel": {
           "align": "left"
          },
          "hovermode": "closest",
          "mapbox": {
           "style": "light"
          },
          "paper_bgcolor": "white",
          "plot_bgcolor": "#E5ECF6",
          "polar": {
           "angularaxis": {
            "gridcolor": "white",
            "linecolor": "white",
            "ticks": ""
           },
           "bgcolor": "#E5ECF6",
           "radialaxis": {
            "gridcolor": "white",
            "linecolor": "white",
            "ticks": ""
           }
          },
          "scene": {
           "xaxis": {
            "backgroundcolor": "#E5ECF6",
            "gridcolor": "white",
            "gridwidth": 2,
            "linecolor": "white",
            "showbackground": true,
            "ticks": "",
            "zerolinecolor": "white"
           },
           "yaxis": {
            "backgroundcolor": "#E5ECF6",
            "gridcolor": "white",
            "gridwidth": 2,
            "linecolor": "white",
            "showbackground": true,
            "ticks": "",
            "zerolinecolor": "white"
           },
           "zaxis": {
            "backgroundcolor": "#E5ECF6",
            "gridcolor": "white",
            "gridwidth": 2,
            "linecolor": "white",
            "showbackground": true,
            "ticks": "",
            "zerolinecolor": "white"
           }
          },
          "shapedefaults": {
           "line": {
            "color": "#2a3f5f"
           }
          },
          "ternary": {
           "aaxis": {
            "gridcolor": "white",
            "linecolor": "white",
            "ticks": ""
           },
           "baxis": {
            "gridcolor": "white",
            "linecolor": "white",
            "ticks": ""
           },
           "bgcolor": "#E5ECF6",
           "caxis": {
            "gridcolor": "white",
            "linecolor": "white",
            "ticks": ""
           }
          },
          "title": {
           "x": 0.05
          },
          "xaxis": {
           "automargin": true,
           "gridcolor": "white",
           "linecolor": "white",
           "ticks": "",
           "title": {
            "standoff": 15
           },
           "zerolinecolor": "white",
           "zerolinewidth": 2
          },
          "yaxis": {
           "automargin": true,
           "gridcolor": "white",
           "linecolor": "white",
           "ticks": "",
           "title": {
            "standoff": 15
           },
           "zerolinecolor": "white",
           "zerolinewidth": 2
          }
         }
        },
        "title": {
         "text": "Boxplot of Surplus Values"
        },
        "xaxis": {
         "anchor": "y",
         "domain": [
          0,
          1
         ]
        },
        "yaxis": {
         "anchor": "x",
         "domain": [
          0,
          1
         ],
         "title": {
          "text": "Surplus (Number of Bicycles)"
         }
        }
       }
      }
     },
     "metadata": {},
     "output_type": "display_data"
    }
   ],
   "source": [
    "fig_surplus_box = px.box(df_categories, y=\"Surplus\",\n",
    "                         title=\"Boxplot of Surplus Values\",\n",
    "                         labels={\"Surplus\": \"Surplus (Number of Bicycles)\"})\n",
    "fig_surplus_box.show()\n"
   ]
  },
  {
   "cell_type": "code",
   "execution_count": 84,
   "metadata": {},
   "outputs": [
    {
     "data": {
      "application/vnd.plotly.v1+json": {
       "config": {
        "plotlyServerURL": "https://plot.ly"
       },
       "data": [
        {
         "bingroup": "x",
         "hovertemplate": "Space Occupied per Bicycle=%{x}<br>count=%{y}<extra></extra>",
         "legendgroup": "",
         "marker": {
          "color": "#636efa",
          "pattern": {
           "shape": ""
          }
         },
         "name": "",
         "nbinsx": 6,
         "orientation": "v",
         "showlegend": false,
         "type": "histogram",
         "x": {
          "bdata": "AAAAAAAA8D8AAAAAAAD4PwAAAAAAAPg/MzMzMzMz+z8zMzMzMzP7PwAAAAAAABBA",
          "dtype": "f8"
         },
         "xaxis": "x",
         "yaxis": "y"
        }
       ],
       "layout": {
        "barmode": "relative",
        "legend": {
         "tracegroupgap": 0
        },
        "template": {
         "data": {
          "bar": [
           {
            "error_x": {
             "color": "#2a3f5f"
            },
            "error_y": {
             "color": "#2a3f5f"
            },
            "marker": {
             "line": {
              "color": "#E5ECF6",
              "width": 0.5
             },
             "pattern": {
              "fillmode": "overlay",
              "size": 10,
              "solidity": 0.2
             }
            },
            "type": "bar"
           }
          ],
          "barpolar": [
           {
            "marker": {
             "line": {
              "color": "#E5ECF6",
              "width": 0.5
             },
             "pattern": {
              "fillmode": "overlay",
              "size": 10,
              "solidity": 0.2
             }
            },
            "type": "barpolar"
           }
          ],
          "carpet": [
           {
            "aaxis": {
             "endlinecolor": "#2a3f5f",
             "gridcolor": "white",
             "linecolor": "white",
             "minorgridcolor": "white",
             "startlinecolor": "#2a3f5f"
            },
            "baxis": {
             "endlinecolor": "#2a3f5f",
             "gridcolor": "white",
             "linecolor": "white",
             "minorgridcolor": "white",
             "startlinecolor": "#2a3f5f"
            },
            "type": "carpet"
           }
          ],
          "choropleth": [
           {
            "colorbar": {
             "outlinewidth": 0,
             "ticks": ""
            },
            "type": "choropleth"
           }
          ],
          "contour": [
           {
            "colorbar": {
             "outlinewidth": 0,
             "ticks": ""
            },
            "colorscale": [
             [
              0,
              "#0d0887"
             ],
             [
              0.1111111111111111,
              "#46039f"
             ],
             [
              0.2222222222222222,
              "#7201a8"
             ],
             [
              0.3333333333333333,
              "#9c179e"
             ],
             [
              0.4444444444444444,
              "#bd3786"
             ],
             [
              0.5555555555555556,
              "#d8576b"
             ],
             [
              0.6666666666666666,
              "#ed7953"
             ],
             [
              0.7777777777777778,
              "#fb9f3a"
             ],
             [
              0.8888888888888888,
              "#fdca26"
             ],
             [
              1,
              "#f0f921"
             ]
            ],
            "type": "contour"
           }
          ],
          "contourcarpet": [
           {
            "colorbar": {
             "outlinewidth": 0,
             "ticks": ""
            },
            "type": "contourcarpet"
           }
          ],
          "heatmap": [
           {
            "colorbar": {
             "outlinewidth": 0,
             "ticks": ""
            },
            "colorscale": [
             [
              0,
              "#0d0887"
             ],
             [
              0.1111111111111111,
              "#46039f"
             ],
             [
              0.2222222222222222,
              "#7201a8"
             ],
             [
              0.3333333333333333,
              "#9c179e"
             ],
             [
              0.4444444444444444,
              "#bd3786"
             ],
             [
              0.5555555555555556,
              "#d8576b"
             ],
             [
              0.6666666666666666,
              "#ed7953"
             ],
             [
              0.7777777777777778,
              "#fb9f3a"
             ],
             [
              0.8888888888888888,
              "#fdca26"
             ],
             [
              1,
              "#f0f921"
             ]
            ],
            "type": "heatmap"
           }
          ],
          "histogram": [
           {
            "marker": {
             "pattern": {
              "fillmode": "overlay",
              "size": 10,
              "solidity": 0.2
             }
            },
            "type": "histogram"
           }
          ],
          "histogram2d": [
           {
            "colorbar": {
             "outlinewidth": 0,
             "ticks": ""
            },
            "colorscale": [
             [
              0,
              "#0d0887"
             ],
             [
              0.1111111111111111,
              "#46039f"
             ],
             [
              0.2222222222222222,
              "#7201a8"
             ],
             [
              0.3333333333333333,
              "#9c179e"
             ],
             [
              0.4444444444444444,
              "#bd3786"
             ],
             [
              0.5555555555555556,
              "#d8576b"
             ],
             [
              0.6666666666666666,
              "#ed7953"
             ],
             [
              0.7777777777777778,
              "#fb9f3a"
             ],
             [
              0.8888888888888888,
              "#fdca26"
             ],
             [
              1,
              "#f0f921"
             ]
            ],
            "type": "histogram2d"
           }
          ],
          "histogram2dcontour": [
           {
            "colorbar": {
             "outlinewidth": 0,
             "ticks": ""
            },
            "colorscale": [
             [
              0,
              "#0d0887"
             ],
             [
              0.1111111111111111,
              "#46039f"
             ],
             [
              0.2222222222222222,
              "#7201a8"
             ],
             [
              0.3333333333333333,
              "#9c179e"
             ],
             [
              0.4444444444444444,
              "#bd3786"
             ],
             [
              0.5555555555555556,
              "#d8576b"
             ],
             [
              0.6666666666666666,
              "#ed7953"
             ],
             [
              0.7777777777777778,
              "#fb9f3a"
             ],
             [
              0.8888888888888888,
              "#fdca26"
             ],
             [
              1,
              "#f0f921"
             ]
            ],
            "type": "histogram2dcontour"
           }
          ],
          "mesh3d": [
           {
            "colorbar": {
             "outlinewidth": 0,
             "ticks": ""
            },
            "type": "mesh3d"
           }
          ],
          "parcoords": [
           {
            "line": {
             "colorbar": {
              "outlinewidth": 0,
              "ticks": ""
             }
            },
            "type": "parcoords"
           }
          ],
          "pie": [
           {
            "automargin": true,
            "type": "pie"
           }
          ],
          "scatter": [
           {
            "fillpattern": {
             "fillmode": "overlay",
             "size": 10,
             "solidity": 0.2
            },
            "type": "scatter"
           }
          ],
          "scatter3d": [
           {
            "line": {
             "colorbar": {
              "outlinewidth": 0,
              "ticks": ""
             }
            },
            "marker": {
             "colorbar": {
              "outlinewidth": 0,
              "ticks": ""
             }
            },
            "type": "scatter3d"
           }
          ],
          "scattercarpet": [
           {
            "marker": {
             "colorbar": {
              "outlinewidth": 0,
              "ticks": ""
             }
            },
            "type": "scattercarpet"
           }
          ],
          "scattergeo": [
           {
            "marker": {
             "colorbar": {
              "outlinewidth": 0,
              "ticks": ""
             }
            },
            "type": "scattergeo"
           }
          ],
          "scattergl": [
           {
            "marker": {
             "colorbar": {
              "outlinewidth": 0,
              "ticks": ""
             }
            },
            "type": "scattergl"
           }
          ],
          "scattermap": [
           {
            "marker": {
             "colorbar": {
              "outlinewidth": 0,
              "ticks": ""
             }
            },
            "type": "scattermap"
           }
          ],
          "scattermapbox": [
           {
            "marker": {
             "colorbar": {
              "outlinewidth": 0,
              "ticks": ""
             }
            },
            "type": "scattermapbox"
           }
          ],
          "scatterpolar": [
           {
            "marker": {
             "colorbar": {
              "outlinewidth": 0,
              "ticks": ""
             }
            },
            "type": "scatterpolar"
           }
          ],
          "scatterpolargl": [
           {
            "marker": {
             "colorbar": {
              "outlinewidth": 0,
              "ticks": ""
             }
            },
            "type": "scatterpolargl"
           }
          ],
          "scatterternary": [
           {
            "marker": {
             "colorbar": {
              "outlinewidth": 0,
              "ticks": ""
             }
            },
            "type": "scatterternary"
           }
          ],
          "surface": [
           {
            "colorbar": {
             "outlinewidth": 0,
             "ticks": ""
            },
            "colorscale": [
             [
              0,
              "#0d0887"
             ],
             [
              0.1111111111111111,
              "#46039f"
             ],
             [
              0.2222222222222222,
              "#7201a8"
             ],
             [
              0.3333333333333333,
              "#9c179e"
             ],
             [
              0.4444444444444444,
              "#bd3786"
             ],
             [
              0.5555555555555556,
              "#d8576b"
             ],
             [
              0.6666666666666666,
              "#ed7953"
             ],
             [
              0.7777777777777778,
              "#fb9f3a"
             ],
             [
              0.8888888888888888,
              "#fdca26"
             ],
             [
              1,
              "#f0f921"
             ]
            ],
            "type": "surface"
           }
          ],
          "table": [
           {
            "cells": {
             "fill": {
              "color": "#EBF0F8"
             },
             "line": {
              "color": "white"
             }
            },
            "header": {
             "fill": {
              "color": "#C8D4E3"
             },
             "line": {
              "color": "white"
             }
            },
            "type": "table"
           }
          ]
         },
         "layout": {
          "annotationdefaults": {
           "arrowcolor": "#2a3f5f",
           "arrowhead": 0,
           "arrowwidth": 1
          },
          "autotypenumbers": "strict",
          "coloraxis": {
           "colorbar": {
            "outlinewidth": 0,
            "ticks": ""
           }
          },
          "colorscale": {
           "diverging": [
            [
             0,
             "#8e0152"
            ],
            [
             0.1,
             "#c51b7d"
            ],
            [
             0.2,
             "#de77ae"
            ],
            [
             0.3,
             "#f1b6da"
            ],
            [
             0.4,
             "#fde0ef"
            ],
            [
             0.5,
             "#f7f7f7"
            ],
            [
             0.6,
             "#e6f5d0"
            ],
            [
             0.7,
             "#b8e186"
            ],
            [
             0.8,
             "#7fbc41"
            ],
            [
             0.9,
             "#4d9221"
            ],
            [
             1,
             "#276419"
            ]
           ],
           "sequential": [
            [
             0,
             "#0d0887"
            ],
            [
             0.1111111111111111,
             "#46039f"
            ],
            [
             0.2222222222222222,
             "#7201a8"
            ],
            [
             0.3333333333333333,
             "#9c179e"
            ],
            [
             0.4444444444444444,
             "#bd3786"
            ],
            [
             0.5555555555555556,
             "#d8576b"
            ],
            [
             0.6666666666666666,
             "#ed7953"
            ],
            [
             0.7777777777777778,
             "#fb9f3a"
            ],
            [
             0.8888888888888888,
             "#fdca26"
            ],
            [
             1,
             "#f0f921"
            ]
           ],
           "sequentialminus": [
            [
             0,
             "#0d0887"
            ],
            [
             0.1111111111111111,
             "#46039f"
            ],
            [
             0.2222222222222222,
             "#7201a8"
            ],
            [
             0.3333333333333333,
             "#9c179e"
            ],
            [
             0.4444444444444444,
             "#bd3786"
            ],
            [
             0.5555555555555556,
             "#d8576b"
            ],
            [
             0.6666666666666666,
             "#ed7953"
            ],
            [
             0.7777777777777778,
             "#fb9f3a"
            ],
            [
             0.8888888888888888,
             "#fdca26"
            ],
            [
             1,
             "#f0f921"
            ]
           ]
          },
          "colorway": [
           "#636efa",
           "#EF553B",
           "#00cc96",
           "#ab63fa",
           "#FFA15A",
           "#19d3f3",
           "#FF6692",
           "#B6E880",
           "#FF97FF",
           "#FECB52"
          ],
          "font": {
           "color": "#2a3f5f"
          },
          "geo": {
           "bgcolor": "white",
           "lakecolor": "white",
           "landcolor": "#E5ECF6",
           "showlakes": true,
           "showland": true,
           "subunitcolor": "white"
          },
          "hoverlabel": {
           "align": "left"
          },
          "hovermode": "closest",
          "mapbox": {
           "style": "light"
          },
          "paper_bgcolor": "white",
          "plot_bgcolor": "#E5ECF6",
          "polar": {
           "angularaxis": {
            "gridcolor": "white",
            "linecolor": "white",
            "ticks": ""
           },
           "bgcolor": "#E5ECF6",
           "radialaxis": {
            "gridcolor": "white",
            "linecolor": "white",
            "ticks": ""
           }
          },
          "scene": {
           "xaxis": {
            "backgroundcolor": "#E5ECF6",
            "gridcolor": "white",
            "gridwidth": 2,
            "linecolor": "white",
            "showbackground": true,
            "ticks": "",
            "zerolinecolor": "white"
           },
           "yaxis": {
            "backgroundcolor": "#E5ECF6",
            "gridcolor": "white",
            "gridwidth": 2,
            "linecolor": "white",
            "showbackground": true,
            "ticks": "",
            "zerolinecolor": "white"
           },
           "zaxis": {
            "backgroundcolor": "#E5ECF6",
            "gridcolor": "white",
            "gridwidth": 2,
            "linecolor": "white",
            "showbackground": true,
            "ticks": "",
            "zerolinecolor": "white"
           }
          },
          "shapedefaults": {
           "line": {
            "color": "#2a3f5f"
           }
          },
          "ternary": {
           "aaxis": {
            "gridcolor": "white",
            "linecolor": "white",
            "ticks": ""
           },
           "baxis": {
            "gridcolor": "white",
            "linecolor": "white",
            "ticks": ""
           },
           "bgcolor": "#E5ECF6",
           "caxis": {
            "gridcolor": "white",
            "linecolor": "white",
            "ticks": ""
           }
          },
          "title": {
           "x": 0.05
          },
          "xaxis": {
           "automargin": true,
           "gridcolor": "white",
           "linecolor": "white",
           "ticks": "",
           "title": {
            "standoff": 15
           },
           "zerolinecolor": "white",
           "zerolinewidth": 2
          },
          "yaxis": {
           "automargin": true,
           "gridcolor": "white",
           "linecolor": "white",
           "ticks": "",
           "title": {
            "standoff": 15
           },
           "zerolinecolor": "white",
           "zerolinewidth": 2
          }
         }
        },
        "title": {
         "text": "Histogram of Space Occupancy Values"
        },
        "xaxis": {
         "anchor": "y",
         "domain": [
          0,
          1
         ],
         "title": {
          "text": "Space Occupied per Bicycle"
         }
        },
        "yaxis": {
         "anchor": "x",
         "domain": [
          0,
          1
         ],
         "title": {
          "text": "count"
         }
        }
       }
      }
     },
     "metadata": {},
     "output_type": "display_data"
    }
   ],
   "source": [
    "fig_space_hist = px.histogram(df_categories, x=\"Space Occupancy\",\n",
    "                              nbins=len(df_categories),\n",
    "                              title=\"Histogram of Space Occupancy Values\",\n",
    "                              labels={\"Space Occupancy\": \"Space Occupied per Bicycle\"})\n",
    "fig_space_hist.show()"
   ]
  },
  {
   "cell_type": "code",
   "execution_count": 85,
   "metadata": {},
   "outputs": [
    {
     "data": {
      "application/vnd.plotly.v1+json": {
       "config": {
        "plotlyServerURL": "https://plot.ly"
       },
       "data": [
        {
         "alignmentgroup": "True",
         "hovertemplate": "Space Occupied per Bicycle=%{y}<extra></extra>",
         "legendgroup": "",
         "marker": {
          "color": "#636efa"
         },
         "name": "",
         "notched": false,
         "offsetgroup": "",
         "orientation": "v",
         "showlegend": false,
         "type": "box",
         "x0": " ",
         "xaxis": "x",
         "y": {
          "bdata": "AAAAAAAA8D8AAAAAAAD4PwAAAAAAAPg/MzMzMzMz+z8zMzMzMzP7PwAAAAAAABBA",
          "dtype": "f8"
         },
         "y0": " ",
         "yaxis": "y"
        }
       ],
       "layout": {
        "boxmode": "group",
        "legend": {
         "tracegroupgap": 0
        },
        "template": {
         "data": {
          "bar": [
           {
            "error_x": {
             "color": "#2a3f5f"
            },
            "error_y": {
             "color": "#2a3f5f"
            },
            "marker": {
             "line": {
              "color": "#E5ECF6",
              "width": 0.5
             },
             "pattern": {
              "fillmode": "overlay",
              "size": 10,
              "solidity": 0.2
             }
            },
            "type": "bar"
           }
          ],
          "barpolar": [
           {
            "marker": {
             "line": {
              "color": "#E5ECF6",
              "width": 0.5
             },
             "pattern": {
              "fillmode": "overlay",
              "size": 10,
              "solidity": 0.2
             }
            },
            "type": "barpolar"
           }
          ],
          "carpet": [
           {
            "aaxis": {
             "endlinecolor": "#2a3f5f",
             "gridcolor": "white",
             "linecolor": "white",
             "minorgridcolor": "white",
             "startlinecolor": "#2a3f5f"
            },
            "baxis": {
             "endlinecolor": "#2a3f5f",
             "gridcolor": "white",
             "linecolor": "white",
             "minorgridcolor": "white",
             "startlinecolor": "#2a3f5f"
            },
            "type": "carpet"
           }
          ],
          "choropleth": [
           {
            "colorbar": {
             "outlinewidth": 0,
             "ticks": ""
            },
            "type": "choropleth"
           }
          ],
          "contour": [
           {
            "colorbar": {
             "outlinewidth": 0,
             "ticks": ""
            },
            "colorscale": [
             [
              0,
              "#0d0887"
             ],
             [
              0.1111111111111111,
              "#46039f"
             ],
             [
              0.2222222222222222,
              "#7201a8"
             ],
             [
              0.3333333333333333,
              "#9c179e"
             ],
             [
              0.4444444444444444,
              "#bd3786"
             ],
             [
              0.5555555555555556,
              "#d8576b"
             ],
             [
              0.6666666666666666,
              "#ed7953"
             ],
             [
              0.7777777777777778,
              "#fb9f3a"
             ],
             [
              0.8888888888888888,
              "#fdca26"
             ],
             [
              1,
              "#f0f921"
             ]
            ],
            "type": "contour"
           }
          ],
          "contourcarpet": [
           {
            "colorbar": {
             "outlinewidth": 0,
             "ticks": ""
            },
            "type": "contourcarpet"
           }
          ],
          "heatmap": [
           {
            "colorbar": {
             "outlinewidth": 0,
             "ticks": ""
            },
            "colorscale": [
             [
              0,
              "#0d0887"
             ],
             [
              0.1111111111111111,
              "#46039f"
             ],
             [
              0.2222222222222222,
              "#7201a8"
             ],
             [
              0.3333333333333333,
              "#9c179e"
             ],
             [
              0.4444444444444444,
              "#bd3786"
             ],
             [
              0.5555555555555556,
              "#d8576b"
             ],
             [
              0.6666666666666666,
              "#ed7953"
             ],
             [
              0.7777777777777778,
              "#fb9f3a"
             ],
             [
              0.8888888888888888,
              "#fdca26"
             ],
             [
              1,
              "#f0f921"
             ]
            ],
            "type": "heatmap"
           }
          ],
          "histogram": [
           {
            "marker": {
             "pattern": {
              "fillmode": "overlay",
              "size": 10,
              "solidity": 0.2
             }
            },
            "type": "histogram"
           }
          ],
          "histogram2d": [
           {
            "colorbar": {
             "outlinewidth": 0,
             "ticks": ""
            },
            "colorscale": [
             [
              0,
              "#0d0887"
             ],
             [
              0.1111111111111111,
              "#46039f"
             ],
             [
              0.2222222222222222,
              "#7201a8"
             ],
             [
              0.3333333333333333,
              "#9c179e"
             ],
             [
              0.4444444444444444,
              "#bd3786"
             ],
             [
              0.5555555555555556,
              "#d8576b"
             ],
             [
              0.6666666666666666,
              "#ed7953"
             ],
             [
              0.7777777777777778,
              "#fb9f3a"
             ],
             [
              0.8888888888888888,
              "#fdca26"
             ],
             [
              1,
              "#f0f921"
             ]
            ],
            "type": "histogram2d"
           }
          ],
          "histogram2dcontour": [
           {
            "colorbar": {
             "outlinewidth": 0,
             "ticks": ""
            },
            "colorscale": [
             [
              0,
              "#0d0887"
             ],
             [
              0.1111111111111111,
              "#46039f"
             ],
             [
              0.2222222222222222,
              "#7201a8"
             ],
             [
              0.3333333333333333,
              "#9c179e"
             ],
             [
              0.4444444444444444,
              "#bd3786"
             ],
             [
              0.5555555555555556,
              "#d8576b"
             ],
             [
              0.6666666666666666,
              "#ed7953"
             ],
             [
              0.7777777777777778,
              "#fb9f3a"
             ],
             [
              0.8888888888888888,
              "#fdca26"
             ],
             [
              1,
              "#f0f921"
             ]
            ],
            "type": "histogram2dcontour"
           }
          ],
          "mesh3d": [
           {
            "colorbar": {
             "outlinewidth": 0,
             "ticks": ""
            },
            "type": "mesh3d"
           }
          ],
          "parcoords": [
           {
            "line": {
             "colorbar": {
              "outlinewidth": 0,
              "ticks": ""
             }
            },
            "type": "parcoords"
           }
          ],
          "pie": [
           {
            "automargin": true,
            "type": "pie"
           }
          ],
          "scatter": [
           {
            "fillpattern": {
             "fillmode": "overlay",
             "size": 10,
             "solidity": 0.2
            },
            "type": "scatter"
           }
          ],
          "scatter3d": [
           {
            "line": {
             "colorbar": {
              "outlinewidth": 0,
              "ticks": ""
             }
            },
            "marker": {
             "colorbar": {
              "outlinewidth": 0,
              "ticks": ""
             }
            },
            "type": "scatter3d"
           }
          ],
          "scattercarpet": [
           {
            "marker": {
             "colorbar": {
              "outlinewidth": 0,
              "ticks": ""
             }
            },
            "type": "scattercarpet"
           }
          ],
          "scattergeo": [
           {
            "marker": {
             "colorbar": {
              "outlinewidth": 0,
              "ticks": ""
             }
            },
            "type": "scattergeo"
           }
          ],
          "scattergl": [
           {
            "marker": {
             "colorbar": {
              "outlinewidth": 0,
              "ticks": ""
             }
            },
            "type": "scattergl"
           }
          ],
          "scattermap": [
           {
            "marker": {
             "colorbar": {
              "outlinewidth": 0,
              "ticks": ""
             }
            },
            "type": "scattermap"
           }
          ],
          "scattermapbox": [
           {
            "marker": {
             "colorbar": {
              "outlinewidth": 0,
              "ticks": ""
             }
            },
            "type": "scattermapbox"
           }
          ],
          "scatterpolar": [
           {
            "marker": {
             "colorbar": {
              "outlinewidth": 0,
              "ticks": ""
             }
            },
            "type": "scatterpolar"
           }
          ],
          "scatterpolargl": [
           {
            "marker": {
             "colorbar": {
              "outlinewidth": 0,
              "ticks": ""
             }
            },
            "type": "scatterpolargl"
           }
          ],
          "scatterternary": [
           {
            "marker": {
             "colorbar": {
              "outlinewidth": 0,
              "ticks": ""
             }
            },
            "type": "scatterternary"
           }
          ],
          "surface": [
           {
            "colorbar": {
             "outlinewidth": 0,
             "ticks": ""
            },
            "colorscale": [
             [
              0,
              "#0d0887"
             ],
             [
              0.1111111111111111,
              "#46039f"
             ],
             [
              0.2222222222222222,
              "#7201a8"
             ],
             [
              0.3333333333333333,
              "#9c179e"
             ],
             [
              0.4444444444444444,
              "#bd3786"
             ],
             [
              0.5555555555555556,
              "#d8576b"
             ],
             [
              0.6666666666666666,
              "#ed7953"
             ],
             [
              0.7777777777777778,
              "#fb9f3a"
             ],
             [
              0.8888888888888888,
              "#fdca26"
             ],
             [
              1,
              "#f0f921"
             ]
            ],
            "type": "surface"
           }
          ],
          "table": [
           {
            "cells": {
             "fill": {
              "color": "#EBF0F8"
             },
             "line": {
              "color": "white"
             }
            },
            "header": {
             "fill": {
              "color": "#C8D4E3"
             },
             "line": {
              "color": "white"
             }
            },
            "type": "table"
           }
          ]
         },
         "layout": {
          "annotationdefaults": {
           "arrowcolor": "#2a3f5f",
           "arrowhead": 0,
           "arrowwidth": 1
          },
          "autotypenumbers": "strict",
          "coloraxis": {
           "colorbar": {
            "outlinewidth": 0,
            "ticks": ""
           }
          },
          "colorscale": {
           "diverging": [
            [
             0,
             "#8e0152"
            ],
            [
             0.1,
             "#c51b7d"
            ],
            [
             0.2,
             "#de77ae"
            ],
            [
             0.3,
             "#f1b6da"
            ],
            [
             0.4,
             "#fde0ef"
            ],
            [
             0.5,
             "#f7f7f7"
            ],
            [
             0.6,
             "#e6f5d0"
            ],
            [
             0.7,
             "#b8e186"
            ],
            [
             0.8,
             "#7fbc41"
            ],
            [
             0.9,
             "#4d9221"
            ],
            [
             1,
             "#276419"
            ]
           ],
           "sequential": [
            [
             0,
             "#0d0887"
            ],
            [
             0.1111111111111111,
             "#46039f"
            ],
            [
             0.2222222222222222,
             "#7201a8"
            ],
            [
             0.3333333333333333,
             "#9c179e"
            ],
            [
             0.4444444444444444,
             "#bd3786"
            ],
            [
             0.5555555555555556,
             "#d8576b"
            ],
            [
             0.6666666666666666,
             "#ed7953"
            ],
            [
             0.7777777777777778,
             "#fb9f3a"
            ],
            [
             0.8888888888888888,
             "#fdca26"
            ],
            [
             1,
             "#f0f921"
            ]
           ],
           "sequentialminus": [
            [
             0,
             "#0d0887"
            ],
            [
             0.1111111111111111,
             "#46039f"
            ],
            [
             0.2222222222222222,
             "#7201a8"
            ],
            [
             0.3333333333333333,
             "#9c179e"
            ],
            [
             0.4444444444444444,
             "#bd3786"
            ],
            [
             0.5555555555555556,
             "#d8576b"
            ],
            [
             0.6666666666666666,
             "#ed7953"
            ],
            [
             0.7777777777777778,
             "#fb9f3a"
            ],
            [
             0.8888888888888888,
             "#fdca26"
            ],
            [
             1,
             "#f0f921"
            ]
           ]
          },
          "colorway": [
           "#636efa",
           "#EF553B",
           "#00cc96",
           "#ab63fa",
           "#FFA15A",
           "#19d3f3",
           "#FF6692",
           "#B6E880",
           "#FF97FF",
           "#FECB52"
          ],
          "font": {
           "color": "#2a3f5f"
          },
          "geo": {
           "bgcolor": "white",
           "lakecolor": "white",
           "landcolor": "#E5ECF6",
           "showlakes": true,
           "showland": true,
           "subunitcolor": "white"
          },
          "hoverlabel": {
           "align": "left"
          },
          "hovermode": "closest",
          "mapbox": {
           "style": "light"
          },
          "paper_bgcolor": "white",
          "plot_bgcolor": "#E5ECF6",
          "polar": {
           "angularaxis": {
            "gridcolor": "white",
            "linecolor": "white",
            "ticks": ""
           },
           "bgcolor": "#E5ECF6",
           "radialaxis": {
            "gridcolor": "white",
            "linecolor": "white",
            "ticks": ""
           }
          },
          "scene": {
           "xaxis": {
            "backgroundcolor": "#E5ECF6",
            "gridcolor": "white",
            "gridwidth": 2,
            "linecolor": "white",
            "showbackground": true,
            "ticks": "",
            "zerolinecolor": "white"
           },
           "yaxis": {
            "backgroundcolor": "#E5ECF6",
            "gridcolor": "white",
            "gridwidth": 2,
            "linecolor": "white",
            "showbackground": true,
            "ticks": "",
            "zerolinecolor": "white"
           },
           "zaxis": {
            "backgroundcolor": "#E5ECF6",
            "gridcolor": "white",
            "gridwidth": 2,
            "linecolor": "white",
            "showbackground": true,
            "ticks": "",
            "zerolinecolor": "white"
           }
          },
          "shapedefaults": {
           "line": {
            "color": "#2a3f5f"
           }
          },
          "ternary": {
           "aaxis": {
            "gridcolor": "white",
            "linecolor": "white",
            "ticks": ""
           },
           "baxis": {
            "gridcolor": "white",
            "linecolor": "white",
            "ticks": ""
           },
           "bgcolor": "#E5ECF6",
           "caxis": {
            "gridcolor": "white",
            "linecolor": "white",
            "ticks": ""
           }
          },
          "title": {
           "x": 0.05
          },
          "xaxis": {
           "automargin": true,
           "gridcolor": "white",
           "linecolor": "white",
           "ticks": "",
           "title": {
            "standoff": 15
           },
           "zerolinecolor": "white",
           "zerolinewidth": 2
          },
          "yaxis": {
           "automargin": true,
           "gridcolor": "white",
           "linecolor": "white",
           "ticks": "",
           "title": {
            "standoff": 15
           },
           "zerolinecolor": "white",
           "zerolinewidth": 2
          }
         }
        },
        "title": {
         "text": "Boxplot of Space Occupancy Values"
        },
        "xaxis": {
         "anchor": "y",
         "domain": [
          0,
          1
         ]
        },
        "yaxis": {
         "anchor": "x",
         "domain": [
          0,
          1
         ],
         "title": {
          "text": "Space Occupied per Bicycle"
         }
        }
       }
      }
     },
     "metadata": {},
     "output_type": "display_data"
    }
   ],
   "source": [
    "# Boxplot for space occupancy.\n",
    "fig_space_box = px.box(df_categories, y=\"Space Occupancy\",\n",
    "                       title=\"Boxplot of Space Occupancy Values\",\n",
    "                       labels={\"Space Occupancy\": \"Space Occupied per Bicycle\"})\n",
    "fig_space_box.show()"
   ]
  },
  {
   "cell_type": "code",
   "execution_count": 86,
   "metadata": {},
   "outputs": [],
   "source": [
    "profit_sheet_names = [sheet for sheet in file.sheet_names if sheet.startswith(\"ExpectedProfitsArea\")]\n",
    "\n",
    "profit_data = []\n",
    "\n",
    "for sheet in profit_sheet_names:\n",
    "    df = pd.read_excel(file, sheet_name=sheet, header=0)\n",
    "    area = \"Area\" + sheet[len(\"ExpectedProfitsArea\"):]\n",
    "    \n",
    "    df_long = df.melt(var_name=\"Category\", value_name=\"Incremental Profit\")\n",
    "    df_long = df_long.dropna()  \n",
    "    df_long['Bicycle Number'] = df_long.groupby('Category').cumcount() + 1\n",
    "    df_long['Area'] = area\n",
    "    profit_data.append(df_long)\n",
    "\n",
    "df_profits = pd.concat(profit_data, ignore_index=True)"
   ]
  },
  {
   "cell_type": "code",
   "execution_count": 87,
   "metadata": {},
   "outputs": [
    {
     "data": {
      "application/vnd.plotly.v1+json": {
       "config": {
        "plotlyServerURL": "https://plot.ly"
       },
       "data": [
        {
         "bingroup": "x",
         "hovertemplate": "Category=Child<br>Area=Area1<br>Incremental Profit=%{x}<br>count=%{y}<extra></extra>",
         "legendgroup": "Child",
         "marker": {
          "color": "#636efa",
          "pattern": {
           "shape": ""
          }
         },
         "name": "Child",
         "nbinsx": 50,
         "orientation": "v",
         "showlegend": true,
         "type": "histogram",
         "x": {
          "bdata": "g8DKoUW+RkDysFBrmvc0QA6+MJkqmElAcoqO5PJHQEBGtvP91OBIQJhMFYxKmjJAIv32deD8NECdgCbChh9FQLprCfmgpzxAufyH9NvnOUD8GHPXEvLpPz55WKg1bUJAm1Wfq60IMkCYTBWMSuo7QHrHKTqSizVAxSCwcmiR/D+7Jw8LtTZJQC6QoPgxRjtAKe0NvjABRkD5D+m3rytIQB1aZDvfT0NAPzVeukmMNkB1ApoIG44zQMGopE5AE+M/aW/whckcR0DnjCjtDSZBQCBB8WPMHRhA7Q2+MJnaMUB3LSEf9HwxQKMjufyHlC9ASL99HTjXRUDbiv1l9/xGQCo6kst/mDxAxf6ye/IANkCTGARWDn1FQAAAAAAAgBBAoyO5/If0EECutmJ/2Z08QBdIUPwYMzJAak3zjlMUPUACvAUSFGdFQMgHPZtV10JARdjw9EpZ4D9hw9MrZYlEQJeQD3o200FArWnecYpOLkC2hHzQsylKQPaX3ZOHtUlAy6FFtvNtPUCk374OnHMeQCfChqdXGjRA07zjFB3RSUBQ/Bhz1xL4P9bFbTSAlyZAp+hILv+hMECBlUOLbLc2QFHaG3xhMhlAcoqO5PKfNUBsCfmgZ1M1QDm0yHa+V0NAcM6I0t7g8z9SJ6CJsPlBQATnjCjtDRBAxY8xdy0h9T++nxov3aQ4QH/7OnDOYEJAsHJoke0kQkCWsgxxrEtFQHrHKTqSk0BAzO7Jw0KtCUCAt0CC4kc1QPYoXI/ClStAArwFEhT/Q0AHzhlR2is1QArXo3A9ykRA54wo7Q3GSEBuNIC3QLJGQMUgsHJogTVAgy9MpgqmNUBNFYxK6lQ4QDcawFsgwQxAk6mCUUmdC0A7AU2EDS8uQNQrZRniWOs/i2zn+6kBPEAmUwWjkpo7QPaX3ZOHhSBARIts5/sJMUBrmnecojNEQH2utmJ/uSpAhXzQs1mVK0DRkVz+Q4o6QK7YX3ZPLkFAR3L5D+nHOUBHA3gLJKgsQKMjufyHdAZAYhBYObRYPUAnMQisHOJCQLpJDAIrB0FARIts5/tJK0B9PzVeukn8P9UJaCJsmC1AqDXNO04xMEBvgQTFj4lJQEGC4seYk0BAGJXUCWgiEUBtVn2utuIEQEtZhjjWXURAfPKwUGuaGEA7cM6I0k5KQF8HzhlR0kBAEqW9wRd+RkAukKD4MWYuQDGZKhiVxD9A",
          "dtype": "f8"
         },
         "xaxis": "x",
         "yaxis": "y"
        },
        {
         "bingroup": "x",
         "hovertemplate": "Category=Child<br>Area=Area2<br>Incremental Profit=%{x}<br>count=%{y}<extra></extra>",
         "legendgroup": "Child",
         "marker": {
          "color": "#636efa",
          "pattern": {
           "shape": ""
          }
         },
         "name": "Child",
         "nbinsx": 50,
         "orientation": "v",
         "showlegend": false,
         "type": "histogram",
         "x": {
          "bdata": "KH6MuWsJwT9F2PD0SlnqPy1DHOviNho/oyO5/If0wz/8GHPXEvKxP02EDU+vlNU/7FG4HoXr7z/M7snDQq3nP95xio7k8m8/07zjFB3J0T/jNhrAWyDtP0vqBDQRNuY/MEymCkYl4z9g5dAi2/nmPzqSy39Iv9E/zojS3uAL3z9SJ6CJsOHRP4NRSZ2AJuI/8x/Sb18H0j/xY8xdS8jbP+/Jw0Ktaeg/PujZrPpc3T+/fR04Z0TtP7hAguLHmMM/ObTIdr6f7D9VMCqpE9DQP1YOLbKd7+0/qDXNO07RyT+94xQdyeXjP3PXEvJBz9o/qoJRSZ2Azj/ZzvdT46XhP8dLN4lBYNk/1JrmHafo6j/u68A5I0rhPwwCK4cW2eY//kP67evAwT+PU3Qkl/+gP9Xnaiv2l9U/EoPAyqFFxj9qTfOOU3ToP6UsQxzr4uA/z2bV52or4j/caABvgQTZP86qz9VW7N8/bAn5oGez3j9zaJHtfD/lP1HaG3xhMuU//yH99nXg6D8LtaZ5xynuP7prCfmgZ8s/oyO5/If04T+mm8QgsHLmPw==",
          "dtype": "f8"
         },
         "xaxis": "x2",
         "yaxis": "y2"
        },
        {
         "bingroup": "x",
         "hovertemplate": "Category=Child<br>Area=Area3<br>Incremental Profit=%{x}<br>count=%{y}<extra></extra>",
         "legendgroup": "Child",
         "marker": {
          "color": "#636efa",
          "pattern": {
           "shape": ""
          }
         },
         "name": "Child",
         "nbinsx": 50,
         "orientation": "v",
         "showlegend": false,
         "type": "histogram",
         "x": {
          "bdata": "0NVW7C/jV0DmriXkg2pTQJ+rrdhfylZAldQJaCJMKEDUK2UZ4og1QNiBc0aU6lZA7lpCPuiZSEBF2PD0SvFOQFtCPujZzEVAgZVDi2wHM0CQMXctIRtQQNGRXP5DUlJA7nw/NV6yU0DmP6Tfvv4zQLyWkA96SldASgwCK4eeSkDsL7snD/NJQJM6AU2E9UhAcayL22iYR0DysFBrmjc9QKH4MeauqVBAd76fGi99Q0BKe4MvTCYxQNNNYhBYkU1AZohjXdwyVkAGgZVDi8RSQINRSZ2AjklATfOOU3QUSUCoxks3ifFDQK36XG3FrjlAOGdEaW9YVkD5D+m3r4NGQBDpt68D91dAyXa+nxqHQ0CNl24Sg+hRQLsnDwu1dlBAvw6cM6IkQEDpt68D51RUQGiz6nO1RThA3GgAb4G0SkDCFyZTBZMyQH9qvHST+E9At9EA3gLRRECL/WX35JlWQDQRNjy9qkJAbVZ9rrayQ0Aydy0hH3xOQIy5awn5uElAhjjWxW2kOEB2cRsN4G1XQELPZtXngk1ApSxDHOuqUUCR7Xw/NR43QI4G8BZIqEVAgQTFjzFXSEBuNIC3QHJKQC9uowG8/UVARpT2Bl9YPEC7Jw8LtZYyQJ7vp8ZLm1ZAejarPldbI0Af9GxWfY5JQDJVMCqpK0tAVFInoIk4TkDA7J48LHxSQHuDL0ymOk9Avw6cM6J8U0C4QILix3BRQPRsVn2uclJAF9nO91OzPkCppE5AEwEjQKjGSzeJcUhAiUFg5dDiNEA51sVtNNBCQIenV8oyuFdAf9k9eVgASECAt0CC4odJQIqO5PIf3lNAVp+rrdiXRkAbnl4pyxDyP+qVsgxx1E1AmSoYldQBUEDsUbgehRtOQKCJsOHpxTNAi2zn+6lJVkAp7Q2+MLlEQLByaJHtEFFAKcsQx7pAUUDjx5i7lrBAQIqw4emVskxAke18PzX2RkB/arx0k5g5QGiz6nO1NS5Anzws1JrGIkBcIEHxYwRRQGQ730+NX0ZA",
          "dtype": "f8"
         },
         "xaxis": "x3",
         "yaxis": "y3"
        },
        {
         "bingroup": "x",
         "hovertemplate": "Category=Child<br>Area=Area4<br>Incremental Profit=%{x}<br>count=%{y}<extra></extra>",
         "legendgroup": "Child",
         "marker": {
          "color": "#636efa",
          "pattern": {
           "shape": ""
          }
         },
         "name": "Child",
         "nbinsx": 50,
         "orientation": "v",
         "showlegend": false,
         "type": "histogram",
         "x": {
          "bdata": "QmDl0CLLSUDByqFFthM6QFTjpZvEsFJAvw6cM6K0T0BNhA1Pr6RJQPJBz2bVp0RA2PD0SlnmVEA/xty1hPwSQPH0SlmGiD9AmpmZmZnpQ0Ch1jTvOBVGQMgHPZtVnw9AXrpJDAJDR0BqvHSTGKQnQDY8vVKWmUxAirDh6ZUqVkD7OnDOiHJQQNNNYhBYuStAkQ96NqvCVUDKVMGopG41QFYOLbKdx1dASL99HThn9D8LJCh+jBlOQMX+snvyQFdAZDvfT43LUUCDwMqhRRYnQAskKH6MeUpAvsEXJlPFQkBU46WbxPhJQIMvTKYKxkNAjgbwFkg4WECBBMWPMR9LQOm3rwPnTBFAsHJoke2cVkDD0ytlGQJOQKabxCCwkklAOdbFbTSoVEBX7C+7J19LQEmdgCbChg1ArfpcbcWeLUAxmSoYlfxVQLprCfmgY1ZA5IOezaq3TECrPldbsTtSQDSitDf40k5AkxgEVg6JUkCkcD0K16M3QGiz6nO1vU5A2IFzRpR6V0A6I0p7g5dBQMl2vp8arxpANjy9UpbpS0DNO07RkQxHQE+vlGWIi1RAxf6ye/KYQkCze/KwUPtGQBE2PL1S1kxAlIeFWtN8PkC8dJMYBJZXQHPXEvJBN0xAa5p3nKIj/T8TYcPTK4lUQOzAOSNK41NAIGPuWkI2U0CdgCbChmtSQFFrmnecmktAHhZqTfNmUEDHSzeJQXBQQD0K16NwPTxAz/dT46UbEkARNjy9Uh5IQH0/NV66CTVAxY8xdy3ZREBpb/CFybQzQA4tsp3v51FA5q4l5IO+MkDChqdXylIrQCJseHqlFFJAfPKwUGvaHkCXkA96NusTQCJseHqlJFZAqMZLN4mpQUAxmSoYlRxRQGEyVTAqEUVAHhZqTfPmV0BDHOviNspHQNV46SYxyDFAN4lBYOVwLUB/2T15WIgqQB04Z0RpLzZAfdCzWfV5RkDeAgmKH2tMQIZa07zjLFdAGCZTBaMSLkDA7J48LABWQJSHhVrTJFdAgQTFjzFzUED2l92Th5VLQH2utmJ/QUNAUI2XbhLnV0BMN4lBYL1MQFOWIY51MS9Al5APejazVUDKVMGopG43QFD8GHPX8jtA",
          "dtype": "f8"
         },
         "xaxis": "x4",
         "yaxis": "y4"
        },
        {
         "bingroup": "x",
         "hovertemplate": "Category=Child<br>Area=Area5<br>Incremental Profit=%{x}<br>count=%{y}<extra></extra>",
         "legendgroup": "Child",
         "marker": {
          "color": "#636efa",
          "pattern": {
           "shape": ""
          }
         },
         "name": "Child",
         "nbinsx": 50,
         "orientation": "v",
         "showlegend": false,
         "type": "histogram",
         "x": {
          "bdata": "EOm3rwPn4j9VwaikTkBzP9Sa5h2n6OA/8fRKWYY42j/M7snDQq25P0tZhjjWxe8/xEKtad5x5D/pJjEIrBzeP5f/kH77Otw/oWez6nO11T8noImw4enrP2aIY13cRuc/dy0hH/Rstj8ldQKaCBuuP2FUUiegicg/7uvAOSNKwz8wKqkT0ETQP0i/fR04Z9A/B84ZUdob4j8sZRniWBfvP34dOGdEadc/Dr4wmSoYtT+srdhfdk++P7TIdr6fGus/I0p7gy9Mtj/f4AuTqYKhP799HThnRME/gSbChqdX6D+z6nO1FfvDP5vmHafoSM4/PQrXo3A9yj96pSxDHOvuPysYldQJaOo/ZRniWBe36T/FjzF3LSHnP3uDL0ymCuo/vsEXJlMF7z98YTJVMCrRP0ku/yH99t0/rIvbaABv7T/ufD81XrrtPx+F61G4HuE/lPYGX5hM6T/RkVz+Q/rdPxNhw9MrZec/rrZif9k9yT/4U+Olm8TmP/T91HjpJsE/ayv2l92T3z8=",
          "dtype": "f8"
         },
         "xaxis": "x5",
         "yaxis": "y5"
        },
        {
         "bingroup": "x",
         "hovertemplate": "Category=Child<br>Area=Area6<br>Incremental Profit=%{x}<br>count=%{y}<extra></extra>",
         "legendgroup": "Child",
         "marker": {
          "color": "#636efa",
          "pattern": {
           "shape": ""
          }
         },
         "name": "Child",
         "nbinsx": 50,
         "orientation": "v",
         "showlegend": false,
         "type": "histogram",
         "x": {
          "bdata": "845TdCSXCkDP91PjpXsmQCgPC7WmMUVAhetRuB51TUAJG55eKZNAQKqCUUmdBFNAgZVDi2zTUkBSJ6CJsHEyQGfV52orRlJAhJ7Nqs8FNkDSAN4CCVo5QGKh1jTvmFFADAIrhxZRSkB4nKIjuYRMQBDpt68DF1FAdEaU9gb3REBXW7G/7C5MQOJYF7fR+FRAa5p3nKKvUUAQ6bevA89PQD81XrpJ5E9ABhIUP8aUQ0DsL7snD3tKQGDl0CLbrVBAlPYGX5i8M0Dtnjws1EJPQB4Wak3zzhFAklz+Q/ptMEBeukkMAps+QPVKWYY4JjpA8BZIUPxoSUAbL90kBqFTQGUZ4lgXtzZAkDF3LSGfLEAep+hILudSQO2ePCzUmu4/xty1hHy4QkCkcD0K16tNQOJYF7fR4CxANjy9Upa5VEDEsS5uo1E6QI/k8h/STy1A7lpCPuj5IEC7uI0G8I5QQAfOGVHaG0RAF0hQ/BiTQ0BR2ht8YdI6QBx8YTJVYDhAOwFNhA2/UkC6awn5oC9RQBE2PL1S/kdAOdbFbTRQUkATYcPTKxFSQET67evAJVFA3SQGgZWzN0CcoiO5/Gc7QK62Yn/ZbUBA4umVsgxpVEB/arx0k3hAQJqZmZmZWTlA9dvXgXNmMkApyxDHuphGQMx/SL99HTtA+Q/pt697RED35GGh1phRQHRGlPYG3xVA9dvXgXM2O0Dtnjws1B5RQG/whclUwfE/zO7Jw0INT0BVwaikTgBHQIGVQ4tsJ0BA6Gor9pdFSkAAkX77OkBOQB4Wak3zilNAEce6uI2GDUDOGVHaGzROQO7rwDkjxlBAjnVxGw2gJEA0gLdAggpBQA==",
          "dtype": "f8"
         },
         "xaxis": "x6",
         "yaxis": "y6"
        },
        {
         "bingroup": "x",
         "hovertemplate": "Category=Child<br>Area=Area7<br>Incremental Profit=%{x}<br>count=%{y}<extra></extra>",
         "legendgroup": "Child",
         "marker": {
          "color": "#636efa",
          "pattern": {
           "shape": ""
          }
         },
         "name": "Child",
         "nbinsx": 50,
         "orientation": "v",
         "showlegend": false,
         "type": "histogram",
         "x": {
          "bdata": "qaROQBNh6T9CPujZrPrgP0vIBz2bVZ8/Xf5D+u3rsD8IPZtVn6vRP9Sa5h2n6Ng/b4EExY8x6z/8qfHSTWKgP6YKRiV1Auo/I0p7gy9Mxj+2hHzQs1nrP2aIY13cRsM/WvW52or96z8Wak3zjlPcP5MYBFYOLeA/GCZTBaOSqj8ibHh6pSzfP1HaG3xhMs0/V1uxv+yerD+si9toAG/VP/5D+u3rwNU/JlMFo5I60T8rGJXUCWjiP6UsQxzr4rY/f2q8dJMY7D9XW7G/7J7cP6foSC7/Id0/guLHmLuWgD/rc7UV+8voP3Noke18P+k/ZapgVFIn4D9rK/aX3ZPHPwfwFkhQ/NA/ih9j7lpC6j+dgCbChqfTPwXFjzF3LdE/dnEbDeAt7D88vVKWIY7nP90kBoGVQ+E/umsJ+aBn5T8pyxDHurjvPyV1ApoIG64/Z9Xnaiv27T8UP8bctYTEPyqpE9BE2OA/N4lBYOXQ4D/FjzF3LSHlP+cdp+hILtc/5WGh1jTv6j9os+pztRWrPw==",
          "dtype": "f8"
         },
         "xaxis": "x7",
         "yaxis": "y7"
        },
        {
         "bingroup": "x",
         "hovertemplate": "Category=Adult<br>Area=Area1<br>Incremental Profit=%{x}<br>count=%{y}<extra></extra>",
         "legendgroup": "Adult",
         "marker": {
          "color": "#EF553B",
          "pattern": {
           "shape": ""
          }
         },
         "name": "Adult",
         "nbinsx": 50,
         "orientation": "v",
         "showlegend": true,
         "type": "histogram",
         "x": {
          "bdata": "eekmMQisBkA9LNSa5uVAQHrHKTqSCyBAvsEXJlPlLkCjI7n8h/RDQPmgZ7PqQ0FAFR3J5T9UN0BwXwfOGREYQHQkl/+QfjVAIR/0bFYNPEBd3EYDePNHQCsYldQJqDFA001iEFg5G0Bv8IXJVEEVQEtZhjjWJSVA/Yf029fhPECppE5AE+lJQJhMFYxKOj1Ap3nHKToKQkDmP6Tfvt46QK36XG3FXi9A6SYxCKxsMEAj2/l+arwfQG8Sg8DKsT9AwOyePCxUFEDeAgmKH2P/PynLEMe6+EZANV66SQwCQUBcj8L1KHxEQDBMpgpGRUhAW7G/7J40RUAgY+5aQgZAQMrDQq1p7jpA8tJNYhBoP0CrPldbsZ9GQFyPwvUonDtAbHh6pSwzN0BeukkMAmtJQLraiv1llz1ATRWMSup8QUAp7Q2+MIFDQDnWxW00wB1A5BQdyeU/SkAf9GxWfR49QDqSy39Ih0JAsHJoke28E0BqTfOOU9RAQK62Yn/ZBUhA0ZFc/kM6FEDecYqO5LIcQDtwzojSLkJAMzMzMzNTQ0AdOGdEaS8VQDXvOEVHAklAE2HD0ysNQEBEi2zn+0knQOJYF7fRoEFAaCJseHoFP0Cfq63YX7ZEQG8Sg8DKgSxAJLn8h/Tbpz8VjErqBLQXQB3J5T+kL0ZAZ9XnaivGMEAmUwWjkro0QMHKoUW2MyFAdLUV+8veSUD99nXgnHEnQNEi2/l+ajhA8BZIUPw4OkBDrWnecVpEQOtztRX7Cz9Al/+Qfvt6IkDswDkjSnvfPzC7Jw8LhURAGy/dJAZRNUCiRbbz/bRIQDvfT42XjiVA9UpZhjimREApyxDHuhgtQKYKRiV1Aj1A2ht8YTJtREDi6ZWyDFExQJayDHGsm0JAyJi7lpAfPUB1kxgEVm4iQD81XrpJVERAb4EExY/RLUCvlGWIYw0/QDLmriXkMzZAY+5aQj4oHkAzxLEubrM+QPaX3ZOHtT9A30+Nl27SEUBU46WbxGhCQAdfmEwV1ENAPQrXo3BtNEACmggbnoZAQCGwcmiRrRRA1sVtNIDHMkBO0ZFc/oM/QHQkl/+QbjVA3pOHhVpTQkB7FK5H4TJAQGpN845TRD9AN4lBYOXQPUCVZYhjXSxBQDAqqRPQRCJAfGEyVTBSSkDFjzF3LflDQEp7gy9MZhRA/mX35GEBRUB/+zpwzpBIQA6+MJkq4EFAVFInoIlgNkA=",
          "dtype": "f8"
         },
         "xaxis": "x",
         "yaxis": "y"
        },
        {
         "bingroup": "x",
         "hovertemplate": "Category=Adult<br>Area=Area2<br>Incremental Profit=%{x}<br>count=%{y}<extra></extra>",
         "legendgroup": "Adult",
         "marker": {
          "color": "#EF553B",
          "pattern": {
           "shape": ""
          }
         },
         "name": "Adult",
         "nbinsx": 50,
         "orientation": "v",
         "showlegend": false,
         "type": "histogram",
         "x": {
          "bdata": "/yH99nXg0D9qTfOOU3TqP6yt2F92T84/mnecoiO57j/1udqK/WXjPz0s1JrmHec/ayv2l92Ttz+Cc0aU9gbvPxPyQc9m1e0/V+wvuycP6T+amZmZmZnjP96Th4Va06w/X5hMFYxK7j+XkA96NqvoP+5aQj7o2dw/lPYGX5hM2T+b5h2n6EjSPz0s1JrmHek/V1uxv+ye0D8Jih9j7lrgP+zAOSNKe+s/nYAmwoanpz8xmSoYldTVP+lILv8h/eA/93XgnBGl1T+9UpYhjnXhP1HaG3xhMuc/hXzQs1n11T8awFsgQfHvP8X+snvysNw/2/l+arx00z+jAbwFEhThPw3gLZCg+OE/I9v5fmq87j/VCWgibHiqP1Z9rrZif5k/odY07zhF5z9kO99PjZfGP9cS8kHPZu8/qFfKMsSx2j/HKTqSy3/QPxfZzvdT4+M/g8DKoUW25z/DZKpgVFLrPzVeukkMAt8/CRueXinL1D+7Jw8LtabVPxx8YTJVMLo/T6+UZYhj2T8TYcPTK2XvP5EPejarPsc/eJyiI7n86z+jkjoBTYTvPw1xrIvbaOI/GXPXEvJB7T8CK4cW2c6nP7gehetRuNo/dQKaCBuezj8rGJXUCWjCPw==",
          "dtype": "f8"
         },
         "xaxis": "x2",
         "yaxis": "y2"
        },
        {
         "bingroup": "x",
         "hovertemplate": "Category=Adult<br>Area=Area3<br>Incremental Profit=%{x}<br>count=%{y}<extra></extra>",
         "legendgroup": "Adult",
         "marker": {
          "color": "#EF553B",
          "pattern": {
           "shape": ""
          }
         },
         "name": "Adult",
         "nbinsx": 50,
         "orientation": "v",
         "showlegend": false,
         "type": "histogram",
         "x": {
          "bdata": "4XoUrkeJUUB56SYxCDxFQMzuycNCfVJAAd4CCYrfLEBVMCqpE2A2QB3J5T+kH1ZA93XgnBFlHkC62or9ZddOQO0NvjCZKilAf/s6cM6I/D+z6nO1Fd9QQCxlGeJYdzJAOwFNhA2vOUDkFB3J5dtSQPCnxks3+UdAjLlrCfngIUD8qfHSTeISQF3+Q/rtC1RA+FPjpZt0RkDmP6Tfvg47QCV1ApoIb1RAfPKwUGsCQ0C/DpwzooROQFpkO99PTS9Aarx0kxgkQUA1XrpJDDpBQLTIdr6fjlFA4XoUrkfFUUDTTWIQWB1RQGx4eqUsB1FAZapgVFKnNEDswDkjSqdRQBKDwMqhjU9AJ8KGp1fSREBm9+RhoTY0QMnlP6TfclZAseHplbLIU0ArhxbZzrdPQEjhehSu91NA2qz6XG2NTEAdWmQ738dIQMcpOpLLt0BADJOpglHZR0AZ4lgXt2lNQOXQItv5NkxA2IFzRpR2CkDmP6Tfvv5EQLaEfNCzlVFA3EYDeAvER0DAWyBB8etRQA1xrIvbTFNAgLdAguL3V0AawFsgQRlDQA1xrIvbEE9AtaZ5xykCUkCUh4Va0xxGQNv5fmq8HERAowG8BRJUP0BGtvP91Cg1QEJg5dAig0hAgSbChqd/VEDufD81XtpOQIxK6gQ0yUZACRueXimDTEDhehSuR9FGQFMFo5I6gUpAsHJoke3sPUBTliGOdXVVQFFrmnecIlRA93XgnBEVNUB88rBQa/o6QBKlvcEXjkFAETY8vVI2RUDF/rJ78jAFQJVliGNdfEVAEHo2qz73RkAOvjCZKohBQDarPldbkThAUwWjkjqBCkD2l92Th11HQGq8dJMY9DNAXrpJDAIr8z96xyk6ksvXP23F/rJ79lFAwOyePCzkRkAbnl4py6hMQNDVVuwvmyZAtRX7y+6FVUDjx5i7lmA6QBWMSuoE5FZAhlrTvOM8SECWIY51cUNOQDqSy39Iv+U/",
          "dtype": "f8"
         },
         "xaxis": "x3",
         "yaxis": "y3"
        },
        {
         "bingroup": "x",
         "hovertemplate": "Category=Adult<br>Area=Area4<br>Incremental Profit=%{x}<br>count=%{y}<extra></extra>",
         "legendgroup": "Adult",
         "marker": {
          "color": "#EF553B",
          "pattern": {
           "shape": ""
          }
         },
         "name": "Adult",
         "nbinsx": 50,
         "orientation": "v",
         "showlegend": false,
         "type": "histogram",
         "x": {
          "bdata": "dy0hH/TsREAnoImw4SlGQNjw9EpZJiZAZDvfT42XIEBbsb/sniBXQKHWNO84jUJA0ETY8PRiSUCM22gAb8FUQOkmMQispEtAbAn5oGdrQ0DUmuYdpyBFQG6jAbwFWlBAOGdEaW+UVkBfmEwVjDJRQI0o7Q2+kEtA3nGKjuTy9T8J+aBns+rDP6Tfvg6cu01ATmIQWDnsV0Dgvg6cM4IkQPaX3ZOH5ThA2c73U+MtREBn1edqK3ZLQBlz1xLyGVZAUrgehethS0ADCYofYx42QEku/yH9ylRAK/aX3ZPnOkDNzMzMzIwzQAWjkjoBXTVAmggbnl6hVkAxmSoYlQxPQCuHFtnO99M/PL1SliE+PkBUdCSX/0A/QKHWNO84jUhAZ9Xnaiu2VEA0gLdAguL6P2Dl0CLbUUBAdEaU9gYfEUB56SYxCABQQF3cRgN471NAMCqpE9DUPUCxUGuadxRNQIZa07zjFCBA6pWyDHGs1z8tsp3vp/ZDQGq8dJMYhEVAduCcEaXNOECDwMqhRZZAQGRd3EYDsENA30+Nl26qSkCP5PIf0vdBQJvmHafoaExABoGVQ4vUQUAwuycPC1VFQMHKoUW2U1FAYVRSJ6DJFkB9PzVeusk8QMKGp1fKWldArWnecYo+OkB0JJf/kF4kQMx/SL99XTpAuECC4sdYF0CM22gAb7lGQO2ePCzU/ldANV66SQxmU0D67evAOZNMQGgibHh66VJAE/JBz2ZVJkDhehSuR0VQQAg9m1Wfqy1ARiV1ApqIGUCMSuoENKFAQI9TdCSX/z5AjZduEoPMV0Cxv+yePMxFQLbz/dR4yUFA3GgAb4E0UEBwzojS3phSQB6n6EgufzJAFYxK6gT8Q0DFILByaMlTQM/3U+Olh1FAqz5XW7ETUEDarPpcbcUQQAIrhxbZzvk/ofgx5q5JUEBGtvP91BhEQOOlm8Qg8DpArthfdk/2TEAwuycPC/1VQOkmMQislFZA8kHPZtXPSECu2F92TxZOQMDsnjwsNEtAAU2EDU+LUkA=",
          "dtype": "f8"
         },
         "xaxis": "x4",
         "yaxis": "y4"
        },
        {
         "bingroup": "x",
         "hovertemplate": "Category=Adult<br>Area=Area5<br>Incremental Profit=%{x}<br>count=%{y}<extra></extra>",
         "legendgroup": "Adult",
         "marker": {
          "color": "#EF553B",
          "pattern": {
           "shape": ""
          }
         },
         "name": "Adult",
         "nbinsx": 50,
         "orientation": "v",
         "showlegend": false,
         "type": "histogram",
         "x": {
          "bdata": "AJF++zpwxj8bL90kBoHFP94CCYofY+o/rthfdk8e4D8nMQisHFrqP1K4HoXrUeo/umsJ+aBnoz+MSuoENBHeP95xio7k8uc/3gIJih9j4j+dgCbChqfPPxKDwMqhReI/Y+5aQj7o5T/l0CLb+X7oP76fGi/dJN4/si5uowG8xT/8qfHSTWLAP6MBvAUSFMc/097gC5Op4D+t+lxtxf7WP0i/fR04Z+Q/ayv2l92T1z8SFD/G3LXcPw3gLZCg+Nk/f9k9eVio7z/EsS5uowGsP2q8dJMYBN4/bjSAt0CCwj8XSFD8GHPPP5XUCWgibOo/2IFzRpT2xj92Tx4Wak3LP1uxv+yePMw/EFg5tMh2vj88TtGRXP7vP3zysFBrmu0/HqfoSC7/6z+94xQdyeXpPx6n6Egu/90/3SQGgZVD5T8xmSoYldThPw==",
          "dtype": "f8"
         },
         "xaxis": "x5",
         "yaxis": "y5"
        },
        {
         "bingroup": "x",
         "hovertemplate": "Category=Adult<br>Area=Area6<br>Incremental Profit=%{x}<br>count=%{y}<extra></extra>",
         "legendgroup": "Adult",
         "marker": {
          "color": "#EF553B",
          "pattern": {
           "shape": ""
          }
         },
         "name": "Adult",
         "nbinsx": 50,
         "orientation": "v",
         "showlegend": false,
         "type": "histogram",
         "x": {
          "bdata": "owG8BRJQVEAOLbKd78ckQAHeAgmKk1FA3bWEfNCzuT94CyQofpxFQHuDL0ym6jZAj1N0JJd/D0B24JwRpW00QG/whclUdVVATx4Wak3z8D84Z0Rpb/A5QNejcD0Kt1FAc2iR7XwXU0AE54wo7bVCQCegibDhmTtAkst/SL8pUEDByqFFtpNUQCGwcmiRxUtAdy0hH/TsUkALJCh+jIlJQCntDb4wWUZAhlrTvOPUKEBbQj7o2ehSQBlz1xLy6VRAseHplbIsR0BxrIvbaBA+QIlBYOXQgktA7zhFR3J5MkAdyeU/pGdAQGPuWkI+MExAAiuHFtkuT0DJ5T+k3w5NQFJJnYAm6kZAvjCZKhjVGkDpSC7/Ic06QKMjufyHrExAfT81XrppOUA8TtGRXPpSQGB2Tx4WWkRALpCg+DGqU0DsUbgeheNCQLKd76fGaztARdjw9Eo5P0BX7C+7J2dOQCh+jLlrCTBAw9MrZRnOU0CTOgFNhE0WQHDOiNLe0FFAYqHWNO94OkBTliGOdeFUQF3+Q/rtqxBAwoanV8o6SkAFxY8xd81IQCNKe4MvDEFAuY0G8Ba4MkD8GHPXEkpLQJ2AJsKG10JAIv32deC4VUAN4C2QoOhRQIqw4emVEkhAeVioNc27SUBlqmBUUqdQQFFrmnec0j9AWYY41sWtIUAj2/l+anwlQAMJih9jtlJAqoJRSZ24TkB4CyQofuRRQPCnxks3+UJAz2bV52p7VUBYqDXNO5pQQM6qz9VW/E1AO3DOiNLeTUDzH9JvX79MQFvTvOMUjUhA7FG4HoWLIUD/snvysDArQDojSnuDrxlA1sVtNID3I0BpAG+BBGU0QIlBYOXQoj5ASgwCK4fCUUBt5/up8epEQMgHPZtVXzBA",
          "dtype": "f8"
         },
         "xaxis": "x6",
         "yaxis": "y6"
        },
        {
         "bingroup": "x",
         "hovertemplate": "Category=Adult<br>Area=Area7<br>Incremental Profit=%{x}<br>count=%{y}<extra></extra>",
         "legendgroup": "Adult",
         "marker": {
          "color": "#EF553B",
          "pattern": {
           "shape": ""
          }
         },
         "name": "Adult",
         "nbinsx": 50,
         "orientation": "v",
         "showlegend": false,
         "type": "histogram",
         "x": {
          "bdata": "eJyiI7n85z+/fR04Z0TlP1InoImw4dk/2c73U+Ol7z/ZX3ZPHhbgP4lBYOXQIuM/TRWMSuoE7D8tsp3vp8bTP33Qs1n1ueQ/GCZTBaOSyj/jNhrAWyDpP7N78rBQa9o/e4MvTKYK7D/vOEVHcvnpPz/G3LWEfMg/vjCZKhiV6D8GEhQ/xtzrP/T91HjpJuc/rkfhehSu7T/4U+Olm8TuPycxCKwcWu4/R3L5D+m3zz/ZPXlYqDXNP2b35GGh1tQ/3GgAb4EExT89m1Wfq63oP8xdS8gHPeM/RwN4CyQoxj9N845TdCTXP3ZxGw3gLeQ/eVioNc074D9SSZ2AJsLGP4iFWtO849w/EoPAyqFF4D9tVn2utmLjP65H4XoUrrc/aJHtfD815D8xCKwcWmTnP3WTGARWDu0/eHqlLEMc7T8HX5hMFYzmPxDpt68D5+g/5WGh1jTv5D/+1HjpJjHoP5huEoPAyu0/RGlv8IXJ6D8DCYofY+7kPzlFR3L5D+M/qRPQRNjw4j/V52or9petPzQRNjy9UuY/7zhFR3L56z8bL90kBoHNP/CFyVTBqOQ/B1+YTBWM1j9yio7k8h/SPw==",
          "dtype": "f8"
         },
         "xaxis": "x7",
         "yaxis": "y7"
        },
        {
         "bingroup": "x",
         "hovertemplate": "Category=Electric<br>Area=Area1<br>Incremental Profit=%{x}<br>count=%{y}<extra></extra>",
         "legendgroup": "Electric",
         "marker": {
          "color": "#00cc96",
          "pattern": {
           "shape": ""
          }
         },
         "name": "Electric",
         "nbinsx": 50,
         "orientation": "v",
         "showlegend": true,
         "type": "histogram",
         "x": {
          "bdata": "4C2QoPgBPkDwFkhQ/OBAQFCNl24SMzdAE2HD0yu1MkCrz9VW7E88QA4tsp3vNzFAHqfoSC4fPEAXSFD8GDNIQCxlGeJYF0hA7zhFR3L5CUAXt9EA3mpDQFInoImw8TBAs+pztRXjRkCvJeSDnq0rQInS3uALm0NA+aBns+qzHkCpE9BE2FAzQPrt68A5a0FAMZkqGJUER0BpAG+BBMXrP9ejcD0KFxhAliGOdXEbBkCeXinLEMcuQJeQD3o2CzFAf9k9eVgoR0Ap7Q2+MJkxQJSHhVrTvA1APnlYqDUtK0APC7WmeQc/QBueXinLcCRAIbByaJHtCUCTGARWDm0aQDAqqRPQJDdAjgbwFkiQFkCvJeSDng0bQH/ZPXlYaB5AzO7Jw0JdREDV52or9vcuQIGVQ4tsv0hAl/+QfvuiRUDKMsSxLh5KQPaX3ZOHNTZAmSoYldQBQEAJ+aBnszpHQGpN845ThEVAHVpkO98/QkA8vVKWIR5KQNbFbTSANxVAJlMFo5IaKkD35GGh1rxGQDj4wmSqAC1ASZ2AJsL+R0AN4C2QoIg+QF5LyAc92ztA1CtlGeJYIUBkXdxGAxggQM9m1edqK/g/BFYOLbIdFUBbQj7o2Tw6QJtVn6utYEZARPrt68BRSEDjNhrAW7A3QP32deCcMTlAZ9XnaituSECxv+yePBRKQCZTBaOSCjZA+FPjpZtEPEAijnVxG80vQOOlm8QggD1ADAIrhxbRQ0C+nxov3SQbQHUCmggbPjdAhXzQs1n1BkA17zhFR9I+QLraiv1lZzJA/7J78rBISUDNO07RkTxCQKhXyjLEcT9AtMh2vp/6NUCEDU+vlFU3QISezarP1RhAfdCzWfW5IkAf9GxWfY4wQO7rwDkjOkFAGXPXEvLpSUAg0m9fBwZCQIj029eBEyZAWvW52or9IkBSuB6F64E6QEVHcvkP6TFA1CtlGeJISUBGtvP91OBHQMUgsHJoiUFAcF8HzhlRNECk374OnDMgQIofY+5aUkBANBE2PL3iO0AijnVxG6VAQGFUUiegUUhA8IXJVMGo4D9fmEwVjIpCQNCzWfW52g9A",
          "dtype": "f8"
         },
         "xaxis": "x",
         "yaxis": "y"
        },
        {
         "bingroup": "x",
         "hovertemplate": "Category=Electric<br>Area=Area2<br>Incremental Profit=%{x}<br>count=%{y}<extra></extra>",
         "legendgroup": "Electric",
         "marker": {
          "color": "#00cc96",
          "pattern": {
           "shape": ""
          }
         },
         "name": "Electric",
         "nbinsx": 50,
         "orientation": "v",
         "showlegend": false,
         "type": "histogram",
         "x": {
          "bdata": "l/+Qfvs6oD/Jdr6fGi/VP9IA3gIJiuE/zojS3uALoz9OYhBYObTIP2pN845TdNQ/liGOdXEb7T/LoUW28/3gPztwzojS3sg/zczMzMzM5D+6awn5oGfvP30/NV66Seo/dnEbDeAtsD/G3LWEfNDXP0aU9gZfmNA/NKK0N/jC3D/Mf0i/fR3gPyfChqdXyu4/nl4pyxDH7D+MuWsJ+aDhP1dbsb/sntQ/j+TyH9Jv7T8VjErqBDThP/W52or9Zd8/a5p3nKIj5T+JQWDl0CKbPxHHuriNBuY/seHplbIM7z/o2az6XG3VP8e6uI0G8O4/QBNhw9MrzT83GsBbIEHrP08eFmpN8+Q//yH99nXg7D9hMlUwKqnXP7IubqMBvNE/bHh6pSxD2D+1FfvL7snfP/mgZ7Pqc+0/7nw/NV662T/DZKpgVFLlP1afq63YX+w/w/UoXI/C2T/pt68D54zYPx4Wak3zju8/8WPMXUvIzz+sHFpkO9/tP8e6uI0G8No/wOyePCzU4D/RItv5fmrMP+zAOSNKe7M/8rBQa5p31D/swDkjSnvpP1R0JJf/kN4/2IFzRpT25D/SAN4CCYqvP8pUwaikTuI/idLe4AuT6T9+HThnRGnTP3/7OnDOiOY/cvkP6bev6z/XNO84RUeiP1HaG3xhMtk/JQaBlUOL6j/oaiv2l93XP55eKcsQx6o/+MJkqmBU5D9MpgpGJXXkPz0s1JrmHe8/AU2EDU+v0D9g5dAi2/nuPw==",
          "dtype": "f8"
         },
         "xaxis": "x2",
         "yaxis": "y2"
        },
        {
         "bingroup": "x",
         "hovertemplate": "Category=Electric<br>Area=Area3<br>Incremental Profit=%{x}<br>count=%{y}<extra></extra>",
         "legendgroup": "Electric",
         "marker": {
          "color": "#00cc96",
          "pattern": {
           "shape": ""
          }
         },
         "name": "Electric",
         "nbinsx": 50,
         "orientation": "v",
         "showlegend": false,
         "type": "histogram",
         "x": {
          "bdata": "PE7RkVy+EkALRiV1AtJLQPCnxks3iRxAP8bctYT8E0AK16NwPdpNQBniWBe3HVRA4L4OnDOyVkB6Nqs+V1sQQGUZ4lgXn0VAo5I6AU0kV0CGyVTBqFRHQLAD54wolVBAkxgEVg5lTUCX/5B++2pWQOY/pN++rlFATRWMSurcSEAwTKYKRqUOQFInoImwXVBA2IFzRpSeRUCgibDh6VUmQF66SQwCr1JAGeJYF7c5SUDu68A5I9JVQIPAyqFF9jZA6gQ0ETasNEBPHhZqTatQQNUJaCJsyFRA93XgnBGFLEDpt68D52wqQNiBc0aUdiFAWDm0yHbWRUCI9NvXgT9SQF5LyAc9WxxAQ61p3nFKNUAE54wo7eVBQG3F/rJ7+k9AZohjXdwmUUCgibDh6TU3QCegibDhQURAxm00gLeIS0Akl/+QfmdTQJjdk4eF1lZA2T15WKi1SUAwKqkT0JRLQGPuWkI+CEBAvjCZKhiVQEDarPpcbf1FQKUsQxzrOk1ACRueXimbVkDx9EpZhjgHQNnO91PjoVBAI9v5fmrAVUC94xQdySU5QFFrmneceklAjZduEoMUVkDVeOkmMahIQBrAWyBBkSdA7C+7Jw+bUUCbVZ+rrcBEQHRGlPYGE1RAKcsQx7q4DEACmggbnu5BQDxO0ZFcHkNAxLEubqOlUkCt+lxtxX4DQC0hH/Rs5jBAfPKwUGv6RkAEVg4tsrVQQEhQ/Bhz70JASgwCK4eeTkCdEaW9wf9WQEi/fR04dzxAB1+YTBWMP0Doaiv2l409QIv9ZffkRVFAuK8D54xoSUAbnl4pyxAvQDlFR3L5D+8/vVKWIY6pUECneccpOupMQPp+arx0EwJAtoR80LMZJ0Bj7lpCPvhVQH6MuWsJYUtAIGPuWkKqVkCBJsKGp3tXQLx0kxgEZj5A3GgAb4F8R0C8dJMYBNZBQLRZ9bnaQlNAa5p3nKJbUUBO0ZFc/kP/P83MzMzMPFRAq8/VVuyPI0D5MeauJRhQQD9XW7G/kFBA9pfdk4dFM0BTliGOdbE0QJkqGJXUIUFA3EYDeAu0MkBPr5RliLNRQGb35GGhfkNA4lgXt9EIV0AWak3zjs9SQMrDQq1p1klAcRsN4C3MV0DZPXlYqB1IQJhMFYxKijpAwhcmUwWXUUANcayL2/hHQCBB8WPMVUBA",
          "dtype": "f8"
         },
         "xaxis": "x3",
         "yaxis": "y3"
        },
        {
         "bingroup": "x",
         "hovertemplate": "Category=Electric<br>Area=Area4<br>Incremental Profit=%{x}<br>count=%{y}<extra></extra>",
         "legendgroup": "Electric",
         "marker": {
          "color": "#00cc96",
          "pattern": {
           "shape": ""
          }
         },
         "name": "Electric",
         "nbinsx": 50,
         "orientation": "v",
         "showlegend": false,
         "type": "histogram",
         "x": {
          "bdata": "XI/C9Sj8KkC28/3UeKkWQFK4HoXrGUhALbKd76dGBUAofoy5azlJQLhAguLHuFFAAd4CCYofEkBYObTIdh4tQEku/yH9SlVAcvkP6bc7UUBEaW/whVFUQMPTK2UZ4gZAzF1LyAdVUUDuWkI+6ClWQAFNhA1Pd0tAKjqSy394V0C7uI0G8DZJQMx/SL99PUhATYQNT68cSkDmP6Tfvo48QGkAb4EEBTpAeVioNc17MkAu/yH99nXoP6foSC7/VVVAk6mCUUnpU0CZu5aQD2JSQLyWkA96NvM/zH9Iv33NSEAbDeAtkJRTQD55WKg1nUpAcF8Hzhn9UECoNc07TjE1QIXrUbgetVFAqoJRSZ1MUkB8YTJVMOosQBniWBe30RJAt2J/2T2RVECGyVTBqKTzP/Cnxks3jVBA6Ugu/yFhVkBKe4MvTGY1QHnpJjEITCRAwoanV8rGV0B4eqUsQ3hSQF1txf6yq0NA+u3rwDl7VkDLoUW2831OQJYhjnVxS1JAJCh+jLmvUkB0tRX7y+ZEQFCNl24SkzBAuY0G8BY0UkCkcD0K1yMsQAg9m1Wfl1FAHOviNhogQUC2hHzQs1FRQAtGJXUC2jVA/Bhz1xICRkACmggbnl7jP5vmHafoyElAb/CFyVTRQ0BmZmZmZjY6QLMMcayLZ1RATtGRXP7DPUA8vVKWIcpWQGb35GGhVlBAL26jAbylJkAUrkfheqhXQAg9m1Wfq0dAE/JBz2b1PECTOgFNhH1FQAHeAgmKd1JAz2bV52q7REAkl/+Qfls2QGgibHh6PU9AVHQkl/+QFUD8qfHSTVJKQHsUrkfh+hRA",
          "dtype": "f8"
         },
         "xaxis": "x4",
         "yaxis": "y4"
        },
        {
         "bingroup": "x",
         "hovertemplate": "Category=Electric<br>Area=Area5<br>Incremental Profit=%{x}<br>count=%{y}<extra></extra>",
         "legendgroup": "Electric",
         "marker": {
          "color": "#00cc96",
          "pattern": {
           "shape": ""
          }
         },
         "name": "Electric",
         "nbinsx": 50,
         "orientation": "v",
         "showlegend": false,
         "type": "histogram",
         "x": {
          "bdata": "xf6ye/Kw7j+X/5B++zrgP1ioNc07Tuc/sp3vp8ZL5T+JQWDl0CLfP3ZPHhZqTcM/rthfdk8e3j97gy9MpgrWP0I+6Nms+uA/PL1SliGO4T/dtYR80LPBP+0NvjCZKtw/v30dOGdE3T/5oGez6nPvP4BIv30dOOs/JuSDns2q3z9UdCSX/5DkP3/ZPXlYqO0/AU2EDU+v6D8Jih9j7lrSP4qO5PIf0tc/0LNZ9bna7D8rhxbZzvfpP1yPwvUoXNc/kzoBTYQN7z/LEMe6uI22PzlFR3L5D+k/oWez6nO11T8VjErqBDSRP9JvXwfOGes/klz+Q/rt5z988rBQa5rrP3ZPHhZqTeM/EOm3rwPn1D9vEoPAyqHrP/vL7snDQs0/8WPMXUvIxz+Ens2qz9XgPzC7Jw8LteQ/utqK/WX34j8wTKYKRiXdPzAqqRPQRO4/BOeMKO0N3j9txf6ye/LYPw==",
          "dtype": "f8"
         },
         "xaxis": "x5",
         "yaxis": "y5"
        },
        {
         "bingroup": "x",
         "hovertemplate": "Category=Electric<br>Area=Area6<br>Incremental Profit=%{x}<br>count=%{y}<extra></extra>",
         "legendgroup": "Electric",
         "marker": {
          "color": "#00cc96",
          "pattern": {
           "shape": ""
          }
         },
         "name": "Electric",
         "nbinsx": 50,
         "orientation": "v",
         "showlegend": false,
         "type": "histogram",
         "x": {
          "bdata": "irDh6ZVyL0D129eBc65EQH6MuWsJFVFAWMoyxLGeVUCuR+F6FP5BQDqSy39IL05AWKg1zTvWQEBrmnecotMwQLU3+MJkaitAeAskKH6MM0CU9gZfmLxHQJMYBFYOzThAxty1hHzQ+j9t5/up8aJPQEa28/3UFFBAEhQ/xtw9U0CcM6K0N6RVQNobfGEyVStArBxaZDtDVEDjNhrAW+AUQPAWSFD8IEpAak3zjlPUKEClTkATYWtGQDJ3LSEf5DtAFR3J5T+oU0D/If32deCMP05iEFg5lEZAAwmKH2NyUUBE+u3rwHkjQCcxCKwc7lJAfh04Z0QhR0CgGi/dJGZUQO2ePCzUckZAy6FFtvNlT0Cz6nO1FSNIQMKGp1fKKklA9ihcj8JpVUBGtvP91IBUQGDl0CLb6TpArWnecYrOMUBE+u3rwClAQDy9UpYhClJAvw6cM6JAUUACvAUSFD89QLfRAN4CUVFAe4MvTKbSUEDl0CLb+R4zQEMc6+I2ckBAgSbChqdXAkCe76fGS8dAQCgPC7Wm0UNAmggbnl5ZRUCJ0t7gC5MxQI51cRsNWFJAYqHWNO8wU0BWDi2ynf9OQGDl0CLbcVJAWmQ730/NTECEDU+vlAUzQLAD54wonUtAWmQ730/xUkBzaJHtfE80QIcW2c73Q1VAzO7Jw0I5UEDf4AuTqaIwQNXnaiv25zJACfmgZ7OqOkDb+X5qvIhQQL99HThnnERAklz+Q/odPEBvEoPAymElQEjhehSut0ZAD5wzorQXJkBZhjjWxbVPQD2bVZ+rLRRAjSjtDb7QOUBF2PD0Ssk9QO84RUdy8UhAeAskKH7ERUB7FK5H4WpBQIv9Zffk4VJAWRe30QBOTkDLoUW282FSQBkEVg4tokRA1QloImy4LEAVHcnlP2Q1QCUGgZVDx1JA2PD0SlniUUCASL99HSgzQL4wmSoY9VRAZapgVFKnNUBPr5RliMtFQJwzorQ3cFRARpT2Bl94MEDWVuwvuw9KQA4tsp3vm1RA3nGKjuTeUEA=",
          "dtype": "f8"
         },
         "xaxis": "x6",
         "yaxis": "y6"
        },
        {
         "bingroup": "x",
         "hovertemplate": "Category=Electric<br>Area=Area7<br>Incremental Profit=%{x}<br>count=%{y}<extra></extra>",
         "legendgroup": "Electric",
         "marker": {
          "color": "#00cc96",
          "pattern": {
           "shape": ""
          }
         },
         "name": "Electric",
         "nbinsx": 50,
         "orientation": "v",
         "showlegend": false,
         "type": "histogram",
         "x": {
          "bdata": "l/+Qfvs6wD/Kw0Ktad7dP6MBvAUSFM8/63O1FfvLzj/FILByaJHRPwu1pnnHKdY/B/AWSFD8mD+3Yn/ZPXnAP55eKcsQx8I/63O1FfvLxj8fhetRuB7hPzPEsS5uo7E/9+RhodY03z+u2F92Tx7OP4/k8h/Sb88/MQisHFpkqz+vlGWIY13cP4Za07zjFOs/5fIf0m9f5T8GgZVDi2zbP8IXJlMFo9Y/uK8D54wo0T8GEhQ/xtznP4qw4emVsuY/gnNGlPYG6z/99nXgnBHZPzJVMCqpE+o/EOm3rwPn3D9aZDvfT43lPzGZKhiV1Ok/+8vuycNC5z/f4AuTqYLlP5qZmZmZme0/7FG4HoXr6z8MAiuHFtnuP0Jg5dAi2+0/9+RhodY04z/0/dR46SbBPzarPldbsb8/nzws1JrmjT+jI7n8h/TDP1YOLbKd79M/Ke0NvjCZwj9BguLHmLvaP2N/2T15WNQ/zojS3uAL4z8Zc9cS8kHnP5SHhVrTvN8/cT0K16Nw6T+wA+eMKO3NP9c07zhFR9I/YOXQItv56j9txf6ye/LsP5M6AU2EDe8/zF1LyAc97z+dgCbChqeXP3/7OnDOiKI/3nGKjuTyzz+fzarP1VbsPw==",
          "dtype": "f8"
         },
         "xaxis": "x7",
         "yaxis": "y7"
        },
        {
         "bingroup": "x",
         "hovertemplate": "Category=Racing<br>Area=Area1<br>Incremental Profit=%{x}<br>count=%{y}<extra></extra>",
         "legendgroup": "Racing",
         "marker": {
          "color": "#ab63fa",
          "pattern": {
           "shape": ""
          }
         },
         "name": "Racing",
         "nbinsx": 50,
         "orientation": "v",
         "showlegend": true,
         "type": "histogram",
         "x": {
          "bdata": "W7G/7J68EUAVHcnlP0QwQPMf0m9fFzZAwFsgQfETQ0C4QILix/BCQH4dOGdE0UJAfGEyVTCqNEDwFkhQ/IhJQFmGONbFRUdAumsJ+aAfQkDgnBGlvVFGQD7o2az6HBxAwcqhRbZLRUCYbhKDwEoLQIenV8oyVDRA54wo7Q1+IEDi6ZWyDPEnQMoyxLEuriFAIR/0bFZlQ0DkFB3J5U8yQET67evAIURAmG4Sg8DK+z/TvOMUHVk/QLN78rBQqzxAukkMAisHLEDKVMGopG4sQOf7qfHSjRhACYofY+5aLUBgdk8eFoo6QE7RkVz+4zBApN++DpxDNECZu5aQDypEQHBfB84ZUT9Aj1N0JJcfK0BYyjLEsS42QCUGgZVDi/o/i2zn+6mxHUADCYofY8ZAQMZtNIC3UD5Aarx0kxjEE0CrPldbsb8ZQFInoImw0TJAHHxhMlUASkAwKqkT0DQ6QDy9UpYh3jRA/tR46SaxPkDEsS5uo6E1QCnLEMe6OA1AMlUwKqnzQUBLyAc9m8VFQDm0yHa+P0BAMQisHFpcRkDGbTSAtzA6QLKd76fGG0VAbef7qfHSAkC30QDeAgm6P6Fns+pzVTRAuECC4scoREAMAiuHFnlBQKyt2F92jy9ATtGRXP6zMkDvOEVHcok0QAWjkjoBTUZArBxaZDsfHkBMN4lBYOXoP5HtfD81jkFANqs+V1sxP0BE+u3rwIk2QPmgZ7Pq8ztA5fIf0m9PSkClvcEXJvM1QNqs+lxtlTJACfmgZ7OqGUBzaJHtfD//P8X+snvyWElAH/RsVn3OIUDOiNLe4EtCQBB6Nqs+VzxA5x2n6EguH0AN4C2QoDgsQIGVQ4tsz0JAPQrXo3CdP0AtIR/0bAY9QK62Yn/ZvTBAw2SqYFTiNUDA7J48LERAQET67evAOf8/ylTBqKRuIEBa9bnaiv0dQCsYldQJWDJAkQ96Nqt+QUDHSzeJQQAwQDcawFsgATZAFmpN845TSUCze/KwUCsWQAu1pnnHKRNAMlUwKqlTIkAg0m9fB04rQGFUUiegqS5AzTtO0ZEcGkDfT42XbpIMQCqpE9BEeC5AnMQgsHJooT94eqUsQxzzP9ejcD0KBz1ANe84RUeiMkB3vp8aL81GQJ7vp8ZLxzBAOPjCZKpALEA=",
          "dtype": "f8"
         },
         "xaxis": "x",
         "yaxis": "y"
        },
        {
         "bingroup": "x",
         "hovertemplate": "Category=Racing<br>Area=Area2<br>Incremental Profit=%{x}<br>count=%{y}<extra></extra>",
         "legendgroup": "Racing",
         "marker": {
          "color": "#ab63fa",
          "pattern": {
           "shape": ""
          }
         },
         "name": "Racing",
         "nbinsx": 50,
         "orientation": "v",
         "showlegend": false,
         "type": "histogram",
         "x": {
          "bdata": "WmQ730+N2z8PC7WmecflP/aX3ZOHheQ/+1xtxf6y0z8LRiV1AproP/rt68A5I+A/w2SqYFRSxz+yne+nxkvlP68l5IOezbo/NV66SQwC7z+xUGuad5zCPy9uowG8BbI/dk8eFmpNwz8Ab4EExY+hP3/ZPXlYqLU/c2iR7Xw/1T/HKTqSy3/iP03zjlN0JOU/aW/whclU3T/pSC7/If3WP3E9CtejcM0/Ece6uI0G4D+7Jw8LtaapP65H4XoUrrc/xf6ye/Kw4j8CK4cW2c7rP1jKMsSxLtI/kzoBTYQN7z+7uI0G8BbuP636XG3F/tI/CfmgZ7Pq4z/F/rJ78rCwP3zysFBrmu0/U5YhjnVxyz/Oqs/VVuzTP4NRSZ2AJto/l/+Qfvs6wD93vp8aL93sP6jGSzeJQew/uECC4seY7T8Q6bevA+e8PwAAAAAAAOY/gLdAguLHiD+yne+nxkvXP9obfGEyVbA/mpmZmZmZ2T990LNZ9bm6P+m3rwPnjOY/6gQ0ETY8vT+V1AloImzmP+kmMQisHNo/I9v5fmq8xD/1udqK/WXTP/+ye/KwUNM/R3L5D+m34T8=",
          "dtype": "f8"
         },
         "xaxis": "x2",
         "yaxis": "y2"
        },
        {
         "bingroup": "x",
         "hovertemplate": "Category=Racing<br>Area=Area3<br>Incremental Profit=%{x}<br>count=%{y}<extra></extra>",
         "legendgroup": "Racing",
         "marker": {
          "color": "#ab63fa",
          "pattern": {
           "shape": ""
          }
         },
         "name": "Racing",
         "nbinsx": 50,
         "orientation": "v",
         "showlegend": false,
         "type": "histogram",
         "x": {
          "bdata": "aLPqc7UV0z8vbqMBvH1NQAdfmEwVtE1ANjy9UpY1VEBGJXUCmog/QF3+Q/rt20tAcvkP6bcPJUAJ+aBns/o3QC9uowG85TdAIR/0bFZ9GkDKw0KtaapXQK1p3nGKjlRAFD/G3LUoV0Bj7lpCPggwQHgLJCh+FFhAImx4eqU8WEAtQxzr4h5IQGFUUiegYVdAqRPQRNj8UUDjx5i7lkA1QDSAt0CC0jxAJCh+jLm7PUBhVFInoIlHQJvmHafoCC5A8IXJVMHgRUC1N/jCZGpPQDtwzojSZlBAw2SqYFSiREAqOpLLf0gWQJVliGNdpFVApSxDHOvuV0BPr5RliONVQK7YX3ZPrjVAOdbFbTS8UkCmm8QgsEI/QHbgnBGluVFA1JrmHafoTUC94xQdyb1SQHWTGARW+lNABTQRNjyhVkApXI/C9fhSQMWPMXctoSNAZohjXdyyU0CJQWDl0DpGQGrecYqOdE9AgLdAguLHHEAmUwWjksozQO84RUdySThAbqMBvAUeVkBd/kP67esVQCqpE9BE2ERABaOSOgFtOECJ0t7gC6M0QCZTBaOSIlRAUrgehetRVUCneccpOtIWQEymCkYljU5Afh04Z0SJPkD8qfHSTSIsQGrecYqOJFFA0SLb+X4CR0A8TtGRXH5TQAkbnl4p00lAW9O84xR9R0CoNc07ThlKQNc07zhF+1BAFK5H4XqcTEC8lpAPehYwQF8pyxDHeihAfPKwUGtqQ0A3iUFg5bRVQE2EDU+vAFRAxEKtad5JTEDOiNLe4KtQQOVhodY0T1RAFR3J5T+k9T/pSC7/IY02QDtwzojS/lZATDeJQWBNV0BDrWnece5QQN6Th4Va00xAdZMYBFaOLkA5tMh2vp9WQARWDi2ynQdAbAn5oGe7QEAMk6mCUWkoQCPb+X5qqFNA9bnaiv3tU0ATYcPTK7FVQIqO5PIfUhBA7C+7Jw/LOkD6fmq8dIdSQAIrhxbZ6lFA",
          "dtype": "f8"
         },
         "xaxis": "x3",
         "yaxis": "y3"
        },
        {
         "bingroup": "x",
         "hovertemplate": "Category=Racing<br>Area=Area4<br>Incremental Profit=%{x}<br>count=%{y}<extra></extra>",
         "legendgroup": "Racing",
         "marker": {
          "color": "#ab63fa",
          "pattern": {
           "shape": ""
          }
         },
         "name": "Racing",
         "nbinsx": 50,
         "orientation": "v",
         "showlegend": false,
         "type": "histogram",
         "x": {
          "bdata": "Vg4tsp3jUkAofoy5a3FNQKpgVFInoDlAg8DKoUX2SkDPZtXnaotVQPhT46WbxB5A3SQGgZXTQkAoDwu1poFIQOjZrPpczSFAGeJYF7eBTUCgGi/dJN5MQCv2l92TL0xApN++DpyTVkAJ+aBns+okQNiBc0aUpjNAh6dXyjJEKUC4QILix0g1QOm3rwPnLDRAhA1Pr5T9UEB7gy9MpsoaQOM2GsBbQC1AEce6uI0mJkA8TtGRXIZQQFdbsb/sPlRAdLUV+8vOLUB88rBQaypPQE+vlGWI4z9AUkmdgCbyTECjkjoBTZBTQMoyxLEu7jZAN4lBYOU8UUC28/3UeKlOQJJc/kP6XTJASL99HThHOEDc14FzRvRGQATnjCjtTRJAAG+BBMWPDUAibHh6pZRFQBdIUPwYcypAdy0hH/RMT0CR7Xw/Nb44QKYKRiV1OldAMEymCkbFTkAeFmpN8x5OQP8h/fZ1KFJAh6dXyjLE0T/PZtXnaisyQApoImx4qjtAUPwYc9d6U0Ar9pfdk0dHQCS5/If0+1ZAvVKWIY4ZVEAp7Q2+MFkjQC0hH/RsxlZA1XjpJjGIO0A9CtejcEVLQOkmMQisZFdAIGPuWkIeNEB7FK5H4dJQQE7RkVz+s09AvJaQD3paV0BhVFInoMFFQJf/kH77VlJAETY8vVJmTEC3Yn/ZPSFIQME5I0p720ZARGlv8IUdUUCU9gZfmChSQET67evAkVJA+Q/pt6/bRUBKDAIrh45NQApoImx4egRAY3/ZPXkwWEBN845TdKhSQFjKMsSxFk9AMuauJeTnVkBJnYAmwqYoQIcW2c730zhAuycPC7XGQ0Crz9VW7P9BQI/k8h/SbxpAaCJseHoNSEDTTWIQWPlRQEvqBDQRZlJAxY8xdy3xQUCJ0t7gC9M1QN/gC5OpsktAVp+rrdgjWEAaUdobfIlKQPkx5q4lBDJAiIVa07zrT0ASFD/G3G1CQJJc/kP6LRxAZapgVFIjVUD8qfHSTaIWQJ+rrdhfDlhA8IXJVMF4VUDbiv1l90xSQNejcD0KNyRAjErqBDRBPUBvgQTFjyVTQCsYldQJaAtA0NVW7C9TUkC4rwPnjCg9QC6QoPgxLkRA",
          "dtype": "f8"
         },
         "xaxis": "x4",
         "yaxis": "y4"
        },
        {
         "bingroup": "x",
         "hovertemplate": "Category=Racing<br>Area=Area5<br>Incremental Profit=%{x}<br>count=%{y}<extra></extra>",
         "legendgroup": "Racing",
         "marker": {
          "color": "#ab63fa",
          "pattern": {
           "shape": ""
          }
         },
         "name": "Racing",
         "nbinsx": 50,
         "orientation": "v",
         "showlegend": false,
         "type": "histogram",
         "x": {
          "bdata": "TfOOU3Qkpz9X7C+7Jw/fP6CJsOHplew/8IXJVMGozD8DeAskKH7sPyh+jLlrCcE/MZkqGJXU7z8Zc9cS8kHPPwyTqYJRSY0/m1Wfq63Y4T/M7snDQq3nP1yPwvUoXN8/ukkMAiuHpj/1SlmGONbpP1dbsb/snu4/xm00gLdAyj9F2PD0SlnGPw+cM6K0N+I/bVZ9rrZi1z+pE9BE2PDYP8NkqmBUUuE/nzws1Jrm3T+28/3UeOneP55eKcsQx+g/w9MrZRni5D9B8WPMXUvYPySX/5B++9o/+n5qvHSTWD9VwaikTkDTP9/gC5Opguc/dCSX/5B+6z9Ke4MvTKbuP4EExY8xd9U/KxiV1Alo5j/pSC7/If3oP1R0JJf/kOA/HcnlP6Tf6j8gQfFjzF3vPwyTqYJRSeE/c2iR7Xw/3T+srdhfdk/sP5hMFYxK6uo//Yf029eB4T88TtGRXP7jP166SQwCK+M/1lbsL7sn7T8=",
          "dtype": "f8"
         },
         "xaxis": "x5",
         "yaxis": "y5"
        },
        {
         "bingroup": "x",
         "hovertemplate": "Category=Racing<br>Area=Area6<br>Incremental Profit=%{x}<br>count=%{y}<extra></extra>",
         "legendgroup": "Racing",
         "marker": {
          "color": "#ab63fa",
          "pattern": {
           "shape": ""
          }
         },
         "name": "Racing",
         "nbinsx": 50,
         "orientation": "v",
         "showlegend": false,
         "type": "histogram",
         "x": {
          "bdata": "Njy9UpbxMkB9rrZifylEQO0NvjCZKkpA/yH99nUQQkCASL99HUBRQP32deCcAUFA2V92Tx4WJkCb5h2n6AgoQI/k8h/SbypAjLlrCfmg7z9/+zpwzghRQGb35GGh5jdAVTAqqROgRUCfPCzUmv5UQHrHKTqSQ1FAqoJRSZ04U0BHA3gLJHRUQJtVn6utWA5AeHqlLEM8VUAep+hILodVQHS1FfvLKlNArK3YX3afTkDwhclUwegqQCPb+X5qnDNAzH9Iv31xUUCoxks3iaFKQIV80LNZrUtAW7G/7J68CEBbQj7o2awNQBWMSuoEWFNA7Q2+MJlqHUC/fR04Z9RBQDj4wmSq4AhAxLEubqO5S0CFfNCzWXUpQMPTK2UZYjxARGlv8IVdUEBXW7G/7K48QMrDQq1pPiRA1zTvOEXHBUC30QDeAik3QHh6pSxD3ClAMzMzMzMbUEAJih9j7tJIQMbctYR8GEJA1edqK/Y3LkBfKcsQx8pBQLMMcayLk0pAo5I6AU3sTUA7AU2EDQ87QKfoSC7/IThAmbuWkA9GUUCh1jTvOK1PQNPe4AuTqSdAf9k9eVjYVEClvcEXJmtGQEymCkYlpUVAbqMBvAUqR0CwcmiR7Xw/QFmGONbFfVFAumsJ+aDnOUBsCfmgZ+NIQJ0Rpb3BL0lAcayL22iAL0AdWmQ7399EQJtVn6utmEZAi/1l9+ThBkA0ETY8vfJQQPjCZKpgFFBAWMoyxLG+OEDTvOMUHSFQQOviNhrAmylA7C+7Jw/rSkBcj8L1KMRNQA==",
          "dtype": "f8"
         },
         "xaxis": "x6",
         "yaxis": "y6"
        },
        {
         "bingroup": "x",
         "hovertemplate": "Category=Racing<br>Area=Area7<br>Incremental Profit=%{x}<br>count=%{y}<extra></extra>",
         "legendgroup": "Racing",
         "marker": {
          "color": "#ab63fa",
          "pattern": {
           "shape": ""
          }
         },
         "name": "Racing",
         "nbinsx": 50,
         "orientation": "v",
         "showlegend": false,
         "type": "histogram",
         "x": {
          "bdata": "TtGRXP5D2j8LRiV1AprqP2PuWkI+6Mk/5/up8dJN5D93LSEf9GziPyL99nXgnHE/KcsQx7q44T8rhxbZzvftP5/Nqs/VVrw/TmIQWDm04j+/fR04Z0TvP7gehetRuOg/kst/SL99TT8s1JrmHafqPxdIUPwYc5c/Io51cRsN4j85tMh2vp/KP9c07zhFR+w/V1uxv+ye1D9/2T15WKjhPx+F61G4Hus/FYxK6gQ05z8oDwu1pnnvP/LSTWIQWME/Y3/ZPXlYuD93LSEf9GyWP2HD0ytlGeQ/X5hMFYxK4j8BTYQNT6/EP2Dl0CLb+c4/PzVeukkM5D8CK4cW2c7vP5/Nqs/VVtA/gy9MpgpG6T8tQxzr4jZqP9QrZRniWJc/Dwu1pnnH2T9qTfOOU3S0P+QUHcnlP+4/mpmZmZmZ0T8Spb3BFybrP/Cnxks3ieE/0LNZ9bna2j9xPQrXo3DhP9Xnaiv2l+U/CRueXinL2D87cM6I0t7YPyS5/If029M/kX77OnDOwD+J0t7gC5PJP7Kd76fGS9c/YOXQItv54D9GtvP91HjrP+viNhrAW7A/JJf/kH77qj990LNZ9bnKP2q8dJMYBKY/",
          "dtype": "f8"
         },
         "xaxis": "x7",
         "yaxis": "y7"
        },
        {
         "bingroup": "x",
         "hovertemplate": "Category=Mountain<br>Area=Area1<br>Incremental Profit=%{x}<br>count=%{y}<extra></extra>",
         "legendgroup": "Mountain",
         "marker": {
          "color": "#FFA15A",
          "pattern": {
           "shape": ""
          }
         },
         "name": "Mountain",
         "nbinsx": 50,
         "orientation": "v",
         "showlegend": true,
         "type": "histogram",
         "x": {
          "bdata": "PL1SliFuJUCZu5aQD9o3QCbkg57NejFAWRe30QBOPUBIv30dOOdFQPmgZ7Pq8w9AWYY41sXVSEARNjy9UrYiQO/Jw0KtWTZAqmBUUicwOkA6kst/SL8vQMRCrWneMUNAwOyePCzUHkDV52or9kdAQGiR7Xw/hTlA9+RhodZUMED/If32daAeQOzAOSNK+0hAv30dOGcEOkCRD3o2qy5GQKrx0k1iEAJAWDm0yHb+H0DlYaHWNH9BQOtztRX7yx5ABcWPMXftEkAoDwu1ptlJQM/3U+OlGxdAbVZ9rraiF0DRItv5fmrqP9DVVuwvexdAvjCZKhilPUCb5h2n6Ag4QL3jFB3JpTxAsAPnjCgtSEDkFB3J5RdDQB+F61G4vjlAxm00gLcAREB/arx0kwBKQPFjzF1LKC5AMnctIR9kSUCqglFJncA3QO5aQj7oGTlAvJaQD3o2R0Csi9toAI9IQOF6FK5HWUBAidLe4AvTGUCSy39Iv3VDQLwFEhQ/xsw/f2q8dJNoMkCP5PIf0u83QG6jAbwFIkpA+u3rwDlbRkDV52or9sc9QL8OnDOiFEdARUdy+Q8pJUAPnDOitC9DQCcxCKwcWkZA7nw/NV56J0Bbsb/snvwVQEOtad5xqi5AP1dbsb80QkAwuycPCzU7QLfRAN4CWUBA+MJkqmC0JED8GHPXEpI7QFkXt9EADj5AgLdAguJnLkD6fmq8dLNEQN/gC5OpIkVAJ8KGp1fK8T+L/WX35IE5QPJBz2bVl0RASZ2AJsIGEkARNjy9UhYmQHo2qz5X+0BA6Ugu/yH9HEDaG3xhMn1KQMe6uI0GYD1AMCqpE9A8R0DFjzF3LSEaQDMzMzMzM98/pN++DpwzI0Dpt68D56xJQPkP6bevm0JAkDF3LSHfKkCRD3o2qwZDQELPZtXnUkdAjNtoAG+B9T/FjzF3LeE5QClcj8L1gEVAj8L1KFzfO0BlqmBUUnc0QC1DHOviBjtA6SYxCKzkQkA0ETY8vdIgQEATYcPTi0ZAxty1hHzwNEDn+6nx0j07QOF6FK5HwSdAUkmdgCZiQEAdOGdEaZ9FQF+YTBWMSgBAkst/SL+9SECBBMWPMfdJQFJJnYAm4itAkKD4MeZuIEA1XrpJDApKQEymCkYl9ShA",
          "dtype": "f8"
         },
         "xaxis": "x",
         "yaxis": "y"
        },
        {
         "bingroup": "x",
         "hovertemplate": "Category=Mountain<br>Area=Area2<br>Incremental Profit=%{x}<br>count=%{y}<extra></extra>",
         "legendgroup": "Mountain",
         "marker": {
          "color": "#FFA15A",
          "pattern": {
           "shape": ""
          }
         },
         "name": "Mountain",
         "nbinsx": 50,
         "orientation": "v",
         "showlegend": false,
         "type": "histogram",
         "x": {
          "bdata": "lIeFWtO83z9cj8L1KFzvP3Gsi9toAL8/qmBUUieg4T990LNZ9bniP28Sg8DKoes/S1mGONbF1T8VHcnlP6TfP5huEoPAyuE/NKK0N/jC2D/o2az6XG3jPwAAAAAAAAAAduCcEaW9wT8Q6bevA+fEP36MuWsJ+bA/qmBUUieg0T/tDb4wmSrIP5Jc/kP67e8/BoGVQ4ts3z/EQq1p3nHeP5Axdy0hH9w/4XoUrkfhwj8gQfFjzF3rPySX/5B++9o/FYxK6gQ03T9cIEHxY8zFP4lBYOXQIuc/H/RsVn2uzj8bnl4pyxDfP4C3QILix6g/VOOlm8Qg4j9VwaikTkBzP2aIY13cRuk/0ZFc/kP67T8oDwu1pnnnP8NkqmBUUuU/OiNKe4Mv6j990LNZ9bnWP02EDU+vlNU/hXzQs1n12T8eFmpN847hP83MzMzMzOg/yJi7lpAP5D9Iv30dOGfgP3bgnBGlvdk/U5YhjnVx5T956SYxCKzQP7hAguLHmO8/WDm0yHa+xz/PZtXnaivSPwfOGVHaG+g/6+I2GsBbyD97FK5H4XrmP4iFWtO84+I/MuauJeSD4j/OiNLe4AuTP1FrmnecouU/ZvfkYaHW1D/CFyZTBaPqP9GRXP5D+tk/PzVeukkMyj9oImx4eqXmP+84RUdy+e8/",
          "dtype": "f8"
         },
         "xaxis": "x2",
         "yaxis": "y2"
        },
        {
         "bingroup": "x",
         "hovertemplate": "Category=Mountain<br>Area=Area3<br>Incremental Profit=%{x}<br>count=%{y}<extra></extra>",
         "legendgroup": "Mountain",
         "marker": {
          "color": "#FFA15A",
          "pattern": {
           "shape": ""
          }
         },
         "name": "Mountain",
         "nbinsx": 50,
         "orientation": "v",
         "showlegend": false,
         "type": "histogram",
         "x": {
          "bdata": "o5I6AU3wVkALtaZ5x2lQQH4dOGdE+TBATtGRXP6TV0B/+zpwzshEQP5D+u3rMD5Adk8eFmo5UkB0RpT2Bg8xQCS5/If0J1hAyAc9m1WfIUDHuriNBoBUQHEbDeAtBFhAiGNd3EaLRUDu68A5I/o0QJOpglFJneQ/dnEbDeBNIkApXI/C9bhKQI4G8BZI7FRAPL1SliFGQEBxGw3gLaRTQGkAb4EE9UVACyQofoxZO0B0JJf/kF42QFHaG3xhEjlAOiNKe4MXVEA0gLdAgpJSQFyPwvUoTEFARIts5/spJUCcxCCwcrxWQAn5oGezAkNAbjSAt0DWUUBoke18P0VMQEymCkYlbURAoImw4enJUUBLWYY41l1DQHGsi9towB9AuY0G8BbwTkACvAUSFD9AQP5l9+RhEUtAY3/ZPXmYOEDByqFFtnMJQHKKjuTy305AXf5D+u2zREBhw9MrZVk5QNPe4AuTOTZAV1uxv+y+LUAFxY8xd1VVQM07TtGRvEVA8BZIUPwIM0DOiNLe4DtSQDojSnuDD0pAcF8HzhnZUUB5WKg1zfNWQMuhRbbzTThArkfhehQuK0Cx4emVskRLQHZxGw3gUVFAJJf/kH4/UECV1AloIlw6QAyTqYJR+TBA2T15WKgBVkAXt9EA3upVQHKKjuTyV0BAyJi7lpD3TUBg5dAi2/nOP5Axdy0hHxZAMlUwKqmzJkD7XG3F/hJGQATnjCjtTS5AF0hQ/BjbR0Ck374OnJNKQGEyVTAq1VdAXwfOGVGqM0AgQfFjzF0oQDxO0ZFcqlFAgy9Mpgp+U0AXt9EA3u5QQPd14JwRBVdAFmpN844TH0BEaW/whcVUQN/gC5Opwj9AzhlR2hu8GUAep+hILnNWQNcS8kHPLkpAbAn5oGezC0Af9GxWfY5GQN0kBoGVk0JAi2zn+6nhOUAep+hILmdVQMe6uI0G8FdA8KfGSzd5R0BNhA1Pr/RFQHEbDeAtxFJAv30dOGckVkAxmSoYlSRFQB3J5T+kN1dAaW/whcmgUEBgdk8eFppRQOY/pN++tkxARrbz/dR4S0DKMsSxLq4+QIenV8oyNERAf/s6cM48UUASpb3BF+pTQBdIUPwYsx9A9pfdk4eNREC+wRcmU91BQA==",
          "dtype": "f8"
         },
         "xaxis": "x3",
         "yaxis": "y3"
        },
        {
         "bingroup": "x",
         "hovertemplate": "Category=Mountain<br>Area=Area4<br>Incremental Profit=%{x}<br>count=%{y}<extra></extra>",
         "legendgroup": "Mountain",
         "marker": {
          "color": "#FFA15A",
          "pattern": {
           "shape": ""
          }
         },
         "name": "Mountain",
         "nbinsx": 50,
         "orientation": "v",
         "showlegend": false,
         "type": "histogram",
         "x": {
          "bdata": "hslUwaiUU0A+6Nms+tRHQNobfGEyHUhAI9v5fmrMRkA3GsBbIG1SQLraiv1lt1ZALpCg+DHyVUATYcPTKwFUQCDSb18Hdk9Aj8L1KFwvSkATYcPTK11LQPhT46WbfEhAPE7RkVxOSkAfhetRuAZNQHo2qz5XS05ANjy9UpbxNUBWfa62Yn88QEjhehSuh0xAQs9m1efqOUD0/dR46T5WQGIQWDm06DhA4C2QoPgRK0DsL7snD7NDQNJvXwfOKU1AdCSX/5C2RkBMpgpGJQ1DQLMMcayLy0NAcayL22gYSUDVCWgibJBJQHZPHhZqTTNA9ihcj8IRVEA51sVtNOhNQE5iEFg5DFZAR3L5D+kPQUDD0ytlGYI8QPJBz2bVy1VAS8gHPZuFMUDsUbgehXtOQNXnaiv2k1dANKK0N/iiI0BfKcsQxzo6QLByaJHtOFhA0SLb+X4qQ0A4Z0Rpb4RQQHrHKTqSM1BA0LNZ9bnSV0BF2PD0SlFNQI4G8BZIsD9Ac2iR7XyvRECe76fGS69HQKAaL90krkRA5j+k374OFUBtxf6yexJRQKd5xyk60htAtaZ5xyn6LUBYObTIdnpVQPtcbcX+jlRAvp8aL92kS0C6awn5oLc6QJayDHGsB1JA2PD0Sln2MkDjpZvEINhOQNQrZRnivFNAZapgVFLXT0AjSnuDL5RIQPvL7snDYkFASFD8GHO7UUDHSzeJQVBEQDSAt0CCIh9A/Bhz1xIKTEDP91PjpUNCQEtZhjjWBVBAumsJ+aBPQUCutmJ/2aVTQGEyVTAqeTdAApoIG552UkDqBDQRNlw0QHo2qz5XW/E/dZMYBFbWTkD3Bl+YTI1FQPAWSFD86DhA2c73U+N9T0D9h/Tb14EpQMKGp1fKMk9AbAn5oGfbUEB1ApoIG6ZKQIcW2c73G0JAayv2l91rSUCad5yiI6kzQOlILv8hbTlADi2yne8HIkA730+Nl6ZIQA+cM6K0pz9AS8gHPZvdQkD4U+Olm7BRQDnWxW00yE5AbxKDwMrJV0Cq8dJNYnAwQOqVsgxxJE9A/Yf029cdV0DtDb4wmYJBQHxhMlUwKhlAUkmdgCZWV0BGlPYGX+RTQN9PjZduYjdAQxzr4ja6SEAHzhlR2ms5QBUdyeU/yFFA",
          "dtype": "f8"
         },
         "xaxis": "x4",
         "yaxis": "y4"
        },
        {
         "bingroup": "x",
         "hovertemplate": "Category=Mountain<br>Area=Area5<br>Incremental Profit=%{x}<br>count=%{y}<extra></extra>",
         "legendgroup": "Mountain",
         "marker": {
          "color": "#FFA15A",
          "pattern": {
           "shape": ""
          }
         },
         "name": "Mountain",
         "nbinsx": 50,
         "orientation": "v",
         "showlegend": false,
         "type": "histogram",
         "x": {
          "bdata": "9dvXgXNGpD/FjzF3LSHPPzsBTYQNT+s/CYofY+5a4D/ek4eFWtO8P1ioNc07TsE/ZmZmZmZm3j/jNhrAWyDpP9ZW7C+7J9s/001iEFg5zD8m5IOezarpPy2yne+nxsM/RPrt68A57z8AkX77OnDoPzcawFsgQdk/KA8LtaZ5tz/CFyZTBaOSPxKlvcEXJss/OUVHcvkP1T/wp8ZLN4nlP3/ZPXlYqO8/g1FJnYAm7j/gnBGlvcGnPwrXo3A9Cus/GlHaG3xh6D9DHOviNhrQP4xK6gQ0Eew/1XjpJjEIvD/n+6nx0k3KPxpR2ht8YdY/w/UoXI/C5z8tIR/0bFbnP4qw4emVsuw/j1N0JJf/0D+hZ7Pqc7XlP0ATYcPTK80/bqMBvAUS2D89m1Wfq63gPwisHFpkO+k/J8KGp1fK7D/MXUvIBz3lP4ts5/up8eA/",
          "dtype": "f8"
         },
         "xaxis": "x5",
         "yaxis": "y5"
        },
        {
         "bingroup": "x",
         "hovertemplate": "Category=Mountain<br>Area=Area6<br>Incremental Profit=%{x}<br>count=%{y}<extra></extra>",
         "legendgroup": "Mountain",
         "marker": {
          "color": "#FFA15A",
          "pattern": {
           "shape": ""
          }
         },
         "name": "Mountain",
         "nbinsx": 50,
         "orientation": "v",
         "showlegend": false,
         "type": "histogram",
         "x": {
          "bdata": "qz5XW7FLVEBrmnecojNUQAMJih9jvj5A6bevA+csK0CZKhiV1KFVQInS3uALk0tA4QuTqYKpRkDTvOMUHVlHQNIA3gIJSiRAdy0hH/TMPEBYObTIdiZGQMgHPZtVvyRArBxaZDvrUEAhsHJokc03QHgLJCh+TCFAQj7o2aw6TUBhw9MrZRkSQIts5/upET5A0SLb+X6qNEAOT6+UZYgBQBrAWyBBkU5AUPwYc9e+UEBvgQTFj7FVQF3cRgN4ixpAF0hQ/BizTkDOGVHaG1RGQE8eFmpN60dAiUFg5dCiB0Doaiv2l2VLQBkEVg4tQkZAZRniWBdXIEB5WKg1zbtMQB+F61G4pklAGw3gLZCASUDHSzeJQcAiQN21hHzQz1BAGlHaG3y1VUDVeOkmMVgxQOhqK/aXRUxAbVZ9rrYeUkBO0ZFc/tdRQCEf9GxWfTlAQfFjzF1zQECcoiO5/PdLQMZtNIC3oDtAX5hMFYySTkBnRGlv8JU4QL99HThndExAarx0kxhUOUCQoPgx5sZMQNEi2/l+SitAp3nHKTpSP0Bcj8L1KFz8P8gHPZtVjzBAgZVDi2xXN0AbDeAtkKBEQFZ9rrZiN0dAryXkg54NTUBDrWnecWogQFTjpZvEMEFAZRniWBd3SkAEVg4tsm0+QEku/yH9hlVAMlUwKqkvVUDwhclUwTBSQG6jAbwF6kpAio7k8h8SEUD7y+7JwyJQQACRfvs6+EtAQxzr4jaqVEC7Jw8LtWYlQHZxGw3grQxAXdxGA3gL/D+LbOf7qSFTQCgPC7WmgUpAg1FJnYC2Q0ARx7q4jcYjQOtztRX7N1RAH/RsVn0uVEBNFYxK6vRFQJkqGJXUYUVA",
          "dtype": "f8"
         },
         "xaxis": "x6",
         "yaxis": "y6"
        },
        {
         "bingroup": "x",
         "hovertemplate": "Category=Mountain<br>Area=Area7<br>Incremental Profit=%{x}<br>count=%{y}<extra></extra>",
         "legendgroup": "Mountain",
         "marker": {
          "color": "#FFA15A",
          "pattern": {
           "shape": ""
          }
         },
         "name": "Mountain",
         "nbinsx": 50,
         "orientation": "v",
         "showlegend": false,
         "type": "histogram",
         "x": {
          "bdata": "sb/snjws4D/5oGez6nPpP73jFB3J5b8/FD/G3LWE7j/swDkjSnvbP3EbDeAtkOw/TRWMSuoE6j9jf9k9eVjYP1D8GHPXEug/2IFzRpT27D/ZzvdT46XfP1YOLbKd78c/CD2bVZ+r5z8H8BZIUPzYPwK8BRIUP+Y/pb3BFyZTxT8rhxbZzvezP7Hh6ZWyDNE/gEi/fR045z+BlUOLbOfhPxTQRNjw9OI/dnEbDeAt1D9eukkMAivhP9IA3gIJiuE/WKg1zTtO1T/i6ZWyDHHMP3/7OnDOiN4/DXGsi9to7j/+ZffkYaHkPwFNhA1Pr+w/zojS3uAL5T+Ens2qz9W2P7prCfmgZ8s/xY8xdy0hzz9bQj7o2azSP8E5I0p7g+M/YVRSJ6CJ5D956SYxCKziP4JzRpT2Bus/ak3zjlN0xD/HuriNBvC2P+oENBE2POs/WmQ730+N5T8tQxzr4jbuPw8LtaZ5x+k/FR3J5T+kvz9MN4lBYOXmPxzr4jYawJs/4C2QoPgx6j+ad5yiI7nqPxDpt68D59Q/LbKd76fG6T9PQBNhw9O7P77BFyZTBcM/5WGh1jTvwD/arPpcbcXOP6d5xyk6ku8/wOyePCzU7j+U9gZfmEzdPw==",
          "dtype": "f8"
         },
         "xaxis": "x7",
         "yaxis": "y7"
        },
        {
         "bingroup": "x",
         "hovertemplate": "Category=Tricycle<br>Area=Area1<br>Incremental Profit=%{x}<br>count=%{y}<extra></extra>",
         "legendgroup": "Tricycle",
         "marker": {
          "color": "#19d3f3",
          "pattern": {
           "shape": ""
          }
         },
         "name": "Tricycle",
         "nbinsx": 50,
         "orientation": "v",
         "showlegend": true,
         "type": "histogram",
         "x": {
          "bdata": "mSoYldQJSEBeukkMAns6QFCNl24SC0FAEFg5tMiGMkBuNIC3QKpBQFK4HoXr0ShAsVBrmncUQEBfKcsQx4pBQKyt2F92v0ZAqaROQBNxRECjI7n8h7xAQJtVn6utuEBADi2yne8nDkDjNhrAW/A8QDJ3LSEfJDpA8fRKWYYYNUBrK/aX3dMsQGuad5yi40JAxf6ye/KQSEC0WfW52kJCQMP1KFyP4kBAvp8aL90EO0CPwvUoXEdHQA+cM6K09xBA5dAi2/muQ0By+Q/pt68XQO0NvjCZahxAEHo2qz4nP0BseHqlLLM5QPjCZKpg1ClAXCBB8WNMOUBxPQrXo8A8QDAqqRPQTEJA/Knx0k3CKkAtIR/0bFbtPw5Pr5RlqCtAI9v5fmq84D++nxov3TRFQKVOQBNh4zdAukkMAiuXQUCcM6K0N7gyQNQrZRnimCxAZRniWBenSUD6fmq8dBNEQO58PzVeuvg/WmQ730/dR0DQ1VbsLzsvQLPqc7UVKzhAl5APejZrMECQoPgx5j47QNIA3gIJWj1AWYY41sV9RkAZBFYOLbIjQJSHhVrT5EJALUMc6+KWQUBHA3gLJJBDQKHWNO845SVASS7/If0WIkCfPCzUmoZJQPaX3ZOHhQBAhetRuB5lIkD/If32dQA5QIqw4emVgjlA/Knx0k3CPEDT3uALkyFIQFkXt9EAnjpAwFsgQfETQ0COBvAWSNAhQEYldQKaODdANBE2PL2iO0Bz1xLyQU8sQLMMcayL40hAGw3gLZBwSEB9rrZif7kzQK8l5IOefUJAoWez6nNtSUAdyeU/pKdHQGFUUiegAUBAE2HD0yuFM0D7XG3F/pI3QEw3iUFgpTBA8kHPZtUnIkA0gLdAggIqQAwCK4cW2TVA5fIf0m8fIECQMXctIR8gQPyp8dJNoiZA7FG4HoWLRUA+eVioNeVDQKyL22gArypAwhcmUwW7QkBiEFg5tCg0QCzUmuYdD0ZAT6+UZYgTMkA0ETY8vXpJQAtGJXUCgkVAPzVeukkMEUDqlbIMcSwYQEi/fR04Z/Q/SOF6FK4nQEBO0ZFc/pM9QKfoSC7/UTdAQYLix5gLR0DZPXlYqBUmQLPqc7UV+0JA/tR46SbxPkA=",
          "dtype": "f8"
         },
         "xaxis": "x",
         "yaxis": "y"
        },
        {
         "bingroup": "x",
         "hovertemplate": "Category=Tricycle<br>Area=Area2<br>Incremental Profit=%{x}<br>count=%{y}<extra></extra>",
         "legendgroup": "Tricycle",
         "marker": {
          "color": "#19d3f3",
          "pattern": {
           "shape": ""
          }
         },
         "name": "Tricycle",
         "nbinsx": 50,
         "orientation": "v",
         "showlegend": false,
         "type": "histogram",
         "x": {
          "bdata": "SgwCK4cW7T8CvAUSFD/GP7prCfmgZ+E/SFD8GHPXoj/Jdr6fGi/vP+f7qfHSTbI/TfOOU3Qk1z89LNSa5h3rPzGZKhiV1OE/2T15WKg17T/rc7UV+8vWPznWxW00gOE/iPTb14Fz6D/wFkhQ/BjnP6RwPQrXo9w/s+pztRX7wz/UK2UZ4ljTP+zAOSNKe8M/Q61p3nGK4j8ukKD4MebmP2Dl0CLb+do/idLe4AuT1T+JQWDl0CKrPxKDwMqhRbY/7MA5I0p73z/dtYR80LPhP4Lix5i7lpA/mggbnl4p0z8y5q4l5IPmP7RZ9bnaius/2c73U+Ol6T+TqYJRSZ2wP1Z9rrZif5k/eJyiI7n83z9ZhjjWxW3iPxZqTfOOU9w/2PD0SlmG3D9I4XoUrkfhP7yWkA96Nuc/fh04Z0Rp6z/5MeauJeTvP6d5xyk6kus/XkvIBz2b4T+qYFRSJ6DnP6HWNO84Rek/QKTfvg6c1z+lvcEXJlPlPxUdyeU/pMc/nDOitDf41j9LyAc9m1XvP2wJ+aBns8I/9ihcj8L1yD/2KFyPwvXuP7dif9k9eeY/XwfOGVHa6z8MAiuHFtnaPy7/If32ddQ/CD2bVZ+r6T+1N/jCZKrYP+PHmLuWkNs/w2SqYFRS6z+X/5B++zriP8iYu5aQD9I/4C2QoPgxtj80gLdAguLjP1g5tMh2vo8/0NVW7C+7tz8rGJXUCWjWPw==",
          "dtype": "f8"
         },
         "xaxis": "x2",
         "yaxis": "y2"
        },
        {
         "bingroup": "x",
         "hovertemplate": "Category=Tricycle<br>Area=Area3<br>Incremental Profit=%{x}<br>count=%{y}<extra></extra>",
         "legendgroup": "Tricycle",
         "marker": {
          "color": "#19d3f3",
          "pattern": {
           "shape": ""
          }
         },
         "name": "Tricycle",
         "nbinsx": 50,
         "orientation": "v",
         "showlegend": false,
         "type": "histogram",
         "x": {
          "bdata": "JXUCmgjLMkBZhjjWxe0rQPaX3ZOH5TlAIbByaJENIkDPZtXnantWQBdIUPwY61ZAcayL22h8UkBwXwfOGeFCQA5Pr5RlYFRAaLPqc7WVN0BZF7fRAP5DQHZPHhZqUVVAx7q4jQbgS0DHuriNBvBJQGlv8IXJNDNAMEymCkalOkCkcD0K18dTQH/ZPXlYfFBAS+oENBGuS0C/DpwzopQ8QL3jFB3JjUlA845TdCS/QkDpSC7/IZVFQJkqGJXURVJATtGRXP5DCECNl24Sg0hBQLFQa5p3XDxAVHQkl/+wU0D+Q/rt6yA/QOXyH9Jv3ytA1QloImwQQkCASL99HXhJQFjKMsSxbkxA2qz6XG3BVkDqlbIMcUwjQD0K16NwZUhA001iEFgJNkA+6Nms+pwfQF3cRgN4w1JA/yH99nVwPUBUUiegiUBCQDj4wmSqACtA4JwRpb31UkDwhclUwbhDQNlfdk8etjRA+8vuycNKREBBguLHmBtAQOXyH9JvX7c/xLEubqMpU0B3LSEf9ERJQC1DHOviNgNAqDXNO06hTkBUdCSX/zBIQHsUrkfhqj5AvJaQD3p+VEB/arx0k8xUQH9qvHSTQEJANe84RUeSJ0CDwMqhRUpXQFHaG3xhIlNAWYY41sVJUEDarPpcbRVHQMHKoUW2IzRAIR/0bFY1TkAxmSoYlVQIQBueXinLkC1AhA1Pr5QJUkC30QDeArFWQGx4eqUsU1ZA6SYxCKyQV0A0gLdAgjJTQPp+arx0Y01AxEKtad7hOEDP91PjpQs3QI2XbhKDiFVA7lpCPuhZN0DZzvdT42lWQE7RkVz+B1hAtvP91Hi9UEBcj8L1KBRRQP7UeOkmnVRAnDOitDeYMUCHp1fKMrRRQIbJVMGo0FZAsi5uowHsSkD3Bl+YTAFUQHUCmggbMlBAmggbnl6NVUBpAG+BBIVOQM6qz9VWZEpAjnVxGw0kU0CdgCbChpdHQKTfvg6c20pAr5RliGOVQkBeukkMAis+QJM6AU2EjTdAFNBE2PA8VEB0JJf/kGZUQH6MuWsJoVFAufyH9NuHSECjI7n8h1xIQFRSJ6CJrFNAarx0kxgE+j8AAAAAAMASQNxoAG+BIFVAGJXUCWhqU0A=",
          "dtype": "f8"
         },
         "xaxis": "x3",
         "yaxis": "y3"
        },
        {
         "bingroup": "x",
         "hovertemplate": "Category=Tricycle<br>Area=Area4<br>Incremental Profit=%{x}<br>count=%{y}<extra></extra>",
         "legendgroup": "Tricycle",
         "marker": {
          "color": "#19d3f3",
          "pattern": {
           "shape": ""
          }
         },
         "name": "Tricycle",
         "nbinsx": 50,
         "orientation": "v",
         "showlegend": false,
         "type": "histogram",
         "x": {
          "bdata": "si5uowG8BEBVMCqpEzhOQIY41sVtXFJAhlrTvONEPECRfvs6cE4FQHxhMlUw8lFASZ2AJsJGUEAQejarPo9JQHicoiO53EZATx4Wak2vV0AxmSoYlShYQNSa5h2nSE9AcayL22hUU0CamZmZmdkpQIZa07zjhEFAaCJseHqNQUBTBaOSOklDQCS5/If060ZAbjSAt0AaS0AFo5I6AUVPQKRwPQrXs1ZAlrIMcayLOkA6I0p7gzdHQAAAAAAAYEpAHVpkO98/VkC9UpYhjnXjP8zuycNC5UNARIts5/txUkDVeOkmMXRRQLprCfmgh01AmpmZmZkhSkAOLbKd76dQQESLbOf7KSxAt9EA3gJpJUBuNIC3QE5RQM07TtGRzEpARGlv8IU5V0Atsp3vp2YkQKkT0ETYMDFA78nDQq3ZN0Crz9VW7C8mQBKlvcEXilNAnMQgsHI8VUB3vp8aL21WQI/k8h/SN0pAvHSTGAQmUEDeAgmKH9tTQPfkYaHW1ENASgwCK4c+UEBSJ6CJsMlRQAkbnl4pOzJASnuDL0zmU0AOT6+UZQgiQNCzWfW5ej9ABoGVQ4uMMECneccpOv5VQKOSOgFNlDFA7nw/NV5yRUA/V1uxvyxFQFtCPujZnEZAVg4tsp1vKEAxCKwcWkRBQC1DHOvifkpAXf5D+u2zTEALJCh+jAk6QHE9CtejvFRATx4Wak2vUECb5h2n6GhRQM6I0t7g80ZAB/AWSFAkREBoke18P/VMQFr1udqK8VdAWvW52or9JEDMXUvIB+1DQAIrhxbZslJA4lgXt9HQVUB+HThnRBk+QFr1udqKLVdAMCqpE9BkJ0Ai/fZ14JweQL6fGi/dpCRA845TdCRnOUDG3LWEfHBCQCJseHqlHD9ARdjw9EoBSED6fmq8dJdXQE2EDU+vFBJA9ihcj8ItTkAlBoGVQ/tPQMrDQq1p3u0/1zTvOEUfWEAOT6+UZahUQLgehetRRFZAe4MvTKY6T0DsL7snD9NUQN4CCYofI0RAvp8aL93EK0C2hHzQs7lAQEoMAiuHsldA7zhFR3IJRkDrc7UV+8sOQJqZmZmZwUdAGXPXEvLFUEClvcEXJktDQCL99nXgDE1ABoGVQ4vUSUC1pnnHKeZRQC9uowG8rVNAoBov3STKVEA=",
          "dtype": "f8"
         },
         "xaxis": "x4",
         "yaxis": "y4"
        },
        {
         "bingroup": "x",
         "hovertemplate": "Category=Tricycle<br>Area=Area5<br>Incremental Profit=%{x}<br>count=%{y}<extra></extra>",
         "legendgroup": "Tricycle",
         "marker": {
          "color": "#19d3f3",
          "pattern": {
           "shape": ""
          }
         },
         "name": "Tricycle",
         "nbinsx": 50,
         "orientation": "v",
         "showlegend": false,
         "type": "histogram",
         "x": {
          "bdata": "SnuDL0ym5j+yLm6jAbzFP8gHPZtVn+M/pHA9CtejyD+k374OnDPuP5LLf0i/fek/AiuHFtnO3z+Y3ZOHhVrlPysYldQJaOY/eekmMQis3D+fPCzUmubhP83MzMzMzMw/gEi/fR040z9SSZ2AJsLaPwN4CyQofrw/kzoBTYQN6z96pSxDHOvaPzm0yHa+n+4/1xLyQc9mzT+coiO5/IfEPxiV1AloIuo/vHSTGARW3j+jAbwFEhS/P8dLN4lBYLU/8IXJVMGo2D9bsb/snjzMP1kXt9EA3uI/Dwu1pnnH4T9XW7G/7J7oP9DVVuwvu9s/vHSTGARWzj8wKqkT0ETIPyo6kst/SO0/SgwCK4cW4z/PZtXnaiumP3RGlPYGX+Q/b/CFyVTByD+jkjoBTYTrP2PuWkI+6OE/FK5H4XoUzj/c14FzRpTaPxNhw9MrZe0/fGEyVTAq4T83iUFg5dDeP2b35GGh1uQ/3EYDeAskyD/aG3xhMlXuPyxlGeJYF+0/",
          "dtype": "f8"
         },
         "xaxis": "x5",
         "yaxis": "y5"
        },
        {
         "bingroup": "x",
         "hovertemplate": "Category=Tricycle<br>Area=Area6<br>Incremental Profit=%{x}<br>count=%{y}<extra></extra>",
         "legendgroup": "Tricycle",
         "marker": {
          "color": "#19d3f3",
          "pattern": {
           "shape": ""
          }
         },
         "name": "Tricycle",
         "nbinsx": 50,
         "orientation": "v",
         "showlegend": false,
         "type": "histogram",
         "x": {
          "bdata": "iPTb14Fz5j8YldQJaLpPQEw3iUFglUxAcT0K16OcUkDTvOMUHTlNQBIUP8bclU9AylTBqKSmTkDzH9JvX2dOQNGRXP5DhlFA16NwPQpXHkBHcvkP6acwQGlv8IXJNChAXwfOGVE6KECb5h2n6Lg6QKHWNO841TZAKxiV1AkYNkCvlGWIYwVBQJqZmZmZ8UhAwTkjSnvDREBLWYY41gVSQHRGlPYGLztAbHh6pSyLVUCeXinLEFNSQDPEsS5uP1VAY3/ZPXn4REA6kst/SGdNQHlYqDXNU0dAKxiV1AmYPEDGbTSAtyhTQM07TtGRPCJAwaikTkCDUkBTBaOSOoFRQGRd3EYDKDhAokW28/0UE0AijnVxG/0+QFioNc07zhhA9wZfmEz1NUCh+DHmriVAQI9TdCSXjztApSxDHOuCRUDZzvdT431QQD7o2az6XNU/mSoYldSpOkDswDkjSgtCQJyiI7n8lzVAEOm3rwMnU0AUrkfhehQQQH3Qs1n1uUNAcF8HzhktU0B1ApoIG35KQPjCZKpgLEdAguLHmLu+UEC+MJkqGMVHQKK0N/jCZFNAXrpJDAK3UEC+wRcmU41EQECk374O3C9AmnecoiO5/D9hMlUwKqmjP39qvHSTXFFAutqK/WWXRkDD9Shcj0IiQIBIv30d8E1Anu+nxkvnSEAQejarPjckQJoIG55eKRZADJOpglH5MkDMf0i/fSVPQJayDHGsiwBAR3L5D+lHMEBZhjjWxS1AQA==",
          "dtype": "f8"
         },
         "xaxis": "x6",
         "yaxis": "y6"
        },
        {
         "bingroup": "x",
         "hovertemplate": "Category=Tricycle<br>Area=Area7<br>Incremental Profit=%{x}<br>count=%{y}<extra></extra>",
         "legendgroup": "Tricycle",
         "marker": {
          "color": "#19d3f3",
          "pattern": {
           "shape": ""
          }
         },
         "name": "Tricycle",
         "nbinsx": 50,
         "orientation": "v",
         "showlegend": false,
         "type": "histogram",
         "x": {
          "bdata": "wTkjSnuD7T9PQBNhw9PLP2TMXUvIB+U/zO7Jw0Kt7z8tQxzr4jZaP2PuWkI+6Kk/n6ut2F92vz9/arx0kxjkP2dEaW/whck/SOF6FK5HwT8+6Nms+lzFP3Gsi9toAL8/oWez6nO16T+hZ7Pqc7XpP8bctYR80O0/i2zn+6nx6D8Ab4EExY/tP+viNhrAW+Y/3SQGgZVD4z8ofoy5awnnP5LLf0i/fX0/gy9MpgpG4z+h1jTvOEXPP9k9eVioNd0/mN2Th4Vawz+/DpwzorTjP4EExY8xd9k/O3DOiNLe4D990LNZ9bnuP5zEILByaNk/PzVeukkM4D/y0k1iEFjnP3Qkl/+Qfqs/qDXNO07R6z/kg57Nqs+lP9Pe4AuTqeg/aJHtfD815D/y0k1iEFipP6UsQxzr4uI/jnVxGw3g0T+neccpOpLfP2/whclUwdQ/8kHPZtXn6j8FNBE2PL3SP5EPejarPu0/eAskKH6M2T94eqUsQxzrPzSAt0CC4tM/k6mCUUmd5D9xGw3gLZDqP/p+arx0k2g/CRueXinL7j8=",
          "dtype": "f8"
         },
         "xaxis": "x7",
         "yaxis": "y7"
        }
       ],
       "layout": {
        "annotations": [
         {
          "font": {},
          "showarrow": false,
          "text": "Area=Area1",
          "x": 0.06285714285714285,
          "xanchor": "center",
          "xref": "paper",
          "y": 1,
          "yanchor": "bottom",
          "yref": "paper"
         },
         {
          "font": {},
          "showarrow": false,
          "text": "Area=Area2",
          "x": 0.20857142857142852,
          "xanchor": "center",
          "xref": "paper",
          "y": 1,
          "yanchor": "bottom",
          "yref": "paper"
         },
         {
          "font": {},
          "showarrow": false,
          "text": "Area=Area3",
          "x": 0.3542857142857142,
          "xanchor": "center",
          "xref": "paper",
          "y": 1,
          "yanchor": "bottom",
          "yref": "paper"
         },
         {
          "font": {},
          "showarrow": false,
          "text": "Area=Area4",
          "x": 0.5,
          "xanchor": "center",
          "xref": "paper",
          "y": 1,
          "yanchor": "bottom",
          "yref": "paper"
         },
         {
          "font": {},
          "showarrow": false,
          "text": "Area=Area5",
          "x": 0.6457142857142856,
          "xanchor": "center",
          "xref": "paper",
          "y": 1,
          "yanchor": "bottom",
          "yref": "paper"
         },
         {
          "font": {},
          "showarrow": false,
          "text": "Area=Area6",
          "x": 0.7914285714285713,
          "xanchor": "center",
          "xref": "paper",
          "y": 1,
          "yanchor": "bottom",
          "yref": "paper"
         },
         {
          "font": {},
          "showarrow": false,
          "text": "Area=Area7",
          "x": 0.9371428571428569,
          "xanchor": "center",
          "xref": "paper",
          "y": 1,
          "yanchor": "bottom",
          "yref": "paper"
         }
        ],
        "barmode": "relative",
        "legend": {
         "title": {
          "text": "Category"
         },
         "tracegroupgap": 0
        },
        "template": {
         "data": {
          "bar": [
           {
            "error_x": {
             "color": "#2a3f5f"
            },
            "error_y": {
             "color": "#2a3f5f"
            },
            "marker": {
             "line": {
              "color": "#E5ECF6",
              "width": 0.5
             },
             "pattern": {
              "fillmode": "overlay",
              "size": 10,
              "solidity": 0.2
             }
            },
            "type": "bar"
           }
          ],
          "barpolar": [
           {
            "marker": {
             "line": {
              "color": "#E5ECF6",
              "width": 0.5
             },
             "pattern": {
              "fillmode": "overlay",
              "size": 10,
              "solidity": 0.2
             }
            },
            "type": "barpolar"
           }
          ],
          "carpet": [
           {
            "aaxis": {
             "endlinecolor": "#2a3f5f",
             "gridcolor": "white",
             "linecolor": "white",
             "minorgridcolor": "white",
             "startlinecolor": "#2a3f5f"
            },
            "baxis": {
             "endlinecolor": "#2a3f5f",
             "gridcolor": "white",
             "linecolor": "white",
             "minorgridcolor": "white",
             "startlinecolor": "#2a3f5f"
            },
            "type": "carpet"
           }
          ],
          "choropleth": [
           {
            "colorbar": {
             "outlinewidth": 0,
             "ticks": ""
            },
            "type": "choropleth"
           }
          ],
          "contour": [
           {
            "colorbar": {
             "outlinewidth": 0,
             "ticks": ""
            },
            "colorscale": [
             [
              0,
              "#0d0887"
             ],
             [
              0.1111111111111111,
              "#46039f"
             ],
             [
              0.2222222222222222,
              "#7201a8"
             ],
             [
              0.3333333333333333,
              "#9c179e"
             ],
             [
              0.4444444444444444,
              "#bd3786"
             ],
             [
              0.5555555555555556,
              "#d8576b"
             ],
             [
              0.6666666666666666,
              "#ed7953"
             ],
             [
              0.7777777777777778,
              "#fb9f3a"
             ],
             [
              0.8888888888888888,
              "#fdca26"
             ],
             [
              1,
              "#f0f921"
             ]
            ],
            "type": "contour"
           }
          ],
          "contourcarpet": [
           {
            "colorbar": {
             "outlinewidth": 0,
             "ticks": ""
            },
            "type": "contourcarpet"
           }
          ],
          "heatmap": [
           {
            "colorbar": {
             "outlinewidth": 0,
             "ticks": ""
            },
            "colorscale": [
             [
              0,
              "#0d0887"
             ],
             [
              0.1111111111111111,
              "#46039f"
             ],
             [
              0.2222222222222222,
              "#7201a8"
             ],
             [
              0.3333333333333333,
              "#9c179e"
             ],
             [
              0.4444444444444444,
              "#bd3786"
             ],
             [
              0.5555555555555556,
              "#d8576b"
             ],
             [
              0.6666666666666666,
              "#ed7953"
             ],
             [
              0.7777777777777778,
              "#fb9f3a"
             ],
             [
              0.8888888888888888,
              "#fdca26"
             ],
             [
              1,
              "#f0f921"
             ]
            ],
            "type": "heatmap"
           }
          ],
          "histogram": [
           {
            "marker": {
             "pattern": {
              "fillmode": "overlay",
              "size": 10,
              "solidity": 0.2
             }
            },
            "type": "histogram"
           }
          ],
          "histogram2d": [
           {
            "colorbar": {
             "outlinewidth": 0,
             "ticks": ""
            },
            "colorscale": [
             [
              0,
              "#0d0887"
             ],
             [
              0.1111111111111111,
              "#46039f"
             ],
             [
              0.2222222222222222,
              "#7201a8"
             ],
             [
              0.3333333333333333,
              "#9c179e"
             ],
             [
              0.4444444444444444,
              "#bd3786"
             ],
             [
              0.5555555555555556,
              "#d8576b"
             ],
             [
              0.6666666666666666,
              "#ed7953"
             ],
             [
              0.7777777777777778,
              "#fb9f3a"
             ],
             [
              0.8888888888888888,
              "#fdca26"
             ],
             [
              1,
              "#f0f921"
             ]
            ],
            "type": "histogram2d"
           }
          ],
          "histogram2dcontour": [
           {
            "colorbar": {
             "outlinewidth": 0,
             "ticks": ""
            },
            "colorscale": [
             [
              0,
              "#0d0887"
             ],
             [
              0.1111111111111111,
              "#46039f"
             ],
             [
              0.2222222222222222,
              "#7201a8"
             ],
             [
              0.3333333333333333,
              "#9c179e"
             ],
             [
              0.4444444444444444,
              "#bd3786"
             ],
             [
              0.5555555555555556,
              "#d8576b"
             ],
             [
              0.6666666666666666,
              "#ed7953"
             ],
             [
              0.7777777777777778,
              "#fb9f3a"
             ],
             [
              0.8888888888888888,
              "#fdca26"
             ],
             [
              1,
              "#f0f921"
             ]
            ],
            "type": "histogram2dcontour"
           }
          ],
          "mesh3d": [
           {
            "colorbar": {
             "outlinewidth": 0,
             "ticks": ""
            },
            "type": "mesh3d"
           }
          ],
          "parcoords": [
           {
            "line": {
             "colorbar": {
              "outlinewidth": 0,
              "ticks": ""
             }
            },
            "type": "parcoords"
           }
          ],
          "pie": [
           {
            "automargin": true,
            "type": "pie"
           }
          ],
          "scatter": [
           {
            "fillpattern": {
             "fillmode": "overlay",
             "size": 10,
             "solidity": 0.2
            },
            "type": "scatter"
           }
          ],
          "scatter3d": [
           {
            "line": {
             "colorbar": {
              "outlinewidth": 0,
              "ticks": ""
             }
            },
            "marker": {
             "colorbar": {
              "outlinewidth": 0,
              "ticks": ""
             }
            },
            "type": "scatter3d"
           }
          ],
          "scattercarpet": [
           {
            "marker": {
             "colorbar": {
              "outlinewidth": 0,
              "ticks": ""
             }
            },
            "type": "scattercarpet"
           }
          ],
          "scattergeo": [
           {
            "marker": {
             "colorbar": {
              "outlinewidth": 0,
              "ticks": ""
             }
            },
            "type": "scattergeo"
           }
          ],
          "scattergl": [
           {
            "marker": {
             "colorbar": {
              "outlinewidth": 0,
              "ticks": ""
             }
            },
            "type": "scattergl"
           }
          ],
          "scattermap": [
           {
            "marker": {
             "colorbar": {
              "outlinewidth": 0,
              "ticks": ""
             }
            },
            "type": "scattermap"
           }
          ],
          "scattermapbox": [
           {
            "marker": {
             "colorbar": {
              "outlinewidth": 0,
              "ticks": ""
             }
            },
            "type": "scattermapbox"
           }
          ],
          "scatterpolar": [
           {
            "marker": {
             "colorbar": {
              "outlinewidth": 0,
              "ticks": ""
             }
            },
            "type": "scatterpolar"
           }
          ],
          "scatterpolargl": [
           {
            "marker": {
             "colorbar": {
              "outlinewidth": 0,
              "ticks": ""
             }
            },
            "type": "scatterpolargl"
           }
          ],
          "scatterternary": [
           {
            "marker": {
             "colorbar": {
              "outlinewidth": 0,
              "ticks": ""
             }
            },
            "type": "scatterternary"
           }
          ],
          "surface": [
           {
            "colorbar": {
             "outlinewidth": 0,
             "ticks": ""
            },
            "colorscale": [
             [
              0,
              "#0d0887"
             ],
             [
              0.1111111111111111,
              "#46039f"
             ],
             [
              0.2222222222222222,
              "#7201a8"
             ],
             [
              0.3333333333333333,
              "#9c179e"
             ],
             [
              0.4444444444444444,
              "#bd3786"
             ],
             [
              0.5555555555555556,
              "#d8576b"
             ],
             [
              0.6666666666666666,
              "#ed7953"
             ],
             [
              0.7777777777777778,
              "#fb9f3a"
             ],
             [
              0.8888888888888888,
              "#fdca26"
             ],
             [
              1,
              "#f0f921"
             ]
            ],
            "type": "surface"
           }
          ],
          "table": [
           {
            "cells": {
             "fill": {
              "color": "#EBF0F8"
             },
             "line": {
              "color": "white"
             }
            },
            "header": {
             "fill": {
              "color": "#C8D4E3"
             },
             "line": {
              "color": "white"
             }
            },
            "type": "table"
           }
          ]
         },
         "layout": {
          "annotationdefaults": {
           "arrowcolor": "#2a3f5f",
           "arrowhead": 0,
           "arrowwidth": 1
          },
          "autotypenumbers": "strict",
          "coloraxis": {
           "colorbar": {
            "outlinewidth": 0,
            "ticks": ""
           }
          },
          "colorscale": {
           "diverging": [
            [
             0,
             "#8e0152"
            ],
            [
             0.1,
             "#c51b7d"
            ],
            [
             0.2,
             "#de77ae"
            ],
            [
             0.3,
             "#f1b6da"
            ],
            [
             0.4,
             "#fde0ef"
            ],
            [
             0.5,
             "#f7f7f7"
            ],
            [
             0.6,
             "#e6f5d0"
            ],
            [
             0.7,
             "#b8e186"
            ],
            [
             0.8,
             "#7fbc41"
            ],
            [
             0.9,
             "#4d9221"
            ],
            [
             1,
             "#276419"
            ]
           ],
           "sequential": [
            [
             0,
             "#0d0887"
            ],
            [
             0.1111111111111111,
             "#46039f"
            ],
            [
             0.2222222222222222,
             "#7201a8"
            ],
            [
             0.3333333333333333,
             "#9c179e"
            ],
            [
             0.4444444444444444,
             "#bd3786"
            ],
            [
             0.5555555555555556,
             "#d8576b"
            ],
            [
             0.6666666666666666,
             "#ed7953"
            ],
            [
             0.7777777777777778,
             "#fb9f3a"
            ],
            [
             0.8888888888888888,
             "#fdca26"
            ],
            [
             1,
             "#f0f921"
            ]
           ],
           "sequentialminus": [
            [
             0,
             "#0d0887"
            ],
            [
             0.1111111111111111,
             "#46039f"
            ],
            [
             0.2222222222222222,
             "#7201a8"
            ],
            [
             0.3333333333333333,
             "#9c179e"
            ],
            [
             0.4444444444444444,
             "#bd3786"
            ],
            [
             0.5555555555555556,
             "#d8576b"
            ],
            [
             0.6666666666666666,
             "#ed7953"
            ],
            [
             0.7777777777777778,
             "#fb9f3a"
            ],
            [
             0.8888888888888888,
             "#fdca26"
            ],
            [
             1,
             "#f0f921"
            ]
           ]
          },
          "colorway": [
           "#636efa",
           "#EF553B",
           "#00cc96",
           "#ab63fa",
           "#FFA15A",
           "#19d3f3",
           "#FF6692",
           "#B6E880",
           "#FF97FF",
           "#FECB52"
          ],
          "font": {
           "color": "#2a3f5f"
          },
          "geo": {
           "bgcolor": "white",
           "lakecolor": "white",
           "landcolor": "#E5ECF6",
           "showlakes": true,
           "showland": true,
           "subunitcolor": "white"
          },
          "hoverlabel": {
           "align": "left"
          },
          "hovermode": "closest",
          "mapbox": {
           "style": "light"
          },
          "paper_bgcolor": "white",
          "plot_bgcolor": "#E5ECF6",
          "polar": {
           "angularaxis": {
            "gridcolor": "white",
            "linecolor": "white",
            "ticks": ""
           },
           "bgcolor": "#E5ECF6",
           "radialaxis": {
            "gridcolor": "white",
            "linecolor": "white",
            "ticks": ""
           }
          },
          "scene": {
           "xaxis": {
            "backgroundcolor": "#E5ECF6",
            "gridcolor": "white",
            "gridwidth": 2,
            "linecolor": "white",
            "showbackground": true,
            "ticks": "",
            "zerolinecolor": "white"
           },
           "yaxis": {
            "backgroundcolor": "#E5ECF6",
            "gridcolor": "white",
            "gridwidth": 2,
            "linecolor": "white",
            "showbackground": true,
            "ticks": "",
            "zerolinecolor": "white"
           },
           "zaxis": {
            "backgroundcolor": "#E5ECF6",
            "gridcolor": "white",
            "gridwidth": 2,
            "linecolor": "white",
            "showbackground": true,
            "ticks": "",
            "zerolinecolor": "white"
           }
          },
          "shapedefaults": {
           "line": {
            "color": "#2a3f5f"
           }
          },
          "ternary": {
           "aaxis": {
            "gridcolor": "white",
            "linecolor": "white",
            "ticks": ""
           },
           "baxis": {
            "gridcolor": "white",
            "linecolor": "white",
            "ticks": ""
           },
           "bgcolor": "#E5ECF6",
           "caxis": {
            "gridcolor": "white",
            "linecolor": "white",
            "ticks": ""
           }
          },
          "title": {
           "x": 0.05
          },
          "xaxis": {
           "automargin": true,
           "gridcolor": "white",
           "linecolor": "white",
           "ticks": "",
           "title": {
            "standoff": 15
           },
           "zerolinecolor": "white",
           "zerolinewidth": 2
          },
          "yaxis": {
           "automargin": true,
           "gridcolor": "white",
           "linecolor": "white",
           "ticks": "",
           "title": {
            "standoff": 15
           },
           "zerolinecolor": "white",
           "zerolinewidth": 2
          }
         }
        },
        "title": {
         "text": "Histogram of Incremental Profit Values by Area"
        },
        "xaxis": {
         "anchor": "y",
         "domain": [
          0,
          0.1257142857142857
         ],
         "title": {
          "text": "Incremental Profit"
         }
        },
        "xaxis2": {
         "anchor": "y2",
         "domain": [
          0.14571428571428569,
          0.27142857142857135
         ],
         "matches": "x",
         "title": {
          "text": "Incremental Profit"
         }
        },
        "xaxis3": {
         "anchor": "y3",
         "domain": [
          0.29142857142857137,
          0.41714285714285704
         ],
         "matches": "x",
         "title": {
          "text": "Incremental Profit"
         }
        },
        "xaxis4": {
         "anchor": "y4",
         "domain": [
          0.4371428571428571,
          0.5628571428571428
         ],
         "matches": "x",
         "title": {
          "text": "Incremental Profit"
         }
        },
        "xaxis5": {
         "anchor": "y5",
         "domain": [
          0.5828571428571427,
          0.7085714285714284
         ],
         "matches": "x",
         "title": {
          "text": "Incremental Profit"
         }
        },
        "xaxis6": {
         "anchor": "y6",
         "domain": [
          0.7285714285714284,
          0.8542857142857141
         ],
         "matches": "x",
         "title": {
          "text": "Incremental Profit"
         }
        },
        "xaxis7": {
         "anchor": "y7",
         "domain": [
          0.8742857142857141,
          0.9999999999999998
         ],
         "matches": "x",
         "title": {
          "text": "Incremental Profit"
         }
        },
        "yaxis": {
         "anchor": "x",
         "domain": [
          0,
          1
         ],
         "title": {
          "text": "count"
         }
        },
        "yaxis2": {
         "anchor": "x2",
         "domain": [
          0,
          1
         ],
         "matches": "y",
         "showticklabels": false
        },
        "yaxis3": {
         "anchor": "x3",
         "domain": [
          0,
          1
         ],
         "matches": "y",
         "showticklabels": false
        },
        "yaxis4": {
         "anchor": "x4",
         "domain": [
          0,
          1
         ],
         "matches": "y",
         "showticklabels": false
        },
        "yaxis5": {
         "anchor": "x5",
         "domain": [
          0,
          1
         ],
         "matches": "y",
         "showticklabels": false
        },
        "yaxis6": {
         "anchor": "x6",
         "domain": [
          0,
          1
         ],
         "matches": "y",
         "showticklabels": false
        },
        "yaxis7": {
         "anchor": "x7",
         "domain": [
          0,
          1
         ],
         "matches": "y",
         "showticklabels": false
        }
       }
      }
     },
     "metadata": {},
     "output_type": "display_data"
    }
   ],
   "source": [
    "fig_profit_hist_area = px.histogram(df_profits,\n",
    "                                    x=\"Incremental Profit\",\n",
    "                                    color=\"Category\",\n",
    "                                    facet_col=\"Area\",\n",
    "                                    nbins=50,\n",
    "                                    title=\"Histogram of Incremental Profit Values by Area\",\n",
    "                                    labels={\"Incremental Profit\": \"Incremental Profit\"})\n",
    "fig_profit_hist_area.show()"
   ]
  },
  {
   "cell_type": "code",
   "execution_count": 88,
   "metadata": {},
   "outputs": [
    {
     "data": {
      "application/vnd.plotly.v1+json": {
       "config": {
        "plotlyServerURL": "https://plot.ly"
       },
       "data": [
        {
         "alignmentgroup": "True",
         "hovertemplate": "Area=Area1<br>Category=%{x}<br>Incremental Profit=%{y}<extra></extra>",
         "legendgroup": "Area1",
         "marker": {
          "color": "#636efa"
         },
         "name": "Area1",
         "notched": false,
         "offsetgroup": "Area1",
         "orientation": "v",
         "showlegend": true,
         "type": "box",
         "x": [
          "Child",
          "Child",
          "Child",
          "Child",
          "Child",
          "Child",
          "Child",
          "Child",
          "Child",
          "Child",
          "Child",
          "Child",
          "Child",
          "Child",
          "Child",
          "Child",
          "Child",
          "Child",
          "Child",
          "Child",
          "Child",
          "Child",
          "Child",
          "Child",
          "Child",
          "Child",
          "Child",
          "Child",
          "Child",
          "Child",
          "Child",
          "Child",
          "Child",
          "Child",
          "Child",
          "Child",
          "Child",
          "Child",
          "Child",
          "Child",
          "Child",
          "Child",
          "Child",
          "Child",
          "Child",
          "Child",
          "Child",
          "Child",
          "Child",
          "Child",
          "Child",
          "Child",
          "Child",
          "Child",
          "Child",
          "Child",
          "Child",
          "Child",
          "Child",
          "Child",
          "Child",
          "Child",
          "Child",
          "Child",
          "Child",
          "Child",
          "Child",
          "Child",
          "Child",
          "Child",
          "Child",
          "Child",
          "Child",
          "Child",
          "Child",
          "Child",
          "Child",
          "Child",
          "Child",
          "Child",
          "Child",
          "Child",
          "Child",
          "Child",
          "Child",
          "Child",
          "Child",
          "Child",
          "Child",
          "Child",
          "Child",
          "Child",
          "Child",
          "Child",
          "Child",
          "Child",
          "Child",
          "Child",
          "Child",
          "Child",
          "Child",
          "Child",
          "Child",
          "Child",
          "Child",
          "Child",
          "Child",
          "Child",
          "Child",
          "Child",
          "Child",
          "Child",
          "Child",
          "Child",
          "Adult",
          "Adult",
          "Adult",
          "Adult",
          "Adult",
          "Adult",
          "Adult",
          "Adult",
          "Adult",
          "Adult",
          "Adult",
          "Adult",
          "Adult",
          "Adult",
          "Adult",
          "Adult",
          "Adult",
          "Adult",
          "Adult",
          "Adult",
          "Adult",
          "Adult",
          "Adult",
          "Adult",
          "Adult",
          "Adult",
          "Adult",
          "Adult",
          "Adult",
          "Adult",
          "Adult",
          "Adult",
          "Adult",
          "Adult",
          "Adult",
          "Adult",
          "Adult",
          "Adult",
          "Adult",
          "Adult",
          "Adult",
          "Adult",
          "Adult",
          "Adult",
          "Adult",
          "Adult",
          "Adult",
          "Adult",
          "Adult",
          "Adult",
          "Adult",
          "Adult",
          "Adult",
          "Adult",
          "Adult",
          "Adult",
          "Adult",
          "Adult",
          "Adult",
          "Adult",
          "Adult",
          "Adult",
          "Adult",
          "Adult",
          "Adult",
          "Adult",
          "Adult",
          "Adult",
          "Adult",
          "Adult",
          "Adult",
          "Adult",
          "Adult",
          "Adult",
          "Adult",
          "Adult",
          "Adult",
          "Adult",
          "Adult",
          "Adult",
          "Adult",
          "Adult",
          "Adult",
          "Adult",
          "Adult",
          "Adult",
          "Adult",
          "Adult",
          "Adult",
          "Adult",
          "Adult",
          "Adult",
          "Adult",
          "Adult",
          "Adult",
          "Adult",
          "Adult",
          "Adult",
          "Adult",
          "Adult",
          "Adult",
          "Adult",
          "Adult",
          "Adult",
          "Adult",
          "Adult",
          "Adult",
          "Adult",
          "Adult",
          "Adult",
          "Adult",
          "Adult",
          "Adult",
          "Adult",
          "Adult",
          "Electric",
          "Electric",
          "Electric",
          "Electric",
          "Electric",
          "Electric",
          "Electric",
          "Electric",
          "Electric",
          "Electric",
          "Electric",
          "Electric",
          "Electric",
          "Electric",
          "Electric",
          "Electric",
          "Electric",
          "Electric",
          "Electric",
          "Electric",
          "Electric",
          "Electric",
          "Electric",
          "Electric",
          "Electric",
          "Electric",
          "Electric",
          "Electric",
          "Electric",
          "Electric",
          "Electric",
          "Electric",
          "Electric",
          "Electric",
          "Electric",
          "Electric",
          "Electric",
          "Electric",
          "Electric",
          "Electric",
          "Electric",
          "Electric",
          "Electric",
          "Electric",
          "Electric",
          "Electric",
          "Electric",
          "Electric",
          "Electric",
          "Electric",
          "Electric",
          "Electric",
          "Electric",
          "Electric",
          "Electric",
          "Electric",
          "Electric",
          "Electric",
          "Electric",
          "Electric",
          "Electric",
          "Electric",
          "Electric",
          "Electric",
          "Electric",
          "Electric",
          "Electric",
          "Electric",
          "Electric",
          "Electric",
          "Electric",
          "Electric",
          "Electric",
          "Electric",
          "Electric",
          "Electric",
          "Electric",
          "Electric",
          "Electric",
          "Electric",
          "Electric",
          "Electric",
          "Electric",
          "Electric",
          "Electric",
          "Electric",
          "Electric",
          "Electric",
          "Electric",
          "Electric",
          "Electric",
          "Electric",
          "Electric",
          "Electric",
          "Electric",
          "Electric",
          "Electric",
          "Electric",
          "Electric",
          "Electric",
          "Electric",
          "Electric",
          "Racing",
          "Racing",
          "Racing",
          "Racing",
          "Racing",
          "Racing",
          "Racing",
          "Racing",
          "Racing",
          "Racing",
          "Racing",
          "Racing",
          "Racing",
          "Racing",
          "Racing",
          "Racing",
          "Racing",
          "Racing",
          "Racing",
          "Racing",
          "Racing",
          "Racing",
          "Racing",
          "Racing",
          "Racing",
          "Racing",
          "Racing",
          "Racing",
          "Racing",
          "Racing",
          "Racing",
          "Racing",
          "Racing",
          "Racing",
          "Racing",
          "Racing",
          "Racing",
          "Racing",
          "Racing",
          "Racing",
          "Racing",
          "Racing",
          "Racing",
          "Racing",
          "Racing",
          "Racing",
          "Racing",
          "Racing",
          "Racing",
          "Racing",
          "Racing",
          "Racing",
          "Racing",
          "Racing",
          "Racing",
          "Racing",
          "Racing",
          "Racing",
          "Racing",
          "Racing",
          "Racing",
          "Racing",
          "Racing",
          "Racing",
          "Racing",
          "Racing",
          "Racing",
          "Racing",
          "Racing",
          "Racing",
          "Racing",
          "Racing",
          "Racing",
          "Racing",
          "Racing",
          "Racing",
          "Racing",
          "Racing",
          "Racing",
          "Racing",
          "Racing",
          "Racing",
          "Racing",
          "Racing",
          "Racing",
          "Racing",
          "Racing",
          "Racing",
          "Racing",
          "Racing",
          "Racing",
          "Racing",
          "Racing",
          "Racing",
          "Racing",
          "Racing",
          "Racing",
          "Racing",
          "Racing",
          "Racing",
          "Racing",
          "Racing",
          "Racing",
          "Racing",
          "Racing",
          "Racing",
          "Racing",
          "Racing",
          "Racing",
          "Mountain",
          "Mountain",
          "Mountain",
          "Mountain",
          "Mountain",
          "Mountain",
          "Mountain",
          "Mountain",
          "Mountain",
          "Mountain",
          "Mountain",
          "Mountain",
          "Mountain",
          "Mountain",
          "Mountain",
          "Mountain",
          "Mountain",
          "Mountain",
          "Mountain",
          "Mountain",
          "Mountain",
          "Mountain",
          "Mountain",
          "Mountain",
          "Mountain",
          "Mountain",
          "Mountain",
          "Mountain",
          "Mountain",
          "Mountain",
          "Mountain",
          "Mountain",
          "Mountain",
          "Mountain",
          "Mountain",
          "Mountain",
          "Mountain",
          "Mountain",
          "Mountain",
          "Mountain",
          "Mountain",
          "Mountain",
          "Mountain",
          "Mountain",
          "Mountain",
          "Mountain",
          "Mountain",
          "Mountain",
          "Mountain",
          "Mountain",
          "Mountain",
          "Mountain",
          "Mountain",
          "Mountain",
          "Mountain",
          "Mountain",
          "Mountain",
          "Mountain",
          "Mountain",
          "Mountain",
          "Mountain",
          "Mountain",
          "Mountain",
          "Mountain",
          "Mountain",
          "Mountain",
          "Mountain",
          "Mountain",
          "Mountain",
          "Mountain",
          "Mountain",
          "Mountain",
          "Mountain",
          "Mountain",
          "Mountain",
          "Mountain",
          "Mountain",
          "Mountain",
          "Mountain",
          "Mountain",
          "Mountain",
          "Mountain",
          "Mountain",
          "Mountain",
          "Mountain",
          "Mountain",
          "Mountain",
          "Mountain",
          "Mountain",
          "Mountain",
          "Mountain",
          "Mountain",
          "Mountain",
          "Mountain",
          "Mountain",
          "Mountain",
          "Mountain",
          "Mountain",
          "Mountain",
          "Mountain",
          "Mountain",
          "Mountain",
          "Mountain",
          "Mountain",
          "Mountain",
          "Mountain",
          "Mountain",
          "Mountain",
          "Tricycle",
          "Tricycle",
          "Tricycle",
          "Tricycle",
          "Tricycle",
          "Tricycle",
          "Tricycle",
          "Tricycle",
          "Tricycle",
          "Tricycle",
          "Tricycle",
          "Tricycle",
          "Tricycle",
          "Tricycle",
          "Tricycle",
          "Tricycle",
          "Tricycle",
          "Tricycle",
          "Tricycle",
          "Tricycle",
          "Tricycle",
          "Tricycle",
          "Tricycle",
          "Tricycle",
          "Tricycle",
          "Tricycle",
          "Tricycle",
          "Tricycle",
          "Tricycle",
          "Tricycle",
          "Tricycle",
          "Tricycle",
          "Tricycle",
          "Tricycle",
          "Tricycle",
          "Tricycle",
          "Tricycle",
          "Tricycle",
          "Tricycle",
          "Tricycle",
          "Tricycle",
          "Tricycle",
          "Tricycle",
          "Tricycle",
          "Tricycle",
          "Tricycle",
          "Tricycle",
          "Tricycle",
          "Tricycle",
          "Tricycle",
          "Tricycle",
          "Tricycle",
          "Tricycle",
          "Tricycle",
          "Tricycle",
          "Tricycle",
          "Tricycle",
          "Tricycle",
          "Tricycle",
          "Tricycle",
          "Tricycle",
          "Tricycle",
          "Tricycle",
          "Tricycle",
          "Tricycle",
          "Tricycle",
          "Tricycle",
          "Tricycle",
          "Tricycle",
          "Tricycle",
          "Tricycle",
          "Tricycle",
          "Tricycle",
          "Tricycle",
          "Tricycle",
          "Tricycle",
          "Tricycle",
          "Tricycle",
          "Tricycle",
          "Tricycle",
          "Tricycle",
          "Tricycle",
          "Tricycle",
          "Tricycle",
          "Tricycle",
          "Tricycle",
          "Tricycle",
          "Tricycle",
          "Tricycle",
          "Tricycle",
          "Tricycle",
          "Tricycle",
          "Tricycle",
          "Tricycle",
          "Tricycle",
          "Tricycle",
          "Tricycle",
          "Tricycle",
          "Tricycle",
          "Tricycle",
          "Tricycle",
          "Tricycle",
          "Tricycle",
          "Tricycle",
          "Tricycle",
          "Tricycle"
         ],
         "x0": " ",
         "xaxis": "x",
         "y": {
          "bdata": "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",
          "dtype": "f8"
         },
         "y0": " ",
         "yaxis": "y"
        },
        {
         "alignmentgroup": "True",
         "hovertemplate": "Area=Area2<br>Category=%{x}<br>Incremental Profit=%{y}<extra></extra>",
         "legendgroup": "Area2",
         "marker": {
          "color": "#EF553B"
         },
         "name": "Area2",
         "notched": false,
         "offsetgroup": "Area2",
         "orientation": "v",
         "showlegend": true,
         "type": "box",
         "x": [
          "Child",
          "Child",
          "Child",
          "Child",
          "Child",
          "Child",
          "Child",
          "Child",
          "Child",
          "Child",
          "Child",
          "Child",
          "Child",
          "Child",
          "Child",
          "Child",
          "Child",
          "Child",
          "Child",
          "Child",
          "Child",
          "Child",
          "Child",
          "Child",
          "Child",
          "Child",
          "Child",
          "Child",
          "Child",
          "Child",
          "Child",
          "Child",
          "Child",
          "Child",
          "Child",
          "Child",
          "Child",
          "Child",
          "Child",
          "Child",
          "Child",
          "Child",
          "Child",
          "Child",
          "Child",
          "Child",
          "Child",
          "Child",
          "Child",
          "Child",
          "Child",
          "Child",
          "Child",
          "Adult",
          "Adult",
          "Adult",
          "Adult",
          "Adult",
          "Adult",
          "Adult",
          "Adult",
          "Adult",
          "Adult",
          "Adult",
          "Adult",
          "Adult",
          "Adult",
          "Adult",
          "Adult",
          "Adult",
          "Adult",
          "Adult",
          "Adult",
          "Adult",
          "Adult",
          "Adult",
          "Adult",
          "Adult",
          "Adult",
          "Adult",
          "Adult",
          "Adult",
          "Adult",
          "Adult",
          "Adult",
          "Adult",
          "Adult",
          "Adult",
          "Adult",
          "Adult",
          "Adult",
          "Adult",
          "Adult",
          "Adult",
          "Adult",
          "Adult",
          "Adult",
          "Adult",
          "Adult",
          "Adult",
          "Adult",
          "Adult",
          "Adult",
          "Adult",
          "Adult",
          "Adult",
          "Adult",
          "Adult",
          "Adult",
          "Adult",
          "Adult",
          "Adult",
          "Electric",
          "Electric",
          "Electric",
          "Electric",
          "Electric",
          "Electric",
          "Electric",
          "Electric",
          "Electric",
          "Electric",
          "Electric",
          "Electric",
          "Electric",
          "Electric",
          "Electric",
          "Electric",
          "Electric",
          "Electric",
          "Electric",
          "Electric",
          "Electric",
          "Electric",
          "Electric",
          "Electric",
          "Electric",
          "Electric",
          "Electric",
          "Electric",
          "Electric",
          "Electric",
          "Electric",
          "Electric",
          "Electric",
          "Electric",
          "Electric",
          "Electric",
          "Electric",
          "Electric",
          "Electric",
          "Electric",
          "Electric",
          "Electric",
          "Electric",
          "Electric",
          "Electric",
          "Electric",
          "Electric",
          "Electric",
          "Electric",
          "Electric",
          "Electric",
          "Electric",
          "Electric",
          "Electric",
          "Electric",
          "Electric",
          "Electric",
          "Electric",
          "Electric",
          "Electric",
          "Electric",
          "Electric",
          "Electric",
          "Electric",
          "Electric",
          "Electric",
          "Electric",
          "Electric",
          "Electric",
          "Electric",
          "Electric",
          "Racing",
          "Racing",
          "Racing",
          "Racing",
          "Racing",
          "Racing",
          "Racing",
          "Racing",
          "Racing",
          "Racing",
          "Racing",
          "Racing",
          "Racing",
          "Racing",
          "Racing",
          "Racing",
          "Racing",
          "Racing",
          "Racing",
          "Racing",
          "Racing",
          "Racing",
          "Racing",
          "Racing",
          "Racing",
          "Racing",
          "Racing",
          "Racing",
          "Racing",
          "Racing",
          "Racing",
          "Racing",
          "Racing",
          "Racing",
          "Racing",
          "Racing",
          "Racing",
          "Racing",
          "Racing",
          "Racing",
          "Racing",
          "Racing",
          "Racing",
          "Racing",
          "Racing",
          "Racing",
          "Racing",
          "Racing",
          "Racing",
          "Racing",
          "Racing",
          "Racing",
          "Racing",
          "Racing",
          "Racing",
          "Mountain",
          "Mountain",
          "Mountain",
          "Mountain",
          "Mountain",
          "Mountain",
          "Mountain",
          "Mountain",
          "Mountain",
          "Mountain",
          "Mountain",
          "Mountain",
          "Mountain",
          "Mountain",
          "Mountain",
          "Mountain",
          "Mountain",
          "Mountain",
          "Mountain",
          "Mountain",
          "Mountain",
          "Mountain",
          "Mountain",
          "Mountain",
          "Mountain",
          "Mountain",
          "Mountain",
          "Mountain",
          "Mountain",
          "Mountain",
          "Mountain",
          "Mountain",
          "Mountain",
          "Mountain",
          "Mountain",
          "Mountain",
          "Mountain",
          "Mountain",
          "Mountain",
          "Mountain",
          "Mountain",
          "Mountain",
          "Mountain",
          "Mountain",
          "Mountain",
          "Mountain",
          "Mountain",
          "Mountain",
          "Mountain",
          "Mountain",
          "Mountain",
          "Mountain",
          "Mountain",
          "Mountain",
          "Mountain",
          "Mountain",
          "Mountain",
          "Mountain",
          "Mountain",
          "Mountain",
          "Mountain",
          "Mountain",
          "Mountain",
          "Tricycle",
          "Tricycle",
          "Tricycle",
          "Tricycle",
          "Tricycle",
          "Tricycle",
          "Tricycle",
          "Tricycle",
          "Tricycle",
          "Tricycle",
          "Tricycle",
          "Tricycle",
          "Tricycle",
          "Tricycle",
          "Tricycle",
          "Tricycle",
          "Tricycle",
          "Tricycle",
          "Tricycle",
          "Tricycle",
          "Tricycle",
          "Tricycle",
          "Tricycle",
          "Tricycle",
          "Tricycle",
          "Tricycle",
          "Tricycle",
          "Tricycle",
          "Tricycle",
          "Tricycle",
          "Tricycle",
          "Tricycle",
          "Tricycle",
          "Tricycle",
          "Tricycle",
          "Tricycle",
          "Tricycle",
          "Tricycle",
          "Tricycle",
          "Tricycle",
          "Tricycle",
          "Tricycle",
          "Tricycle",
          "Tricycle",
          "Tricycle",
          "Tricycle",
          "Tricycle",
          "Tricycle",
          "Tricycle",
          "Tricycle",
          "Tricycle",
          "Tricycle",
          "Tricycle",
          "Tricycle",
          "Tricycle",
          "Tricycle",
          "Tricycle",
          "Tricycle",
          "Tricycle",
          "Tricycle",
          "Tricycle",
          "Tricycle",
          "Tricycle",
          "Tricycle",
          "Tricycle",
          "Tricycle",
          "Tricycle",
          "Tricycle"
         ],
         "x0": " ",
         "xaxis": "x",
         "y": {
          "bdata": "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",
          "dtype": "f8"
         },
         "y0": " ",
         "yaxis": "y"
        },
        {
         "alignmentgroup": "True",
         "hovertemplate": "Area=Area3<br>Category=%{x}<br>Incremental Profit=%{y}<extra></extra>",
         "legendgroup": "Area3",
         "marker": {
          "color": "#00cc96"
         },
         "name": "Area3",
         "notched": false,
         "offsetgroup": "Area3",
         "orientation": "v",
         "showlegend": true,
         "type": "box",
         "x": [
          "Child",
          "Child",
          "Child",
          "Child",
          "Child",
          "Child",
          "Child",
          "Child",
          "Child",
          "Child",
          "Child",
          "Child",
          "Child",
          "Child",
          "Child",
          "Child",
          "Child",
          "Child",
          "Child",
          "Child",
          "Child",
          "Child",
          "Child",
          "Child",
          "Child",
          "Child",
          "Child",
          "Child",
          "Child",
          "Child",
          "Child",
          "Child",
          "Child",
          "Child",
          "Child",
          "Child",
          "Child",
          "Child",
          "Child",
          "Child",
          "Child",
          "Child",
          "Child",
          "Child",
          "Child",
          "Child",
          "Child",
          "Child",
          "Child",
          "Child",
          "Child",
          "Child",
          "Child",
          "Child",
          "Child",
          "Child",
          "Child",
          "Child",
          "Child",
          "Child",
          "Child",
          "Child",
          "Child",
          "Child",
          "Child",
          "Child",
          "Child",
          "Child",
          "Child",
          "Child",
          "Child",
          "Child",
          "Child",
          "Child",
          "Child",
          "Child",
          "Child",
          "Child",
          "Child",
          "Child",
          "Child",
          "Child",
          "Child",
          "Child",
          "Child",
          "Child",
          "Child",
          "Child",
          "Child",
          "Child",
          "Child",
          "Child",
          "Child",
          "Child",
          "Child",
          "Child",
          "Adult",
          "Adult",
          "Adult",
          "Adult",
          "Adult",
          "Adult",
          "Adult",
          "Adult",
          "Adult",
          "Adult",
          "Adult",
          "Adult",
          "Adult",
          "Adult",
          "Adult",
          "Adult",
          "Adult",
          "Adult",
          "Adult",
          "Adult",
          "Adult",
          "Adult",
          "Adult",
          "Adult",
          "Adult",
          "Adult",
          "Adult",
          "Adult",
          "Adult",
          "Adult",
          "Adult",
          "Adult",
          "Adult",
          "Adult",
          "Adult",
          "Adult",
          "Adult",
          "Adult",
          "Adult",
          "Adult",
          "Adult",
          "Adult",
          "Adult",
          "Adult",
          "Adult",
          "Adult",
          "Adult",
          "Adult",
          "Adult",
          "Adult",
          "Adult",
          "Adult",
          "Adult",
          "Adult",
          "Adult",
          "Adult",
          "Adult",
          "Adult",
          "Adult",
          "Adult",
          "Adult",
          "Adult",
          "Adult",
          "Adult",
          "Adult",
          "Adult",
          "Adult",
          "Adult",
          "Adult",
          "Adult",
          "Adult",
          "Adult",
          "Adult",
          "Adult",
          "Adult",
          "Adult",
          "Adult",
          "Adult",
          "Adult",
          "Adult",
          "Adult",
          "Adult",
          "Adult",
          "Adult",
          "Adult",
          "Adult",
          "Adult",
          "Adult",
          "Adult",
          "Adult",
          "Adult",
          "Adult",
          "Adult",
          "Electric",
          "Electric",
          "Electric",
          "Electric",
          "Electric",
          "Electric",
          "Electric",
          "Electric",
          "Electric",
          "Electric",
          "Electric",
          "Electric",
          "Electric",
          "Electric",
          "Electric",
          "Electric",
          "Electric",
          "Electric",
          "Electric",
          "Electric",
          "Electric",
          "Electric",
          "Electric",
          "Electric",
          "Electric",
          "Electric",
          "Electric",
          "Electric",
          "Electric",
          "Electric",
          "Electric",
          "Electric",
          "Electric",
          "Electric",
          "Electric",
          "Electric",
          "Electric",
          "Electric",
          "Electric",
          "Electric",
          "Electric",
          "Electric",
          "Electric",
          "Electric",
          "Electric",
          "Electric",
          "Electric",
          "Electric",
          "Electric",
          "Electric",
          "Electric",
          "Electric",
          "Electric",
          "Electric",
          "Electric",
          "Electric",
          "Electric",
          "Electric",
          "Electric",
          "Electric",
          "Electric",
          "Electric",
          "Electric",
          "Electric",
          "Electric",
          "Electric",
          "Electric",
          "Electric",
          "Electric",
          "Electric",
          "Electric",
          "Electric",
          "Electric",
          "Electric",
          "Electric",
          "Electric",
          "Electric",
          "Electric",
          "Electric",
          "Electric",
          "Electric",
          "Electric",
          "Electric",
          "Electric",
          "Electric",
          "Electric",
          "Electric",
          "Electric",
          "Electric",
          "Electric",
          "Electric",
          "Electric",
          "Electric",
          "Electric",
          "Electric",
          "Electric",
          "Electric",
          "Electric",
          "Electric",
          "Electric",
          "Electric",
          "Electric",
          "Electric",
          "Electric",
          "Electric",
          "Electric",
          "Electric",
          "Electric",
          "Electric",
          "Electric",
          "Electric",
          "Racing",
          "Racing",
          "Racing",
          "Racing",
          "Racing",
          "Racing",
          "Racing",
          "Racing",
          "Racing",
          "Racing",
          "Racing",
          "Racing",
          "Racing",
          "Racing",
          "Racing",
          "Racing",
          "Racing",
          "Racing",
          "Racing",
          "Racing",
          "Racing",
          "Racing",
          "Racing",
          "Racing",
          "Racing",
          "Racing",
          "Racing",
          "Racing",
          "Racing",
          "Racing",
          "Racing",
          "Racing",
          "Racing",
          "Racing",
          "Racing",
          "Racing",
          "Racing",
          "Racing",
          "Racing",
          "Racing",
          "Racing",
          "Racing",
          "Racing",
          "Racing",
          "Racing",
          "Racing",
          "Racing",
          "Racing",
          "Racing",
          "Racing",
          "Racing",
          "Racing",
          "Racing",
          "Racing",
          "Racing",
          "Racing",
          "Racing",
          "Racing",
          "Racing",
          "Racing",
          "Racing",
          "Racing",
          "Racing",
          "Racing",
          "Racing",
          "Racing",
          "Racing",
          "Racing",
          "Racing",
          "Racing",
          "Racing",
          "Racing",
          "Racing",
          "Racing",
          "Racing",
          "Racing",
          "Racing",
          "Racing",
          "Racing",
          "Racing",
          "Racing",
          "Racing",
          "Racing",
          "Racing",
          "Racing",
          "Racing",
          "Racing",
          "Racing",
          "Racing",
          "Racing",
          "Racing",
          "Racing",
          "Racing",
          "Mountain",
          "Mountain",
          "Mountain",
          "Mountain",
          "Mountain",
          "Mountain",
          "Mountain",
          "Mountain",
          "Mountain",
          "Mountain",
          "Mountain",
          "Mountain",
          "Mountain",
          "Mountain",
          "Mountain",
          "Mountain",
          "Mountain",
          "Mountain",
          "Mountain",
          "Mountain",
          "Mountain",
          "Mountain",
          "Mountain",
          "Mountain",
          "Mountain",
          "Mountain",
          "Mountain",
          "Mountain",
          "Mountain",
          "Mountain",
          "Mountain",
          "Mountain",
          "Mountain",
          "Mountain",
          "Mountain",
          "Mountain",
          "Mountain",
          "Mountain",
          "Mountain",
          "Mountain",
          "Mountain",
          "Mountain",
          "Mountain",
          "Mountain",
          "Mountain",
          "Mountain",
          "Mountain",
          "Mountain",
          "Mountain",
          "Mountain",
          "Mountain",
          "Mountain",
          "Mountain",
          "Mountain",
          "Mountain",
          "Mountain",
          "Mountain",
          "Mountain",
          "Mountain",
          "Mountain",
          "Mountain",
          "Mountain",
          "Mountain",
          "Mountain",
          "Mountain",
          "Mountain",
          "Mountain",
          "Mountain",
          "Mountain",
          "Mountain",
          "Mountain",
          "Mountain",
          "Mountain",
          "Mountain",
          "Mountain",
          "Mountain",
          "Mountain",
          "Mountain",
          "Mountain",
          "Mountain",
          "Mountain",
          "Mountain",
          "Mountain",
          "Mountain",
          "Mountain",
          "Mountain",
          "Mountain",
          "Mountain",
          "Mountain",
          "Mountain",
          "Mountain",
          "Mountain",
          "Mountain",
          "Mountain",
          "Mountain",
          "Mountain",
          "Mountain",
          "Mountain",
          "Mountain",
          "Mountain",
          "Mountain",
          "Mountain",
          "Mountain",
          "Mountain",
          "Mountain",
          "Mountain",
          "Mountain",
          "Tricycle",
          "Tricycle",
          "Tricycle",
          "Tricycle",
          "Tricycle",
          "Tricycle",
          "Tricycle",
          "Tricycle",
          "Tricycle",
          "Tricycle",
          "Tricycle",
          "Tricycle",
          "Tricycle",
          "Tricycle",
          "Tricycle",
          "Tricycle",
          "Tricycle",
          "Tricycle",
          "Tricycle",
          "Tricycle",
          "Tricycle",
          "Tricycle",
          "Tricycle",
          "Tricycle",
          "Tricycle",
          "Tricycle",
          "Tricycle",
          "Tricycle",
          "Tricycle",
          "Tricycle",
          "Tricycle",
          "Tricycle",
          "Tricycle",
          "Tricycle",
          "Tricycle",
          "Tricycle",
          "Tricycle",
          "Tricycle",
          "Tricycle",
          "Tricycle",
          "Tricycle",
          "Tricycle",
          "Tricycle",
          "Tricycle",
          "Tricycle",
          "Tricycle",
          "Tricycle",
          "Tricycle",
          "Tricycle",
          "Tricycle",
          "Tricycle",
          "Tricycle",
          "Tricycle",
          "Tricycle",
          "Tricycle",
          "Tricycle",
          "Tricycle",
          "Tricycle",
          "Tricycle",
          "Tricycle",
          "Tricycle",
          "Tricycle",
          "Tricycle",
          "Tricycle",
          "Tricycle",
          "Tricycle",
          "Tricycle",
          "Tricycle",
          "Tricycle",
          "Tricycle",
          "Tricycle",
          "Tricycle",
          "Tricycle",
          "Tricycle",
          "Tricycle",
          "Tricycle",
          "Tricycle",
          "Tricycle",
          "Tricycle",
          "Tricycle",
          "Tricycle",
          "Tricycle",
          "Tricycle",
          "Tricycle",
          "Tricycle",
          "Tricycle",
          "Tricycle",
          "Tricycle",
          "Tricycle",
          "Tricycle",
          "Tricycle",
          "Tricycle",
          "Tricycle",
          "Tricycle",
          "Tricycle",
          "Tricycle",
          "Tricycle",
          "Tricycle",
          "Tricycle",
          "Tricycle",
          "Tricycle",
          "Tricycle",
          "Tricycle",
          "Tricycle",
          "Tricycle",
          "Tricycle"
         ],
         "x0": " ",
         "xaxis": "x",
         "y": {
          "bdata": "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",
          "dtype": "f8"
         },
         "y0": " ",
         "yaxis": "y"
        },
        {
         "alignmentgroup": "True",
         "hovertemplate": "Area=Area4<br>Category=%{x}<br>Incremental Profit=%{y}<extra></extra>",
         "legendgroup": "Area4",
         "marker": {
          "color": "#ab63fa"
         },
         "name": "Area4",
         "notched": false,
         "offsetgroup": "Area4",
         "orientation": "v",
         "showlegend": true,
         "type": "box",
         "x": [
          "Child",
          "Child",
          "Child",
          "Child",
          "Child",
          "Child",
          "Child",
          "Child",
          "Child",
          "Child",
          "Child",
          "Child",
          "Child",
          "Child",
          "Child",
          "Child",
          "Child",
          "Child",
          "Child",
          "Child",
          "Child",
          "Child",
          "Child",
          "Child",
          "Child",
          "Child",
          "Child",
          "Child",
          "Child",
          "Child",
          "Child",
          "Child",
          "Child",
          "Child",
          "Child",
          "Child",
          "Child",
          "Child",
          "Child",
          "Child",
          "Child",
          "Child",
          "Child",
          "Child",
          "Child",
          "Child",
          "Child",
          "Child",
          "Child",
          "Child",
          "Child",
          "Child",
          "Child",
          "Child",
          "Child",
          "Child",
          "Child",
          "Child",
          "Child",
          "Child",
          "Child",
          "Child",
          "Child",
          "Child",
          "Child",
          "Child",
          "Child",
          "Child",
          "Child",
          "Child",
          "Child",
          "Child",
          "Child",
          "Child",
          "Child",
          "Child",
          "Child",
          "Child",
          "Child",
          "Child",
          "Child",
          "Child",
          "Child",
          "Child",
          "Child",
          "Child",
          "Child",
          "Child",
          "Child",
          "Child",
          "Child",
          "Child",
          "Child",
          "Child",
          "Child",
          "Child",
          "Child",
          "Child",
          "Child",
          "Child",
          "Child",
          "Child",
          "Child",
          "Child",
          "Child",
          "Adult",
          "Adult",
          "Adult",
          "Adult",
          "Adult",
          "Adult",
          "Adult",
          "Adult",
          "Adult",
          "Adult",
          "Adult",
          "Adult",
          "Adult",
          "Adult",
          "Adult",
          "Adult",
          "Adult",
          "Adult",
          "Adult",
          "Adult",
          "Adult",
          "Adult",
          "Adult",
          "Adult",
          "Adult",
          "Adult",
          "Adult",
          "Adult",
          "Adult",
          "Adult",
          "Adult",
          "Adult",
          "Adult",
          "Adult",
          "Adult",
          "Adult",
          "Adult",
          "Adult",
          "Adult",
          "Adult",
          "Adult",
          "Adult",
          "Adult",
          "Adult",
          "Adult",
          "Adult",
          "Adult",
          "Adult",
          "Adult",
          "Adult",
          "Adult",
          "Adult",
          "Adult",
          "Adult",
          "Adult",
          "Adult",
          "Adult",
          "Adult",
          "Adult",
          "Adult",
          "Adult",
          "Adult",
          "Adult",
          "Adult",
          "Adult",
          "Adult",
          "Adult",
          "Adult",
          "Adult",
          "Adult",
          "Adult",
          "Adult",
          "Adult",
          "Adult",
          "Adult",
          "Adult",
          "Adult",
          "Adult",
          "Adult",
          "Adult",
          "Adult",
          "Adult",
          "Adult",
          "Adult",
          "Adult",
          "Adult",
          "Adult",
          "Adult",
          "Adult",
          "Adult",
          "Adult",
          "Adult",
          "Adult",
          "Adult",
          "Adult",
          "Adult",
          "Adult",
          "Electric",
          "Electric",
          "Electric",
          "Electric",
          "Electric",
          "Electric",
          "Electric",
          "Electric",
          "Electric",
          "Electric",
          "Electric",
          "Electric",
          "Electric",
          "Electric",
          "Electric",
          "Electric",
          "Electric",
          "Electric",
          "Electric",
          "Electric",
          "Electric",
          "Electric",
          "Electric",
          "Electric",
          "Electric",
          "Electric",
          "Electric",
          "Electric",
          "Electric",
          "Electric",
          "Electric",
          "Electric",
          "Electric",
          "Electric",
          "Electric",
          "Electric",
          "Electric",
          "Electric",
          "Electric",
          "Electric",
          "Electric",
          "Electric",
          "Electric",
          "Electric",
          "Electric",
          "Electric",
          "Electric",
          "Electric",
          "Electric",
          "Electric",
          "Electric",
          "Electric",
          "Electric",
          "Electric",
          "Electric",
          "Electric",
          "Electric",
          "Electric",
          "Electric",
          "Electric",
          "Electric",
          "Electric",
          "Electric",
          "Electric",
          "Electric",
          "Electric",
          "Electric",
          "Electric",
          "Electric",
          "Electric",
          "Electric",
          "Electric",
          "Electric",
          "Electric",
          "Electric",
          "Electric",
          "Electric",
          "Electric",
          "Racing",
          "Racing",
          "Racing",
          "Racing",
          "Racing",
          "Racing",
          "Racing",
          "Racing",
          "Racing",
          "Racing",
          "Racing",
          "Racing",
          "Racing",
          "Racing",
          "Racing",
          "Racing",
          "Racing",
          "Racing",
          "Racing",
          "Racing",
          "Racing",
          "Racing",
          "Racing",
          "Racing",
          "Racing",
          "Racing",
          "Racing",
          "Racing",
          "Racing",
          "Racing",
          "Racing",
          "Racing",
          "Racing",
          "Racing",
          "Racing",
          "Racing",
          "Racing",
          "Racing",
          "Racing",
          "Racing",
          "Racing",
          "Racing",
          "Racing",
          "Racing",
          "Racing",
          "Racing",
          "Racing",
          "Racing",
          "Racing",
          "Racing",
          "Racing",
          "Racing",
          "Racing",
          "Racing",
          "Racing",
          "Racing",
          "Racing",
          "Racing",
          "Racing",
          "Racing",
          "Racing",
          "Racing",
          "Racing",
          "Racing",
          "Racing",
          "Racing",
          "Racing",
          "Racing",
          "Racing",
          "Racing",
          "Racing",
          "Racing",
          "Racing",
          "Racing",
          "Racing",
          "Racing",
          "Racing",
          "Racing",
          "Racing",
          "Racing",
          "Racing",
          "Racing",
          "Racing",
          "Racing",
          "Racing",
          "Racing",
          "Racing",
          "Racing",
          "Racing",
          "Racing",
          "Racing",
          "Racing",
          "Racing",
          "Racing",
          "Racing",
          "Racing",
          "Racing",
          "Racing",
          "Racing",
          "Racing",
          "Racing",
          "Racing",
          "Racing",
          "Racing",
          "Racing",
          "Mountain",
          "Mountain",
          "Mountain",
          "Mountain",
          "Mountain",
          "Mountain",
          "Mountain",
          "Mountain",
          "Mountain",
          "Mountain",
          "Mountain",
          "Mountain",
          "Mountain",
          "Mountain",
          "Mountain",
          "Mountain",
          "Mountain",
          "Mountain",
          "Mountain",
          "Mountain",
          "Mountain",
          "Mountain",
          "Mountain",
          "Mountain",
          "Mountain",
          "Mountain",
          "Mountain",
          "Mountain",
          "Mountain",
          "Mountain",
          "Mountain",
          "Mountain",
          "Mountain",
          "Mountain",
          "Mountain",
          "Mountain",
          "Mountain",
          "Mountain",
          "Mountain",
          "Mountain",
          "Mountain",
          "Mountain",
          "Mountain",
          "Mountain",
          "Mountain",
          "Mountain",
          "Mountain",
          "Mountain",
          "Mountain",
          "Mountain",
          "Mountain",
          "Mountain",
          "Mountain",
          "Mountain",
          "Mountain",
          "Mountain",
          "Mountain",
          "Mountain",
          "Mountain",
          "Mountain",
          "Mountain",
          "Mountain",
          "Mountain",
          "Mountain",
          "Mountain",
          "Mountain",
          "Mountain",
          "Mountain",
          "Mountain",
          "Mountain",
          "Mountain",
          "Mountain",
          "Mountain",
          "Mountain",
          "Mountain",
          "Mountain",
          "Mountain",
          "Mountain",
          "Mountain",
          "Mountain",
          "Mountain",
          "Mountain",
          "Mountain",
          "Mountain",
          "Mountain",
          "Mountain",
          "Mountain",
          "Mountain",
          "Mountain",
          "Mountain",
          "Mountain",
          "Mountain",
          "Mountain",
          "Mountain",
          "Mountain",
          "Mountain",
          "Mountain",
          "Mountain",
          "Mountain",
          "Mountain",
          "Mountain",
          "Mountain",
          "Mountain",
          "Mountain",
          "Mountain",
          "Mountain",
          "Mountain",
          "Mountain",
          "Tricycle",
          "Tricycle",
          "Tricycle",
          "Tricycle",
          "Tricycle",
          "Tricycle",
          "Tricycle",
          "Tricycle",
          "Tricycle",
          "Tricycle",
          "Tricycle",
          "Tricycle",
          "Tricycle",
          "Tricycle",
          "Tricycle",
          "Tricycle",
          "Tricycle",
          "Tricycle",
          "Tricycle",
          "Tricycle",
          "Tricycle",
          "Tricycle",
          "Tricycle",
          "Tricycle",
          "Tricycle",
          "Tricycle",
          "Tricycle",
          "Tricycle",
          "Tricycle",
          "Tricycle",
          "Tricycle",
          "Tricycle",
          "Tricycle",
          "Tricycle",
          "Tricycle",
          "Tricycle",
          "Tricycle",
          "Tricycle",
          "Tricycle",
          "Tricycle",
          "Tricycle",
          "Tricycle",
          "Tricycle",
          "Tricycle",
          "Tricycle",
          "Tricycle",
          "Tricycle",
          "Tricycle",
          "Tricycle",
          "Tricycle",
          "Tricycle",
          "Tricycle",
          "Tricycle",
          "Tricycle",
          "Tricycle",
          "Tricycle",
          "Tricycle",
          "Tricycle",
          "Tricycle",
          "Tricycle",
          "Tricycle",
          "Tricycle",
          "Tricycle",
          "Tricycle",
          "Tricycle",
          "Tricycle",
          "Tricycle",
          "Tricycle",
          "Tricycle",
          "Tricycle",
          "Tricycle",
          "Tricycle",
          "Tricycle",
          "Tricycle",
          "Tricycle",
          "Tricycle",
          "Tricycle",
          "Tricycle",
          "Tricycle",
          "Tricycle",
          "Tricycle",
          "Tricycle",
          "Tricycle",
          "Tricycle",
          "Tricycle",
          "Tricycle",
          "Tricycle",
          "Tricycle",
          "Tricycle",
          "Tricycle",
          "Tricycle",
          "Tricycle",
          "Tricycle",
          "Tricycle",
          "Tricycle",
          "Tricycle",
          "Tricycle",
          "Tricycle",
          "Tricycle",
          "Tricycle",
          "Tricycle",
          "Tricycle",
          "Tricycle",
          "Tricycle",
          "Tricycle",
          "Tricycle",
          "Tricycle",
          "Tricycle",
          "Tricycle"
         ],
         "x0": " ",
         "xaxis": "x",
         "y": {
          "bdata": "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",
          "dtype": "f8"
         },
         "y0": " ",
         "yaxis": "y"
        },
        {
         "alignmentgroup": "True",
         "hovertemplate": "Area=Area5<br>Category=%{x}<br>Incremental Profit=%{y}<extra></extra>",
         "legendgroup": "Area5",
         "marker": {
          "color": "#FFA15A"
         },
         "name": "Area5",
         "notched": false,
         "offsetgroup": "Area5",
         "orientation": "v",
         "showlegend": true,
         "type": "box",
         "x": [
          "Child",
          "Child",
          "Child",
          "Child",
          "Child",
          "Child",
          "Child",
          "Child",
          "Child",
          "Child",
          "Child",
          "Child",
          "Child",
          "Child",
          "Child",
          "Child",
          "Child",
          "Child",
          "Child",
          "Child",
          "Child",
          "Child",
          "Child",
          "Child",
          "Child",
          "Child",
          "Child",
          "Child",
          "Child",
          "Child",
          "Child",
          "Child",
          "Child",
          "Child",
          "Child",
          "Child",
          "Child",
          "Child",
          "Child",
          "Child",
          "Child",
          "Child",
          "Child",
          "Child",
          "Child",
          "Child",
          "Child",
          "Child",
          "Child",
          "Adult",
          "Adult",
          "Adult",
          "Adult",
          "Adult",
          "Adult",
          "Adult",
          "Adult",
          "Adult",
          "Adult",
          "Adult",
          "Adult",
          "Adult",
          "Adult",
          "Adult",
          "Adult",
          "Adult",
          "Adult",
          "Adult",
          "Adult",
          "Adult",
          "Adult",
          "Adult",
          "Adult",
          "Adult",
          "Adult",
          "Adult",
          "Adult",
          "Adult",
          "Adult",
          "Adult",
          "Adult",
          "Adult",
          "Adult",
          "Adult",
          "Adult",
          "Adult",
          "Adult",
          "Adult",
          "Adult",
          "Adult",
          "Electric",
          "Electric",
          "Electric",
          "Electric",
          "Electric",
          "Electric",
          "Electric",
          "Electric",
          "Electric",
          "Electric",
          "Electric",
          "Electric",
          "Electric",
          "Electric",
          "Electric",
          "Electric",
          "Electric",
          "Electric",
          "Electric",
          "Electric",
          "Electric",
          "Electric",
          "Electric",
          "Electric",
          "Electric",
          "Electric",
          "Electric",
          "Electric",
          "Electric",
          "Electric",
          "Electric",
          "Electric",
          "Electric",
          "Electric",
          "Electric",
          "Electric",
          "Electric",
          "Electric",
          "Electric",
          "Electric",
          "Electric",
          "Electric",
          "Electric",
          "Electric",
          "Racing",
          "Racing",
          "Racing",
          "Racing",
          "Racing",
          "Racing",
          "Racing",
          "Racing",
          "Racing",
          "Racing",
          "Racing",
          "Racing",
          "Racing",
          "Racing",
          "Racing",
          "Racing",
          "Racing",
          "Racing",
          "Racing",
          "Racing",
          "Racing",
          "Racing",
          "Racing",
          "Racing",
          "Racing",
          "Racing",
          "Racing",
          "Racing",
          "Racing",
          "Racing",
          "Racing",
          "Racing",
          "Racing",
          "Racing",
          "Racing",
          "Racing",
          "Racing",
          "Racing",
          "Racing",
          "Racing",
          "Racing",
          "Racing",
          "Racing",
          "Racing",
          "Racing",
          "Racing",
          "Mountain",
          "Mountain",
          "Mountain",
          "Mountain",
          "Mountain",
          "Mountain",
          "Mountain",
          "Mountain",
          "Mountain",
          "Mountain",
          "Mountain",
          "Mountain",
          "Mountain",
          "Mountain",
          "Mountain",
          "Mountain",
          "Mountain",
          "Mountain",
          "Mountain",
          "Mountain",
          "Mountain",
          "Mountain",
          "Mountain",
          "Mountain",
          "Mountain",
          "Mountain",
          "Mountain",
          "Mountain",
          "Mountain",
          "Mountain",
          "Mountain",
          "Mountain",
          "Mountain",
          "Mountain",
          "Mountain",
          "Mountain",
          "Mountain",
          "Mountain",
          "Mountain",
          "Mountain",
          "Mountain",
          "Mountain",
          "Tricycle",
          "Tricycle",
          "Tricycle",
          "Tricycle",
          "Tricycle",
          "Tricycle",
          "Tricycle",
          "Tricycle",
          "Tricycle",
          "Tricycle",
          "Tricycle",
          "Tricycle",
          "Tricycle",
          "Tricycle",
          "Tricycle",
          "Tricycle",
          "Tricycle",
          "Tricycle",
          "Tricycle",
          "Tricycle",
          "Tricycle",
          "Tricycle",
          "Tricycle",
          "Tricycle",
          "Tricycle",
          "Tricycle",
          "Tricycle",
          "Tricycle",
          "Tricycle",
          "Tricycle",
          "Tricycle",
          "Tricycle",
          "Tricycle",
          "Tricycle",
          "Tricycle",
          "Tricycle",
          "Tricycle",
          "Tricycle",
          "Tricycle",
          "Tricycle",
          "Tricycle",
          "Tricycle",
          "Tricycle",
          "Tricycle",
          "Tricycle",
          "Tricycle",
          "Tricycle",
          "Tricycle"
         ],
         "x0": " ",
         "xaxis": "x",
         "y": {
          "bdata": "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",
          "dtype": "f8"
         },
         "y0": " ",
         "yaxis": "y"
        },
        {
         "alignmentgroup": "True",
         "hovertemplate": "Area=Area6<br>Category=%{x}<br>Incremental Profit=%{y}<extra></extra>",
         "legendgroup": "Area6",
         "marker": {
          "color": "#19d3f3"
         },
         "name": "Area6",
         "notched": false,
         "offsetgroup": "Area6",
         "orientation": "v",
         "showlegend": true,
         "type": "box",
         "x": [
          "Child",
          "Child",
          "Child",
          "Child",
          "Child",
          "Child",
          "Child",
          "Child",
          "Child",
          "Child",
          "Child",
          "Child",
          "Child",
          "Child",
          "Child",
          "Child",
          "Child",
          "Child",
          "Child",
          "Child",
          "Child",
          "Child",
          "Child",
          "Child",
          "Child",
          "Child",
          "Child",
          "Child",
          "Child",
          "Child",
          "Child",
          "Child",
          "Child",
          "Child",
          "Child",
          "Child",
          "Child",
          "Child",
          "Child",
          "Child",
          "Child",
          "Child",
          "Child",
          "Child",
          "Child",
          "Child",
          "Child",
          "Child",
          "Child",
          "Child",
          "Child",
          "Child",
          "Child",
          "Child",
          "Child",
          "Child",
          "Child",
          "Child",
          "Child",
          "Child",
          "Child",
          "Child",
          "Child",
          "Child",
          "Child",
          "Child",
          "Child",
          "Child",
          "Child",
          "Child",
          "Child",
          "Child",
          "Child",
          "Child",
          "Child",
          "Child",
          "Child",
          "Child",
          "Child",
          "Child",
          "Adult",
          "Adult",
          "Adult",
          "Adult",
          "Adult",
          "Adult",
          "Adult",
          "Adult",
          "Adult",
          "Adult",
          "Adult",
          "Adult",
          "Adult",
          "Adult",
          "Adult",
          "Adult",
          "Adult",
          "Adult",
          "Adult",
          "Adult",
          "Adult",
          "Adult",
          "Adult",
          "Adult",
          "Adult",
          "Adult",
          "Adult",
          "Adult",
          "Adult",
          "Adult",
          "Adult",
          "Adult",
          "Adult",
          "Adult",
          "Adult",
          "Adult",
          "Adult",
          "Adult",
          "Adult",
          "Adult",
          "Adult",
          "Adult",
          "Adult",
          "Adult",
          "Adult",
          "Adult",
          "Adult",
          "Adult",
          "Adult",
          "Adult",
          "Adult",
          "Adult",
          "Adult",
          "Adult",
          "Adult",
          "Adult",
          "Adult",
          "Adult",
          "Adult",
          "Adult",
          "Adult",
          "Adult",
          "Adult",
          "Adult",
          "Adult",
          "Adult",
          "Adult",
          "Adult",
          "Adult",
          "Adult",
          "Adult",
          "Adult",
          "Adult",
          "Adult",
          "Adult",
          "Adult",
          "Adult",
          "Adult",
          "Adult",
          "Adult",
          "Adult",
          "Adult",
          "Adult",
          "Adult",
          "Electric",
          "Electric",
          "Electric",
          "Electric",
          "Electric",
          "Electric",
          "Electric",
          "Electric",
          "Electric",
          "Electric",
          "Electric",
          "Electric",
          "Electric",
          "Electric",
          "Electric",
          "Electric",
          "Electric",
          "Electric",
          "Electric",
          "Electric",
          "Electric",
          "Electric",
          "Electric",
          "Electric",
          "Electric",
          "Electric",
          "Electric",
          "Electric",
          "Electric",
          "Electric",
          "Electric",
          "Electric",
          "Electric",
          "Electric",
          "Electric",
          "Electric",
          "Electric",
          "Electric",
          "Electric",
          "Electric",
          "Electric",
          "Electric",
          "Electric",
          "Electric",
          "Electric",
          "Electric",
          "Electric",
          "Electric",
          "Electric",
          "Electric",
          "Electric",
          "Electric",
          "Electric",
          "Electric",
          "Electric",
          "Electric",
          "Electric",
          "Electric",
          "Electric",
          "Electric",
          "Electric",
          "Electric",
          "Electric",
          "Electric",
          "Electric",
          "Electric",
          "Electric",
          "Electric",
          "Electric",
          "Electric",
          "Electric",
          "Electric",
          "Electric",
          "Electric",
          "Electric",
          "Electric",
          "Electric",
          "Electric",
          "Electric",
          "Electric",
          "Electric",
          "Electric",
          "Electric",
          "Electric",
          "Electric",
          "Electric",
          "Electric",
          "Electric",
          "Electric",
          "Electric",
          "Electric",
          "Electric",
          "Electric",
          "Electric",
          "Electric",
          "Electric",
          "Electric",
          "Racing",
          "Racing",
          "Racing",
          "Racing",
          "Racing",
          "Racing",
          "Racing",
          "Racing",
          "Racing",
          "Racing",
          "Racing",
          "Racing",
          "Racing",
          "Racing",
          "Racing",
          "Racing",
          "Racing",
          "Racing",
          "Racing",
          "Racing",
          "Racing",
          "Racing",
          "Racing",
          "Racing",
          "Racing",
          "Racing",
          "Racing",
          "Racing",
          "Racing",
          "Racing",
          "Racing",
          "Racing",
          "Racing",
          "Racing",
          "Racing",
          "Racing",
          "Racing",
          "Racing",
          "Racing",
          "Racing",
          "Racing",
          "Racing",
          "Racing",
          "Racing",
          "Racing",
          "Racing",
          "Racing",
          "Racing",
          "Racing",
          "Racing",
          "Racing",
          "Racing",
          "Racing",
          "Racing",
          "Racing",
          "Racing",
          "Racing",
          "Racing",
          "Racing",
          "Racing",
          "Racing",
          "Racing",
          "Racing",
          "Racing",
          "Racing",
          "Racing",
          "Racing",
          "Racing",
          "Racing",
          "Racing",
          "Racing",
          "Racing",
          "Racing",
          "Racing",
          "Mountain",
          "Mountain",
          "Mountain",
          "Mountain",
          "Mountain",
          "Mountain",
          "Mountain",
          "Mountain",
          "Mountain",
          "Mountain",
          "Mountain",
          "Mountain",
          "Mountain",
          "Mountain",
          "Mountain",
          "Mountain",
          "Mountain",
          "Mountain",
          "Mountain",
          "Mountain",
          "Mountain",
          "Mountain",
          "Mountain",
          "Mountain",
          "Mountain",
          "Mountain",
          "Mountain",
          "Mountain",
          "Mountain",
          "Mountain",
          "Mountain",
          "Mountain",
          "Mountain",
          "Mountain",
          "Mountain",
          "Mountain",
          "Mountain",
          "Mountain",
          "Mountain",
          "Mountain",
          "Mountain",
          "Mountain",
          "Mountain",
          "Mountain",
          "Mountain",
          "Mountain",
          "Mountain",
          "Mountain",
          "Mountain",
          "Mountain",
          "Mountain",
          "Mountain",
          "Mountain",
          "Mountain",
          "Mountain",
          "Mountain",
          "Mountain",
          "Mountain",
          "Mountain",
          "Mountain",
          "Mountain",
          "Mountain",
          "Mountain",
          "Mountain",
          "Mountain",
          "Mountain",
          "Mountain",
          "Mountain",
          "Mountain",
          "Mountain",
          "Mountain",
          "Mountain",
          "Mountain",
          "Mountain",
          "Mountain",
          "Mountain",
          "Mountain",
          "Mountain",
          "Mountain",
          "Mountain",
          "Mountain",
          "Tricycle",
          "Tricycle",
          "Tricycle",
          "Tricycle",
          "Tricycle",
          "Tricycle",
          "Tricycle",
          "Tricycle",
          "Tricycle",
          "Tricycle",
          "Tricycle",
          "Tricycle",
          "Tricycle",
          "Tricycle",
          "Tricycle",
          "Tricycle",
          "Tricycle",
          "Tricycle",
          "Tricycle",
          "Tricycle",
          "Tricycle",
          "Tricycle",
          "Tricycle",
          "Tricycle",
          "Tricycle",
          "Tricycle",
          "Tricycle",
          "Tricycle",
          "Tricycle",
          "Tricycle",
          "Tricycle",
          "Tricycle",
          "Tricycle",
          "Tricycle",
          "Tricycle",
          "Tricycle",
          "Tricycle",
          "Tricycle",
          "Tricycle",
          "Tricycle",
          "Tricycle",
          "Tricycle",
          "Tricycle",
          "Tricycle",
          "Tricycle",
          "Tricycle",
          "Tricycle",
          "Tricycle",
          "Tricycle",
          "Tricycle",
          "Tricycle",
          "Tricycle",
          "Tricycle",
          "Tricycle",
          "Tricycle",
          "Tricycle",
          "Tricycle",
          "Tricycle",
          "Tricycle",
          "Tricycle",
          "Tricycle",
          "Tricycle",
          "Tricycle",
          "Tricycle",
          "Tricycle",
          "Tricycle",
          "Tricycle",
          "Tricycle",
          "Tricycle",
          "Tricycle",
          "Tricycle"
         ],
         "x0": " ",
         "xaxis": "x",
         "y": {
          "bdata": "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",
          "dtype": "f8"
         },
         "y0": " ",
         "yaxis": "y"
        },
        {
         "alignmentgroup": "True",
         "hovertemplate": "Area=Area7<br>Category=%{x}<br>Incremental Profit=%{y}<extra></extra>",
         "legendgroup": "Area7",
         "marker": {
          "color": "#FF6692"
         },
         "name": "Area7",
         "notched": false,
         "offsetgroup": "Area7",
         "orientation": "v",
         "showlegend": true,
         "type": "box",
         "x": [
          "Child",
          "Child",
          "Child",
          "Child",
          "Child",
          "Child",
          "Child",
          "Child",
          "Child",
          "Child",
          "Child",
          "Child",
          "Child",
          "Child",
          "Child",
          "Child",
          "Child",
          "Child",
          "Child",
          "Child",
          "Child",
          "Child",
          "Child",
          "Child",
          "Child",
          "Child",
          "Child",
          "Child",
          "Child",
          "Child",
          "Child",
          "Child",
          "Child",
          "Child",
          "Child",
          "Child",
          "Child",
          "Child",
          "Child",
          "Child",
          "Child",
          "Child",
          "Child",
          "Child",
          "Child",
          "Child",
          "Child",
          "Child",
          "Child",
          "Child",
          "Adult",
          "Adult",
          "Adult",
          "Adult",
          "Adult",
          "Adult",
          "Adult",
          "Adult",
          "Adult",
          "Adult",
          "Adult",
          "Adult",
          "Adult",
          "Adult",
          "Adult",
          "Adult",
          "Adult",
          "Adult",
          "Adult",
          "Adult",
          "Adult",
          "Adult",
          "Adult",
          "Adult",
          "Adult",
          "Adult",
          "Adult",
          "Adult",
          "Adult",
          "Adult",
          "Adult",
          "Adult",
          "Adult",
          "Adult",
          "Adult",
          "Adult",
          "Adult",
          "Adult",
          "Adult",
          "Adult",
          "Adult",
          "Adult",
          "Adult",
          "Adult",
          "Adult",
          "Adult",
          "Adult",
          "Adult",
          "Adult",
          "Adult",
          "Adult",
          "Adult",
          "Adult",
          "Adult",
          "Adult",
          "Adult",
          "Electric",
          "Electric",
          "Electric",
          "Electric",
          "Electric",
          "Electric",
          "Electric",
          "Electric",
          "Electric",
          "Electric",
          "Electric",
          "Electric",
          "Electric",
          "Electric",
          "Electric",
          "Electric",
          "Electric",
          "Electric",
          "Electric",
          "Electric",
          "Electric",
          "Electric",
          "Electric",
          "Electric",
          "Electric",
          "Electric",
          "Electric",
          "Electric",
          "Electric",
          "Electric",
          "Electric",
          "Electric",
          "Electric",
          "Electric",
          "Electric",
          "Electric",
          "Electric",
          "Electric",
          "Electric",
          "Electric",
          "Electric",
          "Electric",
          "Electric",
          "Electric",
          "Electric",
          "Electric",
          "Electric",
          "Electric",
          "Electric",
          "Electric",
          "Electric",
          "Electric",
          "Electric",
          "Electric",
          "Electric",
          "Electric",
          "Electric",
          "Electric",
          "Electric",
          "Racing",
          "Racing",
          "Racing",
          "Racing",
          "Racing",
          "Racing",
          "Racing",
          "Racing",
          "Racing",
          "Racing",
          "Racing",
          "Racing",
          "Racing",
          "Racing",
          "Racing",
          "Racing",
          "Racing",
          "Racing",
          "Racing",
          "Racing",
          "Racing",
          "Racing",
          "Racing",
          "Racing",
          "Racing",
          "Racing",
          "Racing",
          "Racing",
          "Racing",
          "Racing",
          "Racing",
          "Racing",
          "Racing",
          "Racing",
          "Racing",
          "Racing",
          "Racing",
          "Racing",
          "Racing",
          "Racing",
          "Racing",
          "Racing",
          "Racing",
          "Racing",
          "Racing",
          "Racing",
          "Racing",
          "Racing",
          "Racing",
          "Racing",
          "Racing",
          "Racing",
          "Racing",
          "Racing",
          "Racing",
          "Racing",
          "Racing",
          "Mountain",
          "Mountain",
          "Mountain",
          "Mountain",
          "Mountain",
          "Mountain",
          "Mountain",
          "Mountain",
          "Mountain",
          "Mountain",
          "Mountain",
          "Mountain",
          "Mountain",
          "Mountain",
          "Mountain",
          "Mountain",
          "Mountain",
          "Mountain",
          "Mountain",
          "Mountain",
          "Mountain",
          "Mountain",
          "Mountain",
          "Mountain",
          "Mountain",
          "Mountain",
          "Mountain",
          "Mountain",
          "Mountain",
          "Mountain",
          "Mountain",
          "Mountain",
          "Mountain",
          "Mountain",
          "Mountain",
          "Mountain",
          "Mountain",
          "Mountain",
          "Mountain",
          "Mountain",
          "Mountain",
          "Mountain",
          "Mountain",
          "Mountain",
          "Mountain",
          "Mountain",
          "Mountain",
          "Mountain",
          "Mountain",
          "Mountain",
          "Mountain",
          "Mountain",
          "Mountain",
          "Mountain",
          "Mountain",
          "Mountain",
          "Mountain",
          "Mountain",
          "Mountain",
          "Tricycle",
          "Tricycle",
          "Tricycle",
          "Tricycle",
          "Tricycle",
          "Tricycle",
          "Tricycle",
          "Tricycle",
          "Tricycle",
          "Tricycle",
          "Tricycle",
          "Tricycle",
          "Tricycle",
          "Tricycle",
          "Tricycle",
          "Tricycle",
          "Tricycle",
          "Tricycle",
          "Tricycle",
          "Tricycle",
          "Tricycle",
          "Tricycle",
          "Tricycle",
          "Tricycle",
          "Tricycle",
          "Tricycle",
          "Tricycle",
          "Tricycle",
          "Tricycle",
          "Tricycle",
          "Tricycle",
          "Tricycle",
          "Tricycle",
          "Tricycle",
          "Tricycle",
          "Tricycle",
          "Tricycle",
          "Tricycle",
          "Tricycle",
          "Tricycle",
          "Tricycle",
          "Tricycle",
          "Tricycle",
          "Tricycle",
          "Tricycle",
          "Tricycle",
          "Tricycle",
          "Tricycle",
          "Tricycle",
          "Tricycle",
          "Tricycle",
          "Tricycle"
         ],
         "x0": " ",
         "xaxis": "x",
         "y": {
          "bdata": "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",
          "dtype": "f8"
         },
         "y0": " ",
         "yaxis": "y"
        }
       ],
       "layout": {
        "boxmode": "group",
        "legend": {
         "title": {
          "text": "Area"
         },
         "tracegroupgap": 0
        },
        "template": {
         "data": {
          "bar": [
           {
            "error_x": {
             "color": "#2a3f5f"
            },
            "error_y": {
             "color": "#2a3f5f"
            },
            "marker": {
             "line": {
              "color": "#E5ECF6",
              "width": 0.5
             },
             "pattern": {
              "fillmode": "overlay",
              "size": 10,
              "solidity": 0.2
             }
            },
            "type": "bar"
           }
          ],
          "barpolar": [
           {
            "marker": {
             "line": {
              "color": "#E5ECF6",
              "width": 0.5
             },
             "pattern": {
              "fillmode": "overlay",
              "size": 10,
              "solidity": 0.2
             }
            },
            "type": "barpolar"
           }
          ],
          "carpet": [
           {
            "aaxis": {
             "endlinecolor": "#2a3f5f",
             "gridcolor": "white",
             "linecolor": "white",
             "minorgridcolor": "white",
             "startlinecolor": "#2a3f5f"
            },
            "baxis": {
             "endlinecolor": "#2a3f5f",
             "gridcolor": "white",
             "linecolor": "white",
             "minorgridcolor": "white",
             "startlinecolor": "#2a3f5f"
            },
            "type": "carpet"
           }
          ],
          "choropleth": [
           {
            "colorbar": {
             "outlinewidth": 0,
             "ticks": ""
            },
            "type": "choropleth"
           }
          ],
          "contour": [
           {
            "colorbar": {
             "outlinewidth": 0,
             "ticks": ""
            },
            "colorscale": [
             [
              0,
              "#0d0887"
             ],
             [
              0.1111111111111111,
              "#46039f"
             ],
             [
              0.2222222222222222,
              "#7201a8"
             ],
             [
              0.3333333333333333,
              "#9c179e"
             ],
             [
              0.4444444444444444,
              "#bd3786"
             ],
             [
              0.5555555555555556,
              "#d8576b"
             ],
             [
              0.6666666666666666,
              "#ed7953"
             ],
             [
              0.7777777777777778,
              "#fb9f3a"
             ],
             [
              0.8888888888888888,
              "#fdca26"
             ],
             [
              1,
              "#f0f921"
             ]
            ],
            "type": "contour"
           }
          ],
          "contourcarpet": [
           {
            "colorbar": {
             "outlinewidth": 0,
             "ticks": ""
            },
            "type": "contourcarpet"
           }
          ],
          "heatmap": [
           {
            "colorbar": {
             "outlinewidth": 0,
             "ticks": ""
            },
            "colorscale": [
             [
              0,
              "#0d0887"
             ],
             [
              0.1111111111111111,
              "#46039f"
             ],
             [
              0.2222222222222222,
              "#7201a8"
             ],
             [
              0.3333333333333333,
              "#9c179e"
             ],
             [
              0.4444444444444444,
              "#bd3786"
             ],
             [
              0.5555555555555556,
              "#d8576b"
             ],
             [
              0.6666666666666666,
              "#ed7953"
             ],
             [
              0.7777777777777778,
              "#fb9f3a"
             ],
             [
              0.8888888888888888,
              "#fdca26"
             ],
             [
              1,
              "#f0f921"
             ]
            ],
            "type": "heatmap"
           }
          ],
          "histogram": [
           {
            "marker": {
             "pattern": {
              "fillmode": "overlay",
              "size": 10,
              "solidity": 0.2
             }
            },
            "type": "histogram"
           }
          ],
          "histogram2d": [
           {
            "colorbar": {
             "outlinewidth": 0,
             "ticks": ""
            },
            "colorscale": [
             [
              0,
              "#0d0887"
             ],
             [
              0.1111111111111111,
              "#46039f"
             ],
             [
              0.2222222222222222,
              "#7201a8"
             ],
             [
              0.3333333333333333,
              "#9c179e"
             ],
             [
              0.4444444444444444,
              "#bd3786"
             ],
             [
              0.5555555555555556,
              "#d8576b"
             ],
             [
              0.6666666666666666,
              "#ed7953"
             ],
             [
              0.7777777777777778,
              "#fb9f3a"
             ],
             [
              0.8888888888888888,
              "#fdca26"
             ],
             [
              1,
              "#f0f921"
             ]
            ],
            "type": "histogram2d"
           }
          ],
          "histogram2dcontour": [
           {
            "colorbar": {
             "outlinewidth": 0,
             "ticks": ""
            },
            "colorscale": [
             [
              0,
              "#0d0887"
             ],
             [
              0.1111111111111111,
              "#46039f"
             ],
             [
              0.2222222222222222,
              "#7201a8"
             ],
             [
              0.3333333333333333,
              "#9c179e"
             ],
             [
              0.4444444444444444,
              "#bd3786"
             ],
             [
              0.5555555555555556,
              "#d8576b"
             ],
             [
              0.6666666666666666,
              "#ed7953"
             ],
             [
              0.7777777777777778,
              "#fb9f3a"
             ],
             [
              0.8888888888888888,
              "#fdca26"
             ],
             [
              1,
              "#f0f921"
             ]
            ],
            "type": "histogram2dcontour"
           }
          ],
          "mesh3d": [
           {
            "colorbar": {
             "outlinewidth": 0,
             "ticks": ""
            },
            "type": "mesh3d"
           }
          ],
          "parcoords": [
           {
            "line": {
             "colorbar": {
              "outlinewidth": 0,
              "ticks": ""
             }
            },
            "type": "parcoords"
           }
          ],
          "pie": [
           {
            "automargin": true,
            "type": "pie"
           }
          ],
          "scatter": [
           {
            "fillpattern": {
             "fillmode": "overlay",
             "size": 10,
             "solidity": 0.2
            },
            "type": "scatter"
           }
          ],
          "scatter3d": [
           {
            "line": {
             "colorbar": {
              "outlinewidth": 0,
              "ticks": ""
             }
            },
            "marker": {
             "colorbar": {
              "outlinewidth": 0,
              "ticks": ""
             }
            },
            "type": "scatter3d"
           }
          ],
          "scattercarpet": [
           {
            "marker": {
             "colorbar": {
              "outlinewidth": 0,
              "ticks": ""
             }
            },
            "type": "scattercarpet"
           }
          ],
          "scattergeo": [
           {
            "marker": {
             "colorbar": {
              "outlinewidth": 0,
              "ticks": ""
             }
            },
            "type": "scattergeo"
           }
          ],
          "scattergl": [
           {
            "marker": {
             "colorbar": {
              "outlinewidth": 0,
              "ticks": ""
             }
            },
            "type": "scattergl"
           }
          ],
          "scattermap": [
           {
            "marker": {
             "colorbar": {
              "outlinewidth": 0,
              "ticks": ""
             }
            },
            "type": "scattermap"
           }
          ],
          "scattermapbox": [
           {
            "marker": {
             "colorbar": {
              "outlinewidth": 0,
              "ticks": ""
             }
            },
            "type": "scattermapbox"
           }
          ],
          "scatterpolar": [
           {
            "marker": {
             "colorbar": {
              "outlinewidth": 0,
              "ticks": ""
             }
            },
            "type": "scatterpolar"
           }
          ],
          "scatterpolargl": [
           {
            "marker": {
             "colorbar": {
              "outlinewidth": 0,
              "ticks": ""
             }
            },
            "type": "scatterpolargl"
           }
          ],
          "scatterternary": [
           {
            "marker": {
             "colorbar": {
              "outlinewidth": 0,
              "ticks": ""
             }
            },
            "type": "scatterternary"
           }
          ],
          "surface": [
           {
            "colorbar": {
             "outlinewidth": 0,
             "ticks": ""
            },
            "colorscale": [
             [
              0,
              "#0d0887"
             ],
             [
              0.1111111111111111,
              "#46039f"
             ],
             [
              0.2222222222222222,
              "#7201a8"
             ],
             [
              0.3333333333333333,
              "#9c179e"
             ],
             [
              0.4444444444444444,
              "#bd3786"
             ],
             [
              0.5555555555555556,
              "#d8576b"
             ],
             [
              0.6666666666666666,
              "#ed7953"
             ],
             [
              0.7777777777777778,
              "#fb9f3a"
             ],
             [
              0.8888888888888888,
              "#fdca26"
             ],
             [
              1,
              "#f0f921"
             ]
            ],
            "type": "surface"
           }
          ],
          "table": [
           {
            "cells": {
             "fill": {
              "color": "#EBF0F8"
             },
             "line": {
              "color": "white"
             }
            },
            "header": {
             "fill": {
              "color": "#C8D4E3"
             },
             "line": {
              "color": "white"
             }
            },
            "type": "table"
           }
          ]
         },
         "layout": {
          "annotationdefaults": {
           "arrowcolor": "#2a3f5f",
           "arrowhead": 0,
           "arrowwidth": 1
          },
          "autotypenumbers": "strict",
          "coloraxis": {
           "colorbar": {
            "outlinewidth": 0,
            "ticks": ""
           }
          },
          "colorscale": {
           "diverging": [
            [
             0,
             "#8e0152"
            ],
            [
             0.1,
             "#c51b7d"
            ],
            [
             0.2,
             "#de77ae"
            ],
            [
             0.3,
             "#f1b6da"
            ],
            [
             0.4,
             "#fde0ef"
            ],
            [
             0.5,
             "#f7f7f7"
            ],
            [
             0.6,
             "#e6f5d0"
            ],
            [
             0.7,
             "#b8e186"
            ],
            [
             0.8,
             "#7fbc41"
            ],
            [
             0.9,
             "#4d9221"
            ],
            [
             1,
             "#276419"
            ]
           ],
           "sequential": [
            [
             0,
             "#0d0887"
            ],
            [
             0.1111111111111111,
             "#46039f"
            ],
            [
             0.2222222222222222,
             "#7201a8"
            ],
            [
             0.3333333333333333,
             "#9c179e"
            ],
            [
             0.4444444444444444,
             "#bd3786"
            ],
            [
             0.5555555555555556,
             "#d8576b"
            ],
            [
             0.6666666666666666,
             "#ed7953"
            ],
            [
             0.7777777777777778,
             "#fb9f3a"
            ],
            [
             0.8888888888888888,
             "#fdca26"
            ],
            [
             1,
             "#f0f921"
            ]
           ],
           "sequentialminus": [
            [
             0,
             "#0d0887"
            ],
            [
             0.1111111111111111,
             "#46039f"
            ],
            [
             0.2222222222222222,
             "#7201a8"
            ],
            [
             0.3333333333333333,
             "#9c179e"
            ],
            [
             0.4444444444444444,
             "#bd3786"
            ],
            [
             0.5555555555555556,
             "#d8576b"
            ],
            [
             0.6666666666666666,
             "#ed7953"
            ],
            [
             0.7777777777777778,
             "#fb9f3a"
            ],
            [
             0.8888888888888888,
             "#fdca26"
            ],
            [
             1,
             "#f0f921"
            ]
           ]
          },
          "colorway": [
           "#636efa",
           "#EF553B",
           "#00cc96",
           "#ab63fa",
           "#FFA15A",
           "#19d3f3",
           "#FF6692",
           "#B6E880",
           "#FF97FF",
           "#FECB52"
          ],
          "font": {
           "color": "#2a3f5f"
          },
          "geo": {
           "bgcolor": "white",
           "lakecolor": "white",
           "landcolor": "#E5ECF6",
           "showlakes": true,
           "showland": true,
           "subunitcolor": "white"
          },
          "hoverlabel": {
           "align": "left"
          },
          "hovermode": "closest",
          "mapbox": {
           "style": "light"
          },
          "paper_bgcolor": "white",
          "plot_bgcolor": "#E5ECF6",
          "polar": {
           "angularaxis": {
            "gridcolor": "white",
            "linecolor": "white",
            "ticks": ""
           },
           "bgcolor": "#E5ECF6",
           "radialaxis": {
            "gridcolor": "white",
            "linecolor": "white",
            "ticks": ""
           }
          },
          "scene": {
           "xaxis": {
            "backgroundcolor": "#E5ECF6",
            "gridcolor": "white",
            "gridwidth": 2,
            "linecolor": "white",
            "showbackground": true,
            "ticks": "",
            "zerolinecolor": "white"
           },
           "yaxis": {
            "backgroundcolor": "#E5ECF6",
            "gridcolor": "white",
            "gridwidth": 2,
            "linecolor": "white",
            "showbackground": true,
            "ticks": "",
            "zerolinecolor": "white"
           },
           "zaxis": {
            "backgroundcolor": "#E5ECF6",
            "gridcolor": "white",
            "gridwidth": 2,
            "linecolor": "white",
            "showbackground": true,
            "ticks": "",
            "zerolinecolor": "white"
           }
          },
          "shapedefaults": {
           "line": {
            "color": "#2a3f5f"
           }
          },
          "ternary": {
           "aaxis": {
            "gridcolor": "white",
            "linecolor": "white",
            "ticks": ""
           },
           "baxis": {
            "gridcolor": "white",
            "linecolor": "white",
            "ticks": ""
           },
           "bgcolor": "#E5ECF6",
           "caxis": {
            "gridcolor": "white",
            "linecolor": "white",
            "ticks": ""
           }
          },
          "title": {
           "x": 0.05
          },
          "xaxis": {
           "automargin": true,
           "gridcolor": "white",
           "linecolor": "white",
           "ticks": "",
           "title": {
            "standoff": 15
           },
           "zerolinecolor": "white",
           "zerolinewidth": 2
          },
          "yaxis": {
           "automargin": true,
           "gridcolor": "white",
           "linecolor": "white",
           "ticks": "",
           "title": {
            "standoff": 15
           },
           "zerolinecolor": "white",
           "zerolinewidth": 2
          }
         }
        },
        "title": {
         "text": "Boxplot of Incremental Profit Values by Category and Area"
        },
        "xaxis": {
         "anchor": "y",
         "domain": [
          0,
          1
         ],
         "title": {
          "text": "Category"
         }
        },
        "yaxis": {
         "anchor": "x",
         "domain": [
          0,
          1
         ],
         "title": {
          "text": "Incremental Profit"
         }
        }
       }
      }
     },
     "metadata": {},
     "output_type": "display_data"
    },
    {
     "data": {
      "application/vnd.plotly.v1+json": {
       "config": {
        "plotlyServerURL": "https://plot.ly"
       },
       "data": [
        {
         "alignmentgroup": "True",
         "hovertemplate": "Area=Area1<br>Category=%{x}<br>Incremental Profit=%{y}<extra></extra>",
         "legendgroup": "",
         "marker": {
          "color": "#636efa"
         },
         "name": "",
         "notched": false,
         "offsetgroup": "",
         "orientation": "v",
         "showlegend": false,
         "type": "box",
         "x": [
          "Child",
          "Child",
          "Child",
          "Child",
          "Child",
          "Child",
          "Child",
          "Child",
          "Child",
          "Child",
          "Child",
          "Child",
          "Child",
          "Child",
          "Child",
          "Child",
          "Child",
          "Child",
          "Child",
          "Child",
          "Child",
          "Child",
          "Child",
          "Child",
          "Child",
          "Child",
          "Child",
          "Child",
          "Child",
          "Child",
          "Child",
          "Child",
          "Child",
          "Child",
          "Child",
          "Child",
          "Child",
          "Child",
          "Child",
          "Child",
          "Child",
          "Child",
          "Child",
          "Child",
          "Child",
          "Child",
          "Child",
          "Child",
          "Child",
          "Child",
          "Child",
          "Child",
          "Child",
          "Child",
          "Child",
          "Child",
          "Child",
          "Child",
          "Child",
          "Child",
          "Child",
          "Child",
          "Child",
          "Child",
          "Child",
          "Child",
          "Child",
          "Child",
          "Child",
          "Child",
          "Child",
          "Child",
          "Child",
          "Child",
          "Child",
          "Child",
          "Child",
          "Child",
          "Child",
          "Child",
          "Child",
          "Child",
          "Child",
          "Child",
          "Child",
          "Child",
          "Child",
          "Child",
          "Child",
          "Child",
          "Child",
          "Child",
          "Child",
          "Child",
          "Child",
          "Child",
          "Child",
          "Child",
          "Child",
          "Child",
          "Child",
          "Child",
          "Child",
          "Child",
          "Child",
          "Child",
          "Child",
          "Child",
          "Child",
          "Child",
          "Child",
          "Child",
          "Child",
          "Child",
          "Adult",
          "Adult",
          "Adult",
          "Adult",
          "Adult",
          "Adult",
          "Adult",
          "Adult",
          "Adult",
          "Adult",
          "Adult",
          "Adult",
          "Adult",
          "Adult",
          "Adult",
          "Adult",
          "Adult",
          "Adult",
          "Adult",
          "Adult",
          "Adult",
          "Adult",
          "Adult",
          "Adult",
          "Adult",
          "Adult",
          "Adult",
          "Adult",
          "Adult",
          "Adult",
          "Adult",
          "Adult",
          "Adult",
          "Adult",
          "Adult",
          "Adult",
          "Adult",
          "Adult",
          "Adult",
          "Adult",
          "Adult",
          "Adult",
          "Adult",
          "Adult",
          "Adult",
          "Adult",
          "Adult",
          "Adult",
          "Adult",
          "Adult",
          "Adult",
          "Adult",
          "Adult",
          "Adult",
          "Adult",
          "Adult",
          "Adult",
          "Adult",
          "Adult",
          "Adult",
          "Adult",
          "Adult",
          "Adult",
          "Adult",
          "Adult",
          "Adult",
          "Adult",
          "Adult",
          "Adult",
          "Adult",
          "Adult",
          "Adult",
          "Adult",
          "Adult",
          "Adult",
          "Adult",
          "Adult",
          "Adult",
          "Adult",
          "Adult",
          "Adult",
          "Adult",
          "Adult",
          "Adult",
          "Adult",
          "Adult",
          "Adult",
          "Adult",
          "Adult",
          "Adult",
          "Adult",
          "Adult",
          "Adult",
          "Adult",
          "Adult",
          "Adult",
          "Adult",
          "Adult",
          "Adult",
          "Adult",
          "Adult",
          "Adult",
          "Adult",
          "Adult",
          "Adult",
          "Adult",
          "Adult",
          "Adult",
          "Adult",
          "Adult",
          "Adult",
          "Adult",
          "Adult",
          "Adult",
          "Adult",
          "Electric",
          "Electric",
          "Electric",
          "Electric",
          "Electric",
          "Electric",
          "Electric",
          "Electric",
          "Electric",
          "Electric",
          "Electric",
          "Electric",
          "Electric",
          "Electric",
          "Electric",
          "Electric",
          "Electric",
          "Electric",
          "Electric",
          "Electric",
          "Electric",
          "Electric",
          "Electric",
          "Electric",
          "Electric",
          "Electric",
          "Electric",
          "Electric",
          "Electric",
          "Electric",
          "Electric",
          "Electric",
          "Electric",
          "Electric",
          "Electric",
          "Electric",
          "Electric",
          "Electric",
          "Electric",
          "Electric",
          "Electric",
          "Electric",
          "Electric",
          "Electric",
          "Electric",
          "Electric",
          "Electric",
          "Electric",
          "Electric",
          "Electric",
          "Electric",
          "Electric",
          "Electric",
          "Electric",
          "Electric",
          "Electric",
          "Electric",
          "Electric",
          "Electric",
          "Electric",
          "Electric",
          "Electric",
          "Electric",
          "Electric",
          "Electric",
          "Electric",
          "Electric",
          "Electric",
          "Electric",
          "Electric",
          "Electric",
          "Electric",
          "Electric",
          "Electric",
          "Electric",
          "Electric",
          "Electric",
          "Electric",
          "Electric",
          "Electric",
          "Electric",
          "Electric",
          "Electric",
          "Electric",
          "Electric",
          "Electric",
          "Electric",
          "Electric",
          "Electric",
          "Electric",
          "Electric",
          "Electric",
          "Electric",
          "Electric",
          "Electric",
          "Electric",
          "Electric",
          "Electric",
          "Electric",
          "Electric",
          "Electric",
          "Electric",
          "Racing",
          "Racing",
          "Racing",
          "Racing",
          "Racing",
          "Racing",
          "Racing",
          "Racing",
          "Racing",
          "Racing",
          "Racing",
          "Racing",
          "Racing",
          "Racing",
          "Racing",
          "Racing",
          "Racing",
          "Racing",
          "Racing",
          "Racing",
          "Racing",
          "Racing",
          "Racing",
          "Racing",
          "Racing",
          "Racing",
          "Racing",
          "Racing",
          "Racing",
          "Racing",
          "Racing",
          "Racing",
          "Racing",
          "Racing",
          "Racing",
          "Racing",
          "Racing",
          "Racing",
          "Racing",
          "Racing",
          "Racing",
          "Racing",
          "Racing",
          "Racing",
          "Racing",
          "Racing",
          "Racing",
          "Racing",
          "Racing",
          "Racing",
          "Racing",
          "Racing",
          "Racing",
          "Racing",
          "Racing",
          "Racing",
          "Racing",
          "Racing",
          "Racing",
          "Racing",
          "Racing",
          "Racing",
          "Racing",
          "Racing",
          "Racing",
          "Racing",
          "Racing",
          "Racing",
          "Racing",
          "Racing",
          "Racing",
          "Racing",
          "Racing",
          "Racing",
          "Racing",
          "Racing",
          "Racing",
          "Racing",
          "Racing",
          "Racing",
          "Racing",
          "Racing",
          "Racing",
          "Racing",
          "Racing",
          "Racing",
          "Racing",
          "Racing",
          "Racing",
          "Racing",
          "Racing",
          "Racing",
          "Racing",
          "Racing",
          "Racing",
          "Racing",
          "Racing",
          "Racing",
          "Racing",
          "Racing",
          "Racing",
          "Racing",
          "Racing",
          "Racing",
          "Racing",
          "Racing",
          "Racing",
          "Racing",
          "Racing",
          "Mountain",
          "Mountain",
          "Mountain",
          "Mountain",
          "Mountain",
          "Mountain",
          "Mountain",
          "Mountain",
          "Mountain",
          "Mountain",
          "Mountain",
          "Mountain",
          "Mountain",
          "Mountain",
          "Mountain",
          "Mountain",
          "Mountain",
          "Mountain",
          "Mountain",
          "Mountain",
          "Mountain",
          "Mountain",
          "Mountain",
          "Mountain",
          "Mountain",
          "Mountain",
          "Mountain",
          "Mountain",
          "Mountain",
          "Mountain",
          "Mountain",
          "Mountain",
          "Mountain",
          "Mountain",
          "Mountain",
          "Mountain",
          "Mountain",
          "Mountain",
          "Mountain",
          "Mountain",
          "Mountain",
          "Mountain",
          "Mountain",
          "Mountain",
          "Mountain",
          "Mountain",
          "Mountain",
          "Mountain",
          "Mountain",
          "Mountain",
          "Mountain",
          "Mountain",
          "Mountain",
          "Mountain",
          "Mountain",
          "Mountain",
          "Mountain",
          "Mountain",
          "Mountain",
          "Mountain",
          "Mountain",
          "Mountain",
          "Mountain",
          "Mountain",
          "Mountain",
          "Mountain",
          "Mountain",
          "Mountain",
          "Mountain",
          "Mountain",
          "Mountain",
          "Mountain",
          "Mountain",
          "Mountain",
          "Mountain",
          "Mountain",
          "Mountain",
          "Mountain",
          "Mountain",
          "Mountain",
          "Mountain",
          "Mountain",
          "Mountain",
          "Mountain",
          "Mountain",
          "Mountain",
          "Mountain",
          "Mountain",
          "Mountain",
          "Mountain",
          "Mountain",
          "Mountain",
          "Mountain",
          "Mountain",
          "Mountain",
          "Mountain",
          "Mountain",
          "Mountain",
          "Mountain",
          "Mountain",
          "Mountain",
          "Mountain",
          "Mountain",
          "Mountain",
          "Mountain",
          "Mountain",
          "Mountain",
          "Mountain",
          "Tricycle",
          "Tricycle",
          "Tricycle",
          "Tricycle",
          "Tricycle",
          "Tricycle",
          "Tricycle",
          "Tricycle",
          "Tricycle",
          "Tricycle",
          "Tricycle",
          "Tricycle",
          "Tricycle",
          "Tricycle",
          "Tricycle",
          "Tricycle",
          "Tricycle",
          "Tricycle",
          "Tricycle",
          "Tricycle",
          "Tricycle",
          "Tricycle",
          "Tricycle",
          "Tricycle",
          "Tricycle",
          "Tricycle",
          "Tricycle",
          "Tricycle",
          "Tricycle",
          "Tricycle",
          "Tricycle",
          "Tricycle",
          "Tricycle",
          "Tricycle",
          "Tricycle",
          "Tricycle",
          "Tricycle",
          "Tricycle",
          "Tricycle",
          "Tricycle",
          "Tricycle",
          "Tricycle",
          "Tricycle",
          "Tricycle",
          "Tricycle",
          "Tricycle",
          "Tricycle",
          "Tricycle",
          "Tricycle",
          "Tricycle",
          "Tricycle",
          "Tricycle",
          "Tricycle",
          "Tricycle",
          "Tricycle",
          "Tricycle",
          "Tricycle",
          "Tricycle",
          "Tricycle",
          "Tricycle",
          "Tricycle",
          "Tricycle",
          "Tricycle",
          "Tricycle",
          "Tricycle",
          "Tricycle",
          "Tricycle",
          "Tricycle",
          "Tricycle",
          "Tricycle",
          "Tricycle",
          "Tricycle",
          "Tricycle",
          "Tricycle",
          "Tricycle",
          "Tricycle",
          "Tricycle",
          "Tricycle",
          "Tricycle",
          "Tricycle",
          "Tricycle",
          "Tricycle",
          "Tricycle",
          "Tricycle",
          "Tricycle",
          "Tricycle",
          "Tricycle",
          "Tricycle",
          "Tricycle",
          "Tricycle",
          "Tricycle",
          "Tricycle",
          "Tricycle",
          "Tricycle",
          "Tricycle",
          "Tricycle",
          "Tricycle",
          "Tricycle",
          "Tricycle",
          "Tricycle",
          "Tricycle",
          "Tricycle",
          "Tricycle",
          "Tricycle",
          "Tricycle",
          "Tricycle"
         ],
         "x0": " ",
         "xaxis": "x",
         "y": {
          "bdata": "g8DKoUW+RkDysFBrmvc0QA6+MJkqmElAcoqO5PJHQEBGtvP91OBIQJhMFYxKmjJAIv32deD8NECdgCbChh9FQLprCfmgpzxAufyH9NvnOUD8GHPXEvLpPz55WKg1bUJAm1Wfq60IMkCYTBWMSuo7QHrHKTqSizVAxSCwcmiR/D+7Jw8LtTZJQC6QoPgxRjtAKe0NvjABRkD5D+m3rytIQB1aZDvfT0NAPzVeukmMNkB1ApoIG44zQMGopE5AE+M/aW/whckcR0DnjCjtDSZBQCBB8WPMHRhA7Q2+MJnaMUB3LSEf9HwxQKMjufyHlC9ASL99HTjXRUDbiv1l9/xGQCo6kst/mDxAxf6ye/IANkCTGARWDn1FQAAAAAAAgBBAoyO5/If0EECutmJ/2Z08QBdIUPwYMzJAak3zjlMUPUACvAUSFGdFQMgHPZtV10JARdjw9EpZ4D9hw9MrZYlEQJeQD3o200FArWnecYpOLkC2hHzQsylKQPaX3ZOHtUlAy6FFtvNtPUCk374OnHMeQCfChqdXGjRA07zjFB3RSUBQ/Bhz1xL4P9bFbTSAlyZAp+hILv+hMECBlUOLbLc2QFHaG3xhMhlAcoqO5PKfNUBsCfmgZ1M1QDm0yHa+V0NAcM6I0t7g8z9SJ6CJsPlBQATnjCjtDRBAxY8xdy0h9T++nxov3aQ4QH/7OnDOYEJAsHJoke0kQkCWsgxxrEtFQHrHKTqSk0BAzO7Jw0KtCUCAt0CC4kc1QPYoXI/ClStAArwFEhT/Q0AHzhlR2is1QArXo3A9ykRA54wo7Q3GSEBuNIC3QLJGQMUgsHJogTVAgy9MpgqmNUBNFYxK6lQ4QDcawFsgwQxAk6mCUUmdC0A7AU2EDS8uQNQrZRniWOs/i2zn+6kBPEAmUwWjkpo7QPaX3ZOHhSBARIts5/sJMUBrmnecojNEQH2utmJ/uSpAhXzQs1mVK0DRkVz+Q4o6QK7YX3ZPLkFAR3L5D+nHOUBHA3gLJKgsQKMjufyHdAZAYhBYObRYPUAnMQisHOJCQLpJDAIrB0FARIts5/tJK0B9PzVeukn8P9UJaCJsmC1AqDXNO04xMEBvgQTFj4lJQEGC4seYk0BAGJXUCWgiEUBtVn2utuIEQEtZhjjWXURAfPKwUGuaGEA7cM6I0k5KQF8HzhlR0kBAEqW9wRd+RkAukKD4MWYuQDGZKhiVxD9AeekmMQisBkA9LNSa5uVAQHrHKTqSCyBAvsEXJlPlLkCjI7n8h/RDQPmgZ7PqQ0FAFR3J5T9UN0BwXwfOGREYQHQkl/+QfjVAIR/0bFYNPEBd3EYDePNHQCsYldQJqDFA001iEFg5G0Bv8IXJVEEVQEtZhjjWJSVA/Yf029fhPECppE5AE+lJQJhMFYxKOj1Ap3nHKToKQkDmP6Tfvt46QK36XG3FXi9A6SYxCKxsMEAj2/l+arwfQG8Sg8DKsT9AwOyePCxUFEDeAgmKH2P/PynLEMe6+EZANV66SQwCQUBcj8L1KHxEQDBMpgpGRUhAW7G/7J40RUAgY+5aQgZAQMrDQq1p7jpA8tJNYhBoP0CrPldbsZ9GQFyPwvUonDtAbHh6pSwzN0BeukkMAmtJQLraiv1llz1ATRWMSup8QUAp7Q2+MIFDQDnWxW00wB1A5BQdyeU/SkAf9GxWfR49QDqSy39Ih0JAsHJoke28E0BqTfOOU9RAQK62Yn/ZBUhA0ZFc/kM6FEDecYqO5LIcQDtwzojSLkJAMzMzMzNTQ0AdOGdEaS8VQDXvOEVHAklAE2HD0ysNQEBEi2zn+0knQOJYF7fRoEFAaCJseHoFP0Cfq63YX7ZEQG8Sg8DKgSxAJLn8h/Tbpz8VjErqBLQXQB3J5T+kL0ZAZ9XnaivGMEAmUwWjkro0QMHKoUW2MyFAdLUV+8veSUD99nXgnHEnQNEi2/l+ajhA8BZIUPw4OkBDrWnecVpEQOtztRX7Cz9Al/+Qfvt6IkDswDkjSnvfPzC7Jw8LhURAGy/dJAZRNUCiRbbz/bRIQDvfT42XjiVA9UpZhjimREApyxDHuhgtQKYKRiV1Aj1A2ht8YTJtREDi6ZWyDFExQJayDHGsm0JAyJi7lpAfPUB1kxgEVm4iQD81XrpJVERAb4EExY/RLUCvlGWIYw0/QDLmriXkMzZAY+5aQj4oHkAzxLEubrM+QPaX3ZOHtT9A30+Nl27SEUBU46WbxGhCQAdfmEwV1ENAPQrXo3BtNEACmggbnoZAQCGwcmiRrRRA1sVtNIDHMkBO0ZFc/oM/QHQkl/+QbjVA3pOHhVpTQkB7FK5H4TJAQGpN845TRD9AN4lBYOXQPUCVZYhjXSxBQDAqqRPQRCJAfGEyVTBSSkDFjzF3LflDQEp7gy9MZhRA/mX35GEBRUB/+zpwzpBIQA6+MJkq4EFAVFInoIlgNkDgLZCg+AE+QPAWSFD84EBAUI2XbhIzN0ATYcPTK7UyQKvP1VbsTzxADi2yne83MUAep+hILh88QBdIUPwYM0hALGUZ4lgXSEDvOEVHcvkJQBe30QDeakNAUiegibDxMECz6nO1FeNGQK8l5IOerStAidLe4AubQ0D5oGez6rMeQKkT0ETYUDNA+u3rwDlrQUAxmSoYlQRHQGkAb4EExes/16NwPQoXGECWIY51cRsGQJ5eKcsQxy5Al5APejYLMUB/2T15WChHQCntDb4wmTFAlIeFWtO8DUA+eVioNS0rQA8LtaZ5Bz9AG55eKctwJEAhsHJoke0JQJMYBFYObRpAMCqpE9AkN0COBvAWSJAWQK8l5IOeDRtAf9k9eVhoHkDM7snDQl1EQNXnaiv29y5AgZVDi2y/SECX/5B++6JFQMoyxLEuHkpA9pfdk4c1NkCZKhiV1AFAQAn5oGezOkdAak3zjlOERUAdWmQ73z9CQDy9UpYhHkpA1sVtNIA3FUAmUwWjkhoqQPfkYaHWvEZAOPjCZKoALUBJnYAmwv5HQA3gLZCgiD5AXkvIBz3bO0DUK2UZ4lghQGRd3EYDGCBAz2bV52or+D8EVg4tsh0VQFtCPujZPDpAm1Wfq61gRkBE+u3rwFFIQOM2GsBbsDdA/fZ14JwxOUBn1edqK25IQLG/7J48FEpAJlMFo5IKNkD4U+Olm0Q8QCKOdXEbzS9A46WbxCCAPUAMAiuHFtFDQL6fGi/dJBtAdQKaCBs+N0CFfNCzWfUGQDXvOEVH0j5AutqK/WVnMkD/snvysEhJQM07TtGRPEJAqFfKMsRxP0C0yHa+n/o1QIQNT6+UVTdAhJ7Nqs/VGEB90LNZ9bkiQB/0bFZ9jjBA7uvAOSM6QUAZc9cS8ulJQCDSb18HBkJAiPTb14ETJkBa9bnaiv0iQFK4HoXrgTpARUdy+Q/pMUDUK2UZ4khJQEa28/3U4EdAxSCwcmiJQUBwXwfOGVE0QKTfvg6cMyBAih9j7lpSQEA0ETY8veI7QCKOdXEbpUBAYVRSJ6BRSEDwhclUwajgP1+YTBWMikJA0LNZ9bnaD0Bbsb/snrwRQBUdyeU/RDBA8x/Sb18XNkDAWyBB8RNDQLhAguLH8EJAfh04Z0TRQkB8YTJVMKo0QPAWSFD8iElAWYY41sVFR0C6awn5oB9CQOCcEaW9UUZAPujZrPocHEDByqFFtktFQJhuEoPASgtAh6dXyjJUNEDnjCjtDX4gQOLplbIM8SdAyjLEsS6uIUAhH/RsVmVDQOQUHcnlTzJARPrt68AhRECYbhKDwMr7P9O84xQdWT9As3vysFCrPEC6SQwCKwcsQMpUwaikbixA5/up8dKNGEAJih9j7lotQGB2Tx4WijpATtGRXP7jMECk374OnEM0QJm7lpAPKkRAcF8HzhlRP0CPU3Qklx8rQFjKMsSxLjZAJQaBlUOL+j+LbOf7qbEdQAMJih9jxkBAxm00gLdQPkBqvHSTGMQTQKs+V1uxvxlAUiegibDRMkAcfGEyVQBKQDAqqRPQNDpAPL1SliHeNED+1HjpJrE+QMSxLm6joTVAKcsQx7o4DUAyVTAqqfNBQEvIBz2bxUVAObTIdr4/QEAxCKwcWlxGQMZtNIC3MDpAsp3vp8YbRUBt5/up8dICQLfRAN4CCbo/oWez6nNVNEC4QILixyhEQAwCK4cWeUFArK3YX3aPL0BO0ZFc/rMyQO84RUdyiTRABaOSOgFNRkCsHFpkOx8eQEw3iUFg5eg/ke18PzWOQUA2qz5XWzE/QET67evAiTZA+aBns+rzO0Dl8h/Sb09KQKW9wRcm8zVA2qz6XG2VMkAJ+aBns6oZQHNoke18P/8/xf6ye/JYSUAf9GxWfc4hQM6I0t7gS0JAEHo2qz5XPEDnHafoSC4fQA3gLZCgOCxAgZVDi2zPQkA9CtejcJ0/QC0hH/RsBj1ArrZif9m9MEDDZKpgVOI1QMDsnjwsREBARPrt68A5/z/KVMGopG4gQFr1udqK/R1AKxiV1AlYMkCRD3o2q35BQMdLN4lBADBANxrAWyABNkAWak3zjlNJQLN78rBQKxZAC7WmeccpE0AyVTAqqVMiQCDSb18HTitAYVRSJ6CpLkDNO07RkRwaQN9PjZdukgxAKqkT0ER4LkCcxCCwcmihP3h6pSxDHPM/16NwPQoHPUA17zhFR6IyQHe+nxovzUZAnu+nxkvHMEA4+MJkqkAsQDy9UpYhbiVAmbuWkA/aN0Am5IOezXoxQFkXt9EATj1ASL99HTjnRUD5oGez6vMPQFmGONbF1UhAETY8vVK2IkDvycNCrVk2QKpgVFInMDpAOpLLf0i/L0DEQq1p3jFDQMDsnjws1B5A1edqK/ZHQEBoke18P4U5QPfkYaHWVDBA/yH99nWgHkDswDkjSvtIQL99HThnBDpAkQ96NqsuRkCq8dJNYhACQFg5tMh2/h9A5WGh1jR/QUDrc7UV+8seQAXFjzF37RJAKA8LtabZSUDP91PjpRsXQG1Wfa62ohdA0SLb+X5q6j/Q1VbsL3sXQL4wmSoYpT1Am+Ydp+gIOEC94xQdyaU8QLAD54woLUhA5BQdyeUXQ0AfhetRuL45QMZtNIC3AERAf2q8dJMASkDxY8xdSyguQDJ3LSEfZElAqoJRSZ3AN0DuWkI+6Bk5QLyWkA96NkdArIvbaACPSEDhehSuR1lAQInS3uAL0xlAkst/SL91Q0C8BRIUP8bMP39qvHSTaDJAj+TyH9LvN0BuowG8BSJKQPrt68A5W0ZA1edqK/bHPUC/DpwzohRHQEVHcvkPKSVAD5wzorQvQ0AnMQisHFpGQO58PzVeeidAW7G/7J78FUBDrWnecaouQD9XW7G/NEJAMLsnDws1O0C30QDeAllAQPjCZKpgtCRA/Bhz1xKSO0BZF7fRAA4+QIC3QILiZy5A+n5qvHSzREDf4AuTqSJFQCfChqdXyvE/i/1l9+SBOUDyQc9m1ZdEQEmdgCbCBhJAETY8vVIWJkB6Nqs+V/tAQOlILv8h/RxA2ht8YTJ9SkDHuriNBmA9QDAqqRPQPEdAxY8xdy0hGkAzMzMzMzPfP6Tfvg6cMyNA6bevA+esSUD5D+m3r5tCQJAxdy0h3ypAkQ96NqsGQ0BCz2bV51JHQIzbaABvgfU/xY8xdy3hOUApXI/C9YBFQI/C9Shc3ztAZapgVFJ3NEAtQxzr4gY7QOkmMQis5EJANBE2PL3SIEBAE2HD04tGQMbctYR88DRA5/up8dI9O0DhehSuR8EnQFJJnYAmYkBAHThnRGmfRUBfmEwVjEoAQJLLf0i/vUhAgQTFjzH3SUBSSZ2AJuIrQJCg+DHmbiBANV66SQwKSkBMpgpGJfUoQJkqGJXUCUhAXrpJDAJ7OkBQjZduEgtBQBBYObTIhjJAbjSAt0CqQUBSuB6F69EoQLFQa5p3FEBAXynLEMeKQUCsrdhfdr9GQKmkTkATcURAoyO5/Ie8QECbVZ+rrbhAQA4tsp3vJw5A4zYawFvwPEAydy0hHyQ6QPH0SlmGGDVAayv2l93TLEBrmnecouNCQMX+snvykEhAtFn1udpCQkDD9Shcj+JAQL6fGi/dBDtAj8L1KFxHR0APnDOitPcQQOXQItv5rkNAcvkP6bevF0DtDb4wmWocQBB6Nqs+Jz9AbHh6pSyzOUD4wmSqYNQpQFwgQfFjTDlAcT0K16PAPEAwKqkT0ExCQPyp8dJNwipALSEf9GxW7T8OT6+UZagrQCPb+X5qvOA/vp8aL900RUClTkATYeM3QLpJDAIrl0FAnDOitDe4MkDUK2UZ4pgsQGUZ4lgXp0lA+n5qvHQTREDufD81Xrr4P1pkO99P3UdA0NVW7C87L0Cz6nO1FSs4QJeQD3o2azBAkKD4MeY+O0DSAN4CCVo9QFmGONbFfUZAGQRWDi2yI0CUh4Va0+RCQC1DHOvilkFARwN4CySQQ0Ch1jTvOOUlQEku/yH9FiJAnzws1JqGSUD2l92Th4UAQIXrUbgeZSJA/yH99nUAOUCKsOHplYI5QPyp8dJNwjxA097gC5MhSEBZF7fRAJ46QMBbIEHxE0NAjgbwFkjQIUBGJXUCmjg3QDQRNjy9ojtAc9cS8kFPLECzDHGsi+NIQBsN4C2QcEhAfa62Yn+5M0CvJeSDnn1CQKFns+pzbUlAHcnlP6SnR0BhVFInoAFAQBNhw9MrhTNA+1xtxf6SN0BMN4lBYKUwQPJBz2bVJyJANIC3QIICKkAMAiuHFtk1QOXyH9JvHyBAkDF3LSEfIED8qfHSTaImQOxRuB6Fi0VAPnlYqDXlQ0Csi9toAK8qQMIXJlMFu0JAYhBYObQoNEAs1JrmHQ9GQE+vlGWIEzJANBE2PL16SUALRiV1AoJFQD81XrpJDBFA6pWyDHEsGEBIv30dOGf0P0jhehSuJ0BATtGRXP6TPUCn6Egu/1E3QEGC4seYC0dA2T15WKgVJkCz6nO1FftCQP7UeOkm8T5A",
          "dtype": "f8"
         },
         "y0": " ",
         "yaxis": "y"
        },
        {
         "alignmentgroup": "True",
         "hovertemplate": "Area=Area2<br>Category=%{x}<br>Incremental Profit=%{y}<extra></extra>",
         "legendgroup": "",
         "marker": {
          "color": "#636efa"
         },
         "name": "",
         "notched": false,
         "offsetgroup": "",
         "orientation": "v",
         "showlegend": false,
         "type": "box",
         "x": [
          "Child",
          "Child",
          "Child",
          "Child",
          "Child",
          "Child",
          "Child",
          "Child",
          "Child",
          "Child",
          "Child",
          "Child",
          "Child",
          "Child",
          "Child",
          "Child",
          "Child",
          "Child",
          "Child",
          "Child",
          "Child",
          "Child",
          "Child",
          "Child",
          "Child",
          "Child",
          "Child",
          "Child",
          "Child",
          "Child",
          "Child",
          "Child",
          "Child",
          "Child",
          "Child",
          "Child",
          "Child",
          "Child",
          "Child",
          "Child",
          "Child",
          "Child",
          "Child",
          "Child",
          "Child",
          "Child",
          "Child",
          "Child",
          "Child",
          "Child",
          "Child",
          "Child",
          "Child",
          "Adult",
          "Adult",
          "Adult",
          "Adult",
          "Adult",
          "Adult",
          "Adult",
          "Adult",
          "Adult",
          "Adult",
          "Adult",
          "Adult",
          "Adult",
          "Adult",
          "Adult",
          "Adult",
          "Adult",
          "Adult",
          "Adult",
          "Adult",
          "Adult",
          "Adult",
          "Adult",
          "Adult",
          "Adult",
          "Adult",
          "Adult",
          "Adult",
          "Adult",
          "Adult",
          "Adult",
          "Adult",
          "Adult",
          "Adult",
          "Adult",
          "Adult",
          "Adult",
          "Adult",
          "Adult",
          "Adult",
          "Adult",
          "Adult",
          "Adult",
          "Adult",
          "Adult",
          "Adult",
          "Adult",
          "Adult",
          "Adult",
          "Adult",
          "Adult",
          "Adult",
          "Adult",
          "Adult",
          "Adult",
          "Adult",
          "Adult",
          "Adult",
          "Adult",
          "Electric",
          "Electric",
          "Electric",
          "Electric",
          "Electric",
          "Electric",
          "Electric",
          "Electric",
          "Electric",
          "Electric",
          "Electric",
          "Electric",
          "Electric",
          "Electric",
          "Electric",
          "Electric",
          "Electric",
          "Electric",
          "Electric",
          "Electric",
          "Electric",
          "Electric",
          "Electric",
          "Electric",
          "Electric",
          "Electric",
          "Electric",
          "Electric",
          "Electric",
          "Electric",
          "Electric",
          "Electric",
          "Electric",
          "Electric",
          "Electric",
          "Electric",
          "Electric",
          "Electric",
          "Electric",
          "Electric",
          "Electric",
          "Electric",
          "Electric",
          "Electric",
          "Electric",
          "Electric",
          "Electric",
          "Electric",
          "Electric",
          "Electric",
          "Electric",
          "Electric",
          "Electric",
          "Electric",
          "Electric",
          "Electric",
          "Electric",
          "Electric",
          "Electric",
          "Electric",
          "Electric",
          "Electric",
          "Electric",
          "Electric",
          "Electric",
          "Electric",
          "Electric",
          "Electric",
          "Electric",
          "Electric",
          "Electric",
          "Racing",
          "Racing",
          "Racing",
          "Racing",
          "Racing",
          "Racing",
          "Racing",
          "Racing",
          "Racing",
          "Racing",
          "Racing",
          "Racing",
          "Racing",
          "Racing",
          "Racing",
          "Racing",
          "Racing",
          "Racing",
          "Racing",
          "Racing",
          "Racing",
          "Racing",
          "Racing",
          "Racing",
          "Racing",
          "Racing",
          "Racing",
          "Racing",
          "Racing",
          "Racing",
          "Racing",
          "Racing",
          "Racing",
          "Racing",
          "Racing",
          "Racing",
          "Racing",
          "Racing",
          "Racing",
          "Racing",
          "Racing",
          "Racing",
          "Racing",
          "Racing",
          "Racing",
          "Racing",
          "Racing",
          "Racing",
          "Racing",
          "Racing",
          "Racing",
          "Racing",
          "Racing",
          "Racing",
          "Racing",
          "Mountain",
          "Mountain",
          "Mountain",
          "Mountain",
          "Mountain",
          "Mountain",
          "Mountain",
          "Mountain",
          "Mountain",
          "Mountain",
          "Mountain",
          "Mountain",
          "Mountain",
          "Mountain",
          "Mountain",
          "Mountain",
          "Mountain",
          "Mountain",
          "Mountain",
          "Mountain",
          "Mountain",
          "Mountain",
          "Mountain",
          "Mountain",
          "Mountain",
          "Mountain",
          "Mountain",
          "Mountain",
          "Mountain",
          "Mountain",
          "Mountain",
          "Mountain",
          "Mountain",
          "Mountain",
          "Mountain",
          "Mountain",
          "Mountain",
          "Mountain",
          "Mountain",
          "Mountain",
          "Mountain",
          "Mountain",
          "Mountain",
          "Mountain",
          "Mountain",
          "Mountain",
          "Mountain",
          "Mountain",
          "Mountain",
          "Mountain",
          "Mountain",
          "Mountain",
          "Mountain",
          "Mountain",
          "Mountain",
          "Mountain",
          "Mountain",
          "Mountain",
          "Mountain",
          "Mountain",
          "Mountain",
          "Mountain",
          "Mountain",
          "Tricycle",
          "Tricycle",
          "Tricycle",
          "Tricycle",
          "Tricycle",
          "Tricycle",
          "Tricycle",
          "Tricycle",
          "Tricycle",
          "Tricycle",
          "Tricycle",
          "Tricycle",
          "Tricycle",
          "Tricycle",
          "Tricycle",
          "Tricycle",
          "Tricycle",
          "Tricycle",
          "Tricycle",
          "Tricycle",
          "Tricycle",
          "Tricycle",
          "Tricycle",
          "Tricycle",
          "Tricycle",
          "Tricycle",
          "Tricycle",
          "Tricycle",
          "Tricycle",
          "Tricycle",
          "Tricycle",
          "Tricycle",
          "Tricycle",
          "Tricycle",
          "Tricycle",
          "Tricycle",
          "Tricycle",
          "Tricycle",
          "Tricycle",
          "Tricycle",
          "Tricycle",
          "Tricycle",
          "Tricycle",
          "Tricycle",
          "Tricycle",
          "Tricycle",
          "Tricycle",
          "Tricycle",
          "Tricycle",
          "Tricycle",
          "Tricycle",
          "Tricycle",
          "Tricycle",
          "Tricycle",
          "Tricycle",
          "Tricycle",
          "Tricycle",
          "Tricycle",
          "Tricycle",
          "Tricycle",
          "Tricycle",
          "Tricycle",
          "Tricycle",
          "Tricycle",
          "Tricycle",
          "Tricycle",
          "Tricycle",
          "Tricycle"
         ],
         "x0": " ",
         "xaxis": "x2",
         "y": {
          "bdata": "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",
          "dtype": "f8"
         },
         "y0": " ",
         "yaxis": "y2"
        },
        {
         "alignmentgroup": "True",
         "hovertemplate": "Area=Area3<br>Category=%{x}<br>Incremental Profit=%{y}<extra></extra>",
         "legendgroup": "",
         "marker": {
          "color": "#636efa"
         },
         "name": "",
         "notched": false,
         "offsetgroup": "",
         "orientation": "v",
         "showlegend": false,
         "type": "box",
         "x": [
          "Child",
          "Child",
          "Child",
          "Child",
          "Child",
          "Child",
          "Child",
          "Child",
          "Child",
          "Child",
          "Child",
          "Child",
          "Child",
          "Child",
          "Child",
          "Child",
          "Child",
          "Child",
          "Child",
          "Child",
          "Child",
          "Child",
          "Child",
          "Child",
          "Child",
          "Child",
          "Child",
          "Child",
          "Child",
          "Child",
          "Child",
          "Child",
          "Child",
          "Child",
          "Child",
          "Child",
          "Child",
          "Child",
          "Child",
          "Child",
          "Child",
          "Child",
          "Child",
          "Child",
          "Child",
          "Child",
          "Child",
          "Child",
          "Child",
          "Child",
          "Child",
          "Child",
          "Child",
          "Child",
          "Child",
          "Child",
          "Child",
          "Child",
          "Child",
          "Child",
          "Child",
          "Child",
          "Child",
          "Child",
          "Child",
          "Child",
          "Child",
          "Child",
          "Child",
          "Child",
          "Child",
          "Child",
          "Child",
          "Child",
          "Child",
          "Child",
          "Child",
          "Child",
          "Child",
          "Child",
          "Child",
          "Child",
          "Child",
          "Child",
          "Child",
          "Child",
          "Child",
          "Child",
          "Child",
          "Child",
          "Child",
          "Child",
          "Child",
          "Child",
          "Child",
          "Child",
          "Adult",
          "Adult",
          "Adult",
          "Adult",
          "Adult",
          "Adult",
          "Adult",
          "Adult",
          "Adult",
          "Adult",
          "Adult",
          "Adult",
          "Adult",
          "Adult",
          "Adult",
          "Adult",
          "Adult",
          "Adult",
          "Adult",
          "Adult",
          "Adult",
          "Adult",
          "Adult",
          "Adult",
          "Adult",
          "Adult",
          "Adult",
          "Adult",
          "Adult",
          "Adult",
          "Adult",
          "Adult",
          "Adult",
          "Adult",
          "Adult",
          "Adult",
          "Adult",
          "Adult",
          "Adult",
          "Adult",
          "Adult",
          "Adult",
          "Adult",
          "Adult",
          "Adult",
          "Adult",
          "Adult",
          "Adult",
          "Adult",
          "Adult",
          "Adult",
          "Adult",
          "Adult",
          "Adult",
          "Adult",
          "Adult",
          "Adult",
          "Adult",
          "Adult",
          "Adult",
          "Adult",
          "Adult",
          "Adult",
          "Adult",
          "Adult",
          "Adult",
          "Adult",
          "Adult",
          "Adult",
          "Adult",
          "Adult",
          "Adult",
          "Adult",
          "Adult",
          "Adult",
          "Adult",
          "Adult",
          "Adult",
          "Adult",
          "Adult",
          "Adult",
          "Adult",
          "Adult",
          "Adult",
          "Adult",
          "Adult",
          "Adult",
          "Adult",
          "Adult",
          "Adult",
          "Adult",
          "Adult",
          "Adult",
          "Electric",
          "Electric",
          "Electric",
          "Electric",
          "Electric",
          "Electric",
          "Electric",
          "Electric",
          "Electric",
          "Electric",
          "Electric",
          "Electric",
          "Electric",
          "Electric",
          "Electric",
          "Electric",
          "Electric",
          "Electric",
          "Electric",
          "Electric",
          "Electric",
          "Electric",
          "Electric",
          "Electric",
          "Electric",
          "Electric",
          "Electric",
          "Electric",
          "Electric",
          "Electric",
          "Electric",
          "Electric",
          "Electric",
          "Electric",
          "Electric",
          "Electric",
          "Electric",
          "Electric",
          "Electric",
          "Electric",
          "Electric",
          "Electric",
          "Electric",
          "Electric",
          "Electric",
          "Electric",
          "Electric",
          "Electric",
          "Electric",
          "Electric",
          "Electric",
          "Electric",
          "Electric",
          "Electric",
          "Electric",
          "Electric",
          "Electric",
          "Electric",
          "Electric",
          "Electric",
          "Electric",
          "Electric",
          "Electric",
          "Electric",
          "Electric",
          "Electric",
          "Electric",
          "Electric",
          "Electric",
          "Electric",
          "Electric",
          "Electric",
          "Electric",
          "Electric",
          "Electric",
          "Electric",
          "Electric",
          "Electric",
          "Electric",
          "Electric",
          "Electric",
          "Electric",
          "Electric",
          "Electric",
          "Electric",
          "Electric",
          "Electric",
          "Electric",
          "Electric",
          "Electric",
          "Electric",
          "Electric",
          "Electric",
          "Electric",
          "Electric",
          "Electric",
          "Electric",
          "Electric",
          "Electric",
          "Electric",
          "Electric",
          "Electric",
          "Electric",
          "Electric",
          "Electric",
          "Electric",
          "Electric",
          "Electric",
          "Electric",
          "Electric",
          "Electric",
          "Racing",
          "Racing",
          "Racing",
          "Racing",
          "Racing",
          "Racing",
          "Racing",
          "Racing",
          "Racing",
          "Racing",
          "Racing",
          "Racing",
          "Racing",
          "Racing",
          "Racing",
          "Racing",
          "Racing",
          "Racing",
          "Racing",
          "Racing",
          "Racing",
          "Racing",
          "Racing",
          "Racing",
          "Racing",
          "Racing",
          "Racing",
          "Racing",
          "Racing",
          "Racing",
          "Racing",
          "Racing",
          "Racing",
          "Racing",
          "Racing",
          "Racing",
          "Racing",
          "Racing",
          "Racing",
          "Racing",
          "Racing",
          "Racing",
          "Racing",
          "Racing",
          "Racing",
          "Racing",
          "Racing",
          "Racing",
          "Racing",
          "Racing",
          "Racing",
          "Racing",
          "Racing",
          "Racing",
          "Racing",
          "Racing",
          "Racing",
          "Racing",
          "Racing",
          "Racing",
          "Racing",
          "Racing",
          "Racing",
          "Racing",
          "Racing",
          "Racing",
          "Racing",
          "Racing",
          "Racing",
          "Racing",
          "Racing",
          "Racing",
          "Racing",
          "Racing",
          "Racing",
          "Racing",
          "Racing",
          "Racing",
          "Racing",
          "Racing",
          "Racing",
          "Racing",
          "Racing",
          "Racing",
          "Racing",
          "Racing",
          "Racing",
          "Racing",
          "Racing",
          "Racing",
          "Racing",
          "Racing",
          "Racing",
          "Mountain",
          "Mountain",
          "Mountain",
          "Mountain",
          "Mountain",
          "Mountain",
          "Mountain",
          "Mountain",
          "Mountain",
          "Mountain",
          "Mountain",
          "Mountain",
          "Mountain",
          "Mountain",
          "Mountain",
          "Mountain",
          "Mountain",
          "Mountain",
          "Mountain",
          "Mountain",
          "Mountain",
          "Mountain",
          "Mountain",
          "Mountain",
          "Mountain",
          "Mountain",
          "Mountain",
          "Mountain",
          "Mountain",
          "Mountain",
          "Mountain",
          "Mountain",
          "Mountain",
          "Mountain",
          "Mountain",
          "Mountain",
          "Mountain",
          "Mountain",
          "Mountain",
          "Mountain",
          "Mountain",
          "Mountain",
          "Mountain",
          "Mountain",
          "Mountain",
          "Mountain",
          "Mountain",
          "Mountain",
          "Mountain",
          "Mountain",
          "Mountain",
          "Mountain",
          "Mountain",
          "Mountain",
          "Mountain",
          "Mountain",
          "Mountain",
          "Mountain",
          "Mountain",
          "Mountain",
          "Mountain",
          "Mountain",
          "Mountain",
          "Mountain",
          "Mountain",
          "Mountain",
          "Mountain",
          "Mountain",
          "Mountain",
          "Mountain",
          "Mountain",
          "Mountain",
          "Mountain",
          "Mountain",
          "Mountain",
          "Mountain",
          "Mountain",
          "Mountain",
          "Mountain",
          "Mountain",
          "Mountain",
          "Mountain",
          "Mountain",
          "Mountain",
          "Mountain",
          "Mountain",
          "Mountain",
          "Mountain",
          "Mountain",
          "Mountain",
          "Mountain",
          "Mountain",
          "Mountain",
          "Mountain",
          "Mountain",
          "Mountain",
          "Mountain",
          "Mountain",
          "Mountain",
          "Mountain",
          "Mountain",
          "Mountain",
          "Mountain",
          "Mountain",
          "Mountain",
          "Mountain",
          "Mountain",
          "Tricycle",
          "Tricycle",
          "Tricycle",
          "Tricycle",
          "Tricycle",
          "Tricycle",
          "Tricycle",
          "Tricycle",
          "Tricycle",
          "Tricycle",
          "Tricycle",
          "Tricycle",
          "Tricycle",
          "Tricycle",
          "Tricycle",
          "Tricycle",
          "Tricycle",
          "Tricycle",
          "Tricycle",
          "Tricycle",
          "Tricycle",
          "Tricycle",
          "Tricycle",
          "Tricycle",
          "Tricycle",
          "Tricycle",
          "Tricycle",
          "Tricycle",
          "Tricycle",
          "Tricycle",
          "Tricycle",
          "Tricycle",
          "Tricycle",
          "Tricycle",
          "Tricycle",
          "Tricycle",
          "Tricycle",
          "Tricycle",
          "Tricycle",
          "Tricycle",
          "Tricycle",
          "Tricycle",
          "Tricycle",
          "Tricycle",
          "Tricycle",
          "Tricycle",
          "Tricycle",
          "Tricycle",
          "Tricycle",
          "Tricycle",
          "Tricycle",
          "Tricycle",
          "Tricycle",
          "Tricycle",
          "Tricycle",
          "Tricycle",
          "Tricycle",
          "Tricycle",
          "Tricycle",
          "Tricycle",
          "Tricycle",
          "Tricycle",
          "Tricycle",
          "Tricycle",
          "Tricycle",
          "Tricycle",
          "Tricycle",
          "Tricycle",
          "Tricycle",
          "Tricycle",
          "Tricycle",
          "Tricycle",
          "Tricycle",
          "Tricycle",
          "Tricycle",
          "Tricycle",
          "Tricycle",
          "Tricycle",
          "Tricycle",
          "Tricycle",
          "Tricycle",
          "Tricycle",
          "Tricycle",
          "Tricycle",
          "Tricycle",
          "Tricycle",
          "Tricycle",
          "Tricycle",
          "Tricycle",
          "Tricycle",
          "Tricycle",
          "Tricycle",
          "Tricycle",
          "Tricycle",
          "Tricycle",
          "Tricycle",
          "Tricycle",
          "Tricycle",
          "Tricycle",
          "Tricycle",
          "Tricycle",
          "Tricycle",
          "Tricycle",
          "Tricycle",
          "Tricycle",
          "Tricycle"
         ],
         "x0": " ",
         "xaxis": "x3",
         "y": {
          "bdata": "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",
          "dtype": "f8"
         },
         "y0": " ",
         "yaxis": "y3"
        },
        {
         "alignmentgroup": "True",
         "hovertemplate": "Area=Area4<br>Category=%{x}<br>Incremental Profit=%{y}<extra></extra>",
         "legendgroup": "",
         "marker": {
          "color": "#636efa"
         },
         "name": "",
         "notched": false,
         "offsetgroup": "",
         "orientation": "v",
         "showlegend": false,
         "type": "box",
         "x": [
          "Child",
          "Child",
          "Child",
          "Child",
          "Child",
          "Child",
          "Child",
          "Child",
          "Child",
          "Child",
          "Child",
          "Child",
          "Child",
          "Child",
          "Child",
          "Child",
          "Child",
          "Child",
          "Child",
          "Child",
          "Child",
          "Child",
          "Child",
          "Child",
          "Child",
          "Child",
          "Child",
          "Child",
          "Child",
          "Child",
          "Child",
          "Child",
          "Child",
          "Child",
          "Child",
          "Child",
          "Child",
          "Child",
          "Child",
          "Child",
          "Child",
          "Child",
          "Child",
          "Child",
          "Child",
          "Child",
          "Child",
          "Child",
          "Child",
          "Child",
          "Child",
          "Child",
          "Child",
          "Child",
          "Child",
          "Child",
          "Child",
          "Child",
          "Child",
          "Child",
          "Child",
          "Child",
          "Child",
          "Child",
          "Child",
          "Child",
          "Child",
          "Child",
          "Child",
          "Child",
          "Child",
          "Child",
          "Child",
          "Child",
          "Child",
          "Child",
          "Child",
          "Child",
          "Child",
          "Child",
          "Child",
          "Child",
          "Child",
          "Child",
          "Child",
          "Child",
          "Child",
          "Child",
          "Child",
          "Child",
          "Child",
          "Child",
          "Child",
          "Child",
          "Child",
          "Child",
          "Child",
          "Child",
          "Child",
          "Child",
          "Child",
          "Child",
          "Child",
          "Child",
          "Child",
          "Adult",
          "Adult",
          "Adult",
          "Adult",
          "Adult",
          "Adult",
          "Adult",
          "Adult",
          "Adult",
          "Adult",
          "Adult",
          "Adult",
          "Adult",
          "Adult",
          "Adult",
          "Adult",
          "Adult",
          "Adult",
          "Adult",
          "Adult",
          "Adult",
          "Adult",
          "Adult",
          "Adult",
          "Adult",
          "Adult",
          "Adult",
          "Adult",
          "Adult",
          "Adult",
          "Adult",
          "Adult",
          "Adult",
          "Adult",
          "Adult",
          "Adult",
          "Adult",
          "Adult",
          "Adult",
          "Adult",
          "Adult",
          "Adult",
          "Adult",
          "Adult",
          "Adult",
          "Adult",
          "Adult",
          "Adult",
          "Adult",
          "Adult",
          "Adult",
          "Adult",
          "Adult",
          "Adult",
          "Adult",
          "Adult",
          "Adult",
          "Adult",
          "Adult",
          "Adult",
          "Adult",
          "Adult",
          "Adult",
          "Adult",
          "Adult",
          "Adult",
          "Adult",
          "Adult",
          "Adult",
          "Adult",
          "Adult",
          "Adult",
          "Adult",
          "Adult",
          "Adult",
          "Adult",
          "Adult",
          "Adult",
          "Adult",
          "Adult",
          "Adult",
          "Adult",
          "Adult",
          "Adult",
          "Adult",
          "Adult",
          "Adult",
          "Adult",
          "Adult",
          "Adult",
          "Adult",
          "Adult",
          "Adult",
          "Adult",
          "Adult",
          "Adult",
          "Adult",
          "Electric",
          "Electric",
          "Electric",
          "Electric",
          "Electric",
          "Electric",
          "Electric",
          "Electric",
          "Electric",
          "Electric",
          "Electric",
          "Electric",
          "Electric",
          "Electric",
          "Electric",
          "Electric",
          "Electric",
          "Electric",
          "Electric",
          "Electric",
          "Electric",
          "Electric",
          "Electric",
          "Electric",
          "Electric",
          "Electric",
          "Electric",
          "Electric",
          "Electric",
          "Electric",
          "Electric",
          "Electric",
          "Electric",
          "Electric",
          "Electric",
          "Electric",
          "Electric",
          "Electric",
          "Electric",
          "Electric",
          "Electric",
          "Electric",
          "Electric",
          "Electric",
          "Electric",
          "Electric",
          "Electric",
          "Electric",
          "Electric",
          "Electric",
          "Electric",
          "Electric",
          "Electric",
          "Electric",
          "Electric",
          "Electric",
          "Electric",
          "Electric",
          "Electric",
          "Electric",
          "Electric",
          "Electric",
          "Electric",
          "Electric",
          "Electric",
          "Electric",
          "Electric",
          "Electric",
          "Electric",
          "Electric",
          "Electric",
          "Electric",
          "Electric",
          "Electric",
          "Electric",
          "Electric",
          "Electric",
          "Electric",
          "Racing",
          "Racing",
          "Racing",
          "Racing",
          "Racing",
          "Racing",
          "Racing",
          "Racing",
          "Racing",
          "Racing",
          "Racing",
          "Racing",
          "Racing",
          "Racing",
          "Racing",
          "Racing",
          "Racing",
          "Racing",
          "Racing",
          "Racing",
          "Racing",
          "Racing",
          "Racing",
          "Racing",
          "Racing",
          "Racing",
          "Racing",
          "Racing",
          "Racing",
          "Racing",
          "Racing",
          "Racing",
          "Racing",
          "Racing",
          "Racing",
          "Racing",
          "Racing",
          "Racing",
          "Racing",
          "Racing",
          "Racing",
          "Racing",
          "Racing",
          "Racing",
          "Racing",
          "Racing",
          "Racing",
          "Racing",
          "Racing",
          "Racing",
          "Racing",
          "Racing",
          "Racing",
          "Racing",
          "Racing",
          "Racing",
          "Racing",
          "Racing",
          "Racing",
          "Racing",
          "Racing",
          "Racing",
          "Racing",
          "Racing",
          "Racing",
          "Racing",
          "Racing",
          "Racing",
          "Racing",
          "Racing",
          "Racing",
          "Racing",
          "Racing",
          "Racing",
          "Racing",
          "Racing",
          "Racing",
          "Racing",
          "Racing",
          "Racing",
          "Racing",
          "Racing",
          "Racing",
          "Racing",
          "Racing",
          "Racing",
          "Racing",
          "Racing",
          "Racing",
          "Racing",
          "Racing",
          "Racing",
          "Racing",
          "Racing",
          "Racing",
          "Racing",
          "Racing",
          "Racing",
          "Racing",
          "Racing",
          "Racing",
          "Racing",
          "Racing",
          "Racing",
          "Racing",
          "Mountain",
          "Mountain",
          "Mountain",
          "Mountain",
          "Mountain",
          "Mountain",
          "Mountain",
          "Mountain",
          "Mountain",
          "Mountain",
          "Mountain",
          "Mountain",
          "Mountain",
          "Mountain",
          "Mountain",
          "Mountain",
          "Mountain",
          "Mountain",
          "Mountain",
          "Mountain",
          "Mountain",
          "Mountain",
          "Mountain",
          "Mountain",
          "Mountain",
          "Mountain",
          "Mountain",
          "Mountain",
          "Mountain",
          "Mountain",
          "Mountain",
          "Mountain",
          "Mountain",
          "Mountain",
          "Mountain",
          "Mountain",
          "Mountain",
          "Mountain",
          "Mountain",
          "Mountain",
          "Mountain",
          "Mountain",
          "Mountain",
          "Mountain",
          "Mountain",
          "Mountain",
          "Mountain",
          "Mountain",
          "Mountain",
          "Mountain",
          "Mountain",
          "Mountain",
          "Mountain",
          "Mountain",
          "Mountain",
          "Mountain",
          "Mountain",
          "Mountain",
          "Mountain",
          "Mountain",
          "Mountain",
          "Mountain",
          "Mountain",
          "Mountain",
          "Mountain",
          "Mountain",
          "Mountain",
          "Mountain",
          "Mountain",
          "Mountain",
          "Mountain",
          "Mountain",
          "Mountain",
          "Mountain",
          "Mountain",
          "Mountain",
          "Mountain",
          "Mountain",
          "Mountain",
          "Mountain",
          "Mountain",
          "Mountain",
          "Mountain",
          "Mountain",
          "Mountain",
          "Mountain",
          "Mountain",
          "Mountain",
          "Mountain",
          "Mountain",
          "Mountain",
          "Mountain",
          "Mountain",
          "Mountain",
          "Mountain",
          "Mountain",
          "Mountain",
          "Mountain",
          "Mountain",
          "Mountain",
          "Mountain",
          "Mountain",
          "Mountain",
          "Mountain",
          "Mountain",
          "Mountain",
          "Mountain",
          "Mountain",
          "Tricycle",
          "Tricycle",
          "Tricycle",
          "Tricycle",
          "Tricycle",
          "Tricycle",
          "Tricycle",
          "Tricycle",
          "Tricycle",
          "Tricycle",
          "Tricycle",
          "Tricycle",
          "Tricycle",
          "Tricycle",
          "Tricycle",
          "Tricycle",
          "Tricycle",
          "Tricycle",
          "Tricycle",
          "Tricycle",
          "Tricycle",
          "Tricycle",
          "Tricycle",
          "Tricycle",
          "Tricycle",
          "Tricycle",
          "Tricycle",
          "Tricycle",
          "Tricycle",
          "Tricycle",
          "Tricycle",
          "Tricycle",
          "Tricycle",
          "Tricycle",
          "Tricycle",
          "Tricycle",
          "Tricycle",
          "Tricycle",
          "Tricycle",
          "Tricycle",
          "Tricycle",
          "Tricycle",
          "Tricycle",
          "Tricycle",
          "Tricycle",
          "Tricycle",
          "Tricycle",
          "Tricycle",
          "Tricycle",
          "Tricycle",
          "Tricycle",
          "Tricycle",
          "Tricycle",
          "Tricycle",
          "Tricycle",
          "Tricycle",
          "Tricycle",
          "Tricycle",
          "Tricycle",
          "Tricycle",
          "Tricycle",
          "Tricycle",
          "Tricycle",
          "Tricycle",
          "Tricycle",
          "Tricycle",
          "Tricycle",
          "Tricycle",
          "Tricycle",
          "Tricycle",
          "Tricycle",
          "Tricycle",
          "Tricycle",
          "Tricycle",
          "Tricycle",
          "Tricycle",
          "Tricycle",
          "Tricycle",
          "Tricycle",
          "Tricycle",
          "Tricycle",
          "Tricycle",
          "Tricycle",
          "Tricycle",
          "Tricycle",
          "Tricycle",
          "Tricycle",
          "Tricycle",
          "Tricycle",
          "Tricycle",
          "Tricycle",
          "Tricycle",
          "Tricycle",
          "Tricycle",
          "Tricycle",
          "Tricycle",
          "Tricycle",
          "Tricycle",
          "Tricycle",
          "Tricycle",
          "Tricycle",
          "Tricycle",
          "Tricycle",
          "Tricycle",
          "Tricycle",
          "Tricycle",
          "Tricycle",
          "Tricycle",
          "Tricycle"
         ],
         "x0": " ",
         "xaxis": "x4",
         "y": {
          "bdata": "QmDl0CLLSUDByqFFthM6QFTjpZvEsFJAvw6cM6K0T0BNhA1Pr6RJQPJBz2bVp0RA2PD0SlnmVEA/xty1hPwSQPH0SlmGiD9AmpmZmZnpQ0Ch1jTvOBVGQMgHPZtVnw9AXrpJDAJDR0BqvHSTGKQnQDY8vVKWmUxAirDh6ZUqVkD7OnDOiHJQQNNNYhBYuStAkQ96NqvCVUDKVMGopG41QFYOLbKdx1dASL99HThn9D8LJCh+jBlOQMX+snvyQFdAZDvfT43LUUCDwMqhRRYnQAskKH6MeUpAvsEXJlPFQkBU46WbxPhJQIMvTKYKxkNAjgbwFkg4WECBBMWPMR9LQOm3rwPnTBFAsHJoke2cVkDD0ytlGQJOQKabxCCwkklAOdbFbTSoVEBX7C+7J19LQEmdgCbChg1ArfpcbcWeLUAxmSoYlfxVQLprCfmgY1ZA5IOezaq3TECrPldbsTtSQDSitDf40k5AkxgEVg6JUkCkcD0K16M3QGiz6nO1vU5A2IFzRpR6V0A6I0p7g5dBQMl2vp8arxpANjy9UpbpS0DNO07RkQxHQE+vlGWIi1RAxf6ye/KYQkCze/KwUPtGQBE2PL1S1kxAlIeFWtN8PkC8dJMYBJZXQHPXEvJBN0xAa5p3nKIj/T8TYcPTK4lUQOzAOSNK41NAIGPuWkI2U0CdgCbChmtSQFFrmnecmktAHhZqTfNmUEDHSzeJQXBQQD0K16NwPTxAz/dT46UbEkARNjy9Uh5IQH0/NV66CTVAxY8xdy3ZREBpb/CFybQzQA4tsp3v51FA5q4l5IO+MkDChqdXylIrQCJseHqlFFJAfPKwUGvaHkCXkA96NusTQCJseHqlJFZAqMZLN4mpQUAxmSoYlRxRQGEyVTAqEUVAHhZqTfPmV0BDHOviNspHQNV46SYxyDFAN4lBYOVwLUB/2T15WIgqQB04Z0RpLzZAfdCzWfV5RkDeAgmKH2tMQIZa07zjLFdAGCZTBaMSLkDA7J48LABWQJSHhVrTJFdAgQTFjzFzUED2l92Th5VLQH2utmJ/QUNAUI2XbhLnV0BMN4lBYL1MQFOWIY51MS9Al5APejazVUDKVMGopG43QFD8GHPX8jtAdy0hH/TsREAnoImw4SlGQNjw9EpZJiZAZDvfT42XIEBbsb/sniBXQKHWNO84jUJA0ETY8PRiSUCM22gAb8FUQOkmMQispEtAbAn5oGdrQ0DUmuYdpyBFQG6jAbwFWlBAOGdEaW+UVkBfmEwVjDJRQI0o7Q2+kEtA3nGKjuTy9T8J+aBns+rDP6Tfvg6cu01ATmIQWDnsV0Dgvg6cM4IkQPaX3ZOH5ThA2c73U+MtREBn1edqK3ZLQBlz1xLyGVZAUrgehethS0ADCYofYx42QEku/yH9ylRAK/aX3ZPnOkDNzMzMzIwzQAWjkjoBXTVAmggbnl6hVkAxmSoYlQxPQCuHFtnO99M/PL1SliE+PkBUdCSX/0A/QKHWNO84jUhAZ9Xnaiu2VEA0gLdAguL6P2Dl0CLbUUBAdEaU9gYfEUB56SYxCABQQF3cRgN471NAMCqpE9DUPUCxUGuadxRNQIZa07zjFCBA6pWyDHGs1z8tsp3vp/ZDQGq8dJMYhEVAduCcEaXNOECDwMqhRZZAQGRd3EYDsENA30+Nl26qSkCP5PIf0vdBQJvmHafoaExABoGVQ4vUQUAwuycPC1VFQMHKoUW2U1FAYVRSJ6DJFkB9PzVeusk8QMKGp1fKWldArWnecYo+OkB0JJf/kF4kQMx/SL99XTpAuECC4sdYF0CM22gAb7lGQO2ePCzU/ldANV66SQxmU0D67evAOZNMQGgibHh66VJAE/JBz2ZVJkDhehSuR0VQQAg9m1Wfqy1ARiV1ApqIGUCMSuoENKFAQI9TdCSX/z5AjZduEoPMV0Cxv+yePMxFQLbz/dR4yUFA3GgAb4E0UEBwzojS3phSQB6n6EgufzJAFYxK6gT8Q0DFILByaMlTQM/3U+Olh1FAqz5XW7ETUEDarPpcbcUQQAIrhxbZzvk/ofgx5q5JUEBGtvP91BhEQOOlm8Qg8DpArthfdk/2TEAwuycPC/1VQOkmMQislFZA8kHPZtXPSECu2F92TxZOQMDsnjwsNEtAAU2EDU+LUkBcj8L1KPwqQLbz/dR4qRZAUrgehesZSEAtsp3vp0YFQCh+jLlrOUlAuECC4se4UUAB3gIJih8SQFg5tMh2Hi1ASS7/If1KVUBy+Q/ptztRQERpb/CFUVRAw9MrZRniBkDMXUvIB1VRQO5aQj7oKVZAAU2EDU93S0AqOpLLf3hXQLu4jQbwNklAzH9Iv309SEBNhA1PrxxKQOY/pN++jjxAaQBvgQQFOkB5WKg1zXsyQC7/If32deg/p+hILv9VVUCTqYJRSelTQJm7lpAPYlJAvJaQD3o28z/Mf0i/fc1IQBsN4C2QlFNAPnlYqDWdSkBwXwfOGf1QQKg1zTtOMTVAhetRuB61UUCqglFJnUxSQHxhMlUw6ixAGeJYF7fREkC3Yn/ZPZFUQIbJVMGopPM/8KfGSzeNUEDpSC7/IWFWQEp7gy9MZjVAeekmMQhMJEDChqdXysZXQHh6pSxDeFJAXW3F/rKrQ0D67evAOXtWQMuhRbbzfU5AliGOdXFLUkAkKH6Mua9SQHS1FfvL5kRAUI2XbhKTMEC5jQbwFjRSQKRwPQrXIyxACD2bVZ+XUUAc6+I2GiBBQLaEfNCzUVFAC0YldQLaNUD8GHPXEgJGQAKaCBueXuM/m+Ydp+jISUBv8IXJVNFDQGZmZmZmNjpAswxxrItnVEBO0ZFc/sM9QDy9UpYhylZAZvfkYaFWUEAvbqMBvKUmQBSuR+F6qFdACD2bVZ+rR0AT8kHPZvU8QJM6AU2EfUVAAd4CCYp3UkDPZtXnartEQCSX/5B+WzZAaCJseHo9T0BUdCSX/5AVQPyp8dJNUkpAexSuR+H6FEBWDi2yneNSQCh+jLlrcU1AqmBUUiegOUCDwMqhRfZKQM9m1edqi1VA+FPjpZvEHkDdJAaBldNCQCgPC7WmgUhA6Nms+lzNIUAZ4lgXt4FNQKAaL90k3kxAK/aX3ZMvTECk374OnJNWQAn5oGez6iRA2IFzRpSmM0CHp1fKMkQpQLhAguLHSDVA6bevA+csNECEDU+vlP1QQHuDL0ymyhpA4zYawFtALUARx7q4jSYmQDxO0ZFchlBAV1uxv+w+VEB0tRX7y84tQHzysFBrKk9AT6+UZYjjP0BSSZ2AJvJMQKOSOgFNkFNAyjLEsS7uNkA3iUFg5TxRQLbz/dR4qU5Aklz+Q/pdMkBIv30dOEc4QNzXgXNG9EZABOeMKO1NEkAAb4EExY8NQCJseHqllEVAF0hQ/BhzKkB3LSEf9ExPQJHtfD81vjhApgpGJXU6V0AwTKYKRsVOQB4Wak3zHk5A/yH99nUoUkCHp1fKMsTRP89m1edqKzJACmgibHiqO0BQ/Bhz13pTQCv2l92TR0dAJLn8h/T7VkC9UpYhjhlUQCntDb4wWSNALSEf9GzGVkDVeOkmMYg7QD0K16NwRUtA6SYxCKxkV0AgY+5aQh40QHsUrkfh0lBATtGRXP6zT0C8lpAPelpXQGFUUiegwUVAl/+QfvtWUkARNjy9UmZMQLdif9k9IUhAwTkjSnvbRkBEaW/whR1RQJT2Bl+YKFJARPrt68CRUkD5D+m3r9tFQEoMAiuHjk1ACmgibHh6BEBjf9k9eTBYQE3zjlN0qFJAWMoyxLEWT0Ay5q4l5OdWQEmdgCbCpihAhxbZzvfTOEC7Jw8LtcZDQKvP1Vbs/0FAj+TyH9JvGkBoImx4eg1IQNNNYhBY+VFAS+oENBFmUkDFjzF3LfFBQInS3uAL0zVA3+ALk6myS0BWn6ut2CNYQBpR2ht8iUpA+THmriUEMkCIhVrTvOtPQBIUP8bcbUJAklz+Q/otHEBlqmBUUiNVQPyp8dJNohZAn6ut2F8OWEDwhclUwXhVQNuK/WX3TFJA16NwPQo3JECMSuoENEE9QG+BBMWPJVNAKxiV1AloC0DQ1VbsL1NSQLivA+eMKD1ALpCg+DEuRECGyVTBqJRTQD7o2az61EdA2ht8YTIdSEAj2/l+asxGQDcawFsgbVJAutqK/WW3VkAukKD4MfJVQBNhw9MrAVRAINJvXwd2T0CPwvUoXC9KQBNhw9MrXUtA+FPjpZt8SEA8TtGRXE5KQB+F61G4Bk1AejarPldLTkA2PL1SlvE1QFZ9rrZifzxASOF6FK6HTEBCz2bV5+o5QPT91HjpPlZAYhBYObToOEDgLZCg+BErQOwvuycPs0NA0m9fB84pTUB0JJf/kLZGQEymCkYlDUNAswxxrIvLQ0BxrIvbaBhJQNUJaCJskElAdk8eFmpNM0D2KFyPwhFUQDnWxW006E1ATmIQWDkMVkBHcvkP6Q9BQMPTK2UZgjxA8kHPZtXLVUBLyAc9m4UxQOxRuB6Fe05A1edqK/aTV0A0orQ3+KIjQF8pyxDHOjpAsHJoke04WEDRItv5fipDQDhnRGlvhFBAescpOpIzUEDQs1n1udJXQEXY8PRKUU1AjgbwFkiwP0BzaJHtfK9EQJ7vp8ZLr0dAoBov3SSuREDmP6Tfvg4VQG3F/rJ7ElFAp3nHKTrSG0C1pnnHKfotQFg5tMh2elVA+1xtxf6OVEC+nxov3aRLQLprCfmgtzpAlrIMcawHUkDY8PRKWfYyQOOlm8Qg2E5A1CtlGeK8U0BlqmBUUtdPQCNKe4MvlEhA+8vuycNiQUBIUPwYc7tRQMdLN4lBUERANIC3QIIiH0D8GHPXEgpMQM/3U+OlQ0JAS1mGONYFUEC6awn5oE9BQK62Yn/ZpVNAYTJVMCp5N0ACmggbnnZSQOoENBE2XDRAejarPldb8T91kxgEVtZOQPcGX5hMjUVA8BZIUPzoOEDZzvdT431PQP2H9NvXgSlAwoanV8oyT0BsCfmgZ9tQQHUCmggbpkpAhxbZzvcbQkBrK/aX3WtJQJp3nKIjqTNA6Ugu/yFtOUAOLbKd7wciQDvfT42XpkhAD5wzorSnP0BLyAc9m91CQPhT46WbsFFAOdbFbTTITkBvEoPAyslXQKrx0k1icDBA6pWyDHEkT0D9h/Tb1x1XQO0NvjCZgkFAfGEyVTAqGUBSSZ2AJlZXQEaU9gZf5FNA30+Nl25iN0BDHOviNrpIQAfOGVHaazlAFR3J5T/IUUCyLm6jAbwEQFUwKqkTOE5AhjjWxW1cUkCGWtO840Q8QJF++zpwTgVAfGEyVTDyUUBJnYAmwkZQQBB6Nqs+j0lAeJyiI7ncRkBPHhZqTa9XQDGZKhiVKFhA1JrmHadIT0BxrIvbaFRTQJqZmZmZ2SlAhlrTvOOEQUBoImx4eo1BQFMFo5I6SUNAJLn8h/TrRkBuNIC3QBpLQAWjkjoBRU9ApHA9CtezVkCWsgxxrIs6QDojSnuDN0dAAAAAAABgSkAdWmQ73z9WQL1SliGOdeM/zO7Jw0LlQ0BEi2zn+3FSQNV46SYxdFFAumsJ+aCHTUCamZmZmSFKQA4tsp3vp1BARIts5/spLEC30QDeAmklQG40gLdATlFAzTtO0ZHMSkBEaW/whTlXQC2yne+nZiRAqRPQRNgwMUDvycNCrdk3QKvP1VbsLyZAEqW9wReKU0CcxCCwcjxVQHe+nxovbVZAj+TyH9I3SkC8dJMYBCZQQN4CCYof21NA9+RhodbUQ0BKDAIrhz5QQFInoImwyVFACRueXik7MkBKe4MvTOZTQA5Pr5RlCCJA0LNZ9bl6P0AGgZVDi4wwQKd5xyk6/lVAo5I6AU2UMUDufD81XnJFQD9XW7G/LEVAW0I+6NmcRkBWDi2ynW8oQDEIrBxaREFALUMc6+J+SkBd/kP67bNMQAskKH6MCTpAcT0K16O8VEBPHhZqTa9QQJvmHafoaFFAzojS3uDzRkAH8BZIUCREQGiR7Xw/9UxAWvW52orxV0Ba9bnaiv0kQMxdS8gH7UNAAiuHFtmyUkDiWBe30dBVQH4dOGdEGT5AWvW52ootV0AwKqkT0GQnQCL99nXgnB5Avp8aL92kJEDzjlN0JGc5QMbctYR8cEJAImx4eqUcP0BF2PD0SgFIQPp+arx0l1dATYQNT68UEkD2KFyPwi1OQCUGgZVD+09AysNCrWne7T/XNO84RR9YQA5Pr5RlqFRAuB6F61FEVkB7gy9MpjpPQOwvuycP01RA3gIJih8jREC+nxov3cQrQLaEfNCzuUBASgwCK4eyV0DvOEVHcglGQOtztRX7yw5AmpmZmZnBR0AZc9cS8sVQQKW9wRcmS0NAIv32deAMTUAGgZVDi9RJQLWmeccp5lFAL26jAbytU0CgGi/dJMpUQA==",
          "dtype": "f8"
         },
         "y0": " ",
         "yaxis": "y4"
        },
        {
         "alignmentgroup": "True",
         "hovertemplate": "Area=Area5<br>Category=%{x}<br>Incremental Profit=%{y}<extra></extra>",
         "legendgroup": "",
         "marker": {
          "color": "#636efa"
         },
         "name": "",
         "notched": false,
         "offsetgroup": "",
         "orientation": "v",
         "showlegend": false,
         "type": "box",
         "x": [
          "Child",
          "Child",
          "Child",
          "Child",
          "Child",
          "Child",
          "Child",
          "Child",
          "Child",
          "Child",
          "Child",
          "Child",
          "Child",
          "Child",
          "Child",
          "Child",
          "Child",
          "Child",
          "Child",
          "Child",
          "Child",
          "Child",
          "Child",
          "Child",
          "Child",
          "Child",
          "Child",
          "Child",
          "Child",
          "Child",
          "Child",
          "Child",
          "Child",
          "Child",
          "Child",
          "Child",
          "Child",
          "Child",
          "Child",
          "Child",
          "Child",
          "Child",
          "Child",
          "Child",
          "Child",
          "Child",
          "Child",
          "Child",
          "Child",
          "Adult",
          "Adult",
          "Adult",
          "Adult",
          "Adult",
          "Adult",
          "Adult",
          "Adult",
          "Adult",
          "Adult",
          "Adult",
          "Adult",
          "Adult",
          "Adult",
          "Adult",
          "Adult",
          "Adult",
          "Adult",
          "Adult",
          "Adult",
          "Adult",
          "Adult",
          "Adult",
          "Adult",
          "Adult",
          "Adult",
          "Adult",
          "Adult",
          "Adult",
          "Adult",
          "Adult",
          "Adult",
          "Adult",
          "Adult",
          "Adult",
          "Adult",
          "Adult",
          "Adult",
          "Adult",
          "Adult",
          "Adult",
          "Electric",
          "Electric",
          "Electric",
          "Electric",
          "Electric",
          "Electric",
          "Electric",
          "Electric",
          "Electric",
          "Electric",
          "Electric",
          "Electric",
          "Electric",
          "Electric",
          "Electric",
          "Electric",
          "Electric",
          "Electric",
          "Electric",
          "Electric",
          "Electric",
          "Electric",
          "Electric",
          "Electric",
          "Electric",
          "Electric",
          "Electric",
          "Electric",
          "Electric",
          "Electric",
          "Electric",
          "Electric",
          "Electric",
          "Electric",
          "Electric",
          "Electric",
          "Electric",
          "Electric",
          "Electric",
          "Electric",
          "Electric",
          "Electric",
          "Electric",
          "Electric",
          "Racing",
          "Racing",
          "Racing",
          "Racing",
          "Racing",
          "Racing",
          "Racing",
          "Racing",
          "Racing",
          "Racing",
          "Racing",
          "Racing",
          "Racing",
          "Racing",
          "Racing",
          "Racing",
          "Racing",
          "Racing",
          "Racing",
          "Racing",
          "Racing",
          "Racing",
          "Racing",
          "Racing",
          "Racing",
          "Racing",
          "Racing",
          "Racing",
          "Racing",
          "Racing",
          "Racing",
          "Racing",
          "Racing",
          "Racing",
          "Racing",
          "Racing",
          "Racing",
          "Racing",
          "Racing",
          "Racing",
          "Racing",
          "Racing",
          "Racing",
          "Racing",
          "Racing",
          "Racing",
          "Mountain",
          "Mountain",
          "Mountain",
          "Mountain",
          "Mountain",
          "Mountain",
          "Mountain",
          "Mountain",
          "Mountain",
          "Mountain",
          "Mountain",
          "Mountain",
          "Mountain",
          "Mountain",
          "Mountain",
          "Mountain",
          "Mountain",
          "Mountain",
          "Mountain",
          "Mountain",
          "Mountain",
          "Mountain",
          "Mountain",
          "Mountain",
          "Mountain",
          "Mountain",
          "Mountain",
          "Mountain",
          "Mountain",
          "Mountain",
          "Mountain",
          "Mountain",
          "Mountain",
          "Mountain",
          "Mountain",
          "Mountain",
          "Mountain",
          "Mountain",
          "Mountain",
          "Mountain",
          "Mountain",
          "Mountain",
          "Tricycle",
          "Tricycle",
          "Tricycle",
          "Tricycle",
          "Tricycle",
          "Tricycle",
          "Tricycle",
          "Tricycle",
          "Tricycle",
          "Tricycle",
          "Tricycle",
          "Tricycle",
          "Tricycle",
          "Tricycle",
          "Tricycle",
          "Tricycle",
          "Tricycle",
          "Tricycle",
          "Tricycle",
          "Tricycle",
          "Tricycle",
          "Tricycle",
          "Tricycle",
          "Tricycle",
          "Tricycle",
          "Tricycle",
          "Tricycle",
          "Tricycle",
          "Tricycle",
          "Tricycle",
          "Tricycle",
          "Tricycle",
          "Tricycle",
          "Tricycle",
          "Tricycle",
          "Tricycle",
          "Tricycle",
          "Tricycle",
          "Tricycle",
          "Tricycle",
          "Tricycle",
          "Tricycle",
          "Tricycle",
          "Tricycle",
          "Tricycle",
          "Tricycle",
          "Tricycle",
          "Tricycle"
         ],
         "x0": " ",
         "xaxis": "x5",
         "y": {
          "bdata": "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",
          "dtype": "f8"
         },
         "y0": " ",
         "yaxis": "y5"
        },
        {
         "alignmentgroup": "True",
         "hovertemplate": "Area=Area6<br>Category=%{x}<br>Incremental Profit=%{y}<extra></extra>",
         "legendgroup": "",
         "marker": {
          "color": "#636efa"
         },
         "name": "",
         "notched": false,
         "offsetgroup": "",
         "orientation": "v",
         "showlegend": false,
         "type": "box",
         "x": [
          "Child",
          "Child",
          "Child",
          "Child",
          "Child",
          "Child",
          "Child",
          "Child",
          "Child",
          "Child",
          "Child",
          "Child",
          "Child",
          "Child",
          "Child",
          "Child",
          "Child",
          "Child",
          "Child",
          "Child",
          "Child",
          "Child",
          "Child",
          "Child",
          "Child",
          "Child",
          "Child",
          "Child",
          "Child",
          "Child",
          "Child",
          "Child",
          "Child",
          "Child",
          "Child",
          "Child",
          "Child",
          "Child",
          "Child",
          "Child",
          "Child",
          "Child",
          "Child",
          "Child",
          "Child",
          "Child",
          "Child",
          "Child",
          "Child",
          "Child",
          "Child",
          "Child",
          "Child",
          "Child",
          "Child",
          "Child",
          "Child",
          "Child",
          "Child",
          "Child",
          "Child",
          "Child",
          "Child",
          "Child",
          "Child",
          "Child",
          "Child",
          "Child",
          "Child",
          "Child",
          "Child",
          "Child",
          "Child",
          "Child",
          "Child",
          "Child",
          "Child",
          "Child",
          "Child",
          "Child",
          "Adult",
          "Adult",
          "Adult",
          "Adult",
          "Adult",
          "Adult",
          "Adult",
          "Adult",
          "Adult",
          "Adult",
          "Adult",
          "Adult",
          "Adult",
          "Adult",
          "Adult",
          "Adult",
          "Adult",
          "Adult",
          "Adult",
          "Adult",
          "Adult",
          "Adult",
          "Adult",
          "Adult",
          "Adult",
          "Adult",
          "Adult",
          "Adult",
          "Adult",
          "Adult",
          "Adult",
          "Adult",
          "Adult",
          "Adult",
          "Adult",
          "Adult",
          "Adult",
          "Adult",
          "Adult",
          "Adult",
          "Adult",
          "Adult",
          "Adult",
          "Adult",
          "Adult",
          "Adult",
          "Adult",
          "Adult",
          "Adult",
          "Adult",
          "Adult",
          "Adult",
          "Adult",
          "Adult",
          "Adult",
          "Adult",
          "Adult",
          "Adult",
          "Adult",
          "Adult",
          "Adult",
          "Adult",
          "Adult",
          "Adult",
          "Adult",
          "Adult",
          "Adult",
          "Adult",
          "Adult",
          "Adult",
          "Adult",
          "Adult",
          "Adult",
          "Adult",
          "Adult",
          "Adult",
          "Adult",
          "Adult",
          "Adult",
          "Adult",
          "Adult",
          "Adult",
          "Adult",
          "Adult",
          "Electric",
          "Electric",
          "Electric",
          "Electric",
          "Electric",
          "Electric",
          "Electric",
          "Electric",
          "Electric",
          "Electric",
          "Electric",
          "Electric",
          "Electric",
          "Electric",
          "Electric",
          "Electric",
          "Electric",
          "Electric",
          "Electric",
          "Electric",
          "Electric",
          "Electric",
          "Electric",
          "Electric",
          "Electric",
          "Electric",
          "Electric",
          "Electric",
          "Electric",
          "Electric",
          "Electric",
          "Electric",
          "Electric",
          "Electric",
          "Electric",
          "Electric",
          "Electric",
          "Electric",
          "Electric",
          "Electric",
          "Electric",
          "Electric",
          "Electric",
          "Electric",
          "Electric",
          "Electric",
          "Electric",
          "Electric",
          "Electric",
          "Electric",
          "Electric",
          "Electric",
          "Electric",
          "Electric",
          "Electric",
          "Electric",
          "Electric",
          "Electric",
          "Electric",
          "Electric",
          "Electric",
          "Electric",
          "Electric",
          "Electric",
          "Electric",
          "Electric",
          "Electric",
          "Electric",
          "Electric",
          "Electric",
          "Electric",
          "Electric",
          "Electric",
          "Electric",
          "Electric",
          "Electric",
          "Electric",
          "Electric",
          "Electric",
          "Electric",
          "Electric",
          "Electric",
          "Electric",
          "Electric",
          "Electric",
          "Electric",
          "Electric",
          "Electric",
          "Electric",
          "Electric",
          "Electric",
          "Electric",
          "Electric",
          "Electric",
          "Electric",
          "Electric",
          "Electric",
          "Racing",
          "Racing",
          "Racing",
          "Racing",
          "Racing",
          "Racing",
          "Racing",
          "Racing",
          "Racing",
          "Racing",
          "Racing",
          "Racing",
          "Racing",
          "Racing",
          "Racing",
          "Racing",
          "Racing",
          "Racing",
          "Racing",
          "Racing",
          "Racing",
          "Racing",
          "Racing",
          "Racing",
          "Racing",
          "Racing",
          "Racing",
          "Racing",
          "Racing",
          "Racing",
          "Racing",
          "Racing",
          "Racing",
          "Racing",
          "Racing",
          "Racing",
          "Racing",
          "Racing",
          "Racing",
          "Racing",
          "Racing",
          "Racing",
          "Racing",
          "Racing",
          "Racing",
          "Racing",
          "Racing",
          "Racing",
          "Racing",
          "Racing",
          "Racing",
          "Racing",
          "Racing",
          "Racing",
          "Racing",
          "Racing",
          "Racing",
          "Racing",
          "Racing",
          "Racing",
          "Racing",
          "Racing",
          "Racing",
          "Racing",
          "Racing",
          "Racing",
          "Racing",
          "Racing",
          "Racing",
          "Racing",
          "Racing",
          "Racing",
          "Racing",
          "Racing",
          "Mountain",
          "Mountain",
          "Mountain",
          "Mountain",
          "Mountain",
          "Mountain",
          "Mountain",
          "Mountain",
          "Mountain",
          "Mountain",
          "Mountain",
          "Mountain",
          "Mountain",
          "Mountain",
          "Mountain",
          "Mountain",
          "Mountain",
          "Mountain",
          "Mountain",
          "Mountain",
          "Mountain",
          "Mountain",
          "Mountain",
          "Mountain",
          "Mountain",
          "Mountain",
          "Mountain",
          "Mountain",
          "Mountain",
          "Mountain",
          "Mountain",
          "Mountain",
          "Mountain",
          "Mountain",
          "Mountain",
          "Mountain",
          "Mountain",
          "Mountain",
          "Mountain",
          "Mountain",
          "Mountain",
          "Mountain",
          "Mountain",
          "Mountain",
          "Mountain",
          "Mountain",
          "Mountain",
          "Mountain",
          "Mountain",
          "Mountain",
          "Mountain",
          "Mountain",
          "Mountain",
          "Mountain",
          "Mountain",
          "Mountain",
          "Mountain",
          "Mountain",
          "Mountain",
          "Mountain",
          "Mountain",
          "Mountain",
          "Mountain",
          "Mountain",
          "Mountain",
          "Mountain",
          "Mountain",
          "Mountain",
          "Mountain",
          "Mountain",
          "Mountain",
          "Mountain",
          "Mountain",
          "Mountain",
          "Mountain",
          "Mountain",
          "Mountain",
          "Mountain",
          "Mountain",
          "Mountain",
          "Mountain",
          "Tricycle",
          "Tricycle",
          "Tricycle",
          "Tricycle",
          "Tricycle",
          "Tricycle",
          "Tricycle",
          "Tricycle",
          "Tricycle",
          "Tricycle",
          "Tricycle",
          "Tricycle",
          "Tricycle",
          "Tricycle",
          "Tricycle",
          "Tricycle",
          "Tricycle",
          "Tricycle",
          "Tricycle",
          "Tricycle",
          "Tricycle",
          "Tricycle",
          "Tricycle",
          "Tricycle",
          "Tricycle",
          "Tricycle",
          "Tricycle",
          "Tricycle",
          "Tricycle",
          "Tricycle",
          "Tricycle",
          "Tricycle",
          "Tricycle",
          "Tricycle",
          "Tricycle",
          "Tricycle",
          "Tricycle",
          "Tricycle",
          "Tricycle",
          "Tricycle",
          "Tricycle",
          "Tricycle",
          "Tricycle",
          "Tricycle",
          "Tricycle",
          "Tricycle",
          "Tricycle",
          "Tricycle",
          "Tricycle",
          "Tricycle",
          "Tricycle",
          "Tricycle",
          "Tricycle",
          "Tricycle",
          "Tricycle",
          "Tricycle",
          "Tricycle",
          "Tricycle",
          "Tricycle",
          "Tricycle",
          "Tricycle",
          "Tricycle",
          "Tricycle",
          "Tricycle",
          "Tricycle",
          "Tricycle",
          "Tricycle",
          "Tricycle",
          "Tricycle",
          "Tricycle",
          "Tricycle"
         ],
         "x0": " ",
         "xaxis": "x6",
         "y": {
          "bdata": "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",
          "dtype": "f8"
         },
         "y0": " ",
         "yaxis": "y6"
        },
        {
         "alignmentgroup": "True",
         "hovertemplate": "Area=Area7<br>Category=%{x}<br>Incremental Profit=%{y}<extra></extra>",
         "legendgroup": "",
         "marker": {
          "color": "#636efa"
         },
         "name": "",
         "notched": false,
         "offsetgroup": "",
         "orientation": "v",
         "showlegend": false,
         "type": "box",
         "x": [
          "Child",
          "Child",
          "Child",
          "Child",
          "Child",
          "Child",
          "Child",
          "Child",
          "Child",
          "Child",
          "Child",
          "Child",
          "Child",
          "Child",
          "Child",
          "Child",
          "Child",
          "Child",
          "Child",
          "Child",
          "Child",
          "Child",
          "Child",
          "Child",
          "Child",
          "Child",
          "Child",
          "Child",
          "Child",
          "Child",
          "Child",
          "Child",
          "Child",
          "Child",
          "Child",
          "Child",
          "Child",
          "Child",
          "Child",
          "Child",
          "Child",
          "Child",
          "Child",
          "Child",
          "Child",
          "Child",
          "Child",
          "Child",
          "Child",
          "Child",
          "Adult",
          "Adult",
          "Adult",
          "Adult",
          "Adult",
          "Adult",
          "Adult",
          "Adult",
          "Adult",
          "Adult",
          "Adult",
          "Adult",
          "Adult",
          "Adult",
          "Adult",
          "Adult",
          "Adult",
          "Adult",
          "Adult",
          "Adult",
          "Adult",
          "Adult",
          "Adult",
          "Adult",
          "Adult",
          "Adult",
          "Adult",
          "Adult",
          "Adult",
          "Adult",
          "Adult",
          "Adult",
          "Adult",
          "Adult",
          "Adult",
          "Adult",
          "Adult",
          "Adult",
          "Adult",
          "Adult",
          "Adult",
          "Adult",
          "Adult",
          "Adult",
          "Adult",
          "Adult",
          "Adult",
          "Adult",
          "Adult",
          "Adult",
          "Adult",
          "Adult",
          "Adult",
          "Adult",
          "Adult",
          "Adult",
          "Electric",
          "Electric",
          "Electric",
          "Electric",
          "Electric",
          "Electric",
          "Electric",
          "Electric",
          "Electric",
          "Electric",
          "Electric",
          "Electric",
          "Electric",
          "Electric",
          "Electric",
          "Electric",
          "Electric",
          "Electric",
          "Electric",
          "Electric",
          "Electric",
          "Electric",
          "Electric",
          "Electric",
          "Electric",
          "Electric",
          "Electric",
          "Electric",
          "Electric",
          "Electric",
          "Electric",
          "Electric",
          "Electric",
          "Electric",
          "Electric",
          "Electric",
          "Electric",
          "Electric",
          "Electric",
          "Electric",
          "Electric",
          "Electric",
          "Electric",
          "Electric",
          "Electric",
          "Electric",
          "Electric",
          "Electric",
          "Electric",
          "Electric",
          "Electric",
          "Electric",
          "Electric",
          "Electric",
          "Electric",
          "Electric",
          "Electric",
          "Electric",
          "Electric",
          "Racing",
          "Racing",
          "Racing",
          "Racing",
          "Racing",
          "Racing",
          "Racing",
          "Racing",
          "Racing",
          "Racing",
          "Racing",
          "Racing",
          "Racing",
          "Racing",
          "Racing",
          "Racing",
          "Racing",
          "Racing",
          "Racing",
          "Racing",
          "Racing",
          "Racing",
          "Racing",
          "Racing",
          "Racing",
          "Racing",
          "Racing",
          "Racing",
          "Racing",
          "Racing",
          "Racing",
          "Racing",
          "Racing",
          "Racing",
          "Racing",
          "Racing",
          "Racing",
          "Racing",
          "Racing",
          "Racing",
          "Racing",
          "Racing",
          "Racing",
          "Racing",
          "Racing",
          "Racing",
          "Racing",
          "Racing",
          "Racing",
          "Racing",
          "Racing",
          "Racing",
          "Racing",
          "Racing",
          "Racing",
          "Racing",
          "Racing",
          "Mountain",
          "Mountain",
          "Mountain",
          "Mountain",
          "Mountain",
          "Mountain",
          "Mountain",
          "Mountain",
          "Mountain",
          "Mountain",
          "Mountain",
          "Mountain",
          "Mountain",
          "Mountain",
          "Mountain",
          "Mountain",
          "Mountain",
          "Mountain",
          "Mountain",
          "Mountain",
          "Mountain",
          "Mountain",
          "Mountain",
          "Mountain",
          "Mountain",
          "Mountain",
          "Mountain",
          "Mountain",
          "Mountain",
          "Mountain",
          "Mountain",
          "Mountain",
          "Mountain",
          "Mountain",
          "Mountain",
          "Mountain",
          "Mountain",
          "Mountain",
          "Mountain",
          "Mountain",
          "Mountain",
          "Mountain",
          "Mountain",
          "Mountain",
          "Mountain",
          "Mountain",
          "Mountain",
          "Mountain",
          "Mountain",
          "Mountain",
          "Mountain",
          "Mountain",
          "Mountain",
          "Mountain",
          "Mountain",
          "Mountain",
          "Mountain",
          "Mountain",
          "Mountain",
          "Tricycle",
          "Tricycle",
          "Tricycle",
          "Tricycle",
          "Tricycle",
          "Tricycle",
          "Tricycle",
          "Tricycle",
          "Tricycle",
          "Tricycle",
          "Tricycle",
          "Tricycle",
          "Tricycle",
          "Tricycle",
          "Tricycle",
          "Tricycle",
          "Tricycle",
          "Tricycle",
          "Tricycle",
          "Tricycle",
          "Tricycle",
          "Tricycle",
          "Tricycle",
          "Tricycle",
          "Tricycle",
          "Tricycle",
          "Tricycle",
          "Tricycle",
          "Tricycle",
          "Tricycle",
          "Tricycle",
          "Tricycle",
          "Tricycle",
          "Tricycle",
          "Tricycle",
          "Tricycle",
          "Tricycle",
          "Tricycle",
          "Tricycle",
          "Tricycle",
          "Tricycle",
          "Tricycle",
          "Tricycle",
          "Tricycle",
          "Tricycle",
          "Tricycle",
          "Tricycle",
          "Tricycle",
          "Tricycle",
          "Tricycle",
          "Tricycle",
          "Tricycle"
         ],
         "x0": " ",
         "xaxis": "x7",
         "y": {
          "bdata": "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",
          "dtype": "f8"
         },
         "y0": " ",
         "yaxis": "y7"
        }
       ],
       "layout": {
        "annotations": [
         {
          "font": {},
          "showarrow": false,
          "text": "Area=Area1",
          "x": 0.06285714285714285,
          "xanchor": "center",
          "xref": "paper",
          "y": 1,
          "yanchor": "bottom",
          "yref": "paper"
         },
         {
          "font": {},
          "showarrow": false,
          "text": "Area=Area2",
          "x": 0.20857142857142852,
          "xanchor": "center",
          "xref": "paper",
          "y": 1,
          "yanchor": "bottom",
          "yref": "paper"
         },
         {
          "font": {},
          "showarrow": false,
          "text": "Area=Area3",
          "x": 0.3542857142857142,
          "xanchor": "center",
          "xref": "paper",
          "y": 1,
          "yanchor": "bottom",
          "yref": "paper"
         },
         {
          "font": {},
          "showarrow": false,
          "text": "Area=Area4",
          "x": 0.5,
          "xanchor": "center",
          "xref": "paper",
          "y": 1,
          "yanchor": "bottom",
          "yref": "paper"
         },
         {
          "font": {},
          "showarrow": false,
          "text": "Area=Area5",
          "x": 0.6457142857142856,
          "xanchor": "center",
          "xref": "paper",
          "y": 1,
          "yanchor": "bottom",
          "yref": "paper"
         },
         {
          "font": {},
          "showarrow": false,
          "text": "Area=Area6",
          "x": 0.7914285714285713,
          "xanchor": "center",
          "xref": "paper",
          "y": 1,
          "yanchor": "bottom",
          "yref": "paper"
         },
         {
          "font": {},
          "showarrow": false,
          "text": "Area=Area7",
          "x": 0.9371428571428569,
          "xanchor": "center",
          "xref": "paper",
          "y": 1,
          "yanchor": "bottom",
          "yref": "paper"
         }
        ],
        "boxmode": "group",
        "legend": {
         "tracegroupgap": 0
        },
        "template": {
         "data": {
          "bar": [
           {
            "error_x": {
             "color": "#2a3f5f"
            },
            "error_y": {
             "color": "#2a3f5f"
            },
            "marker": {
             "line": {
              "color": "#E5ECF6",
              "width": 0.5
             },
             "pattern": {
              "fillmode": "overlay",
              "size": 10,
              "solidity": 0.2
             }
            },
            "type": "bar"
           }
          ],
          "barpolar": [
           {
            "marker": {
             "line": {
              "color": "#E5ECF6",
              "width": 0.5
             },
             "pattern": {
              "fillmode": "overlay",
              "size": 10,
              "solidity": 0.2
             }
            },
            "type": "barpolar"
           }
          ],
          "carpet": [
           {
            "aaxis": {
             "endlinecolor": "#2a3f5f",
             "gridcolor": "white",
             "linecolor": "white",
             "minorgridcolor": "white",
             "startlinecolor": "#2a3f5f"
            },
            "baxis": {
             "endlinecolor": "#2a3f5f",
             "gridcolor": "white",
             "linecolor": "white",
             "minorgridcolor": "white",
             "startlinecolor": "#2a3f5f"
            },
            "type": "carpet"
           }
          ],
          "choropleth": [
           {
            "colorbar": {
             "outlinewidth": 0,
             "ticks": ""
            },
            "type": "choropleth"
           }
          ],
          "contour": [
           {
            "colorbar": {
             "outlinewidth": 0,
             "ticks": ""
            },
            "colorscale": [
             [
              0,
              "#0d0887"
             ],
             [
              0.1111111111111111,
              "#46039f"
             ],
             [
              0.2222222222222222,
              "#7201a8"
             ],
             [
              0.3333333333333333,
              "#9c179e"
             ],
             [
              0.4444444444444444,
              "#bd3786"
             ],
             [
              0.5555555555555556,
              "#d8576b"
             ],
             [
              0.6666666666666666,
              "#ed7953"
             ],
             [
              0.7777777777777778,
              "#fb9f3a"
             ],
             [
              0.8888888888888888,
              "#fdca26"
             ],
             [
              1,
              "#f0f921"
             ]
            ],
            "type": "contour"
           }
          ],
          "contourcarpet": [
           {
            "colorbar": {
             "outlinewidth": 0,
             "ticks": ""
            },
            "type": "contourcarpet"
           }
          ],
          "heatmap": [
           {
            "colorbar": {
             "outlinewidth": 0,
             "ticks": ""
            },
            "colorscale": [
             [
              0,
              "#0d0887"
             ],
             [
              0.1111111111111111,
              "#46039f"
             ],
             [
              0.2222222222222222,
              "#7201a8"
             ],
             [
              0.3333333333333333,
              "#9c179e"
             ],
             [
              0.4444444444444444,
              "#bd3786"
             ],
             [
              0.5555555555555556,
              "#d8576b"
             ],
             [
              0.6666666666666666,
              "#ed7953"
             ],
             [
              0.7777777777777778,
              "#fb9f3a"
             ],
             [
              0.8888888888888888,
              "#fdca26"
             ],
             [
              1,
              "#f0f921"
             ]
            ],
            "type": "heatmap"
           }
          ],
          "histogram": [
           {
            "marker": {
             "pattern": {
              "fillmode": "overlay",
              "size": 10,
              "solidity": 0.2
             }
            },
            "type": "histogram"
           }
          ],
          "histogram2d": [
           {
            "colorbar": {
             "outlinewidth": 0,
             "ticks": ""
            },
            "colorscale": [
             [
              0,
              "#0d0887"
             ],
             [
              0.1111111111111111,
              "#46039f"
             ],
             [
              0.2222222222222222,
              "#7201a8"
             ],
             [
              0.3333333333333333,
              "#9c179e"
             ],
             [
              0.4444444444444444,
              "#bd3786"
             ],
             [
              0.5555555555555556,
              "#d8576b"
             ],
             [
              0.6666666666666666,
              "#ed7953"
             ],
             [
              0.7777777777777778,
              "#fb9f3a"
             ],
             [
              0.8888888888888888,
              "#fdca26"
             ],
             [
              1,
              "#f0f921"
             ]
            ],
            "type": "histogram2d"
           }
          ],
          "histogram2dcontour": [
           {
            "colorbar": {
             "outlinewidth": 0,
             "ticks": ""
            },
            "colorscale": [
             [
              0,
              "#0d0887"
             ],
             [
              0.1111111111111111,
              "#46039f"
             ],
             [
              0.2222222222222222,
              "#7201a8"
             ],
             [
              0.3333333333333333,
              "#9c179e"
             ],
             [
              0.4444444444444444,
              "#bd3786"
             ],
             [
              0.5555555555555556,
              "#d8576b"
             ],
             [
              0.6666666666666666,
              "#ed7953"
             ],
             [
              0.7777777777777778,
              "#fb9f3a"
             ],
             [
              0.8888888888888888,
              "#fdca26"
             ],
             [
              1,
              "#f0f921"
             ]
            ],
            "type": "histogram2dcontour"
           }
          ],
          "mesh3d": [
           {
            "colorbar": {
             "outlinewidth": 0,
             "ticks": ""
            },
            "type": "mesh3d"
           }
          ],
          "parcoords": [
           {
            "line": {
             "colorbar": {
              "outlinewidth": 0,
              "ticks": ""
             }
            },
            "type": "parcoords"
           }
          ],
          "pie": [
           {
            "automargin": true,
            "type": "pie"
           }
          ],
          "scatter": [
           {
            "fillpattern": {
             "fillmode": "overlay",
             "size": 10,
             "solidity": 0.2
            },
            "type": "scatter"
           }
          ],
          "scatter3d": [
           {
            "line": {
             "colorbar": {
              "outlinewidth": 0,
              "ticks": ""
             }
            },
            "marker": {
             "colorbar": {
              "outlinewidth": 0,
              "ticks": ""
             }
            },
            "type": "scatter3d"
           }
          ],
          "scattercarpet": [
           {
            "marker": {
             "colorbar": {
              "outlinewidth": 0,
              "ticks": ""
             }
            },
            "type": "scattercarpet"
           }
          ],
          "scattergeo": [
           {
            "marker": {
             "colorbar": {
              "outlinewidth": 0,
              "ticks": ""
             }
            },
            "type": "scattergeo"
           }
          ],
          "scattergl": [
           {
            "marker": {
             "colorbar": {
              "outlinewidth": 0,
              "ticks": ""
             }
            },
            "type": "scattergl"
           }
          ],
          "scattermap": [
           {
            "marker": {
             "colorbar": {
              "outlinewidth": 0,
              "ticks": ""
             }
            },
            "type": "scattermap"
           }
          ],
          "scattermapbox": [
           {
            "marker": {
             "colorbar": {
              "outlinewidth": 0,
              "ticks": ""
             }
            },
            "type": "scattermapbox"
           }
          ],
          "scatterpolar": [
           {
            "marker": {
             "colorbar": {
              "outlinewidth": 0,
              "ticks": ""
             }
            },
            "type": "scatterpolar"
           }
          ],
          "scatterpolargl": [
           {
            "marker": {
             "colorbar": {
              "outlinewidth": 0,
              "ticks": ""
             }
            },
            "type": "scatterpolargl"
           }
          ],
          "scatterternary": [
           {
            "marker": {
             "colorbar": {
              "outlinewidth": 0,
              "ticks": ""
             }
            },
            "type": "scatterternary"
           }
          ],
          "surface": [
           {
            "colorbar": {
             "outlinewidth": 0,
             "ticks": ""
            },
            "colorscale": [
             [
              0,
              "#0d0887"
             ],
             [
              0.1111111111111111,
              "#46039f"
             ],
             [
              0.2222222222222222,
              "#7201a8"
             ],
             [
              0.3333333333333333,
              "#9c179e"
             ],
             [
              0.4444444444444444,
              "#bd3786"
             ],
             [
              0.5555555555555556,
              "#d8576b"
             ],
             [
              0.6666666666666666,
              "#ed7953"
             ],
             [
              0.7777777777777778,
              "#fb9f3a"
             ],
             [
              0.8888888888888888,
              "#fdca26"
             ],
             [
              1,
              "#f0f921"
             ]
            ],
            "type": "surface"
           }
          ],
          "table": [
           {
            "cells": {
             "fill": {
              "color": "#EBF0F8"
             },
             "line": {
              "color": "white"
             }
            },
            "header": {
             "fill": {
              "color": "#C8D4E3"
             },
             "line": {
              "color": "white"
             }
            },
            "type": "table"
           }
          ]
         },
         "layout": {
          "annotationdefaults": {
           "arrowcolor": "#2a3f5f",
           "arrowhead": 0,
           "arrowwidth": 1
          },
          "autotypenumbers": "strict",
          "coloraxis": {
           "colorbar": {
            "outlinewidth": 0,
            "ticks": ""
           }
          },
          "colorscale": {
           "diverging": [
            [
             0,
             "#8e0152"
            ],
            [
             0.1,
             "#c51b7d"
            ],
            [
             0.2,
             "#de77ae"
            ],
            [
             0.3,
             "#f1b6da"
            ],
            [
             0.4,
             "#fde0ef"
            ],
            [
             0.5,
             "#f7f7f7"
            ],
            [
             0.6,
             "#e6f5d0"
            ],
            [
             0.7,
             "#b8e186"
            ],
            [
             0.8,
             "#7fbc41"
            ],
            [
             0.9,
             "#4d9221"
            ],
            [
             1,
             "#276419"
            ]
           ],
           "sequential": [
            [
             0,
             "#0d0887"
            ],
            [
             0.1111111111111111,
             "#46039f"
            ],
            [
             0.2222222222222222,
             "#7201a8"
            ],
            [
             0.3333333333333333,
             "#9c179e"
            ],
            [
             0.4444444444444444,
             "#bd3786"
            ],
            [
             0.5555555555555556,
             "#d8576b"
            ],
            [
             0.6666666666666666,
             "#ed7953"
            ],
            [
             0.7777777777777778,
             "#fb9f3a"
            ],
            [
             0.8888888888888888,
             "#fdca26"
            ],
            [
             1,
             "#f0f921"
            ]
           ],
           "sequentialminus": [
            [
             0,
             "#0d0887"
            ],
            [
             0.1111111111111111,
             "#46039f"
            ],
            [
             0.2222222222222222,
             "#7201a8"
            ],
            [
             0.3333333333333333,
             "#9c179e"
            ],
            [
             0.4444444444444444,
             "#bd3786"
            ],
            [
             0.5555555555555556,
             "#d8576b"
            ],
            [
             0.6666666666666666,
             "#ed7953"
            ],
            [
             0.7777777777777778,
             "#fb9f3a"
            ],
            [
             0.8888888888888888,
             "#fdca26"
            ],
            [
             1,
             "#f0f921"
            ]
           ]
          },
          "colorway": [
           "#636efa",
           "#EF553B",
           "#00cc96",
           "#ab63fa",
           "#FFA15A",
           "#19d3f3",
           "#FF6692",
           "#B6E880",
           "#FF97FF",
           "#FECB52"
          ],
          "font": {
           "color": "#2a3f5f"
          },
          "geo": {
           "bgcolor": "white",
           "lakecolor": "white",
           "landcolor": "#E5ECF6",
           "showlakes": true,
           "showland": true,
           "subunitcolor": "white"
          },
          "hoverlabel": {
           "align": "left"
          },
          "hovermode": "closest",
          "mapbox": {
           "style": "light"
          },
          "paper_bgcolor": "white",
          "plot_bgcolor": "#E5ECF6",
          "polar": {
           "angularaxis": {
            "gridcolor": "white",
            "linecolor": "white",
            "ticks": ""
           },
           "bgcolor": "#E5ECF6",
           "radialaxis": {
            "gridcolor": "white",
            "linecolor": "white",
            "ticks": ""
           }
          },
          "scene": {
           "xaxis": {
            "backgroundcolor": "#E5ECF6",
            "gridcolor": "white",
            "gridwidth": 2,
            "linecolor": "white",
            "showbackground": true,
            "ticks": "",
            "zerolinecolor": "white"
           },
           "yaxis": {
            "backgroundcolor": "#E5ECF6",
            "gridcolor": "white",
            "gridwidth": 2,
            "linecolor": "white",
            "showbackground": true,
            "ticks": "",
            "zerolinecolor": "white"
           },
           "zaxis": {
            "backgroundcolor": "#E5ECF6",
            "gridcolor": "white",
            "gridwidth": 2,
            "linecolor": "white",
            "showbackground": true,
            "ticks": "",
            "zerolinecolor": "white"
           }
          },
          "shapedefaults": {
           "line": {
            "color": "#2a3f5f"
           }
          },
          "ternary": {
           "aaxis": {
            "gridcolor": "white",
            "linecolor": "white",
            "ticks": ""
           },
           "baxis": {
            "gridcolor": "white",
            "linecolor": "white",
            "ticks": ""
           },
           "bgcolor": "#E5ECF6",
           "caxis": {
            "gridcolor": "white",
            "linecolor": "white",
            "ticks": ""
           }
          },
          "title": {
           "x": 0.05
          },
          "xaxis": {
           "automargin": true,
           "gridcolor": "white",
           "linecolor": "white",
           "ticks": "",
           "title": {
            "standoff": 15
           },
           "zerolinecolor": "white",
           "zerolinewidth": 2
          },
          "yaxis": {
           "automargin": true,
           "gridcolor": "white",
           "linecolor": "white",
           "ticks": "",
           "title": {
            "standoff": 15
           },
           "zerolinecolor": "white",
           "zerolinewidth": 2
          }
         }
        },
        "title": {
         "text": "Boxplot of Incremental Profit Values by Category within Each Area"
        },
        "xaxis": {
         "anchor": "y",
         "domain": [
          0,
          0.1257142857142857
         ],
         "title": {
          "text": "Category"
         }
        },
        "xaxis2": {
         "anchor": "y2",
         "domain": [
          0.14571428571428569,
          0.27142857142857135
         ],
         "matches": "x",
         "title": {
          "text": "Category"
         }
        },
        "xaxis3": {
         "anchor": "y3",
         "domain": [
          0.29142857142857137,
          0.41714285714285704
         ],
         "matches": "x",
         "title": {
          "text": "Category"
         }
        },
        "xaxis4": {
         "anchor": "y4",
         "domain": [
          0.4371428571428571,
          0.5628571428571428
         ],
         "matches": "x",
         "title": {
          "text": "Category"
         }
        },
        "xaxis5": {
         "anchor": "y5",
         "domain": [
          0.5828571428571427,
          0.7085714285714284
         ],
         "matches": "x",
         "title": {
          "text": "Category"
         }
        },
        "xaxis6": {
         "anchor": "y6",
         "domain": [
          0.7285714285714284,
          0.8542857142857141
         ],
         "matches": "x",
         "title": {
          "text": "Category"
         }
        },
        "xaxis7": {
         "anchor": "y7",
         "domain": [
          0.8742857142857141,
          0.9999999999999998
         ],
         "matches": "x",
         "title": {
          "text": "Category"
         }
        },
        "yaxis": {
         "anchor": "x",
         "domain": [
          0,
          1
         ],
         "title": {
          "text": "Incremental Profit"
         }
        },
        "yaxis2": {
         "anchor": "x2",
         "domain": [
          0,
          1
         ],
         "matches": "y",
         "showticklabels": false
        },
        "yaxis3": {
         "anchor": "x3",
         "domain": [
          0,
          1
         ],
         "matches": "y",
         "showticklabels": false
        },
        "yaxis4": {
         "anchor": "x4",
         "domain": [
          0,
          1
         ],
         "matches": "y",
         "showticklabels": false
        },
        "yaxis5": {
         "anchor": "x5",
         "domain": [
          0,
          1
         ],
         "matches": "y",
         "showticklabels": false
        },
        "yaxis6": {
         "anchor": "x6",
         "domain": [
          0,
          1
         ],
         "matches": "y",
         "showticklabels": false
        },
        "yaxis7": {
         "anchor": "x7",
         "domain": [
          0,
          1
         ],
         "matches": "y",
         "showticklabels": false
        }
       }
      }
     },
     "metadata": {},
     "output_type": "display_data"
    }
   ],
   "source": [
    "fig_profit_box = px.box(df_profits,\n",
    "                        x=\"Category\",\n",
    "                        y=\"Incremental Profit\",\n",
    "                        color=\"Area\",\n",
    "                        title=\"Boxplot of Incremental Profit Values by Category and Area\",\n",
    "                        labels={\"Incremental Profit\": \"Incremental Profit\"})\n",
    "fig_profit_box.show()\n",
    "\n",
    "fig_profit_box_area = px.box(df_profits,\n",
    "                             x=\"Category\",\n",
    "                             y=\"Incremental Profit\",\n",
    "                             facet_col=\"Area\",\n",
    "                             title=\"Boxplot of Incremental Profit Values by Category within Each Area\",\n",
    "                             labels={\"Incremental Profit\": \"Incremental Profit\"})\n",
    "fig_profit_box_area.show()\n"
   ]
  },
  {
   "cell_type": "code",
   "execution_count": null,
   "metadata": {},
   "outputs": [],
   "source": []
  }
 ],
 "metadata": {
  "kernelspec": {
   "display_name": "sot",
   "language": "python",
   "name": "python3"
  },
  "language_info": {
   "codemirror_mode": {
    "name": "ipython",
    "version": 3
   },
   "file_extension": ".py",
   "mimetype": "text/x-python",
   "name": "python",
   "nbconvert_exporter": "python",
   "pygments_lexer": "ipython3",
   "version": "3.9.21"
  }
 },
 "nbformat": 4,
 "nbformat_minor": 2
}
