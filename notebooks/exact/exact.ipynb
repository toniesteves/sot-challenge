{
 "cells": [
  {
   "cell_type": "code",
   "execution_count": 1,
   "metadata": {},
   "outputs": [],
   "source": [
    "import os\n",
    "import sys\n",
    "\n",
    "import gurobipy as gp\n",
    "from gurobipy import GRB\n",
    "\n",
    "import re\n",
    "\n",
    "sys.path.append(os.path.abspath(\"../../util\"))\n",
    "from data_utils import *\n",
    "from plot_utils import *"
   ]
  },
  {
   "cell_type": "code",
   "execution_count": 2,
   "metadata": {},
   "outputs": [],
   "source": [
    "file, data = read_data_from_file(\"../../data/BicyclesRelocationData.xlsx\")"
   ]
  },
  {
   "cell_type": "code",
   "execution_count": 3,
   "metadata": {},
   "outputs": [],
   "source": [
    "# Decision Vars\n",
    "\n",
    "categories = list(data.columns)\n",
    "\n",
    "s = {cat: int(data.loc[0, cat]) for cat in categories} # surplus\n",
    "c = {cat: float(data.loc[1, cat]) for cat in categories} # space\n",
    "\n",
    "# Capacity\n",
    "T = 80 "
   ]
  },
  {
   "cell_type": "code",
   "execution_count": 4,
   "metadata": {},
   "outputs": [],
   "source": [
    "sheets       = [sheet for sheet in file.sheet_names if sheet.startswith(\"ExpectedProfitsArea\")]\n",
    "destinations = [] \n",
    "profit_dict  = {}    "
   ]
  },
  {
   "cell_type": "code",
   "execution_count": 5,
   "metadata": {},
   "outputs": [],
   "source": [
    "for sheet in sheets:\n",
    "    area_idx = re.search(r\"ExpectedProfitsArea(\\d+)\", sheet)\n",
    "    if area_idx:\n",
    "        area = f\"Area{area_idx.group(1)}\"\n",
    "        destinations.append(area)\n",
    "        profits_data = pd.read_excel(file, sheet_name=sheet, header=0)\n",
    "        for cat in categories:\n",
    "            profits = profits_data[cat].dropna().tolist()\n",
    "            profit_dict[(cat, area)] = profits"
   ]
  },
  {
   "cell_type": "code",
   "execution_count": 6,
   "metadata": {},
   "outputs": [],
   "source": [
    "def get_profits(i, j, s_i):\n",
    "    \"\"\" fill missing elements with zeros\n",
    "    Args:\n",
    "        i ([type]): categories\n",
    "        j ([type]): destination areas\n",
    "        s_i ([type]): surplus\n",
    "\n",
    "    Returns:\n",
    "        [type]: This function ensures that for every (i,j) the list of profits has exactly s[i] elements. \n",
    "    \"\"\"\n",
    "    profits = profit_dict.get((i, j), [])\n",
    "    if len(profits) < s_i:\n",
    "        profits = profits + [0]*(s_i - len(profits))\n",
    "        \n",
    "    return profits"
   ]
  },
  {
   "cell_type": "code",
   "execution_count": 7,
   "metadata": {},
   "outputs": [
    {
     "name": "stdout",
     "output_type": "stream",
     "text": [
      "Set parameter Username\n",
      "Academic license - for non-commercial use only - expires 2026-02-26\n"
     ]
    }
   ],
   "source": [
    "model = gp.Model(\"bicycles_relocation_opt\")\n",
    "model.setParam(\"OutputFlag\", 0)  # Turns off the log\n",
    "\n",
    "# Variável binária y[i,j,k] para indicar se a k-ésima bicicleta da categoria i é alocada para a área j.\n",
    "y = {}\n",
    "\n",
    "for i in categories:\n",
    "    for j in destinations:\n",
    "        for k in range(1, s[i] + 1):\n",
    "            y[i, j, k] = model.addVar(vtype=GRB.BINARY, name=f\"y_{i}_{j}_{k}\")\n",
    "\n",
    "model.update()\n",
    "\n",
    "# Constraint 1: Sequência dos lucros\n",
    "for i in categories:\n",
    "    for j in destinations:\n",
    "        for k in range(2, s[i] + 1):\n",
    "            model.addConstr(y[i, j, k] <= y[i, j, k - 1], name=f\"seq_{i}_{j}_{k}\")\n",
    "\n",
    "# Constraint 2: Excedente disponível por categoria\n",
    "for i in categories:\n",
    "    model.addConstr(\n",
    "        gp.quicksum(y[i, j, k] for j in destinations for k in range(1, s[i] + 1)) <= s[i],\n",
    "        name=f\"surplus_{i}\"\n",
    "    )\n",
    "\n",
    "# Constaint 3: Capacidade do caminhão\n",
    "model.addConstr(\n",
    "    gp.quicksum(c[i] * y[i, j, k] for i in categories for j in destinations for k in range(1, s[i] + 1)) <= T,\n",
    "    name=\"capacity\"\n",
    ")\n",
    "\n",
    "model.setObjective(\n",
    "    gp.quicksum(\n",
    "        get_profits(i, j, s[i])[k - 1] * y[i, j, k]\n",
    "        for i in categories for j in destinations for k in range(1, s[i] + 1)\n",
    "    ),\n",
    "    GRB.MAXIMIZE\n",
    ")\n",
    "\n",
    "model.optimize()\n",
    "\n",
    "model.write(\"../../models/bike_relocation.lp\")  "
   ]
  },
  {
   "cell_type": "code",
   "execution_count": 8,
   "metadata": {},
   "outputs": [
    {
     "name": "stdout",
     "output_type": "stream",
     "text": [
      "=========================\n",
      "Optimal Solution Found:\n",
      "=========================\n",
      "Child -> Area1: 1.0 bicycle\n",
      "Child -> Area2: 0.0 bicycle\n",
      "Child -> Area3: 69.0 bicycle\n",
      "Child -> Area4: 7.0 bicycle\n",
      "Child -> Area5: 0.0 bicycle\n",
      "Child -> Area6: 0.0 bicycle\n",
      "Child -> Area7: 0.0 bicycle\n",
      "Adult -> Area1: 0.0 bicycle\n",
      "Adult -> Area2: 0.0 bicycle\n",
      "Adult -> Area3: 1.0 bicycle\n",
      "Adult -> Area4: 0.0 bicycle\n",
      "Adult -> Area5: 0.0 bicycle\n",
      "Adult -> Area6: 1.0 bicycle\n",
      "Adult -> Area7: 0.0 bicycle\n",
      "Electric -> Area1: 0.0 bicycle\n",
      "Electric -> Area2: 0.0 bicycle\n",
      "Electric -> Area3: 0.0 bicycle\n",
      "Electric -> Area4: 0.0 bicycle\n",
      "Electric -> Area5: 0.0 bicycle\n",
      "Electric -> Area6: 0.0 bicycle\n",
      "Electric -> Area7: 0.0 bicycle\n",
      "Racing -> Area1: 0.0 bicycle\n",
      "Racing -> Area2: 0.0 bicycle\n",
      "Racing -> Area3: 0.0 bicycle\n",
      "Racing -> Area4: 0.0 bicycle\n",
      "Racing -> Area5: 0.0 bicycle\n",
      "Racing -> Area6: 0.0 bicycle\n",
      "Racing -> Area7: 0.0 bicycle\n",
      "Mountain -> Area1: 0.0 bicycle\n",
      "Mountain -> Area2: 0.0 bicycle\n",
      "Mountain -> Area3: 0.0 bicycle\n",
      "Mountain -> Area4: 0.0 bicycle\n",
      "Mountain -> Area5: 0.0 bicycle\n",
      "Mountain -> Area6: 0.0 bicycle\n",
      "Mountain -> Area7: 0.0 bicycle\n",
      "Tricycle -> Area1: 0.0 bicycle\n",
      "Tricycle -> Area2: 0.0 bicycle\n",
      "Tricycle -> Area3: 0.0 bicycle\n",
      "Tricycle -> Area4: 0.0 bicycle\n",
      "Tricycle -> Area5: 0.0 bicycle\n",
      "Tricycle -> Area6: 0.0 bicycle\n",
      "Tricycle -> Area7: 0.0 bicycle\n",
      "-----------------------------\n",
      "Total profit: 4358.7834\n"
     ]
    }
   ],
   "source": [
    "if model.status == GRB.OPTIMAL:\n",
    "    print(\"=========================\")\n",
    "    print(\"Optimal Solution Found:\")\n",
    "    print(\"=========================\")\n",
    "    for i in categories:\n",
    "        for j in destinations:\n",
    "            settled = sum(y[i, j, k].x for k in range(1, s[i] + 1))\n",
    "            print(f\"{i} -> {j}: {settled} bicycle\")\n",
    "    print(\"-----------------------------\")\n",
    "    print(f\"Total profit: {model.objVal}\")\n",
    "else:\n",
    "    print(\"Optimal solution not found.\")"
   ]
  },
  {
   "cell_type": "markdown",
   "metadata": {},
   "source": [
    "## Sensibility Analysis\n",
    "\n",
    "Now the company RentalBike wants to evaluate the impact in the objective function by using a truck with different capacity. Variate the capacity from 100 to 4000, with steps of 100 (i.e. $C = [100, 200, 300, ..., 3900, 4000])$ and re-run your optimization model for each of these parameters. Plot a graph with the optimal objective values gotten for each capacity. The graph must show the capacity as x-axis and the objective values as y-axis. \n",
    "\n",
    "In other words we want to answer th e following question:\n",
    "\n",
    "* How model performs when we varies the truck capacity?"
   ]
  },
  {
   "cell_type": "code",
   "execution_count": 9,
   "metadata": {},
   "outputs": [
    {
     "name": "stdout",
     "output_type": "stream",
     "text": [
      "Capacity 100: Optimal objective = 5408.907799999999\n",
      "Capacity 200: Optimal objective = 10450.6462\n",
      "Capacity 300: Optimal objective = 14715.0064\n",
      "Capacity 400: Optimal objective = 18102.061599999997\n",
      "Capacity 500: Optimal objective = 21428.8629\n",
      "Capacity 600: Optimal objective = 24712.5781\n",
      "Capacity 700: Optimal objective = 27911.9392\n",
      "Capacity 800: Optimal objective = 31052.3919\n",
      "Capacity 900: Optimal objective = 34143.8649\n",
      "Capacity 1000: Optimal objective = 37261.3139\n",
      "Capacity 1100: Optimal objective = 40225.472200000004\n",
      "Capacity 1200: Optimal objective = 43142.31910000001\n",
      "Capacity 1300: Optimal objective = 46018.91520000001\n",
      "Capacity 1400: Optimal objective = 48820.72140000001\n",
      "Capacity 1500: Optimal objective = 51653.10900000001\n",
      "Capacity 1600: Optimal objective = 54476.36480000001\n",
      "Capacity 1700: Optimal objective = 57294.84400000001\n",
      "Capacity 1800: Optimal objective = 59945.96120000002\n",
      "Capacity 1900: Optimal objective = 62358.05200000001\n",
      "Capacity 2000: Optimal objective = 64639.5472\n",
      "Capacity 2100: Optimal objective = 66246.95390000001\n",
      "Capacity 2200: Optimal objective = 67512.18510000002\n",
      "Capacity 2300: Optimal objective = 68799.96410000001\n",
      "Capacity 2400: Optimal objective = 69998.35540000001\n",
      "Capacity 2500: Optimal objective = 71348.4436\n",
      "Capacity 2600: Optimal objective = 72646.74\n",
      "Capacity 2700: Optimal objective = 73889.02560000002\n",
      "Capacity 2800: Optimal objective = 75111.61950000002\n",
      "Capacity 2900: Optimal objective = 76379.02980000002\n",
      "Capacity 3000: Optimal objective = 77474.16430000002\n",
      "Capacity 3100: Optimal objective = 78460.01740000001\n",
      "Capacity 3200: Optimal objective = 78866.16080000001\n",
      "Capacity 3300: Optimal objective = 78866.16080000001\n",
      "Capacity 3400: Optimal objective = 78866.16080000001\n",
      "Capacity 3500: Optimal objective = 78866.16080000001\n",
      "Capacity 3600: Optimal objective = 78866.16080000001\n",
      "Capacity 3700: Optimal objective = 78866.16080000001\n",
      "Capacity 3800: Optimal objective = 78866.16080000001\n",
      "Capacity 3900: Optimal objective = 78866.16080000001\n",
      "Capacity 4000: Optimal objective = 78866.16080000001\n"
     ]
    }
   ],
   "source": [
    "capacities = list(range(100, 4001, 100))\n",
    "results = []\n",
    "\n",
    "for T in capacities:\n",
    "\n",
    "    model = gp.Model(\"bicycles_relocation_opt\")\n",
    "    model.setParam('OutputFlag', 0) \n",
    "\n",
    "    y = {}\n",
    "\n",
    "    for i in categories:\n",
    "        for j in destinations:\n",
    "            for k in range(1, s[i] + 1):\n",
    "                y[i, j, k] = model.addVar(vtype=GRB.BINARY, name=f\"y_{i}_{j}_{k}\")\n",
    "\n",
    "    model.update()\n",
    "\n",
    "    for i in categories:\n",
    "        for j in destinations:\n",
    "            for k in range(2, s[i] + 1):\n",
    "                model.addConstr(y[i, j, k] <= y[i, j, k - 1], name=f\"seq_{i}_{j}_{k}\")\n",
    "\n",
    "    for i in categories:\n",
    "        model.addConstr(\n",
    "            gp.quicksum(y[i, j, k] for j in destinations for k in range(1, s[i] + 1)) <= s[i],\n",
    "            name=f\"excedente_{i}\"\n",
    "        )\n",
    "\n",
    "    model.addConstr(\n",
    "        gp.quicksum(c[i] * y[i, j, k] for i in categories for j in destinations for k in range(1, s[i] + 1)) <= T,\n",
    "        name=\"capacidade\"\n",
    "    )\n",
    "\n",
    "    model.setObjective(\n",
    "        gp.quicksum(\n",
    "            get_profits(i, j, s[i])[k - 1] * y[i, j, k]\n",
    "            for i in categories for j in destinations for k in range(1, s[i] + 1)\n",
    "        ),\n",
    "        GRB.MAXIMIZE\n",
    "    )\n",
    "\n",
    "    model.optimize()\n",
    "\n",
    "    if model.status == GRB.OPTIMAL:\n",
    "        results.append((T, model.objVal))\n",
    "        print(f\"Capacity {T}: Optimal objective = {model.objVal}\")\n",
    "    else:\n",
    "        results.append((T, None))\n",
    "        print(f\"Capacity {T}: No optimal solution found.\")\n",
    "    "
   ]
  },
  {
   "cell_type": "code",
   "execution_count": 10,
   "metadata": {},
   "outputs": [
    {
     "data": {
      "image/png": "[encoded data removed]",
      "text/plain": [
       "<Figure size 1000x600 with 1 Axes>"
      ]
     },
     "metadata": {},
     "output_type": "display_data"
    }
   ],
   "source": [
    "plot_optimal_profit(results)"
   ]
  },
  {
   "cell_type": "code",
   "execution_count": 11,
   "metadata": {},
   "outputs": [
    {
     "name": "stdout",
     "output_type": "stream",
     "text": [
      "PermissionError: Could not save file to ../../plots/. Try changing the save path.\n"
     ]
    },
    {
     "data": {
      "application/vnd.plotly.v1+json": {
       "config": {
        "plotlyServerURL": "https://plot.ly"
       },
       "data": [
        {
         "line": {
          "width": 2
         },
         "marker": {
          "color": "blue",
          "size": 8
         },
         "mode": "lines+markers",
         "type": "scatter",
         "x": [
          100,
          200,
          300,
          400,
          500,
          600,
          700,
          800,
          900,
          1000,
          1100,
          1200,
          1300,
          1400,
          1500,
          1600,
          1700,
          1800,
          1900,
          2000,
          2100,
          2200,
          2300,
          2400,
          2500,
          2600,
          2700,
          2800,
          2900,
          3000,
          3100,
          3200,
          3300,
          3400,
          3500,
          3600,
          3700,
          3800,
          3900,
          4000
         ],
         "y": [
          5408.907799999999,
          10450.6462,
          14715.0064,
          18102.061599999997,
          21428.8629,
          24712.5781,
          27911.9392,
          31052.3919,
          34143.8649,
          37261.3139,
          40225.472200000004,
          43142.31910000001,
          46018.91520000001,
          48820.72140000001,
          51653.10900000001,
          54476.36480000001,
          57294.84400000001,
          59945.96120000002,
          62358.05200000001,
          64639.5472,
          66246.95390000001,
          67512.18510000002,
          68799.96410000001,
          69998.35540000001,
          71348.4436,
          72646.74,
          73889.02560000002,
          75111.61950000002,
          76379.02980000002,
          77474.16430000002,
          78460.01740000001,
          78866.16080000001,
          78866.16080000001,
          78866.16080000001,
          78866.16080000001,
          78866.16080000001,
          78866.16080000001,
          78866.16080000001,
          78866.16080000001,
          78866.16080000001
         ]
        }
       ],
       "layout": {
        "template": {
         "data": {
          "bar": [
           {
            "error_x": {
             "color": "#2a3f5f"
            },
            "error_y": {
             "color": "#2a3f5f"
            },
            "marker": {
             "line": {
              "color": "white",
              "width": 0.5
             },
             "pattern": {
              "fillmode": "overlay",
              "size": 10,
              "solidity": 0.2
             }
            },
            "type": "bar"
           }
          ],
          "barpolar": [
           {
            "marker": {
             "line": {
              "color": "white",
              "width": 0.5
             },
             "pattern": {
              "fillmode": "overlay",
              "size": 10,
              "solidity": 0.2
             }
            },
            "type": "barpolar"
           }
          ],
          "carpet": [
           {
            "aaxis": {
             "endlinecolor": "#2a3f5f",
             "gridcolor": "#C8D4E3",
             "linecolor": "#C8D4E3",
             "minorgridcolor": "#C8D4E3",
             "startlinecolor": "#2a3f5f"
            },
            "baxis": {
             "endlinecolor": "#2a3f5f",
             "gridcolor": "#C8D4E3",
             "linecolor": "#C8D4E3",
             "minorgridcolor": "#C8D4E3",
             "startlinecolor": "#2a3f5f"
            },
            "type": "carpet"
           }
          ],
          "choropleth": [
           {
            "colorbar": {
             "outlinewidth": 0,
             "ticks": ""
            },
            "type": "choropleth"
           }
          ],
          "contour": [
           {
            "colorbar": {
             "outlinewidth": 0,
             "ticks": ""
            },
            "colorscale": [
             [
              0,
              "#0d0887"
             ],
             [
              0.1111111111111111,
              "#46039f"
             ],
             [
              0.2222222222222222,
              "#7201a8"
             ],
             [
              0.3333333333333333,
              "#9c179e"
             ],
             [
              0.4444444444444444,
              "#bd3786"
             ],
             [
              0.5555555555555556,
              "#d8576b"
             ],
             [
              0.6666666666666666,
              "#ed7953"
             ],
             [
              0.7777777777777778,
              "#fb9f3a"
             ],
             [
              0.8888888888888888,
              "#fdca26"
             ],
             [
              1,
              "#f0f921"
             ]
            ],
            "type": "contour"
           }
          ],
          "contourcarpet": [
           {
            "colorbar": {
             "outlinewidth": 0,
             "ticks": ""
            },
            "type": "contourcarpet"
           }
          ],
          "heatmap": [
           {
            "colorbar": {
             "outlinewidth": 0,
             "ticks": ""
            },
            "colorscale": [
             [
              0,
              "#0d0887"
             ],
             [
              0.1111111111111111,
              "#46039f"
             ],
             [
              0.2222222222222222,
              "#7201a8"
             ],
             [
              0.3333333333333333,
              "#9c179e"
             ],
             [
              0.4444444444444444,
              "#bd3786"
             ],
             [
              0.5555555555555556,
              "#d8576b"
             ],
             [
              0.6666666666666666,
              "#ed7953"
             ],
             [
              0.7777777777777778,
              "#fb9f3a"
             ],
             [
              0.8888888888888888,
              "#fdca26"
             ],
             [
              1,
              "#f0f921"
             ]
            ],
            "type": "heatmap"
           }
          ],
          "histogram": [
           {
            "marker": {
             "pattern": {
              "fillmode": "overlay",
              "size": 10,
              "solidity": 0.2
             }
            },
            "type": "histogram"
           }
          ],
          "histogram2d": [
           {
            "colorbar": {
             "outlinewidth": 0,
             "ticks": ""
            },
            "colorscale": [
             [
              0,
              "#0d0887"
             ],
             [
              0.1111111111111111,
              "#46039f"
             ],
             [
              0.2222222222222222,
              "#7201a8"
             ],
             [
              0.3333333333333333,
              "#9c179e"
             ],
             [
              0.4444444444444444,
              "#bd3786"
             ],
             [
              0.5555555555555556,
              "#d8576b"
             ],
             [
              0.6666666666666666,
              "#ed7953"
             ],
             [
              0.7777777777777778,
              "#fb9f3a"
             ],
             [
              0.8888888888888888,
              "#fdca26"
             ],
             [
              1,
              "#f0f921"
             ]
            ],
            "type": "histogram2d"
           }
          ],
          "histogram2dcontour": [
           {
            "colorbar": {
             "outlinewidth": 0,
             "ticks": ""
            },
            "colorscale": [
             [
              0,
              "#0d0887"
             ],
             [
              0.1111111111111111,
              "#46039f"
             ],
             [
              0.2222222222222222,
              "#7201a8"
             ],
             [
              0.3333333333333333,
              "#9c179e"
             ],
             [
              0.4444444444444444,
              "#bd3786"
             ],
             [
              0.5555555555555556,
              "#d8576b"
             ],
             [
              0.6666666666666666,
              "#ed7953"
             ],
             [
              0.7777777777777778,
              "#fb9f3a"
             ],
             [
              0.8888888888888888,
              "#fdca26"
             ],
             [
              1,
              "#f0f921"
             ]
            ],
            "type": "histogram2dcontour"
           }
          ],
          "mesh3d": [
           {
            "colorbar": {
             "outlinewidth": 0,
             "ticks": ""
            },
            "type": "mesh3d"
           }
          ],
          "parcoords": [
           {
            "line": {
             "colorbar": {
              "outlinewidth": 0,
              "ticks": ""
             }
            },
            "type": "parcoords"
           }
          ],
          "pie": [
           {
            "automargin": true,
            "type": "pie"
           }
          ],
          "scatter": [
           {
            "fillpattern": {
             "fillmode": "overlay",
             "size": 10,
             "solidity": 0.2
            },
            "type": "scatter"
           }
          ],
          "scatter3d": [
           {
            "line": {
             "colorbar": {
              "outlinewidth": 0,
              "ticks": ""
             }
            },
            "marker": {
             "colorbar": {
              "outlinewidth": 0,
              "ticks": ""
             }
            },
            "type": "scatter3d"
           }
          ],
          "scattercarpet": [
           {
            "marker": {
             "colorbar": {
              "outlinewidth": 0,
              "ticks": ""
             }
            },
            "type": "scattercarpet"
           }
          ],
          "scattergeo": [
           {
            "marker": {
             "colorbar": {
              "outlinewidth": 0,
              "ticks": ""
             }
            },
            "type": "scattergeo"
           }
          ],
          "scattergl": [
           {
            "marker": {
             "colorbar": {
              "outlinewidth": 0,
              "ticks": ""
             }
            },
            "type": "scattergl"
           }
          ],
          "scattermap": [
           {
            "marker": {
             "colorbar": {
              "outlinewidth": 0,
              "ticks": ""
             }
            },
            "type": "scattermap"
           }
          ],
          "scattermapbox": [
           {
            "marker": {
             "colorbar": {
              "outlinewidth": 0,
              "ticks": ""
             }
            },
            "type": "scattermapbox"
           }
          ],
          "scatterpolar": [
           {
            "marker": {
             "colorbar": {
              "outlinewidth": 0,
              "ticks": ""
             }
            },
            "type": "scatterpolar"
           }
          ],
          "scatterpolargl": [
           {
            "marker": {
             "colorbar": {
              "outlinewidth": 0,
              "ticks": ""
             }
            },
            "type": "scatterpolargl"
           }
          ],
          "scatterternary": [
           {
            "marker": {
             "colorbar": {
              "outlinewidth": 0,
              "ticks": ""
             }
            },
            "type": "scatterternary"
           }
          ],
          "surface": [
           {
            "colorbar": {
             "outlinewidth": 0,
             "ticks": ""
            },
            "colorscale": [
             [
              0,
              "#0d0887"
             ],
             [
              0.1111111111111111,
              "#46039f"
             ],
             [
              0.2222222222222222,
              "#7201a8"
             ],
             [
              0.3333333333333333,
              "#9c179e"
             ],
             [
              0.4444444444444444,
              "#bd3786"
             ],
             [
              0.5555555555555556,
              "#d8576b"
             ],
             [
              0.6666666666666666,
              "#ed7953"
             ],
             [
              0.7777777777777778,
              "#fb9f3a"
             ],
             [
              0.8888888888888888,
              "#fdca26"
             ],
             [
              1,
              "#f0f921"
             ]
            ],
            "type": "surface"
           }
          ],
          "table": [
           {
            "cells": {
             "fill": {
              "color": "#EBF0F8"
             },
             "line": {
              "color": "white"
             }
            },
            "header": {
             "fill": {
              "color": "#C8D4E3"
             },
             "line": {
              "color": "white"
             }
            },
            "type": "table"
           }
          ]
         },
         "layout": {
          "annotationdefaults": {
           "arrowcolor": "#2a3f5f",
           "arrowhead": 0,
           "arrowwidth": 1
          },
          "autotypenumbers": "strict",
          "coloraxis": {
           "colorbar": {
            "outlinewidth": 0,
            "ticks": ""
           }
          },
          "colorscale": {
           "diverging": [
            [
             0,
             "#8e0152"
            ],
            [
             0.1,
             "#c51b7d"
            ],
            [
             0.2,
             "#de77ae"
            ],
            [
             0.3,
             "#f1b6da"
            ],
            [
             0.4,
             "#fde0ef"
            ],
            [
             0.5,
             "#f7f7f7"
            ],
            [
             0.6,
             "#e6f5d0"
            ],
            [
             0.7,
             "#b8e186"
            ],
            [
             0.8,
             "#7fbc41"
            ],
            [
             0.9,
             "#4d9221"
            ],
            [
             1,
             "#276419"
            ]
           ],
           "sequential": [
            [
             0,
             "#0d0887"
            ],
            [
             0.1111111111111111,
             "#46039f"
            ],
            [
             0.2222222222222222,
             "#7201a8"
            ],
            [
             0.3333333333333333,
             "#9c179e"
            ],
            [
             0.4444444444444444,
             "#bd3786"
            ],
            [
             0.5555555555555556,
             "#d8576b"
            ],
            [
             0.6666666666666666,
             "#ed7953"
            ],
            [
             0.7777777777777778,
             "#fb9f3a"
            ],
            [
             0.8888888888888888,
             "#fdca26"
            ],
            [
             1,
             "#f0f921"
            ]
           ],
           "sequentialminus": [
            [
             0,
             "#0d0887"
            ],
            [
             0.1111111111111111,
             "#46039f"
            ],
            [
             0.2222222222222222,
             "#7201a8"
            ],
            [
             0.3333333333333333,
             "#9c179e"
            ],
            [
             0.4444444444444444,
             "#bd3786"
            ],
            [
             0.5555555555555556,
             "#d8576b"
            ],
            [
             0.6666666666666666,
             "#ed7953"
            ],
            [
             0.7777777777777778,
             "#fb9f3a"
            ],
            [
             0.8888888888888888,
             "#fdca26"
            ],
            [
             1,
             "#f0f921"
            ]
           ]
          },
          "colorway": [
           "#636efa",
           "#EF553B",
           "#00cc96",
           "#ab63fa",
           "#FFA15A",
           "#19d3f3",
           "#FF6692",
           "#B6E880",
           "#FF97FF",
           "#FECB52"
          ],
          "font": {
           "color": "#2a3f5f"
          },
          "geo": {
           "bgcolor": "white",
           "lakecolor": "white",
           "landcolor": "white",
           "showlakes": true,
           "showland": true,
           "subunitcolor": "#C8D4E3"
          },
          "hoverlabel": {
           "align": "left"
          },
          "hovermode": "closest",
          "mapbox": {
           "style": "light"
          },
          "paper_bgcolor": "white",
          "plot_bgcolor": "white",
          "polar": {
           "angularaxis": {
            "gridcolor": "#EBF0F8",
            "linecolor": "#EBF0F8",
            "ticks": ""
           },
           "bgcolor": "white",
           "radialaxis": {
            "gridcolor": "#EBF0F8",
            "linecolor": "#EBF0F8",
            "ticks": ""
           }
          },
          "scene": {
           "xaxis": {
            "backgroundcolor": "white",
            "gridcolor": "#DFE8F3",
            "gridwidth": 2,
            "linecolor": "#EBF0F8",
            "showbackground": true,
            "ticks": "",
            "zerolinecolor": "#EBF0F8"
           },
           "yaxis": {
            "backgroundcolor": "white",
            "gridcolor": "#DFE8F3",
            "gridwidth": 2,
            "linecolor": "#EBF0F8",
            "showbackground": true,
            "ticks": "",
            "zerolinecolor": "#EBF0F8"
           },
           "zaxis": {
            "backgroundcolor": "white",
            "gridcolor": "#DFE8F3",
            "gridwidth": 2,
            "linecolor": "#EBF0F8",
            "showbackground": true,
            "ticks": "",
            "zerolinecolor": "#EBF0F8"
           }
          },
          "shapedefaults": {
           "line": {
            "color": "#2a3f5f"
           }
          },
          "ternary": {
           "aaxis": {
            "gridcolor": "#DFE8F3",
            "linecolor": "#A2B1C6",
            "ticks": ""
           },
           "baxis": {
            "gridcolor": "#DFE8F3",
            "linecolor": "#A2B1C6",
            "ticks": ""
           },
           "bgcolor": "white",
           "caxis": {
            "gridcolor": "#DFE8F3",
            "linecolor": "#A2B1C6",
            "ticks": ""
           }
          },
          "title": {
           "x": 0.05
          },
          "xaxis": {
           "automargin": true,
           "gridcolor": "#EBF0F8",
           "linecolor": "#EBF0F8",
           "ticks": "",
           "title": {
            "standoff": 15
           },
           "zerolinecolor": "#EBF0F8",
           "zerolinewidth": 2
          },
          "yaxis": {
           "automargin": true,
           "gridcolor": "#EBF0F8",
           "linecolor": "#EBF0F8",
           "ticks": "",
           "title": {
            "standoff": 15
           },
           "zerolinecolor": "#EBF0F8",
           "zerolinewidth": 2
          }
         }
        },
        "title": {
         "text": "Optimal Profit vs. Truck Capacity"
        },
        "xaxis": {
         "title": {
          "text": "Truck Capacity"
         }
        },
        "yaxis": {
         "title": {
          "text": "Optimal Profit"
         }
        }
       }
      }
     },
     "metadata": {},
     "output_type": "display_data"
    }
   ],
   "source": [
    "# Interative Plot\n",
    "\n",
    "plot_interative_optimal_profit(results)"
   ]
  },
  {
   "cell_type": "code",
   "execution_count": null,
   "metadata": {},
   "outputs": [],
   "source": []
  }
 ],
 "metadata": {
  "kernelspec": {
   "display_name": "sot",
   "language": "python",
   "name": "python3"
  },
  "language_info": {
   "codemirror_mode": {
    "name": "ipython",
    "version": 3
   },
   "file_extension": ".py",
   "mimetype": "text/x-python",
   "name": "python",
   "nbconvert_exporter": "python",
   "pygments_lexer": "ipython3",
   "version": "3.9.21"
  }
 },
 "nbformat": 4,
 "nbformat_minor": 2
}
